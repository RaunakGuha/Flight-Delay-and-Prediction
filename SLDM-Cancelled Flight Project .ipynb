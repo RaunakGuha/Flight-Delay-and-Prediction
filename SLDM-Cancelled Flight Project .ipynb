{
 "cells": [
  {
   "cell_type": "code",
   "execution_count": 1,
   "id": "0b469bc7",
   "metadata": {},
   "outputs": [],
   "source": [
    "import numpy as np \n",
    "import pandas as pd\n",
    "import matplotlib.pyplot as plt\n",
    "%matplotlib inline\n",
    "from sklearn.model_selection import train_test_split\n",
    "from sklearn.ensemble import RandomForestClassifier"
   ]
  },
  {
   "cell_type": "code",
   "execution_count": 2,
   "id": "3f445ed4",
   "metadata": {},
   "outputs": [
    {
     "data": {
      "text/html": [
       "<div>\n",
       "<style scoped>\n",
       "    .dataframe tbody tr th:only-of-type {\n",
       "        vertical-align: middle;\n",
       "    }\n",
       "\n",
       "    .dataframe tbody tr th {\n",
       "        vertical-align: top;\n",
       "    }\n",
       "\n",
       "    .dataframe thead th {\n",
       "        text-align: right;\n",
       "    }\n",
       "</style>\n",
       "<table border=\"1\" class=\"dataframe\">\n",
       "  <thead>\n",
       "    <tr style=\"text-align: right;\">\n",
       "      <th></th>\n",
       "      <th>FlightDate</th>\n",
       "      <th>Airline</th>\n",
       "      <th>Origin</th>\n",
       "      <th>Dest</th>\n",
       "      <th>Cancelled</th>\n",
       "      <th>Diverted</th>\n",
       "      <th>CRSDepTime</th>\n",
       "      <th>DepTime</th>\n",
       "      <th>DepDelayMinutes</th>\n",
       "      <th>DepDelay</th>\n",
       "      <th>...</th>\n",
       "      <th>WheelsOff</th>\n",
       "      <th>WheelsOn</th>\n",
       "      <th>TaxiIn</th>\n",
       "      <th>CRSArrTime</th>\n",
       "      <th>ArrDelay</th>\n",
       "      <th>ArrDel15</th>\n",
       "      <th>ArrivalDelayGroups</th>\n",
       "      <th>ArrTimeBlk</th>\n",
       "      <th>DistanceGroup</th>\n",
       "      <th>DivAirportLandings</th>\n",
       "    </tr>\n",
       "  </thead>\n",
       "  <tbody>\n",
       "    <tr>\n",
       "      <th>0</th>\n",
       "      <td>23-01-2018</td>\n",
       "      <td>Endeavor Air Inc.</td>\n",
       "      <td>ABY</td>\n",
       "      <td>ATL</td>\n",
       "      <td>False</td>\n",
       "      <td>False</td>\n",
       "      <td>1202</td>\n",
       "      <td>1157.0</td>\n",
       "      <td>0.0</td>\n",
       "      <td>-5.0</td>\n",
       "      <td>...</td>\n",
       "      <td>1211.0</td>\n",
       "      <td>1249.0</td>\n",
       "      <td>7.0</td>\n",
       "      <td>1304</td>\n",
       "      <td>-8.0</td>\n",
       "      <td>0.0</td>\n",
       "      <td>-1.0</td>\n",
       "      <td>1300-1359</td>\n",
       "      <td>1</td>\n",
       "      <td>0</td>\n",
       "    </tr>\n",
       "    <tr>\n",
       "      <th>1</th>\n",
       "      <td>24-01-2018</td>\n",
       "      <td>Endeavor Air Inc.</td>\n",
       "      <td>ABY</td>\n",
       "      <td>ATL</td>\n",
       "      <td>False</td>\n",
       "      <td>False</td>\n",
       "      <td>1202</td>\n",
       "      <td>1157.0</td>\n",
       "      <td>0.0</td>\n",
       "      <td>-5.0</td>\n",
       "      <td>...</td>\n",
       "      <td>1210.0</td>\n",
       "      <td>1246.0</td>\n",
       "      <td>12.0</td>\n",
       "      <td>1304</td>\n",
       "      <td>-6.0</td>\n",
       "      <td>0.0</td>\n",
       "      <td>-1.0</td>\n",
       "      <td>1300-1359</td>\n",
       "      <td>1</td>\n",
       "      <td>0</td>\n",
       "    </tr>\n",
       "    <tr>\n",
       "      <th>2</th>\n",
       "      <td>25-01-2018</td>\n",
       "      <td>Endeavor Air Inc.</td>\n",
       "      <td>ABY</td>\n",
       "      <td>ATL</td>\n",
       "      <td>False</td>\n",
       "      <td>False</td>\n",
       "      <td>1202</td>\n",
       "      <td>1153.0</td>\n",
       "      <td>0.0</td>\n",
       "      <td>-9.0</td>\n",
       "      <td>...</td>\n",
       "      <td>1211.0</td>\n",
       "      <td>1251.0</td>\n",
       "      <td>11.0</td>\n",
       "      <td>1304</td>\n",
       "      <td>-2.0</td>\n",
       "      <td>0.0</td>\n",
       "      <td>-1.0</td>\n",
       "      <td>1300-1359</td>\n",
       "      <td>1</td>\n",
       "      <td>0</td>\n",
       "    </tr>\n",
       "    <tr>\n",
       "      <th>3</th>\n",
       "      <td>26-01-2018</td>\n",
       "      <td>Endeavor Air Inc.</td>\n",
       "      <td>ABY</td>\n",
       "      <td>ATL</td>\n",
       "      <td>False</td>\n",
       "      <td>False</td>\n",
       "      <td>1202</td>\n",
       "      <td>1150.0</td>\n",
       "      <td>0.0</td>\n",
       "      <td>-12.0</td>\n",
       "      <td>...</td>\n",
       "      <td>1207.0</td>\n",
       "      <td>1242.0</td>\n",
       "      <td>11.0</td>\n",
       "      <td>1304</td>\n",
       "      <td>-11.0</td>\n",
       "      <td>0.0</td>\n",
       "      <td>-1.0</td>\n",
       "      <td>1300-1359</td>\n",
       "      <td>1</td>\n",
       "      <td>0</td>\n",
       "    </tr>\n",
       "    <tr>\n",
       "      <th>4</th>\n",
       "      <td>27-01-2018</td>\n",
       "      <td>Endeavor Air Inc.</td>\n",
       "      <td>ABY</td>\n",
       "      <td>ATL</td>\n",
       "      <td>False</td>\n",
       "      <td>False</td>\n",
       "      <td>1400</td>\n",
       "      <td>1355.0</td>\n",
       "      <td>0.0</td>\n",
       "      <td>-5.0</td>\n",
       "      <td>...</td>\n",
       "      <td>1412.0</td>\n",
       "      <td>1448.0</td>\n",
       "      <td>11.0</td>\n",
       "      <td>1500</td>\n",
       "      <td>-1.0</td>\n",
       "      <td>0.0</td>\n",
       "      <td>-1.0</td>\n",
       "      <td>1500-1559</td>\n",
       "      <td>1</td>\n",
       "      <td>0</td>\n",
       "    </tr>\n",
       "    <tr>\n",
       "      <th>5</th>\n",
       "      <td>28-01-2018</td>\n",
       "      <td>Endeavor Air Inc.</td>\n",
       "      <td>ABY</td>\n",
       "      <td>ATL</td>\n",
       "      <td>False</td>\n",
       "      <td>False</td>\n",
       "      <td>1202</td>\n",
       "      <td>1202.0</td>\n",
       "      <td>NaN</td>\n",
       "      <td>NaN</td>\n",
       "      <td>...</td>\n",
       "      <td>1236.0</td>\n",
       "      <td>1313.0</td>\n",
       "      <td>13.0</td>\n",
       "      <td>1304</td>\n",
       "      <td>22.0</td>\n",
       "      <td>1.0</td>\n",
       "      <td>1.0</td>\n",
       "      <td>1300-1359</td>\n",
       "      <td>1</td>\n",
       "      <td>0</td>\n",
       "    </tr>\n",
       "    <tr>\n",
       "      <th>6</th>\n",
       "      <td>29-01-2018</td>\n",
       "      <td>Endeavor Air Inc.</td>\n",
       "      <td>ABY</td>\n",
       "      <td>ATL</td>\n",
       "      <td>False</td>\n",
       "      <td>False</td>\n",
       "      <td>1202</td>\n",
       "      <td>1204.0</td>\n",
       "      <td>2.0</td>\n",
       "      <td>2.0</td>\n",
       "      <td>...</td>\n",
       "      <td>1219.0</td>\n",
       "      <td>1253.0</td>\n",
       "      <td>10.0</td>\n",
       "      <td>1304</td>\n",
       "      <td>-1.0</td>\n",
       "      <td>0.0</td>\n",
       "      <td>-1.0</td>\n",
       "      <td>1300-1359</td>\n",
       "      <td>1</td>\n",
       "      <td>0</td>\n",
       "    </tr>\n",
       "    <tr>\n",
       "      <th>7</th>\n",
       "      <td>30-01-2018</td>\n",
       "      <td>Endeavor Air Inc.</td>\n",
       "      <td>ABY</td>\n",
       "      <td>ATL</td>\n",
       "      <td>False</td>\n",
       "      <td>False</td>\n",
       "      <td>1202</td>\n",
       "      <td>1153.0</td>\n",
       "      <td>0.0</td>\n",
       "      <td>-9.0</td>\n",
       "      <td>...</td>\n",
       "      <td>1200.0</td>\n",
       "      <td>1244.0</td>\n",
       "      <td>11.0</td>\n",
       "      <td>1304</td>\n",
       "      <td>-9.0</td>\n",
       "      <td>0.0</td>\n",
       "      <td>-1.0</td>\n",
       "      <td>1300-1359</td>\n",
       "      <td>1</td>\n",
       "      <td>0</td>\n",
       "    </tr>\n",
       "    <tr>\n",
       "      <th>8</th>\n",
       "      <td>31-01-2018</td>\n",
       "      <td>Endeavor Air Inc.</td>\n",
       "      <td>ABY</td>\n",
       "      <td>ATL</td>\n",
       "      <td>False</td>\n",
       "      <td>False</td>\n",
       "      <td>1202</td>\n",
       "      <td>1153.0</td>\n",
       "      <td>0.0</td>\n",
       "      <td>-9.0</td>\n",
       "      <td>...</td>\n",
       "      <td>1219.0</td>\n",
       "      <td>1256.0</td>\n",
       "      <td>8.0</td>\n",
       "      <td>1304</td>\n",
       "      <td>NaN</td>\n",
       "      <td>NaN</td>\n",
       "      <td>NaN</td>\n",
       "      <td>1300-1359</td>\n",
       "      <td>1</td>\n",
       "      <td>0</td>\n",
       "    </tr>\n",
       "    <tr>\n",
       "      <th>9</th>\n",
       "      <td>03-01-2018</td>\n",
       "      <td>Endeavor Air Inc.</td>\n",
       "      <td>ATL</td>\n",
       "      <td>ABY</td>\n",
       "      <td>False</td>\n",
       "      <td>False</td>\n",
       "      <td>1037</td>\n",
       "      <td>1101.0</td>\n",
       "      <td>24.0</td>\n",
       "      <td>24.0</td>\n",
       "      <td>...</td>\n",
       "      <td>1124.0</td>\n",
       "      <td>1156.0</td>\n",
       "      <td>3.0</td>\n",
       "      <td>1137</td>\n",
       "      <td>22.0</td>\n",
       "      <td>1.0</td>\n",
       "      <td>1.0</td>\n",
       "      <td>1100-1159</td>\n",
       "      <td>1</td>\n",
       "      <td>0</td>\n",
       "    </tr>\n",
       "  </tbody>\n",
       "</table>\n",
       "<p>10 rows × 61 columns</p>\n",
       "</div>"
      ],
      "text/plain": [
       "   FlightDate            Airline Origin Dest  Cancelled  Diverted  CRSDepTime  \\\n",
       "0  23-01-2018  Endeavor Air Inc.    ABY  ATL      False     False        1202   \n",
       "1  24-01-2018  Endeavor Air Inc.    ABY  ATL      False     False        1202   \n",
       "2  25-01-2018  Endeavor Air Inc.    ABY  ATL      False     False        1202   \n",
       "3  26-01-2018  Endeavor Air Inc.    ABY  ATL      False     False        1202   \n",
       "4  27-01-2018  Endeavor Air Inc.    ABY  ATL      False     False        1400   \n",
       "5  28-01-2018  Endeavor Air Inc.    ABY  ATL      False     False        1202   \n",
       "6  29-01-2018  Endeavor Air Inc.    ABY  ATL      False     False        1202   \n",
       "7  30-01-2018  Endeavor Air Inc.    ABY  ATL      False     False        1202   \n",
       "8  31-01-2018  Endeavor Air Inc.    ABY  ATL      False     False        1202   \n",
       "9  03-01-2018  Endeavor Air Inc.    ATL  ABY      False     False        1037   \n",
       "\n",
       "   DepTime  DepDelayMinutes  DepDelay  ...  WheelsOff  WheelsOn  TaxiIn  \\\n",
       "0   1157.0              0.0      -5.0  ...     1211.0    1249.0     7.0   \n",
       "1   1157.0              0.0      -5.0  ...     1210.0    1246.0    12.0   \n",
       "2   1153.0              0.0      -9.0  ...     1211.0    1251.0    11.0   \n",
       "3   1150.0              0.0     -12.0  ...     1207.0    1242.0    11.0   \n",
       "4   1355.0              0.0      -5.0  ...     1412.0    1448.0    11.0   \n",
       "5   1202.0              NaN       NaN  ...     1236.0    1313.0    13.0   \n",
       "6   1204.0              2.0       2.0  ...     1219.0    1253.0    10.0   \n",
       "7   1153.0              0.0      -9.0  ...     1200.0    1244.0    11.0   \n",
       "8   1153.0              0.0      -9.0  ...     1219.0    1256.0     8.0   \n",
       "9   1101.0             24.0      24.0  ...     1124.0    1156.0     3.0   \n",
       "\n",
       "   CRSArrTime  ArrDelay  ArrDel15  ArrivalDelayGroups  ArrTimeBlk  \\\n",
       "0        1304      -8.0       0.0                -1.0   1300-1359   \n",
       "1        1304      -6.0       0.0                -1.0   1300-1359   \n",
       "2        1304      -2.0       0.0                -1.0   1300-1359   \n",
       "3        1304     -11.0       0.0                -1.0   1300-1359   \n",
       "4        1500      -1.0       0.0                -1.0   1500-1559   \n",
       "5        1304      22.0       1.0                 1.0   1300-1359   \n",
       "6        1304      -1.0       0.0                -1.0   1300-1359   \n",
       "7        1304      -9.0       0.0                -1.0   1300-1359   \n",
       "8        1304       NaN       NaN                 NaN   1300-1359   \n",
       "9        1137      22.0       1.0                 1.0   1100-1159   \n",
       "\n",
       "   DistanceGroup  DivAirportLandings  \n",
       "0              1                   0  \n",
       "1              1                   0  \n",
       "2              1                   0  \n",
       "3              1                   0  \n",
       "4              1                   0  \n",
       "5              1                   0  \n",
       "6              1                   0  \n",
       "7              1                   0  \n",
       "8              1                   0  \n",
       "9              1                   0  \n",
       "\n",
       "[10 rows x 61 columns]"
      ]
     },
     "execution_count": 2,
     "metadata": {},
     "output_type": "execute_result"
    }
   ],
   "source": [
    "flight=pd.read_csv(\"Flight_status (1).csv\")\n",
    "flight.head(10)"
   ]
  },
  {
   "cell_type": "code",
   "execution_count": 3,
   "id": "4a140b1d",
   "metadata": {},
   "outputs": [
    {
     "name": "stdout",
     "output_type": "stream",
     "text": [
      "<class 'pandas.core.frame.DataFrame'>\n",
      "RangeIndex: 1048575 entries, 0 to 1048574\n",
      "Data columns (total 61 columns):\n",
      " #   Column                                   Non-Null Count    Dtype  \n",
      "---  ------                                   --------------    -----  \n",
      " 0   FlightDate                               1048575 non-null  object \n",
      " 1   Airline                                  1048575 non-null  object \n",
      " 2   Origin                                   1048575 non-null  object \n",
      " 3   Dest                                     1048575 non-null  object \n",
      " 4   Cancelled                                1048575 non-null  bool   \n",
      " 5   Diverted                                 1048575 non-null  bool   \n",
      " 6   CRSDepTime                               1048575 non-null  int64  \n",
      " 7   DepTime                                  1032002 non-null  float64\n",
      " 8   DepDelayMinutes                          1031514 non-null  float64\n",
      " 9   DepDelay                                 1031514 non-null  float64\n",
      " 10  ArrTime                                  1031060 non-null  float64\n",
      " 11  ArrDelayMinutes                          1029014 non-null  float64\n",
      " 12  AirTime                                  1028355 non-null  float64\n",
      " 13  CRSElapsedTime                           1048575 non-null  int64  \n",
      " 14  ActualElapsedTime                        1029216 non-null  float64\n",
      " 15  Distance                                 1048575 non-null  int64  \n",
      " 16  Year                                     1048575 non-null  int64  \n",
      " 17  Quarter                                  1048575 non-null  int64  \n",
      " 18  Month                                    1048575 non-null  int64  \n",
      " 19  DayofMonth                               1048575 non-null  int64  \n",
      " 20  DayOfWeek                                1048575 non-null  int64  \n",
      " 21  Marketing_Airline_Network                1048575 non-null  object \n",
      " 22  Operated_or_Branded_Code_Share_Partners  1048575 non-null  object \n",
      " 23  DOT_ID_Marketing_Airline                 1048575 non-null  int64  \n",
      " 24  IATA_Code_Marketing_Airline              1048575 non-null  object \n",
      " 25  Flight_Number_Marketing_Airline          1048575 non-null  int64  \n",
      " 26  Operating_Airline                        1048575 non-null  object \n",
      " 27  DOT_ID_Operating_Airline                 1048575 non-null  int64  \n",
      " 28  IATA_Code_Operating_Airline              1048575 non-null  object \n",
      " 29  Tail_Number                              1045824 non-null  object \n",
      " 30  Flight_Number_Operating_Airline          1048575 non-null  int64  \n",
      " 31  OriginAirportID                          1048575 non-null  int64  \n",
      " 32  OriginAirportSeqID                       1048575 non-null  int64  \n",
      " 33  OriginCityMarketID                       1048575 non-null  int64  \n",
      " 34  OriginCityName                           1048575 non-null  object \n",
      " 35  OriginState                              1048575 non-null  object \n",
      " 36  OriginStateFips                          1048575 non-null  int64  \n",
      " 37  OriginStateName                          1048575 non-null  object \n",
      " 38  OriginWac                                1048575 non-null  int64  \n",
      " 39  DestAirportID                            1048575 non-null  int64  \n",
      " 40  DestAirportSeqID                         1048575 non-null  int64  \n",
      " 41  DestCityMarketID                         1048575 non-null  int64  \n",
      " 42  DestCityName                             1048575 non-null  object \n",
      " 43  DestState                                1048575 non-null  object \n",
      " 44  DestStateFips                            1048575 non-null  int64  \n",
      " 45  DestStateName                            1048575 non-null  object \n",
      " 46  DestWac                                  1048575 non-null  int64  \n",
      " 47  DepDel15                                 1031514 non-null  float64\n",
      " 48  DepartureDelayGroups                     1031514 non-null  float64\n",
      " 49  DepTimeBlk                               1048575 non-null  object \n",
      " 50  TaxiOut                                  1030819 non-null  float64\n",
      " 51  WheelsOff                                1030828 non-null  float64\n",
      " 52  WheelsOn                                 1030208 non-null  float64\n",
      " 53  TaxiIn                                   1030199 non-null  float64\n",
      " 54  CRSArrTime                               1048575 non-null  int64  \n",
      " 55  ArrDelay                                 1029014 non-null  float64\n",
      " 56  ArrDel15                                 1029014 non-null  float64\n",
      " 57  ArrivalDelayGroups                       1029014 non-null  float64\n",
      " 58  ArrTimeBlk                               1048575 non-null  object \n",
      " 59  DistanceGroup                            1048575 non-null  int64  \n",
      " 60  DivAirportLandings                       1048575 non-null  int64  \n",
      "dtypes: bool(2), float64(16), int64(25), object(18)\n",
      "memory usage: 474.0+ MB\n"
     ]
    }
   ],
   "source": [
    "flight.info()"
   ]
  },
  {
   "cell_type": "code",
   "execution_count": 4,
   "id": "b2b8a7e9",
   "metadata": {},
   "outputs": [],
   "source": [
    "#Some Useless Columns:\n",
    "#1>Flight_Number_Marketing_Airline\n",
    "#2>Operated_or_Branded_Code_Share_Partners \n",
    "#3>DOT_ID_Marketing_Airline                   \n",
    "#4>IATA_Code_Marketing_Airline              \n",
    "#5>Flight_Number_Marketing_Airline\n",
    "#6>Operating_Airline\n",
    "#7>DOT_ID_Operating_Airline                   \n",
    "#8>IATA_Code_Operating_Airline               \n",
    "#9>Tail_Number                               \n",
    "#10>Flight_Number_Operating_Airline\n",
    "#11>OriginAirportID\n",
    "#13>OriginStateFips\n",
    "#14>OriginAirportSeqID                         \n",
    "#15>OriginCityMarketID\n",
    "#16>OriginWac\n",
    "#17>DestAirportID                             \n",
    "#18>DestAirportSeqID                          \n",
    "#19>DestCityMarketID \n",
    "#20>DestStateFips                          \n",
    "#21>DestWac\n",
    "#22>Marketing_Airline_Network \n",
    "#23>\"Year\"\n",
    "#24>FlightDate\n",
    "#Dropping them"
   ]
  },
  {
   "cell_type": "code",
   "execution_count": 5,
   "id": "f26e85ba",
   "metadata": {},
   "outputs": [],
   "source": [
    "flight2=flight.drop([\"FlightDate\",\"Year\",\"Marketing_Airline_Network\",\"Flight_Number_Marketing_Airline\",\"Operated_or_Branded_Code_Share_Partners\",\"DOT_ID_Marketing_Airline\",\n",
    "\"IATA_Code_Marketing_Airline\",\"Flight_Number_Marketing_Airline\",\"Operating_Airline\",\"DOT_ID_Operating_Airline\",\"IATA_Code_Operating_Airline\",\n",
    "\"Tail_Number\",\"Flight_Number_Operating_Airline\",\"OriginAirportID\",\"OriginStateFips\",\"OriginAirportSeqID\",\"OriginState\",\"DestState\",\n",
    "\"OriginCityMarketID\",\"OriginWac\",\"DestAirportID\",\"DestAirportSeqID\",\"DestCityMarketID\", \"DestStateFips\",\"DestWac\"],axis=1)"
   ]
  },
  {
   "cell_type": "code",
   "execution_count": 6,
   "id": "4cdea141",
   "metadata": {},
   "outputs": [
    {
     "name": "stdout",
     "output_type": "stream",
     "text": [
      "<class 'pandas.core.frame.DataFrame'>\n",
      "RangeIndex: 1048575 entries, 0 to 1048574\n",
      "Data columns (total 37 columns):\n",
      " #   Column                Non-Null Count    Dtype  \n",
      "---  ------                --------------    -----  \n",
      " 0   Airline               1048575 non-null  object \n",
      " 1   Origin                1048575 non-null  object \n",
      " 2   Dest                  1048575 non-null  object \n",
      " 3   Cancelled             1048575 non-null  bool   \n",
      " 4   Diverted              1048575 non-null  bool   \n",
      " 5   CRSDepTime            1048575 non-null  int64  \n",
      " 6   DepTime               1032002 non-null  float64\n",
      " 7   DepDelayMinutes       1031514 non-null  float64\n",
      " 8   DepDelay              1031514 non-null  float64\n",
      " 9   ArrTime               1031060 non-null  float64\n",
      " 10  ArrDelayMinutes       1029014 non-null  float64\n",
      " 11  AirTime               1028355 non-null  float64\n",
      " 12  CRSElapsedTime        1048575 non-null  int64  \n",
      " 13  ActualElapsedTime     1029216 non-null  float64\n",
      " 14  Distance              1048575 non-null  int64  \n",
      " 15  Quarter               1048575 non-null  int64  \n",
      " 16  Month                 1048575 non-null  int64  \n",
      " 17  DayofMonth            1048575 non-null  int64  \n",
      " 18  DayOfWeek             1048575 non-null  int64  \n",
      " 19  OriginCityName        1048575 non-null  object \n",
      " 20  OriginStateName       1048575 non-null  object \n",
      " 21  DestCityName          1048575 non-null  object \n",
      " 22  DestStateName         1048575 non-null  object \n",
      " 23  DepDel15              1031514 non-null  float64\n",
      " 24  DepartureDelayGroups  1031514 non-null  float64\n",
      " 25  DepTimeBlk            1048575 non-null  object \n",
      " 26  TaxiOut               1030819 non-null  float64\n",
      " 27  WheelsOff             1030828 non-null  float64\n",
      " 28  WheelsOn              1030208 non-null  float64\n",
      " 29  TaxiIn                1030199 non-null  float64\n",
      " 30  CRSArrTime            1048575 non-null  int64  \n",
      " 31  ArrDelay              1029014 non-null  float64\n",
      " 32  ArrDel15              1029014 non-null  float64\n",
      " 33  ArrivalDelayGroups    1029014 non-null  float64\n",
      " 34  ArrTimeBlk            1048575 non-null  object \n",
      " 35  DistanceGroup         1048575 non-null  int64  \n",
      " 36  DivAirportLandings    1048575 non-null  int64  \n",
      "dtypes: bool(2), float64(16), int64(10), object(9)\n",
      "memory usage: 282.0+ MB\n"
     ]
    }
   ],
   "source": [
    "flight2.info()"
   ]
  },
  {
   "cell_type": "code",
   "execution_count": 7,
   "id": "157b27ed",
   "metadata": {},
   "outputs": [
    {
     "data": {
      "text/html": [
       "<div>\n",
       "<style scoped>\n",
       "    .dataframe tbody tr th:only-of-type {\n",
       "        vertical-align: middle;\n",
       "    }\n",
       "\n",
       "    .dataframe tbody tr th {\n",
       "        vertical-align: top;\n",
       "    }\n",
       "\n",
       "    .dataframe thead th {\n",
       "        text-align: right;\n",
       "    }\n",
       "</style>\n",
       "<table border=\"1\" class=\"dataframe\">\n",
       "  <thead>\n",
       "    <tr style=\"text-align: right;\">\n",
       "      <th></th>\n",
       "      <th>Airline</th>\n",
       "      <th>Origin</th>\n",
       "      <th>Dest</th>\n",
       "      <th>Cancelled</th>\n",
       "      <th>Diverted</th>\n",
       "      <th>CRSDepTime</th>\n",
       "      <th>DepTime</th>\n",
       "      <th>DepDelayMinutes</th>\n",
       "      <th>DepDelay</th>\n",
       "      <th>ArrTime</th>\n",
       "      <th>...</th>\n",
       "      <th>WheelsOff</th>\n",
       "      <th>WheelsOn</th>\n",
       "      <th>TaxiIn</th>\n",
       "      <th>CRSArrTime</th>\n",
       "      <th>ArrDelay</th>\n",
       "      <th>ArrDel15</th>\n",
       "      <th>ArrivalDelayGroups</th>\n",
       "      <th>ArrTimeBlk</th>\n",
       "      <th>DistanceGroup</th>\n",
       "      <th>DivAirportLandings</th>\n",
       "    </tr>\n",
       "  </thead>\n",
       "  <tbody>\n",
       "    <tr>\n",
       "      <th>0</th>\n",
       "      <td>Endeavor Air Inc.</td>\n",
       "      <td>ABY</td>\n",
       "      <td>ATL</td>\n",
       "      <td>False</td>\n",
       "      <td>False</td>\n",
       "      <td>1202</td>\n",
       "      <td>1157.0</td>\n",
       "      <td>0.0</td>\n",
       "      <td>-5.0</td>\n",
       "      <td>1256.0</td>\n",
       "      <td>...</td>\n",
       "      <td>1211.0</td>\n",
       "      <td>1249.0</td>\n",
       "      <td>7.0</td>\n",
       "      <td>1304</td>\n",
       "      <td>-8.0</td>\n",
       "      <td>0.0</td>\n",
       "      <td>-1.0</td>\n",
       "      <td>1300-1359</td>\n",
       "      <td>1</td>\n",
       "      <td>0</td>\n",
       "    </tr>\n",
       "    <tr>\n",
       "      <th>1</th>\n",
       "      <td>Endeavor Air Inc.</td>\n",
       "      <td>ABY</td>\n",
       "      <td>ATL</td>\n",
       "      <td>False</td>\n",
       "      <td>False</td>\n",
       "      <td>1202</td>\n",
       "      <td>1157.0</td>\n",
       "      <td>0.0</td>\n",
       "      <td>-5.0</td>\n",
       "      <td>1258.0</td>\n",
       "      <td>...</td>\n",
       "      <td>1210.0</td>\n",
       "      <td>1246.0</td>\n",
       "      <td>12.0</td>\n",
       "      <td>1304</td>\n",
       "      <td>-6.0</td>\n",
       "      <td>0.0</td>\n",
       "      <td>-1.0</td>\n",
       "      <td>1300-1359</td>\n",
       "      <td>1</td>\n",
       "      <td>0</td>\n",
       "    </tr>\n",
       "    <tr>\n",
       "      <th>2</th>\n",
       "      <td>Endeavor Air Inc.</td>\n",
       "      <td>ABY</td>\n",
       "      <td>ATL</td>\n",
       "      <td>False</td>\n",
       "      <td>False</td>\n",
       "      <td>1202</td>\n",
       "      <td>1153.0</td>\n",
       "      <td>0.0</td>\n",
       "      <td>-9.0</td>\n",
       "      <td>1302.0</td>\n",
       "      <td>...</td>\n",
       "      <td>1211.0</td>\n",
       "      <td>1251.0</td>\n",
       "      <td>11.0</td>\n",
       "      <td>1304</td>\n",
       "      <td>-2.0</td>\n",
       "      <td>0.0</td>\n",
       "      <td>-1.0</td>\n",
       "      <td>1300-1359</td>\n",
       "      <td>1</td>\n",
       "      <td>0</td>\n",
       "    </tr>\n",
       "    <tr>\n",
       "      <th>3</th>\n",
       "      <td>Endeavor Air Inc.</td>\n",
       "      <td>ABY</td>\n",
       "      <td>ATL</td>\n",
       "      <td>False</td>\n",
       "      <td>False</td>\n",
       "      <td>1202</td>\n",
       "      <td>1150.0</td>\n",
       "      <td>0.0</td>\n",
       "      <td>-12.0</td>\n",
       "      <td>1253.0</td>\n",
       "      <td>...</td>\n",
       "      <td>1207.0</td>\n",
       "      <td>1242.0</td>\n",
       "      <td>11.0</td>\n",
       "      <td>1304</td>\n",
       "      <td>-11.0</td>\n",
       "      <td>0.0</td>\n",
       "      <td>-1.0</td>\n",
       "      <td>1300-1359</td>\n",
       "      <td>1</td>\n",
       "      <td>0</td>\n",
       "    </tr>\n",
       "    <tr>\n",
       "      <th>4</th>\n",
       "      <td>Endeavor Air Inc.</td>\n",
       "      <td>ABY</td>\n",
       "      <td>ATL</td>\n",
       "      <td>False</td>\n",
       "      <td>False</td>\n",
       "      <td>1400</td>\n",
       "      <td>1355.0</td>\n",
       "      <td>0.0</td>\n",
       "      <td>-5.0</td>\n",
       "      <td>1459.0</td>\n",
       "      <td>...</td>\n",
       "      <td>1412.0</td>\n",
       "      <td>1448.0</td>\n",
       "      <td>11.0</td>\n",
       "      <td>1500</td>\n",
       "      <td>-1.0</td>\n",
       "      <td>0.0</td>\n",
       "      <td>-1.0</td>\n",
       "      <td>1500-1559</td>\n",
       "      <td>1</td>\n",
       "      <td>0</td>\n",
       "    </tr>\n",
       "  </tbody>\n",
       "</table>\n",
       "<p>5 rows × 37 columns</p>\n",
       "</div>"
      ],
      "text/plain": [
       "             Airline Origin Dest  Cancelled  Diverted  CRSDepTime  DepTime  \\\n",
       "0  Endeavor Air Inc.    ABY  ATL      False     False        1202   1157.0   \n",
       "1  Endeavor Air Inc.    ABY  ATL      False     False        1202   1157.0   \n",
       "2  Endeavor Air Inc.    ABY  ATL      False     False        1202   1153.0   \n",
       "3  Endeavor Air Inc.    ABY  ATL      False     False        1202   1150.0   \n",
       "4  Endeavor Air Inc.    ABY  ATL      False     False        1400   1355.0   \n",
       "\n",
       "   DepDelayMinutes  DepDelay  ArrTime  ...  WheelsOff  WheelsOn  TaxiIn  \\\n",
       "0              0.0      -5.0   1256.0  ...     1211.0    1249.0     7.0   \n",
       "1              0.0      -5.0   1258.0  ...     1210.0    1246.0    12.0   \n",
       "2              0.0      -9.0   1302.0  ...     1211.0    1251.0    11.0   \n",
       "3              0.0     -12.0   1253.0  ...     1207.0    1242.0    11.0   \n",
       "4              0.0      -5.0   1459.0  ...     1412.0    1448.0    11.0   \n",
       "\n",
       "   CRSArrTime  ArrDelay  ArrDel15  ArrivalDelayGroups  ArrTimeBlk  \\\n",
       "0        1304      -8.0       0.0                -1.0   1300-1359   \n",
       "1        1304      -6.0       0.0                -1.0   1300-1359   \n",
       "2        1304      -2.0       0.0                -1.0   1300-1359   \n",
       "3        1304     -11.0       0.0                -1.0   1300-1359   \n",
       "4        1500      -1.0       0.0                -1.0   1500-1559   \n",
       "\n",
       "   DistanceGroup DivAirportLandings  \n",
       "0              1                  0  \n",
       "1              1                  0  \n",
       "2              1                  0  \n",
       "3              1                  0  \n",
       "4              1                  0  \n",
       "\n",
       "[5 rows x 37 columns]"
      ]
     },
     "execution_count": 7,
     "metadata": {},
     "output_type": "execute_result"
    }
   ],
   "source": [
    "flight2.head()"
   ]
  },
  {
   "cell_type": "code",
   "execution_count": 8,
   "id": "bfe109d8",
   "metadata": {},
   "outputs": [
    {
     "data": {
      "text/plain": [
       "Airline                     0\n",
       "Origin                      0\n",
       "Dest                        0\n",
       "Cancelled                   0\n",
       "Diverted                    0\n",
       "CRSDepTime                  0\n",
       "DepTime                 16573\n",
       "DepDelayMinutes         17061\n",
       "DepDelay                17061\n",
       "ArrTime                 17515\n",
       "ArrDelayMinutes         19561\n",
       "AirTime                 20220\n",
       "CRSElapsedTime              0\n",
       "ActualElapsedTime       19359\n",
       "Distance                    0\n",
       "Quarter                     0\n",
       "Month                       0\n",
       "DayofMonth                  0\n",
       "DayOfWeek                   0\n",
       "OriginCityName              0\n",
       "OriginStateName             0\n",
       "DestCityName                0\n",
       "DestStateName               0\n",
       "DepDel15                17061\n",
       "DepartureDelayGroups    17061\n",
       "DepTimeBlk                  0\n",
       "TaxiOut                 17756\n",
       "WheelsOff               17747\n",
       "WheelsOn                18367\n",
       "TaxiIn                  18376\n",
       "CRSArrTime                  0\n",
       "ArrDelay                19561\n",
       "ArrDel15                19561\n",
       "ArrivalDelayGroups      19561\n",
       "ArrTimeBlk                  0\n",
       "DistanceGroup               0\n",
       "DivAirportLandings          0\n",
       "dtype: int64"
      ]
     },
     "execution_count": 8,
     "metadata": {},
     "output_type": "execute_result"
    }
   ],
   "source": [
    "flight2.isnull().sum()"
   ]
  },
  {
   "cell_type": "code",
   "execution_count": 9,
   "id": "44b06717",
   "metadata": {},
   "outputs": [
    {
     "name": "stdout",
     "output_type": "stream",
     "text": [
      "0.0       706275\n",
      "1.0        21469\n",
      "2.0        16983\n",
      "3.0        14754\n",
      "4.0        13319\n",
      "           ...  \n",
      "752.0          1\n",
      "1168.0         1\n",
      "645.0          1\n",
      "724.0          1\n",
      "1132.0         1\n",
      "Name: DepDelayMinutes, Length: 1052, dtype: int64\n"
     ]
    }
   ],
   "source": [
    "print(flight[\"DepDelayMinutes\"].value_counts())"
   ]
  },
  {
   "cell_type": "code",
   "execution_count": 10,
   "id": "79089c06",
   "metadata": {},
   "outputs": [
    {
     "name": "stdout",
     "output_type": "stream",
     "text": [
      "-5.0       84344\n",
      "-4.0       79654\n",
      "-3.0       76187\n",
      "-2.0       68532\n",
      "-6.0       67489\n",
      "           ...  \n",
      " 1418.0        1\n",
      " 1032.0        1\n",
      " 937.0         1\n",
      " 869.0         1\n",
      " 1020.0        1\n",
      "Name: DepDelay, Length: 1162, dtype: int64\n"
     ]
    }
   ],
   "source": [
    "print(flight[\"DepDelay\"].value_counts())"
   ]
  },
  {
   "cell_type": "code",
   "execution_count": 11,
   "id": "ee6b85a2",
   "metadata": {},
   "outputs": [
    {
     "name": "stdout",
     "output_type": "stream",
     "text": [
      "0.0    860830\n",
      "1.0    170684\n",
      "Name: DepDel15, dtype: int64\n"
     ]
    }
   ],
   "source": [
    "print(flight[\"DepDel15\"].value_counts())"
   ]
  },
  {
   "cell_type": "code",
   "execution_count": 12,
   "id": "b69b7a2e",
   "metadata": {},
   "outputs": [
    {
     "name": "stdout",
     "output_type": "stream",
     "text": [
      "-1.0     647834\n",
      " 0.0     204086\n",
      " 1.0      61959\n",
      " 2.0      32487\n",
      " 3.0      20037\n",
      " 4.0      12990\n",
      " 12.0     10022\n",
      " 5.0       9263\n",
      "-2.0       8910\n",
      " 6.0       6805\n",
      " 7.0       5341\n",
      " 8.0       4004\n",
      " 9.0       3157\n",
      " 10.0      2555\n",
      " 11.0      2064\n",
      "Name: DepartureDelayGroups, dtype: int64\n"
     ]
    }
   ],
   "source": [
    "print(flight[\"DepartureDelayGroups\"].value_counts())"
   ]
  },
  {
   "cell_type": "code",
   "execution_count": 13,
   "id": "b568889d",
   "metadata": {},
   "outputs": [
    {
     "name": "stdout",
     "output_type": "stream",
     "text": [
      "2     271985\n",
      "3     204999\n",
      "4     154129\n",
      "1     152274\n",
      "5     101676\n",
      "7      42164\n",
      "6      41447\n",
      "10     25696\n",
      "8      20987\n",
      "11     18588\n",
      "9      14630\n",
      "Name: DistanceGroup, dtype: int64\n"
     ]
    }
   ],
   "source": [
    "print(flight[\"DistanceGroup\"].value_counts())"
   ]
  },
  {
   "cell_type": "code",
   "execution_count": 14,
   "id": "7c925491",
   "metadata": {},
   "outputs": [
    {
     "name": "stdout",
     "output_type": "stream",
     "text": [
      "0    1046115\n",
      "1       2265\n",
      "9        167\n",
      "2         28\n",
      "Name: DivAirportLandings, dtype: int64\n"
     ]
    }
   ],
   "source": [
    "print(flight[\"DivAirportLandings\"].value_counts())"
   ]
  },
  {
   "cell_type": "code",
   "execution_count": 15,
   "id": "f7effbd7",
   "metadata": {},
   "outputs": [],
   "source": [
    "# For departure and arrival delay we already have 2 columns. Thus we remove the ones which has -ve values "
   ]
  },
  {
   "cell_type": "code",
   "execution_count": 16,
   "id": "6e44a1cf",
   "metadata": {},
   "outputs": [],
   "source": [
    "flight3 = flight2.drop([\"DepDelay\",\"ArrDelay\"],axis=1)"
   ]
  },
  {
   "cell_type": "code",
   "execution_count": 17,
   "id": "eec9e065",
   "metadata": {},
   "outputs": [
    {
     "name": "stdout",
     "output_type": "stream",
     "text": [
      "<class 'pandas.core.frame.DataFrame'>\n",
      "RangeIndex: 1048575 entries, 0 to 1048574\n",
      "Data columns (total 35 columns):\n",
      " #   Column                Non-Null Count    Dtype  \n",
      "---  ------                --------------    -----  \n",
      " 0   Airline               1048575 non-null  object \n",
      " 1   Origin                1048575 non-null  object \n",
      " 2   Dest                  1048575 non-null  object \n",
      " 3   Cancelled             1048575 non-null  bool   \n",
      " 4   Diverted              1048575 non-null  bool   \n",
      " 5   CRSDepTime            1048575 non-null  int64  \n",
      " 6   DepTime               1032002 non-null  float64\n",
      " 7   DepDelayMinutes       1031514 non-null  float64\n",
      " 8   ArrTime               1031060 non-null  float64\n",
      " 9   ArrDelayMinutes       1029014 non-null  float64\n",
      " 10  AirTime               1028355 non-null  float64\n",
      " 11  CRSElapsedTime        1048575 non-null  int64  \n",
      " 12  ActualElapsedTime     1029216 non-null  float64\n",
      " 13  Distance              1048575 non-null  int64  \n",
      " 14  Quarter               1048575 non-null  int64  \n",
      " 15  Month                 1048575 non-null  int64  \n",
      " 16  DayofMonth            1048575 non-null  int64  \n",
      " 17  DayOfWeek             1048575 non-null  int64  \n",
      " 18  OriginCityName        1048575 non-null  object \n",
      " 19  OriginStateName       1048575 non-null  object \n",
      " 20  DestCityName          1048575 non-null  object \n",
      " 21  DestStateName         1048575 non-null  object \n",
      " 22  DepDel15              1031514 non-null  float64\n",
      " 23  DepartureDelayGroups  1031514 non-null  float64\n",
      " 24  DepTimeBlk            1048575 non-null  object \n",
      " 25  TaxiOut               1030819 non-null  float64\n",
      " 26  WheelsOff             1030828 non-null  float64\n",
      " 27  WheelsOn              1030208 non-null  float64\n",
      " 28  TaxiIn                1030199 non-null  float64\n",
      " 29  CRSArrTime            1048575 non-null  int64  \n",
      " 30  ArrDel15              1029014 non-null  float64\n",
      " 31  ArrivalDelayGroups    1029014 non-null  float64\n",
      " 32  ArrTimeBlk            1048575 non-null  object \n",
      " 33  DistanceGroup         1048575 non-null  int64  \n",
      " 34  DivAirportLandings    1048575 non-null  int64  \n",
      "dtypes: bool(2), float64(14), int64(10), object(9)\n",
      "memory usage: 266.0+ MB\n"
     ]
    }
   ],
   "source": [
    "flight3.info()"
   ]
  },
  {
   "cell_type": "code",
   "execution_count": null,
   "id": "242c6cb3",
   "metadata": {},
   "outputs": [],
   "source": []
  },
  {
   "cell_type": "code",
   "execution_count": 18,
   "id": "e185ae39",
   "metadata": {},
   "outputs": [
    {
     "data": {
      "text/plain": [
       "Index(['Airline', 'Origin', 'Dest', 'Cancelled', 'Diverted', 'CRSDepTime',\n",
       "       'DepTime', 'DepDelayMinutes', 'ArrTime', 'ArrDelayMinutes', 'AirTime',\n",
       "       'CRSElapsedTime', 'ActualElapsedTime', 'Distance', 'Quarter', 'Month',\n",
       "       'DayofMonth', 'DayOfWeek', 'OriginCityName', 'OriginStateName',\n",
       "       'DestCityName', 'DestStateName', 'DepDel15', 'DepartureDelayGroups',\n",
       "       'DepTimeBlk', 'TaxiOut', 'WheelsOff', 'WheelsOn', 'TaxiIn',\n",
       "       'CRSArrTime', 'ArrDel15', 'ArrivalDelayGroups', 'ArrTimeBlk',\n",
       "       'DistanceGroup', 'DivAirportLandings'],\n",
       "      dtype='object')"
      ]
     },
     "execution_count": 18,
     "metadata": {},
     "output_type": "execute_result"
    }
   ],
   "source": [
    "flight3.columns"
   ]
  },
  {
   "cell_type": "markdown",
   "id": "d275f393",
   "metadata": {},
   "source": [
    "# PROBLEM 1:Predict which flights will be cancelled or delayed(Classification)"
   ]
  },
  {
   "cell_type": "code",
   "execution_count": 19,
   "id": "3f6f7f8e",
   "metadata": {},
   "outputs": [
    {
     "name": "stdout",
     "output_type": "stream",
     "text": [
      "<class 'pandas.core.frame.DataFrame'>\n",
      "RangeIndex: 1048575 entries, 0 to 1048574\n",
      "Data columns (total 35 columns):\n",
      " #   Column                Non-Null Count    Dtype  \n",
      "---  ------                --------------    -----  \n",
      " 0   Airline               1048575 non-null  object \n",
      " 1   Origin                1048575 non-null  object \n",
      " 2   Dest                  1048575 non-null  object \n",
      " 3   Cancelled             1048575 non-null  bool   \n",
      " 4   Diverted              1048575 non-null  bool   \n",
      " 5   CRSDepTime            1048575 non-null  int64  \n",
      " 6   DepTime               1032002 non-null  float64\n",
      " 7   DepDelayMinutes       1031514 non-null  float64\n",
      " 8   ArrTime               1031060 non-null  float64\n",
      " 9   ArrDelayMinutes       1029014 non-null  float64\n",
      " 10  AirTime               1028355 non-null  float64\n",
      " 11  CRSElapsedTime        1048575 non-null  int64  \n",
      " 12  ActualElapsedTime     1029216 non-null  float64\n",
      " 13  Distance              1048575 non-null  int64  \n",
      " 14  Quarter               1048575 non-null  int64  \n",
      " 15  Month                 1048575 non-null  int64  \n",
      " 16  DayofMonth            1048575 non-null  int64  \n",
      " 17  DayOfWeek             1048575 non-null  int64  \n",
      " 18  OriginCityName        1048575 non-null  object \n",
      " 19  OriginStateName       1048575 non-null  object \n",
      " 20  DestCityName          1048575 non-null  object \n",
      " 21  DestStateName         1048575 non-null  object \n",
      " 22  DepDel15              1031514 non-null  float64\n",
      " 23  DepartureDelayGroups  1031514 non-null  float64\n",
      " 24  DepTimeBlk            1048575 non-null  object \n",
      " 25  TaxiOut               1030819 non-null  float64\n",
      " 26  WheelsOff             1030828 non-null  float64\n",
      " 27  WheelsOn              1030208 non-null  float64\n",
      " 28  TaxiIn                1030199 non-null  float64\n",
      " 29  CRSArrTime            1048575 non-null  int64  \n",
      " 30  ArrDel15              1029014 non-null  float64\n",
      " 31  ArrivalDelayGroups    1029014 non-null  float64\n",
      " 32  ArrTimeBlk            1048575 non-null  object \n",
      " 33  DistanceGroup         1048575 non-null  int64  \n",
      " 34  DivAirportLandings    1048575 non-null  int64  \n",
      "dtypes: bool(2), float64(14), int64(10), object(9)\n",
      "memory usage: 266.0+ MB\n"
     ]
    }
   ],
   "source": [
    "flight3.info()"
   ]
  },
  {
   "cell_type": "markdown",
   "id": "d48b17fb",
   "metadata": {},
   "source": [
    "# GLOSSARY"
   ]
  },
  {
   "cell_type": "markdown",
   "id": "07add74a",
   "metadata": {},
   "source": [
    "#Airline = Airline Names\n",
    "#Origin =  Starting Airport\n",
    "#Dest =   Destination Airport\n",
    "#Cancelled = Cancelled Flights(1 = cancelled)\n",
    "#Diverted = Aircraft landed on different airport that the one scheduled\n",
    "#CRSDepTime = Planned Departure Time\n",
    "#DepTime = Actual Departure Time(WHEEL_OFF - TAXI_OUT)\n",
    "#DepDelayMinutes =  Total Delay on Departure in minutes\n",
    "#ArrTime =  Actual Arrival Time( WHEELS_ON + TAXI_IN)\n",
    "#ArrDelayMinutes = Total Delay on Arrival in minutes\n",
    "#AirTime = The time duration between wheels_off and wheels_on time\n",
    "#CRSElapsedTime = Planned or scheduled time amount needed for the flight trip\n",
    "#ActualElapsedTime = Actual Time the flight travels in air\n",
    "#Distance = Distance between airports \n",
    "#Quarter = \n",
    "#Month= \n",
    "#DayofMonth = \n",
    "#DayOfWeek = \n",
    "#OriginCityName\n",
    "#OriginState\n",
    "#OriginStateName\n",
    "#DestCityName\n",
    "#DestState\n",
    "#DestStateName\n",
    "#DepDel15= Departure Delay Indicator, 15 Minutes or More (1=Yes)\n",
    "#DepartureDelayGroups = \n",
    "#DepTimeBlk = CRS Departure Time Block, Hourly Intervals\n",
    "\n",
    "\n",
    "\n",
    "#WheelsOff = The time point that the aircraft's wheels leave the ground\n",
    "\n",
    "#WheelsOn = The time point that the aircraft's wheels touch on the ground\n",
    "\n",
    "#TaxiIn = The time duration elapsed between wheels-on and gate arrival at the destination airport\n",
    "\n",
    "#TaxiOut = The time duration elapsed between departure from the origin airport gate and wheels off\n",
    "\n",
    "#CRSArrTime\n",
    "#ArrDel15\n",
    "#ArrivalDelayGroups\n",
    "#ArrTimeBlk = CRS Arrival Time Block, Hourly Intervals\n",
    "#DistanceGroup\n",
    "#DivAirportLandings\n",
    "\n",
    "\n",
    "\n",
    "#Distance = Distance between airports\n",
    "#TaxiOut\n",
    "#WheelsOff\n",
    "#WheelsOn\n",
    "#DistanceGroup"
   ]
  },
  {
   "cell_type": "code",
   "execution_count": 20,
   "id": "8a36e472",
   "metadata": {},
   "outputs": [
    {
     "data": {
      "text/plain": [
       "Airline                     0\n",
       "Origin                      0\n",
       "Dest                        0\n",
       "Cancelled                   0\n",
       "Diverted                    0\n",
       "CRSDepTime                  0\n",
       "DepTime                 16573\n",
       "DepDelayMinutes         17061\n",
       "ArrTime                 17515\n",
       "ArrDelayMinutes         19561\n",
       "AirTime                 20220\n",
       "CRSElapsedTime              0\n",
       "ActualElapsedTime       19359\n",
       "Distance                    0\n",
       "Quarter                     0\n",
       "Month                       0\n",
       "DayofMonth                  0\n",
       "DayOfWeek                   0\n",
       "OriginCityName              0\n",
       "OriginStateName             0\n",
       "DestCityName                0\n",
       "DestStateName               0\n",
       "DepDel15                17061\n",
       "DepartureDelayGroups    17061\n",
       "DepTimeBlk                  0\n",
       "TaxiOut                 17756\n",
       "WheelsOff               17747\n",
       "WheelsOn                18367\n",
       "TaxiIn                  18376\n",
       "CRSArrTime                  0\n",
       "ArrDel15                19561\n",
       "ArrivalDelayGroups      19561\n",
       "ArrTimeBlk                  0\n",
       "DistanceGroup               0\n",
       "DivAirportLandings          0\n",
       "dtype: int64"
      ]
     },
     "execution_count": 20,
     "metadata": {},
     "output_type": "execute_result"
    }
   ],
   "source": [
    "flight3.isnull().sum()"
   ]
  },
  {
   "cell_type": "code",
   "execution_count": null,
   "id": "34a853b2",
   "metadata": {},
   "outputs": [],
   "source": []
  },
  {
   "cell_type": "code",
   "execution_count": 21,
   "id": "89a39e2c",
   "metadata": {},
   "outputs": [],
   "source": [
    "flight3[\"DepartureDelayGroups\"]=flight3[\"DepartureDelayGroups\"].replace([-2,-1],0)"
   ]
  },
  {
   "cell_type": "code",
   "execution_count": 22,
   "id": "0438730b",
   "metadata": {},
   "outputs": [],
   "source": [
    "flight3[\"ArrivalDelayGroups\"]=flight3[\"ArrivalDelayGroups\"].replace([-2,-1],0)"
   ]
  },
  {
   "cell_type": "code",
   "execution_count": 23,
   "id": "26ce15d5",
   "metadata": {},
   "outputs": [],
   "source": [
    "flight3[\"ArrTimeBlk\"]=flight3[\"ArrTimeBlk\"].replace(['0001-0559'],'0500-0559')"
   ]
  },
  {
   "cell_type": "code",
   "execution_count": 24,
   "id": "6b14f459",
   "metadata": {},
   "outputs": [],
   "source": [
    "flight3[\"DepTimeBlk\"]=flight3[\"DepTimeBlk\"].replace(['0001-0559'],'0500-0559')"
   ]
  },
  {
   "cell_type": "code",
   "execution_count": 25,
   "id": "761a6016",
   "metadata": {},
   "outputs": [
    {
     "data": {
      "text/plain": [
       "Airline                     0\n",
       "Origin                      0\n",
       "Dest                        0\n",
       "Cancelled                   0\n",
       "Diverted                    0\n",
       "CRSDepTime                  0\n",
       "DepTime                 16573\n",
       "DepDelayMinutes         17061\n",
       "ArrTime                 17515\n",
       "ArrDelayMinutes         19561\n",
       "AirTime                 20220\n",
       "CRSElapsedTime              0\n",
       "ActualElapsedTime       19359\n",
       "Distance                    0\n",
       "Quarter                     0\n",
       "Month                       0\n",
       "DayofMonth                  0\n",
       "DayOfWeek                   0\n",
       "OriginCityName              0\n",
       "OriginStateName             0\n",
       "DestCityName                0\n",
       "DestStateName               0\n",
       "DepDel15                17061\n",
       "DepartureDelayGroups    17061\n",
       "DepTimeBlk                  0\n",
       "TaxiOut                 17756\n",
       "WheelsOff               17747\n",
       "WheelsOn                18367\n",
       "TaxiIn                  18376\n",
       "CRSArrTime                  0\n",
       "ArrDel15                19561\n",
       "ArrivalDelayGroups      19561\n",
       "ArrTimeBlk                  0\n",
       "DistanceGroup               0\n",
       "DivAirportLandings          0\n",
       "dtype: int64"
      ]
     },
     "execution_count": 25,
     "metadata": {},
     "output_type": "execute_result"
    }
   ],
   "source": [
    "flight3.isnull().sum()"
   ]
  },
  {
   "cell_type": "code",
   "execution_count": null,
   "id": "fe0313af",
   "metadata": {},
   "outputs": [],
   "source": []
  },
  {
   "cell_type": "code",
   "execution_count": 26,
   "id": "da097d7c",
   "metadata": {},
   "outputs": [],
   "source": [
    "flight3 = flight3.drop([\"CRSDepTime\",\"DepTime\",\"ArrTime\",\"CRSArrTime\",\"WheelsOff\",\"WheelsOn\"],axis=1)"
   ]
  },
  {
   "cell_type": "code",
   "execution_count": 27,
   "id": "a72c0975",
   "metadata": {},
   "outputs": [
    {
     "data": {
      "text/plain": [
       "Airline                  object\n",
       "Origin                   object\n",
       "Dest                     object\n",
       "Cancelled                  bool\n",
       "Diverted                   bool\n",
       "DepDelayMinutes         float64\n",
       "ArrDelayMinutes         float64\n",
       "AirTime                 float64\n",
       "CRSElapsedTime            int64\n",
       "ActualElapsedTime       float64\n",
       "Distance                  int64\n",
       "Quarter                   int64\n",
       "Month                     int64\n",
       "DayofMonth                int64\n",
       "DayOfWeek                 int64\n",
       "OriginCityName           object\n",
       "OriginStateName          object\n",
       "DestCityName             object\n",
       "DestStateName            object\n",
       "DepDel15                float64\n",
       "DepartureDelayGroups    float64\n",
       "DepTimeBlk               object\n",
       "TaxiOut                 float64\n",
       "TaxiIn                  float64\n",
       "ArrDel15                float64\n",
       "ArrivalDelayGroups      float64\n",
       "ArrTimeBlk               object\n",
       "DistanceGroup             int64\n",
       "DivAirportLandings        int64\n",
       "dtype: object"
      ]
     },
     "execution_count": 27,
     "metadata": {},
     "output_type": "execute_result"
    }
   ],
   "source": [
    "flight3.dtypes"
   ]
  },
  {
   "cell_type": "code",
   "execution_count": 28,
   "id": "2cc60b58",
   "metadata": {},
   "outputs": [
    {
     "data": {
      "text/plain": [
       "Airline                     0\n",
       "Origin                      0\n",
       "Dest                        0\n",
       "Cancelled                   0\n",
       "Diverted                    0\n",
       "DepDelayMinutes         17061\n",
       "ArrDelayMinutes         19561\n",
       "AirTime                 20220\n",
       "CRSElapsedTime              0\n",
       "ActualElapsedTime       19359\n",
       "Distance                    0\n",
       "Quarter                     0\n",
       "Month                       0\n",
       "DayofMonth                  0\n",
       "DayOfWeek                   0\n",
       "OriginCityName              0\n",
       "OriginStateName             0\n",
       "DestCityName                0\n",
       "DestStateName               0\n",
       "DepDel15                17061\n",
       "DepartureDelayGroups    17061\n",
       "DepTimeBlk                  0\n",
       "TaxiOut                 17756\n",
       "TaxiIn                  18376\n",
       "ArrDel15                19561\n",
       "ArrivalDelayGroups      19561\n",
       "ArrTimeBlk                  0\n",
       "DistanceGroup               0\n",
       "DivAirportLandings          0\n",
       "dtype: int64"
      ]
     },
     "execution_count": 28,
     "metadata": {},
     "output_type": "execute_result"
    }
   ],
   "source": [
    "flight3.isnull().sum()"
   ]
  },
  {
   "cell_type": "code",
   "execution_count": 29,
   "id": "940fb9fb",
   "metadata": {},
   "outputs": [
    {
     "data": {
      "text/plain": [
       "False    1031528\n",
       "True       17047\n",
       "Name: Cancelled, dtype: int64"
      ]
     },
     "execution_count": 29,
     "metadata": {},
     "output_type": "execute_result"
    }
   ],
   "source": [
    "flight3[\"Cancelled\"].value_counts()"
   ]
  },
  {
   "cell_type": "code",
   "execution_count": 30,
   "id": "b6a78028",
   "metadata": {},
   "outputs": [],
   "source": [
    "# Dealing With Missing Values:"
   ]
  },
  {
   "cell_type": "code",
   "execution_count": 31,
   "id": "e97d2aaa",
   "metadata": {},
   "outputs": [],
   "source": [
    "flight4=flight3.interpolate(method ='linear', limit_direction ='forward')"
   ]
  },
  {
   "cell_type": "code",
   "execution_count": 32,
   "id": "00ebe7e5",
   "metadata": {},
   "outputs": [
    {
     "data": {
      "text/plain": [
       "Airline                 0\n",
       "Origin                  0\n",
       "Dest                    0\n",
       "Cancelled               0\n",
       "Diverted                0\n",
       "DepDelayMinutes         0\n",
       "ArrDelayMinutes         0\n",
       "AirTime                 0\n",
       "CRSElapsedTime          0\n",
       "ActualElapsedTime       0\n",
       "Distance                0\n",
       "Quarter                 0\n",
       "Month                   0\n",
       "DayofMonth              0\n",
       "DayOfWeek               0\n",
       "OriginCityName          0\n",
       "OriginStateName         0\n",
       "DestCityName            0\n",
       "DestStateName           0\n",
       "DepDel15                0\n",
       "DepartureDelayGroups    0\n",
       "DepTimeBlk              0\n",
       "TaxiOut                 0\n",
       "TaxiIn                  0\n",
       "ArrDel15                0\n",
       "ArrivalDelayGroups      0\n",
       "ArrTimeBlk              0\n",
       "DistanceGroup           0\n",
       "DivAirportLandings      0\n",
       "dtype: int64"
      ]
     },
     "execution_count": 32,
     "metadata": {},
     "output_type": "execute_result"
    }
   ],
   "source": [
    "flight4.isnull().sum()"
   ]
  },
  {
   "cell_type": "code",
   "execution_count": 33,
   "id": "9d1e1ad3",
   "metadata": {},
   "outputs": [
    {
     "data": {
      "text/plain": [
       "Airline                  object\n",
       "Origin                   object\n",
       "Dest                     object\n",
       "Cancelled                  bool\n",
       "Diverted                   bool\n",
       "DepDelayMinutes         float64\n",
       "ArrDelayMinutes         float64\n",
       "AirTime                 float64\n",
       "CRSElapsedTime            int64\n",
       "ActualElapsedTime       float64\n",
       "Distance                  int64\n",
       "Quarter                   int64\n",
       "Month                     int64\n",
       "DayofMonth                int64\n",
       "DayOfWeek                 int64\n",
       "OriginCityName           object\n",
       "OriginStateName          object\n",
       "DestCityName             object\n",
       "DestStateName            object\n",
       "DepDel15                float64\n",
       "DepartureDelayGroups    float64\n",
       "DepTimeBlk               object\n",
       "TaxiOut                 float64\n",
       "TaxiIn                  float64\n",
       "ArrDel15                float64\n",
       "ArrivalDelayGroups      float64\n",
       "ArrTimeBlk               object\n",
       "DistanceGroup             int64\n",
       "DivAirportLandings        int64\n",
       "dtype: object"
      ]
     },
     "execution_count": 33,
     "metadata": {},
     "output_type": "execute_result"
    }
   ],
   "source": [
    "flight4.dtypes"
   ]
  },
  {
   "cell_type": "code",
   "execution_count": 34,
   "id": "e747a64d",
   "metadata": {},
   "outputs": [],
   "source": [
    "flight4['CRSElapsedTime']=flight4['CRSElapsedTime'].astype('float64')\n",
    "flight4['Distance']=flight4['Distance'].astype('float64')\n",
    "flight4['ArrDel15']=flight4['ArrDel15'].astype('bool')\n",
    "flight4['DepDel15']=flight4['DepDel15'].astype('bool')\n",
    "flight4['ArrivalDelayGroups']=flight4['ArrivalDelayGroups'].astype('int64')\n",
    "flight4['DepartureDelayGroups']=flight4['DepartureDelayGroups'].astype('int64')"
   ]
  },
  {
   "cell_type": "code",
   "execution_count": 35,
   "id": "2973df12",
   "metadata": {},
   "outputs": [
    {
     "data": {
      "text/plain": [
       "Airline                  object\n",
       "Origin                   object\n",
       "Dest                     object\n",
       "Cancelled                  bool\n",
       "Diverted                   bool\n",
       "DepDelayMinutes         float64\n",
       "ArrDelayMinutes         float64\n",
       "AirTime                 float64\n",
       "CRSElapsedTime          float64\n",
       "ActualElapsedTime       float64\n",
       "Distance                float64\n",
       "Quarter                   int64\n",
       "Month                     int64\n",
       "DayofMonth                int64\n",
       "DayOfWeek                 int64\n",
       "OriginCityName           object\n",
       "OriginStateName          object\n",
       "DestCityName             object\n",
       "DestStateName            object\n",
       "DepDel15                   bool\n",
       "DepartureDelayGroups      int64\n",
       "DepTimeBlk               object\n",
       "TaxiOut                 float64\n",
       "TaxiIn                  float64\n",
       "ArrDel15                   bool\n",
       "ArrivalDelayGroups        int64\n",
       "ArrTimeBlk               object\n",
       "DistanceGroup             int64\n",
       "DivAirportLandings        int64\n",
       "dtype: object"
      ]
     },
     "execution_count": 35,
     "metadata": {},
     "output_type": "execute_result"
    }
   ],
   "source": [
    "flight4.dtypes"
   ]
  },
  {
   "cell_type": "code",
   "execution_count": null,
   "id": "0ced25d0",
   "metadata": {},
   "outputs": [],
   "source": []
  },
  {
   "cell_type": "code",
   "execution_count": 36,
   "id": "367574bb",
   "metadata": {},
   "outputs": [
    {
     "data": {
      "text/plain": [
       "array([ 0,  1,  7,  3,  4,  8,  2,  5,  6, 12,  9, 10, 11], dtype=int64)"
      ]
     },
     "execution_count": 36,
     "metadata": {},
     "output_type": "execute_result"
    }
   ],
   "source": [
    "flight4[\"DepartureDelayGroups\"].unique()"
   ]
  },
  {
   "cell_type": "code",
   "execution_count": 37,
   "id": "6eb7e470",
   "metadata": {},
   "outputs": [
    {
     "data": {
      "text/plain": [
       "array([ 0,  1,  7,  4,  8,  2,  3,  6,  5, 12, 10, 11,  9], dtype=int64)"
      ]
     },
     "execution_count": 37,
     "metadata": {},
     "output_type": "execute_result"
    }
   ],
   "source": [
    "flight4[\"ArrivalDelayGroups\"].unique()"
   ]
  },
  {
   "cell_type": "code",
   "execution_count": 38,
   "id": "82be1947",
   "metadata": {},
   "outputs": [
    {
     "data": {
      "text/plain": [
       "array(['1300-1359', '1500-1559', '1100-1159', '1000-1059', '0800-0859',\n",
       "       '1200-1259', '2300-2359', '1400-1459', '1900-1959', '1600-1659',\n",
       "       '1700-1759', '2200-2259', '1800-1859', '2000-2059', '2100-2159',\n",
       "       '0700-0759', '0900-0959', '0600-0659', '0500-0559'], dtype=object)"
      ]
     },
     "execution_count": 38,
     "metadata": {},
     "output_type": "execute_result"
    }
   ],
   "source": [
    "flight4[\"ArrTimeBlk\"].unique()"
   ]
  },
  {
   "cell_type": "code",
   "execution_count": 39,
   "id": "39537600",
   "metadata": {},
   "outputs": [
    {
     "data": {
      "text/plain": [
       "array(['1200-1259', '1400-1459', '1000-1059', '0900-0959', '0800-0859',\n",
       "       '0700-0759', '2200-2259', '1800-1859', '1500-1559', '1300-1359',\n",
       "       '1900-1959', '1700-1759', '1600-1659', '1100-1159', '2100-2159',\n",
       "       '0600-0659', '2000-2059', '0500-0559', '2300-2359'], dtype=object)"
      ]
     },
     "execution_count": 39,
     "metadata": {},
     "output_type": "execute_result"
    }
   ],
   "source": [
    "flight4[\"DepTimeBlk\"].unique()"
   ]
  },
  {
   "cell_type": "code",
   "execution_count": 40,
   "id": "99ee3368",
   "metadata": {},
   "outputs": [
    {
     "data": {
      "text/plain": [
       "array([ 1,  2,  4,  3,  5,  6, 11,  9, 10,  7,  8], dtype=int64)"
      ]
     },
     "execution_count": 40,
     "metadata": {},
     "output_type": "execute_result"
    }
   ],
   "source": [
    "flight4[\"DistanceGroup\"].unique()"
   ]
  },
  {
   "cell_type": "code",
   "execution_count": 41,
   "id": "99352e0d",
   "metadata": {},
   "outputs": [
    {
     "data": {
      "text/html": [
       "<div>\n",
       "<style scoped>\n",
       "    .dataframe tbody tr th:only-of-type {\n",
       "        vertical-align: middle;\n",
       "    }\n",
       "\n",
       "    .dataframe tbody tr th {\n",
       "        vertical-align: top;\n",
       "    }\n",
       "\n",
       "    .dataframe thead th {\n",
       "        text-align: right;\n",
       "    }\n",
       "</style>\n",
       "<table border=\"1\" class=\"dataframe\">\n",
       "  <thead>\n",
       "    <tr style=\"text-align: right;\">\n",
       "      <th></th>\n",
       "      <th>Airline</th>\n",
       "      <th>Origin</th>\n",
       "      <th>Dest</th>\n",
       "      <th>Cancelled</th>\n",
       "      <th>Diverted</th>\n",
       "      <th>DepDelayMinutes</th>\n",
       "      <th>ArrDelayMinutes</th>\n",
       "      <th>AirTime</th>\n",
       "      <th>CRSElapsedTime</th>\n",
       "      <th>ActualElapsedTime</th>\n",
       "      <th>...</th>\n",
       "      <th>DepDel15</th>\n",
       "      <th>DepartureDelayGroups</th>\n",
       "      <th>DepTimeBlk</th>\n",
       "      <th>TaxiOut</th>\n",
       "      <th>TaxiIn</th>\n",
       "      <th>ArrDel15</th>\n",
       "      <th>ArrivalDelayGroups</th>\n",
       "      <th>ArrTimeBlk</th>\n",
       "      <th>DistanceGroup</th>\n",
       "      <th>DivAirportLandings</th>\n",
       "    </tr>\n",
       "  </thead>\n",
       "  <tbody>\n",
       "    <tr>\n",
       "      <th>0</th>\n",
       "      <td>Endeavor Air Inc.</td>\n",
       "      <td>ABY</td>\n",
       "      <td>ATL</td>\n",
       "      <td>False</td>\n",
       "      <td>False</td>\n",
       "      <td>0.0</td>\n",
       "      <td>0.0</td>\n",
       "      <td>38.0</td>\n",
       "      <td>62.0</td>\n",
       "      <td>59.0</td>\n",
       "      <td>...</td>\n",
       "      <td>False</td>\n",
       "      <td>0</td>\n",
       "      <td>1200-1259</td>\n",
       "      <td>14.0</td>\n",
       "      <td>7.0</td>\n",
       "      <td>False</td>\n",
       "      <td>0</td>\n",
       "      <td>1300-1359</td>\n",
       "      <td>1</td>\n",
       "      <td>0</td>\n",
       "    </tr>\n",
       "    <tr>\n",
       "      <th>1</th>\n",
       "      <td>Endeavor Air Inc.</td>\n",
       "      <td>ABY</td>\n",
       "      <td>ATL</td>\n",
       "      <td>False</td>\n",
       "      <td>False</td>\n",
       "      <td>0.0</td>\n",
       "      <td>0.0</td>\n",
       "      <td>36.0</td>\n",
       "      <td>62.0</td>\n",
       "      <td>61.0</td>\n",
       "      <td>...</td>\n",
       "      <td>False</td>\n",
       "      <td>0</td>\n",
       "      <td>1200-1259</td>\n",
       "      <td>13.0</td>\n",
       "      <td>12.0</td>\n",
       "      <td>False</td>\n",
       "      <td>0</td>\n",
       "      <td>1300-1359</td>\n",
       "      <td>1</td>\n",
       "      <td>0</td>\n",
       "    </tr>\n",
       "    <tr>\n",
       "      <th>2</th>\n",
       "      <td>Endeavor Air Inc.</td>\n",
       "      <td>ABY</td>\n",
       "      <td>ATL</td>\n",
       "      <td>False</td>\n",
       "      <td>False</td>\n",
       "      <td>0.0</td>\n",
       "      <td>0.0</td>\n",
       "      <td>40.0</td>\n",
       "      <td>62.0</td>\n",
       "      <td>69.0</td>\n",
       "      <td>...</td>\n",
       "      <td>False</td>\n",
       "      <td>0</td>\n",
       "      <td>1200-1259</td>\n",
       "      <td>18.0</td>\n",
       "      <td>11.0</td>\n",
       "      <td>False</td>\n",
       "      <td>0</td>\n",
       "      <td>1300-1359</td>\n",
       "      <td>1</td>\n",
       "      <td>0</td>\n",
       "    </tr>\n",
       "    <tr>\n",
       "      <th>3</th>\n",
       "      <td>Endeavor Air Inc.</td>\n",
       "      <td>ABY</td>\n",
       "      <td>ATL</td>\n",
       "      <td>False</td>\n",
       "      <td>False</td>\n",
       "      <td>0.0</td>\n",
       "      <td>0.0</td>\n",
       "      <td>35.0</td>\n",
       "      <td>62.0</td>\n",
       "      <td>63.0</td>\n",
       "      <td>...</td>\n",
       "      <td>False</td>\n",
       "      <td>0</td>\n",
       "      <td>1200-1259</td>\n",
       "      <td>17.0</td>\n",
       "      <td>11.0</td>\n",
       "      <td>False</td>\n",
       "      <td>0</td>\n",
       "      <td>1300-1359</td>\n",
       "      <td>1</td>\n",
       "      <td>0</td>\n",
       "    </tr>\n",
       "    <tr>\n",
       "      <th>4</th>\n",
       "      <td>Endeavor Air Inc.</td>\n",
       "      <td>ABY</td>\n",
       "      <td>ATL</td>\n",
       "      <td>False</td>\n",
       "      <td>False</td>\n",
       "      <td>0.0</td>\n",
       "      <td>0.0</td>\n",
       "      <td>36.0</td>\n",
       "      <td>60.0</td>\n",
       "      <td>64.0</td>\n",
       "      <td>...</td>\n",
       "      <td>False</td>\n",
       "      <td>0</td>\n",
       "      <td>1400-1459</td>\n",
       "      <td>17.0</td>\n",
       "      <td>11.0</td>\n",
       "      <td>False</td>\n",
       "      <td>0</td>\n",
       "      <td>1500-1559</td>\n",
       "      <td>1</td>\n",
       "      <td>0</td>\n",
       "    </tr>\n",
       "    <tr>\n",
       "      <th>5</th>\n",
       "      <td>Endeavor Air Inc.</td>\n",
       "      <td>ABY</td>\n",
       "      <td>ATL</td>\n",
       "      <td>False</td>\n",
       "      <td>False</td>\n",
       "      <td>1.0</td>\n",
       "      <td>22.0</td>\n",
       "      <td>37.0</td>\n",
       "      <td>62.0</td>\n",
       "      <td>84.0</td>\n",
       "      <td>...</td>\n",
       "      <td>False</td>\n",
       "      <td>0</td>\n",
       "      <td>1200-1259</td>\n",
       "      <td>34.0</td>\n",
       "      <td>13.0</td>\n",
       "      <td>True</td>\n",
       "      <td>1</td>\n",
       "      <td>1300-1359</td>\n",
       "      <td>1</td>\n",
       "      <td>0</td>\n",
       "    </tr>\n",
       "    <tr>\n",
       "      <th>6</th>\n",
       "      <td>Endeavor Air Inc.</td>\n",
       "      <td>ABY</td>\n",
       "      <td>ATL</td>\n",
       "      <td>False</td>\n",
       "      <td>False</td>\n",
       "      <td>2.0</td>\n",
       "      <td>0.0</td>\n",
       "      <td>34.0</td>\n",
       "      <td>62.0</td>\n",
       "      <td>59.0</td>\n",
       "      <td>...</td>\n",
       "      <td>False</td>\n",
       "      <td>0</td>\n",
       "      <td>1200-1259</td>\n",
       "      <td>15.0</td>\n",
       "      <td>10.0</td>\n",
       "      <td>False</td>\n",
       "      <td>0</td>\n",
       "      <td>1300-1359</td>\n",
       "      <td>1</td>\n",
       "      <td>0</td>\n",
       "    </tr>\n",
       "    <tr>\n",
       "      <th>7</th>\n",
       "      <td>Endeavor Air Inc.</td>\n",
       "      <td>ABY</td>\n",
       "      <td>ATL</td>\n",
       "      <td>False</td>\n",
       "      <td>False</td>\n",
       "      <td>0.0</td>\n",
       "      <td>0.0</td>\n",
       "      <td>44.0</td>\n",
       "      <td>62.0</td>\n",
       "      <td>62.0</td>\n",
       "      <td>...</td>\n",
       "      <td>False</td>\n",
       "      <td>0</td>\n",
       "      <td>1200-1259</td>\n",
       "      <td>7.0</td>\n",
       "      <td>11.0</td>\n",
       "      <td>False</td>\n",
       "      <td>0</td>\n",
       "      <td>1300-1359</td>\n",
       "      <td>1</td>\n",
       "      <td>0</td>\n",
       "    </tr>\n",
       "    <tr>\n",
       "      <th>8</th>\n",
       "      <td>Endeavor Air Inc.</td>\n",
       "      <td>ABY</td>\n",
       "      <td>ATL</td>\n",
       "      <td>False</td>\n",
       "      <td>False</td>\n",
       "      <td>0.0</td>\n",
       "      <td>11.0</td>\n",
       "      <td>37.0</td>\n",
       "      <td>62.0</td>\n",
       "      <td>71.0</td>\n",
       "      <td>...</td>\n",
       "      <td>False</td>\n",
       "      <td>0</td>\n",
       "      <td>1200-1259</td>\n",
       "      <td>26.0</td>\n",
       "      <td>8.0</td>\n",
       "      <td>True</td>\n",
       "      <td>0</td>\n",
       "      <td>1300-1359</td>\n",
       "      <td>1</td>\n",
       "      <td>0</td>\n",
       "    </tr>\n",
       "    <tr>\n",
       "      <th>9</th>\n",
       "      <td>Endeavor Air Inc.</td>\n",
       "      <td>ATL</td>\n",
       "      <td>ABY</td>\n",
       "      <td>False</td>\n",
       "      <td>False</td>\n",
       "      <td>24.0</td>\n",
       "      <td>22.0</td>\n",
       "      <td>32.0</td>\n",
       "      <td>60.0</td>\n",
       "      <td>58.0</td>\n",
       "      <td>...</td>\n",
       "      <td>True</td>\n",
       "      <td>1</td>\n",
       "      <td>1000-1059</td>\n",
       "      <td>23.0</td>\n",
       "      <td>3.0</td>\n",
       "      <td>True</td>\n",
       "      <td>1</td>\n",
       "      <td>1100-1159</td>\n",
       "      <td>1</td>\n",
       "      <td>0</td>\n",
       "    </tr>\n",
       "    <tr>\n",
       "      <th>10</th>\n",
       "      <td>Endeavor Air Inc.</td>\n",
       "      <td>ATL</td>\n",
       "      <td>ABY</td>\n",
       "      <td>False</td>\n",
       "      <td>False</td>\n",
       "      <td>0.0</td>\n",
       "      <td>0.0</td>\n",
       "      <td>27.0</td>\n",
       "      <td>60.0</td>\n",
       "      <td>53.0</td>\n",
       "      <td>...</td>\n",
       "      <td>False</td>\n",
       "      <td>0</td>\n",
       "      <td>1000-1059</td>\n",
       "      <td>23.0</td>\n",
       "      <td>3.0</td>\n",
       "      <td>False</td>\n",
       "      <td>0</td>\n",
       "      <td>1100-1159</td>\n",
       "      <td>1</td>\n",
       "      <td>0</td>\n",
       "    </tr>\n",
       "    <tr>\n",
       "      <th>11</th>\n",
       "      <td>Endeavor Air Inc.</td>\n",
       "      <td>ATL</td>\n",
       "      <td>ABY</td>\n",
       "      <td>False</td>\n",
       "      <td>False</td>\n",
       "      <td>0.0</td>\n",
       "      <td>0.0</td>\n",
       "      <td>29.0</td>\n",
       "      <td>60.0</td>\n",
       "      <td>52.0</td>\n",
       "      <td>...</td>\n",
       "      <td>False</td>\n",
       "      <td>0</td>\n",
       "      <td>1000-1059</td>\n",
       "      <td>20.0</td>\n",
       "      <td>3.0</td>\n",
       "      <td>False</td>\n",
       "      <td>0</td>\n",
       "      <td>1100-1159</td>\n",
       "      <td>1</td>\n",
       "      <td>0</td>\n",
       "    </tr>\n",
       "    <tr>\n",
       "      <th>12</th>\n",
       "      <td>Endeavor Air Inc.</td>\n",
       "      <td>ATL</td>\n",
       "      <td>ABY</td>\n",
       "      <td>False</td>\n",
       "      <td>False</td>\n",
       "      <td>0.0</td>\n",
       "      <td>0.0</td>\n",
       "      <td>34.0</td>\n",
       "      <td>59.0</td>\n",
       "      <td>54.0</td>\n",
       "      <td>...</td>\n",
       "      <td>False</td>\n",
       "      <td>0</td>\n",
       "      <td>1000-1059</td>\n",
       "      <td>18.0</td>\n",
       "      <td>2.0</td>\n",
       "      <td>False</td>\n",
       "      <td>0</td>\n",
       "      <td>1100-1159</td>\n",
       "      <td>1</td>\n",
       "      <td>0</td>\n",
       "    </tr>\n",
       "    <tr>\n",
       "      <th>13</th>\n",
       "      <td>Endeavor Air Inc.</td>\n",
       "      <td>ATL</td>\n",
       "      <td>ABY</td>\n",
       "      <td>False</td>\n",
       "      <td>False</td>\n",
       "      <td>0.0</td>\n",
       "      <td>0.0</td>\n",
       "      <td>29.0</td>\n",
       "      <td>60.0</td>\n",
       "      <td>50.0</td>\n",
       "      <td>...</td>\n",
       "      <td>False</td>\n",
       "      <td>0</td>\n",
       "      <td>1000-1059</td>\n",
       "      <td>18.0</td>\n",
       "      <td>3.0</td>\n",
       "      <td>False</td>\n",
       "      <td>0</td>\n",
       "      <td>1100-1159</td>\n",
       "      <td>1</td>\n",
       "      <td>0</td>\n",
       "    </tr>\n",
       "    <tr>\n",
       "      <th>14</th>\n",
       "      <td>Endeavor Air Inc.</td>\n",
       "      <td>ATL</td>\n",
       "      <td>ABY</td>\n",
       "      <td>False</td>\n",
       "      <td>False</td>\n",
       "      <td>22.0</td>\n",
       "      <td>16.0</td>\n",
       "      <td>32.0</td>\n",
       "      <td>60.0</td>\n",
       "      <td>54.0</td>\n",
       "      <td>...</td>\n",
       "      <td>True</td>\n",
       "      <td>1</td>\n",
       "      <td>1000-1059</td>\n",
       "      <td>18.0</td>\n",
       "      <td>4.0</td>\n",
       "      <td>True</td>\n",
       "      <td>1</td>\n",
       "      <td>1100-1159</td>\n",
       "      <td>1</td>\n",
       "      <td>0</td>\n",
       "    </tr>\n",
       "    <tr>\n",
       "      <th>15</th>\n",
       "      <td>Endeavor Air Inc.</td>\n",
       "      <td>ATL</td>\n",
       "      <td>ABY</td>\n",
       "      <td>False</td>\n",
       "      <td>False</td>\n",
       "      <td>105.0</td>\n",
       "      <td>105.0</td>\n",
       "      <td>37.0</td>\n",
       "      <td>60.0</td>\n",
       "      <td>60.0</td>\n",
       "      <td>...</td>\n",
       "      <td>True</td>\n",
       "      <td>7</td>\n",
       "      <td>1000-1059</td>\n",
       "      <td>20.0</td>\n",
       "      <td>3.0</td>\n",
       "      <td>True</td>\n",
       "      <td>7</td>\n",
       "      <td>1100-1159</td>\n",
       "      <td>1</td>\n",
       "      <td>0</td>\n",
       "    </tr>\n",
       "    <tr>\n",
       "      <th>16</th>\n",
       "      <td>Endeavor Air Inc.</td>\n",
       "      <td>ATL</td>\n",
       "      <td>ABY</td>\n",
       "      <td>False</td>\n",
       "      <td>False</td>\n",
       "      <td>0.0</td>\n",
       "      <td>0.0</td>\n",
       "      <td>37.0</td>\n",
       "      <td>60.0</td>\n",
       "      <td>59.0</td>\n",
       "      <td>...</td>\n",
       "      <td>False</td>\n",
       "      <td>0</td>\n",
       "      <td>1000-1059</td>\n",
       "      <td>19.0</td>\n",
       "      <td>3.0</td>\n",
       "      <td>False</td>\n",
       "      <td>0</td>\n",
       "      <td>1100-1159</td>\n",
       "      <td>1</td>\n",
       "      <td>0</td>\n",
       "    </tr>\n",
       "    <tr>\n",
       "      <th>17</th>\n",
       "      <td>Endeavor Air Inc.</td>\n",
       "      <td>ATL</td>\n",
       "      <td>ABY</td>\n",
       "      <td>False</td>\n",
       "      <td>False</td>\n",
       "      <td>0.0</td>\n",
       "      <td>8.0</td>\n",
       "      <td>38.0</td>\n",
       "      <td>60.0</td>\n",
       "      <td>72.0</td>\n",
       "      <td>...</td>\n",
       "      <td>False</td>\n",
       "      <td>0</td>\n",
       "      <td>1000-1059</td>\n",
       "      <td>31.0</td>\n",
       "      <td>3.0</td>\n",
       "      <td>False</td>\n",
       "      <td>0</td>\n",
       "      <td>1100-1159</td>\n",
       "      <td>1</td>\n",
       "      <td>0</td>\n",
       "    </tr>\n",
       "    <tr>\n",
       "      <th>18</th>\n",
       "      <td>Endeavor Air Inc.</td>\n",
       "      <td>ATL</td>\n",
       "      <td>ABY</td>\n",
       "      <td>False</td>\n",
       "      <td>False</td>\n",
       "      <td>7.0</td>\n",
       "      <td>1.0</td>\n",
       "      <td>35.0</td>\n",
       "      <td>60.0</td>\n",
       "      <td>54.0</td>\n",
       "      <td>...</td>\n",
       "      <td>False</td>\n",
       "      <td>0</td>\n",
       "      <td>1000-1059</td>\n",
       "      <td>16.0</td>\n",
       "      <td>3.0</td>\n",
       "      <td>False</td>\n",
       "      <td>0</td>\n",
       "      <td>1100-1159</td>\n",
       "      <td>1</td>\n",
       "      <td>0</td>\n",
       "    </tr>\n",
       "    <tr>\n",
       "      <th>19</th>\n",
       "      <td>Endeavor Air Inc.</td>\n",
       "      <td>ATL</td>\n",
       "      <td>ABY</td>\n",
       "      <td>False</td>\n",
       "      <td>False</td>\n",
       "      <td>0.0</td>\n",
       "      <td>0.0</td>\n",
       "      <td>34.0</td>\n",
       "      <td>59.0</td>\n",
       "      <td>52.0</td>\n",
       "      <td>...</td>\n",
       "      <td>False</td>\n",
       "      <td>0</td>\n",
       "      <td>1000-1059</td>\n",
       "      <td>16.0</td>\n",
       "      <td>2.0</td>\n",
       "      <td>False</td>\n",
       "      <td>0</td>\n",
       "      <td>1100-1159</td>\n",
       "      <td>1</td>\n",
       "      <td>0</td>\n",
       "    </tr>\n",
       "    <tr>\n",
       "      <th>20</th>\n",
       "      <td>Endeavor Air Inc.</td>\n",
       "      <td>ATL</td>\n",
       "      <td>ABY</td>\n",
       "      <td>False</td>\n",
       "      <td>False</td>\n",
       "      <td>0.0</td>\n",
       "      <td>0.0</td>\n",
       "      <td>30.0</td>\n",
       "      <td>60.0</td>\n",
       "      <td>49.0</td>\n",
       "      <td>...</td>\n",
       "      <td>False</td>\n",
       "      <td>0</td>\n",
       "      <td>1000-1059</td>\n",
       "      <td>16.0</td>\n",
       "      <td>3.0</td>\n",
       "      <td>False</td>\n",
       "      <td>0</td>\n",
       "      <td>1100-1159</td>\n",
       "      <td>1</td>\n",
       "      <td>0</td>\n",
       "    </tr>\n",
       "    <tr>\n",
       "      <th>21</th>\n",
       "      <td>Endeavor Air Inc.</td>\n",
       "      <td>ATL</td>\n",
       "      <td>ABY</td>\n",
       "      <td>False</td>\n",
       "      <td>False</td>\n",
       "      <td>0.0</td>\n",
       "      <td>0.0</td>\n",
       "      <td>30.0</td>\n",
       "      <td>60.0</td>\n",
       "      <td>53.0</td>\n",
       "      <td>...</td>\n",
       "      <td>False</td>\n",
       "      <td>0</td>\n",
       "      <td>1000-1059</td>\n",
       "      <td>20.0</td>\n",
       "      <td>3.0</td>\n",
       "      <td>False</td>\n",
       "      <td>0</td>\n",
       "      <td>1100-1159</td>\n",
       "      <td>1</td>\n",
       "      <td>0</td>\n",
       "    </tr>\n",
       "    <tr>\n",
       "      <th>22</th>\n",
       "      <td>Endeavor Air Inc.</td>\n",
       "      <td>ATL</td>\n",
       "      <td>ABY</td>\n",
       "      <td>False</td>\n",
       "      <td>False</td>\n",
       "      <td>0.0</td>\n",
       "      <td>0.0</td>\n",
       "      <td>30.0</td>\n",
       "      <td>60.0</td>\n",
       "      <td>56.0</td>\n",
       "      <td>...</td>\n",
       "      <td>False</td>\n",
       "      <td>0</td>\n",
       "      <td>1000-1059</td>\n",
       "      <td>23.0</td>\n",
       "      <td>3.0</td>\n",
       "      <td>False</td>\n",
       "      <td>0</td>\n",
       "      <td>1100-1159</td>\n",
       "      <td>1</td>\n",
       "      <td>0</td>\n",
       "    </tr>\n",
       "    <tr>\n",
       "      <th>23</th>\n",
       "      <td>Endeavor Air Inc.</td>\n",
       "      <td>ATL</td>\n",
       "      <td>ABY</td>\n",
       "      <td>True</td>\n",
       "      <td>False</td>\n",
       "      <td>58.0</td>\n",
       "      <td>64.0</td>\n",
       "      <td>31.0</td>\n",
       "      <td>60.0</td>\n",
       "      <td>64.0</td>\n",
       "      <td>...</td>\n",
       "      <td>True</td>\n",
       "      <td>3</td>\n",
       "      <td>1000-1059</td>\n",
       "      <td>28.5</td>\n",
       "      <td>4.5</td>\n",
       "      <td>True</td>\n",
       "      <td>4</td>\n",
       "      <td>1100-1159</td>\n",
       "      <td>1</td>\n",
       "      <td>0</td>\n",
       "    </tr>\n",
       "    <tr>\n",
       "      <th>24</th>\n",
       "      <td>Endeavor Air Inc.</td>\n",
       "      <td>ATL</td>\n",
       "      <td>ABY</td>\n",
       "      <td>False</td>\n",
       "      <td>False</td>\n",
       "      <td>116.0</td>\n",
       "      <td>128.0</td>\n",
       "      <td>32.0</td>\n",
       "      <td>60.0</td>\n",
       "      <td>72.0</td>\n",
       "      <td>...</td>\n",
       "      <td>True</td>\n",
       "      <td>7</td>\n",
       "      <td>1000-1059</td>\n",
       "      <td>34.0</td>\n",
       "      <td>6.0</td>\n",
       "      <td>True</td>\n",
       "      <td>8</td>\n",
       "      <td>1100-1159</td>\n",
       "      <td>1</td>\n",
       "      <td>0</td>\n",
       "    </tr>\n",
       "    <tr>\n",
       "      <th>25</th>\n",
       "      <td>Endeavor Air Inc.</td>\n",
       "      <td>ATL</td>\n",
       "      <td>ABY</td>\n",
       "      <td>False</td>\n",
       "      <td>False</td>\n",
       "      <td>0.0</td>\n",
       "      <td>0.0</td>\n",
       "      <td>28.0</td>\n",
       "      <td>60.0</td>\n",
       "      <td>53.0</td>\n",
       "      <td>...</td>\n",
       "      <td>False</td>\n",
       "      <td>0</td>\n",
       "      <td>1000-1059</td>\n",
       "      <td>21.0</td>\n",
       "      <td>4.0</td>\n",
       "      <td>False</td>\n",
       "      <td>0</td>\n",
       "      <td>1100-1159</td>\n",
       "      <td>1</td>\n",
       "      <td>0</td>\n",
       "    </tr>\n",
       "    <tr>\n",
       "      <th>26</th>\n",
       "      <td>Endeavor Air Inc.</td>\n",
       "      <td>ATL</td>\n",
       "      <td>ABY</td>\n",
       "      <td>False</td>\n",
       "      <td>False</td>\n",
       "      <td>0.0</td>\n",
       "      <td>0.0</td>\n",
       "      <td>27.0</td>\n",
       "      <td>59.0</td>\n",
       "      <td>46.0</td>\n",
       "      <td>...</td>\n",
       "      <td>False</td>\n",
       "      <td>0</td>\n",
       "      <td>1000-1059</td>\n",
       "      <td>17.0</td>\n",
       "      <td>2.0</td>\n",
       "      <td>False</td>\n",
       "      <td>0</td>\n",
       "      <td>1100-1159</td>\n",
       "      <td>1</td>\n",
       "      <td>0</td>\n",
       "    </tr>\n",
       "    <tr>\n",
       "      <th>27</th>\n",
       "      <td>Endeavor Air Inc.</td>\n",
       "      <td>ATL</td>\n",
       "      <td>ABY</td>\n",
       "      <td>False</td>\n",
       "      <td>False</td>\n",
       "      <td>0.0</td>\n",
       "      <td>0.0</td>\n",
       "      <td>30.0</td>\n",
       "      <td>60.0</td>\n",
       "      <td>50.0</td>\n",
       "      <td>...</td>\n",
       "      <td>False</td>\n",
       "      <td>0</td>\n",
       "      <td>1000-1059</td>\n",
       "      <td>16.0</td>\n",
       "      <td>4.0</td>\n",
       "      <td>False</td>\n",
       "      <td>0</td>\n",
       "      <td>1100-1159</td>\n",
       "      <td>1</td>\n",
       "      <td>0</td>\n",
       "    </tr>\n",
       "    <tr>\n",
       "      <th>28</th>\n",
       "      <td>Endeavor Air Inc.</td>\n",
       "      <td>ATL</td>\n",
       "      <td>ABY</td>\n",
       "      <td>False</td>\n",
       "      <td>False</td>\n",
       "      <td>0.0</td>\n",
       "      <td>0.0</td>\n",
       "      <td>30.0</td>\n",
       "      <td>60.0</td>\n",
       "      <td>60.0</td>\n",
       "      <td>...</td>\n",
       "      <td>False</td>\n",
       "      <td>0</td>\n",
       "      <td>1000-1059</td>\n",
       "      <td>27.0</td>\n",
       "      <td>3.0</td>\n",
       "      <td>False</td>\n",
       "      <td>0</td>\n",
       "      <td>1100-1159</td>\n",
       "      <td>1</td>\n",
       "      <td>0</td>\n",
       "    </tr>\n",
       "    <tr>\n",
       "      <th>29</th>\n",
       "      <td>Endeavor Air Inc.</td>\n",
       "      <td>ATL</td>\n",
       "      <td>ABY</td>\n",
       "      <td>False</td>\n",
       "      <td>False</td>\n",
       "      <td>0.0</td>\n",
       "      <td>0.0</td>\n",
       "      <td>38.0</td>\n",
       "      <td>60.0</td>\n",
       "      <td>61.0</td>\n",
       "      <td>...</td>\n",
       "      <td>False</td>\n",
       "      <td>0</td>\n",
       "      <td>1000-1059</td>\n",
       "      <td>19.0</td>\n",
       "      <td>4.0</td>\n",
       "      <td>False</td>\n",
       "      <td>0</td>\n",
       "      <td>1100-1159</td>\n",
       "      <td>1</td>\n",
       "      <td>0</td>\n",
       "    </tr>\n",
       "    <tr>\n",
       "      <th>30</th>\n",
       "      <td>Endeavor Air Inc.</td>\n",
       "      <td>ATL</td>\n",
       "      <td>ABY</td>\n",
       "      <td>False</td>\n",
       "      <td>False</td>\n",
       "      <td>0.0</td>\n",
       "      <td>0.0</td>\n",
       "      <td>29.0</td>\n",
       "      <td>60.0</td>\n",
       "      <td>50.0</td>\n",
       "      <td>...</td>\n",
       "      <td>False</td>\n",
       "      <td>0</td>\n",
       "      <td>1000-1059</td>\n",
       "      <td>16.0</td>\n",
       "      <td>5.0</td>\n",
       "      <td>False</td>\n",
       "      <td>0</td>\n",
       "      <td>1100-1159</td>\n",
       "      <td>1</td>\n",
       "      <td>0</td>\n",
       "    </tr>\n",
       "    <tr>\n",
       "      <th>31</th>\n",
       "      <td>Endeavor Air Inc.</td>\n",
       "      <td>ATL</td>\n",
       "      <td>ABY</td>\n",
       "      <td>False</td>\n",
       "      <td>False</td>\n",
       "      <td>0.0</td>\n",
       "      <td>0.0</td>\n",
       "      <td>28.0</td>\n",
       "      <td>60.0</td>\n",
       "      <td>51.0</td>\n",
       "      <td>...</td>\n",
       "      <td>False</td>\n",
       "      <td>0</td>\n",
       "      <td>1000-1059</td>\n",
       "      <td>16.0</td>\n",
       "      <td>7.0</td>\n",
       "      <td>False</td>\n",
       "      <td>0</td>\n",
       "      <td>1100-1159</td>\n",
       "      <td>1</td>\n",
       "      <td>0</td>\n",
       "    </tr>\n",
       "    <tr>\n",
       "      <th>32</th>\n",
       "      <td>Endeavor Air Inc.</td>\n",
       "      <td>ATL</td>\n",
       "      <td>ABY</td>\n",
       "      <td>False</td>\n",
       "      <td>False</td>\n",
       "      <td>0.0</td>\n",
       "      <td>0.0</td>\n",
       "      <td>30.0</td>\n",
       "      <td>60.0</td>\n",
       "      <td>51.0</td>\n",
       "      <td>...</td>\n",
       "      <td>False</td>\n",
       "      <td>0</td>\n",
       "      <td>1000-1059</td>\n",
       "      <td>18.0</td>\n",
       "      <td>3.0</td>\n",
       "      <td>False</td>\n",
       "      <td>0</td>\n",
       "      <td>1100-1159</td>\n",
       "      <td>1</td>\n",
       "      <td>0</td>\n",
       "    </tr>\n",
       "    <tr>\n",
       "      <th>33</th>\n",
       "      <td>Endeavor Air Inc.</td>\n",
       "      <td>ATL</td>\n",
       "      <td>ABY</td>\n",
       "      <td>False</td>\n",
       "      <td>False</td>\n",
       "      <td>0.0</td>\n",
       "      <td>0.0</td>\n",
       "      <td>29.0</td>\n",
       "      <td>59.0</td>\n",
       "      <td>51.0</td>\n",
       "      <td>...</td>\n",
       "      <td>False</td>\n",
       "      <td>0</td>\n",
       "      <td>1000-1059</td>\n",
       "      <td>18.0</td>\n",
       "      <td>4.0</td>\n",
       "      <td>False</td>\n",
       "      <td>0</td>\n",
       "      <td>1100-1159</td>\n",
       "      <td>1</td>\n",
       "      <td>0</td>\n",
       "    </tr>\n",
       "    <tr>\n",
       "      <th>34</th>\n",
       "      <td>Endeavor Air Inc.</td>\n",
       "      <td>ATL</td>\n",
       "      <td>ABY</td>\n",
       "      <td>False</td>\n",
       "      <td>False</td>\n",
       "      <td>15.0</td>\n",
       "      <td>0.0</td>\n",
       "      <td>30.0</td>\n",
       "      <td>60.0</td>\n",
       "      <td>43.0</td>\n",
       "      <td>...</td>\n",
       "      <td>True</td>\n",
       "      <td>1</td>\n",
       "      <td>1000-1059</td>\n",
       "      <td>10.0</td>\n",
       "      <td>3.0</td>\n",
       "      <td>False</td>\n",
       "      <td>0</td>\n",
       "      <td>1100-1159</td>\n",
       "      <td>1</td>\n",
       "      <td>0</td>\n",
       "    </tr>\n",
       "    <tr>\n",
       "      <th>35</th>\n",
       "      <td>Endeavor Air Inc.</td>\n",
       "      <td>ATL</td>\n",
       "      <td>ABY</td>\n",
       "      <td>False</td>\n",
       "      <td>False</td>\n",
       "      <td>0.0</td>\n",
       "      <td>0.0</td>\n",
       "      <td>35.0</td>\n",
       "      <td>60.0</td>\n",
       "      <td>66.0</td>\n",
       "      <td>...</td>\n",
       "      <td>False</td>\n",
       "      <td>0</td>\n",
       "      <td>1000-1059</td>\n",
       "      <td>28.0</td>\n",
       "      <td>3.0</td>\n",
       "      <td>False</td>\n",
       "      <td>0</td>\n",
       "      <td>1100-1159</td>\n",
       "      <td>1</td>\n",
       "      <td>0</td>\n",
       "    </tr>\n",
       "    <tr>\n",
       "      <th>36</th>\n",
       "      <td>Endeavor Air Inc.</td>\n",
       "      <td>ATL</td>\n",
       "      <td>ABY</td>\n",
       "      <td>False</td>\n",
       "      <td>False</td>\n",
       "      <td>0.0</td>\n",
       "      <td>0.0</td>\n",
       "      <td>33.0</td>\n",
       "      <td>60.0</td>\n",
       "      <td>51.0</td>\n",
       "      <td>...</td>\n",
       "      <td>False</td>\n",
       "      <td>0</td>\n",
       "      <td>1000-1059</td>\n",
       "      <td>15.0</td>\n",
       "      <td>3.0</td>\n",
       "      <td>False</td>\n",
       "      <td>0</td>\n",
       "      <td>1100-1159</td>\n",
       "      <td>1</td>\n",
       "      <td>0</td>\n",
       "    </tr>\n",
       "    <tr>\n",
       "      <th>37</th>\n",
       "      <td>Endeavor Air Inc.</td>\n",
       "      <td>ATL</td>\n",
       "      <td>ABY</td>\n",
       "      <td>False</td>\n",
       "      <td>False</td>\n",
       "      <td>0.0</td>\n",
       "      <td>0.0</td>\n",
       "      <td>30.0</td>\n",
       "      <td>60.0</td>\n",
       "      <td>54.0</td>\n",
       "      <td>...</td>\n",
       "      <td>False</td>\n",
       "      <td>0</td>\n",
       "      <td>1000-1059</td>\n",
       "      <td>21.0</td>\n",
       "      <td>3.0</td>\n",
       "      <td>False</td>\n",
       "      <td>0</td>\n",
       "      <td>1100-1159</td>\n",
       "      <td>1</td>\n",
       "      <td>0</td>\n",
       "    </tr>\n",
       "    <tr>\n",
       "      <th>38</th>\n",
       "      <td>Endeavor Air Inc.</td>\n",
       "      <td>ATL</td>\n",
       "      <td>MOB</td>\n",
       "      <td>False</td>\n",
       "      <td>False</td>\n",
       "      <td>0.0</td>\n",
       "      <td>0.0</td>\n",
       "      <td>54.0</td>\n",
       "      <td>88.0</td>\n",
       "      <td>74.0</td>\n",
       "      <td>...</td>\n",
       "      <td>False</td>\n",
       "      <td>0</td>\n",
       "      <td>0900-0959</td>\n",
       "      <td>16.0</td>\n",
       "      <td>4.0</td>\n",
       "      <td>False</td>\n",
       "      <td>0</td>\n",
       "      <td>1000-1059</td>\n",
       "      <td>2</td>\n",
       "      <td>0</td>\n",
       "    </tr>\n",
       "    <tr>\n",
       "      <th>39</th>\n",
       "      <td>Endeavor Air Inc.</td>\n",
       "      <td>ATL</td>\n",
       "      <td>MOB</td>\n",
       "      <td>False</td>\n",
       "      <td>False</td>\n",
       "      <td>0.0</td>\n",
       "      <td>0.0</td>\n",
       "      <td>52.0</td>\n",
       "      <td>89.0</td>\n",
       "      <td>82.0</td>\n",
       "      <td>...</td>\n",
       "      <td>False</td>\n",
       "      <td>0</td>\n",
       "      <td>0800-0859</td>\n",
       "      <td>26.0</td>\n",
       "      <td>4.0</td>\n",
       "      <td>False</td>\n",
       "      <td>0</td>\n",
       "      <td>0800-0859</td>\n",
       "      <td>2</td>\n",
       "      <td>0</td>\n",
       "    </tr>\n",
       "  </tbody>\n",
       "</table>\n",
       "<p>40 rows × 29 columns</p>\n",
       "</div>"
      ],
      "text/plain": [
       "              Airline Origin Dest  Cancelled  Diverted  DepDelayMinutes  \\\n",
       "0   Endeavor Air Inc.    ABY  ATL      False     False              0.0   \n",
       "1   Endeavor Air Inc.    ABY  ATL      False     False              0.0   \n",
       "2   Endeavor Air Inc.    ABY  ATL      False     False              0.0   \n",
       "3   Endeavor Air Inc.    ABY  ATL      False     False              0.0   \n",
       "4   Endeavor Air Inc.    ABY  ATL      False     False              0.0   \n",
       "5   Endeavor Air Inc.    ABY  ATL      False     False              1.0   \n",
       "6   Endeavor Air Inc.    ABY  ATL      False     False              2.0   \n",
       "7   Endeavor Air Inc.    ABY  ATL      False     False              0.0   \n",
       "8   Endeavor Air Inc.    ABY  ATL      False     False              0.0   \n",
       "9   Endeavor Air Inc.    ATL  ABY      False     False             24.0   \n",
       "10  Endeavor Air Inc.    ATL  ABY      False     False              0.0   \n",
       "11  Endeavor Air Inc.    ATL  ABY      False     False              0.0   \n",
       "12  Endeavor Air Inc.    ATL  ABY      False     False              0.0   \n",
       "13  Endeavor Air Inc.    ATL  ABY      False     False              0.0   \n",
       "14  Endeavor Air Inc.    ATL  ABY      False     False             22.0   \n",
       "15  Endeavor Air Inc.    ATL  ABY      False     False            105.0   \n",
       "16  Endeavor Air Inc.    ATL  ABY      False     False              0.0   \n",
       "17  Endeavor Air Inc.    ATL  ABY      False     False              0.0   \n",
       "18  Endeavor Air Inc.    ATL  ABY      False     False              7.0   \n",
       "19  Endeavor Air Inc.    ATL  ABY      False     False              0.0   \n",
       "20  Endeavor Air Inc.    ATL  ABY      False     False              0.0   \n",
       "21  Endeavor Air Inc.    ATL  ABY      False     False              0.0   \n",
       "22  Endeavor Air Inc.    ATL  ABY      False     False              0.0   \n",
       "23  Endeavor Air Inc.    ATL  ABY       True     False             58.0   \n",
       "24  Endeavor Air Inc.    ATL  ABY      False     False            116.0   \n",
       "25  Endeavor Air Inc.    ATL  ABY      False     False              0.0   \n",
       "26  Endeavor Air Inc.    ATL  ABY      False     False              0.0   \n",
       "27  Endeavor Air Inc.    ATL  ABY      False     False              0.0   \n",
       "28  Endeavor Air Inc.    ATL  ABY      False     False              0.0   \n",
       "29  Endeavor Air Inc.    ATL  ABY      False     False              0.0   \n",
       "30  Endeavor Air Inc.    ATL  ABY      False     False              0.0   \n",
       "31  Endeavor Air Inc.    ATL  ABY      False     False              0.0   \n",
       "32  Endeavor Air Inc.    ATL  ABY      False     False              0.0   \n",
       "33  Endeavor Air Inc.    ATL  ABY      False     False              0.0   \n",
       "34  Endeavor Air Inc.    ATL  ABY      False     False             15.0   \n",
       "35  Endeavor Air Inc.    ATL  ABY      False     False              0.0   \n",
       "36  Endeavor Air Inc.    ATL  ABY      False     False              0.0   \n",
       "37  Endeavor Air Inc.    ATL  ABY      False     False              0.0   \n",
       "38  Endeavor Air Inc.    ATL  MOB      False     False              0.0   \n",
       "39  Endeavor Air Inc.    ATL  MOB      False     False              0.0   \n",
       "\n",
       "    ArrDelayMinutes  AirTime  CRSElapsedTime  ActualElapsedTime  ...  \\\n",
       "0               0.0     38.0            62.0               59.0  ...   \n",
       "1               0.0     36.0            62.0               61.0  ...   \n",
       "2               0.0     40.0            62.0               69.0  ...   \n",
       "3               0.0     35.0            62.0               63.0  ...   \n",
       "4               0.0     36.0            60.0               64.0  ...   \n",
       "5              22.0     37.0            62.0               84.0  ...   \n",
       "6               0.0     34.0            62.0               59.0  ...   \n",
       "7               0.0     44.0            62.0               62.0  ...   \n",
       "8              11.0     37.0            62.0               71.0  ...   \n",
       "9              22.0     32.0            60.0               58.0  ...   \n",
       "10              0.0     27.0            60.0               53.0  ...   \n",
       "11              0.0     29.0            60.0               52.0  ...   \n",
       "12              0.0     34.0            59.0               54.0  ...   \n",
       "13              0.0     29.0            60.0               50.0  ...   \n",
       "14             16.0     32.0            60.0               54.0  ...   \n",
       "15            105.0     37.0            60.0               60.0  ...   \n",
       "16              0.0     37.0            60.0               59.0  ...   \n",
       "17              8.0     38.0            60.0               72.0  ...   \n",
       "18              1.0     35.0            60.0               54.0  ...   \n",
       "19              0.0     34.0            59.0               52.0  ...   \n",
       "20              0.0     30.0            60.0               49.0  ...   \n",
       "21              0.0     30.0            60.0               53.0  ...   \n",
       "22              0.0     30.0            60.0               56.0  ...   \n",
       "23             64.0     31.0            60.0               64.0  ...   \n",
       "24            128.0     32.0            60.0               72.0  ...   \n",
       "25              0.0     28.0            60.0               53.0  ...   \n",
       "26              0.0     27.0            59.0               46.0  ...   \n",
       "27              0.0     30.0            60.0               50.0  ...   \n",
       "28              0.0     30.0            60.0               60.0  ...   \n",
       "29              0.0     38.0            60.0               61.0  ...   \n",
       "30              0.0     29.0            60.0               50.0  ...   \n",
       "31              0.0     28.0            60.0               51.0  ...   \n",
       "32              0.0     30.0            60.0               51.0  ...   \n",
       "33              0.0     29.0            59.0               51.0  ...   \n",
       "34              0.0     30.0            60.0               43.0  ...   \n",
       "35              0.0     35.0            60.0               66.0  ...   \n",
       "36              0.0     33.0            60.0               51.0  ...   \n",
       "37              0.0     30.0            60.0               54.0  ...   \n",
       "38              0.0     54.0            88.0               74.0  ...   \n",
       "39              0.0     52.0            89.0               82.0  ...   \n",
       "\n",
       "    DepDel15  DepartureDelayGroups  DepTimeBlk  TaxiOut  TaxiIn ArrDel15  \\\n",
       "0      False                     0   1200-1259     14.0     7.0    False   \n",
       "1      False                     0   1200-1259     13.0    12.0    False   \n",
       "2      False                     0   1200-1259     18.0    11.0    False   \n",
       "3      False                     0   1200-1259     17.0    11.0    False   \n",
       "4      False                     0   1400-1459     17.0    11.0    False   \n",
       "5      False                     0   1200-1259     34.0    13.0     True   \n",
       "6      False                     0   1200-1259     15.0    10.0    False   \n",
       "7      False                     0   1200-1259      7.0    11.0    False   \n",
       "8      False                     0   1200-1259     26.0     8.0     True   \n",
       "9       True                     1   1000-1059     23.0     3.0     True   \n",
       "10     False                     0   1000-1059     23.0     3.0    False   \n",
       "11     False                     0   1000-1059     20.0     3.0    False   \n",
       "12     False                     0   1000-1059     18.0     2.0    False   \n",
       "13     False                     0   1000-1059     18.0     3.0    False   \n",
       "14      True                     1   1000-1059     18.0     4.0     True   \n",
       "15      True                     7   1000-1059     20.0     3.0     True   \n",
       "16     False                     0   1000-1059     19.0     3.0    False   \n",
       "17     False                     0   1000-1059     31.0     3.0    False   \n",
       "18     False                     0   1000-1059     16.0     3.0    False   \n",
       "19     False                     0   1000-1059     16.0     2.0    False   \n",
       "20     False                     0   1000-1059     16.0     3.0    False   \n",
       "21     False                     0   1000-1059     20.0     3.0    False   \n",
       "22     False                     0   1000-1059     23.0     3.0    False   \n",
       "23      True                     3   1000-1059     28.5     4.5     True   \n",
       "24      True                     7   1000-1059     34.0     6.0     True   \n",
       "25     False                     0   1000-1059     21.0     4.0    False   \n",
       "26     False                     0   1000-1059     17.0     2.0    False   \n",
       "27     False                     0   1000-1059     16.0     4.0    False   \n",
       "28     False                     0   1000-1059     27.0     3.0    False   \n",
       "29     False                     0   1000-1059     19.0     4.0    False   \n",
       "30     False                     0   1000-1059     16.0     5.0    False   \n",
       "31     False                     0   1000-1059     16.0     7.0    False   \n",
       "32     False                     0   1000-1059     18.0     3.0    False   \n",
       "33     False                     0   1000-1059     18.0     4.0    False   \n",
       "34      True                     1   1000-1059     10.0     3.0    False   \n",
       "35     False                     0   1000-1059     28.0     3.0    False   \n",
       "36     False                     0   1000-1059     15.0     3.0    False   \n",
       "37     False                     0   1000-1059     21.0     3.0    False   \n",
       "38     False                     0   0900-0959     16.0     4.0    False   \n",
       "39     False                     0   0800-0859     26.0     4.0    False   \n",
       "\n",
       "   ArrivalDelayGroups ArrTimeBlk DistanceGroup  DivAirportLandings  \n",
       "0                   0  1300-1359             1                   0  \n",
       "1                   0  1300-1359             1                   0  \n",
       "2                   0  1300-1359             1                   0  \n",
       "3                   0  1300-1359             1                   0  \n",
       "4                   0  1500-1559             1                   0  \n",
       "5                   1  1300-1359             1                   0  \n",
       "6                   0  1300-1359             1                   0  \n",
       "7                   0  1300-1359             1                   0  \n",
       "8                   0  1300-1359             1                   0  \n",
       "9                   1  1100-1159             1                   0  \n",
       "10                  0  1100-1159             1                   0  \n",
       "11                  0  1100-1159             1                   0  \n",
       "12                  0  1100-1159             1                   0  \n",
       "13                  0  1100-1159             1                   0  \n",
       "14                  1  1100-1159             1                   0  \n",
       "15                  7  1100-1159             1                   0  \n",
       "16                  0  1100-1159             1                   0  \n",
       "17                  0  1100-1159             1                   0  \n",
       "18                  0  1100-1159             1                   0  \n",
       "19                  0  1100-1159             1                   0  \n",
       "20                  0  1100-1159             1                   0  \n",
       "21                  0  1100-1159             1                   0  \n",
       "22                  0  1100-1159             1                   0  \n",
       "23                  4  1100-1159             1                   0  \n",
       "24                  8  1100-1159             1                   0  \n",
       "25                  0  1100-1159             1                   0  \n",
       "26                  0  1100-1159             1                   0  \n",
       "27                  0  1100-1159             1                   0  \n",
       "28                  0  1100-1159             1                   0  \n",
       "29                  0  1100-1159             1                   0  \n",
       "30                  0  1100-1159             1                   0  \n",
       "31                  0  1100-1159             1                   0  \n",
       "32                  0  1100-1159             1                   0  \n",
       "33                  0  1100-1159             1                   0  \n",
       "34                  0  1100-1159             1                   0  \n",
       "35                  0  1100-1159             1                   0  \n",
       "36                  0  1100-1159             1                   0  \n",
       "37                  0  1100-1159             1                   0  \n",
       "38                  0  1000-1059             2                   0  \n",
       "39                  0  0800-0859             2                   0  \n",
       "\n",
       "[40 rows x 29 columns]"
      ]
     },
     "execution_count": 41,
     "metadata": {},
     "output_type": "execute_result"
    }
   ],
   "source": [
    "flight4.head(40)"
   ]
  },
  {
   "cell_type": "code",
   "execution_count": 42,
   "id": "812d2462",
   "metadata": {},
   "outputs": [
    {
     "data": {
      "text/plain": [
       "28"
      ]
     },
     "execution_count": 42,
     "metadata": {},
     "output_type": "execute_result"
    }
   ],
   "source": [
    "len(flight4[\"Airline\"].unique())"
   ]
  },
  {
   "cell_type": "code",
   "execution_count": 43,
   "id": "0746d972",
   "metadata": {},
   "outputs": [
    {
     "data": {
      "text/plain": [
       "False    1031528\n",
       "True       17047\n",
       "Name: Cancelled, dtype: int64"
      ]
     },
     "execution_count": 43,
     "metadata": {},
     "output_type": "execute_result"
    }
   ],
   "source": [
    "flight4[\"Cancelled\"].value_counts()"
   ]
  },
  {
   "cell_type": "code",
   "execution_count": 44,
   "id": "8cf9f567",
   "metadata": {},
   "outputs": [],
   "source": [
    "from sklearn.preprocessing import LabelEncoder\n",
    "le=LabelEncoder()\n",
    "for col in flight4.select_dtypes(include='object').columns:\n",
    "    flight4[col]=le.fit_transform(flight4[col].astype(str))  "
   ]
  },
  {
   "cell_type": "code",
   "execution_count": 45,
   "id": "e7816905",
   "metadata": {},
   "outputs": [],
   "source": [
    "from sklearn.preprocessing import LabelEncoder\n",
    "le=LabelEncoder()\n",
    "for col in flight4.select_dtypes(include='bool').columns:\n",
    "    flight4[col]=le.fit_transform(flight4[col].astype(str))  "
   ]
  },
  {
   "cell_type": "code",
   "execution_count": 46,
   "id": "1acc7f5b",
   "metadata": {},
   "outputs": [],
   "source": [
    "X=flight4.drop([\"Cancelled\"],axis=1)\n",
    "y=flight4[\"Cancelled\"]"
   ]
  },
  {
   "cell_type": "code",
   "execution_count": 47,
   "id": "d45441fd",
   "metadata": {},
   "outputs": [],
   "source": [
    "from sklearn.model_selection import train_test_split\n",
    "X_train,X_test,y_train,y_test=train_test_split(X,y,test_size=0.30,random_state=0)"
   ]
  },
  {
   "cell_type": "code",
   "execution_count": 48,
   "id": "56b155f8",
   "metadata": {},
   "outputs": [
    {
     "data": {
      "text/plain": [
       "array([1.99516612e-02, 5.32224857e-03, 4.88082072e-03, 3.93569862e-05,\n",
       "       2.65395552e-02, 2.73016491e-02, 3.67903580e-02, 1.21840063e-03,\n",
       "       3.81171868e-02, 4.10599326e-03, 9.78082109e-02, 1.06019333e-01,\n",
       "       1.20672184e-02, 2.33902059e-02, 5.49400239e-03, 8.04220463e-03,\n",
       "       5.15273458e-03, 8.53267942e-03, 8.38800682e-03, 3.55272946e-03,\n",
       "       8.46333946e-03, 4.68176109e-02, 5.27411620e-02, 8.74848082e-03,\n",
       "       3.42740026e-03, 9.44541990e-03, 2.12113780e-02, 4.78156422e-04])"
      ]
     },
     "execution_count": 48,
     "metadata": {},
     "output_type": "execute_result"
    }
   ],
   "source": [
    "from sklearn.feature_selection import mutual_info_classif\n",
    "mi=mutual_info_classif(X_train,y_train)\n",
    "mi"
   ]
  },
  {
   "cell_type": "code",
   "execution_count": 49,
   "id": "21aec38f",
   "metadata": {},
   "outputs": [
    {
     "data": {
      "text/plain": [
       "Month                   0.106019\n",
       "Quarter                 0.097808\n",
       "TaxiIn                  0.052741\n",
       "TaxiOut                 0.046818\n",
       "ActualElapsedTime       0.038117\n",
       "AirTime                 0.036790\n",
       "ArrDelayMinutes         0.027302\n",
       "DepDelayMinutes         0.026540\n",
       "DayOfWeek               0.023390\n",
       "DistanceGroup           0.021211\n",
       "Airline                 0.019952\n",
       "DayofMonth              0.012067\n",
       "ArrTimeBlk              0.009445\n",
       "ArrDel15                0.008748\n",
       "DestStateName           0.008533\n",
       "DepTimeBlk              0.008463\n",
       "DepDel15                0.008388\n",
       "OriginStateName         0.008042\n",
       "OriginCityName          0.005494\n",
       "Origin                  0.005322\n",
       "DestCityName            0.005153\n",
       "Dest                    0.004881\n",
       "Distance                0.004106\n",
       "DepartureDelayGroups    0.003553\n",
       "ArrivalDelayGroups      0.003427\n",
       "CRSElapsedTime          0.001218\n",
       "DivAirportLandings      0.000478\n",
       "Diverted                0.000039\n",
       "dtype: float64"
      ]
     },
     "execution_count": 49,
     "metadata": {},
     "output_type": "execute_result"
    }
   ],
   "source": [
    "mi=pd.Series(mi)\n",
    "mi.index=X_train.columns\n",
    "mi.sort_values(ascending=False)"
   ]
  },
  {
   "cell_type": "code",
   "execution_count": 50,
   "id": "1f8ba6a3",
   "metadata": {},
   "outputs": [
    {
     "data": {
      "text/plain": [
       "<AxesSubplot:>"
      ]
     },
     "execution_count": 50,
     "metadata": {},
     "output_type": "execute_result"
    },
    {
     "data": {
      "image/png": "[encoded data removed]",
      "text/plain": [
       "<Figure size 1440x720 with 1 Axes>"
      ]
     },
     "metadata": {
      "needs_background": "light"
     },
     "output_type": "display_data"
    }
   ],
   "source": [
    "mi.sort_values(ascending=False).plot.bar(figsize=(20,10))"
   ]
  },
  {
   "cell_type": "code",
   "execution_count": 51,
   "id": "9a65a3db",
   "metadata": {},
   "outputs": [
    {
     "name": "stdout",
     "output_type": "stream",
     "text": [
      "('Month', 0.1060193333380115)\n",
      "('Quarter', 0.0978082109479903)\n",
      "('TaxiIn', 0.052741161979918405)\n",
      "('TaxiOut', 0.04681761087396774)\n",
      "('ActualElapsedTime', 0.038117186826080895)\n",
      "('AirTime', 0.036790358035657555)\n",
      "('ArrDelayMinutes', 0.027301649066464595)\n",
      "('DepDelayMinutes', 0.026539555243437873)\n",
      "('DayOfWeek', 0.023390205912220075)\n",
      "('DistanceGroup', 0.021211377996877112)\n",
      "('Airline', 0.01995166124901393)\n",
      "('DayofMonth', 0.012067218414788639)\n",
      "('ArrTimeBlk', 0.009445419904394736)\n",
      "('ArrDel15', 0.00874848082008417)\n",
      "('DestStateName', 0.008532679418143285)\n",
      "('DepTimeBlk', 0.00846333946402622)\n",
      "('DepDel15', 0.008388006815063243)\n",
      "('OriginStateName', 0.008042204628793459)\n",
      "('OriginCityName', 0.00549400238868647)\n",
      "('Origin', 0.0053222485656041485)\n",
      "('DestCityName', 0.005152734577598572)\n",
      "('Dest', 0.004880820716729017)\n",
      "('Distance', 0.004105993262458751)\n",
      "('DepartureDelayGroups', 0.0035527294610901983)\n",
      "('ArrivalDelayGroups', 0.0034274002629890443)\n",
      "('CRSElapsedTime', 0.0012184006264741587)\n",
      "('DivAirportLandings', 0.0004781564218250267)\n",
      "('Diverted', 3.935698617385519e-05)\n"
     ]
    }
   ],
   "source": [
    "a=mi.sort_values(ascending=False)\n",
    "for cols in a.iteritems():\n",
    "    print(cols) "
   ]
  },
  {
   "cell_type": "code",
   "execution_count": 83,
   "id": "e4969aea",
   "metadata": {},
   "outputs": [],
   "source": [
    "cancel_final=flight4[['Month','Quarter','TaxiIn','TaxiOut','ActualElapsedTime','AirTime','ArrDelayMinutes',\n",
    "                     'DepDelayMinutes','DayOfWeek','DistanceGroup','Airline','DayofMonth','Cancelled']]"
   ]
  },
  {
   "cell_type": "code",
   "execution_count": 84,
   "id": "2481435c",
   "metadata": {},
   "outputs": [
    {
     "data": {
      "text/html": [
       "<div>\n",
       "<style scoped>\n",
       "    .dataframe tbody tr th:only-of-type {\n",
       "        vertical-align: middle;\n",
       "    }\n",
       "\n",
       "    .dataframe tbody tr th {\n",
       "        vertical-align: top;\n",
       "    }\n",
       "\n",
       "    .dataframe thead th {\n",
       "        text-align: right;\n",
       "    }\n",
       "</style>\n",
       "<table border=\"1\" class=\"dataframe\">\n",
       "  <thead>\n",
       "    <tr style=\"text-align: right;\">\n",
       "      <th></th>\n",
       "      <th>Month</th>\n",
       "      <th>Quarter</th>\n",
       "      <th>TaxiIn</th>\n",
       "      <th>TaxiOut</th>\n",
       "      <th>ActualElapsedTime</th>\n",
       "      <th>AirTime</th>\n",
       "      <th>ArrDelayMinutes</th>\n",
       "      <th>DepDelayMinutes</th>\n",
       "      <th>DayOfWeek</th>\n",
       "      <th>DistanceGroup</th>\n",
       "      <th>Airline</th>\n",
       "      <th>DayofMonth</th>\n",
       "      <th>Cancelled</th>\n",
       "    </tr>\n",
       "  </thead>\n",
       "  <tbody>\n",
       "    <tr>\n",
       "      <th>0</th>\n",
       "      <td>1</td>\n",
       "      <td>1</td>\n",
       "      <td>7.0</td>\n",
       "      <td>14.0</td>\n",
       "      <td>59.0</td>\n",
       "      <td>38.0</td>\n",
       "      <td>0.0</td>\n",
       "      <td>0.0</td>\n",
       "      <td>2</td>\n",
       "      <td>1</td>\n",
       "      <td>11</td>\n",
       "      <td>23</td>\n",
       "      <td>0</td>\n",
       "    </tr>\n",
       "    <tr>\n",
       "      <th>1</th>\n",
       "      <td>1</td>\n",
       "      <td>1</td>\n",
       "      <td>12.0</td>\n",
       "      <td>13.0</td>\n",
       "      <td>61.0</td>\n",
       "      <td>36.0</td>\n",
       "      <td>0.0</td>\n",
       "      <td>0.0</td>\n",
       "      <td>3</td>\n",
       "      <td>1</td>\n",
       "      <td>11</td>\n",
       "      <td>24</td>\n",
       "      <td>0</td>\n",
       "    </tr>\n",
       "    <tr>\n",
       "      <th>2</th>\n",
       "      <td>1</td>\n",
       "      <td>1</td>\n",
       "      <td>11.0</td>\n",
       "      <td>18.0</td>\n",
       "      <td>69.0</td>\n",
       "      <td>40.0</td>\n",
       "      <td>0.0</td>\n",
       "      <td>0.0</td>\n",
       "      <td>4</td>\n",
       "      <td>1</td>\n",
       "      <td>11</td>\n",
       "      <td>25</td>\n",
       "      <td>0</td>\n",
       "    </tr>\n",
       "    <tr>\n",
       "      <th>3</th>\n",
       "      <td>1</td>\n",
       "      <td>1</td>\n",
       "      <td>11.0</td>\n",
       "      <td>17.0</td>\n",
       "      <td>63.0</td>\n",
       "      <td>35.0</td>\n",
       "      <td>0.0</td>\n",
       "      <td>0.0</td>\n",
       "      <td>5</td>\n",
       "      <td>1</td>\n",
       "      <td>11</td>\n",
       "      <td>26</td>\n",
       "      <td>0</td>\n",
       "    </tr>\n",
       "    <tr>\n",
       "      <th>4</th>\n",
       "      <td>1</td>\n",
       "      <td>1</td>\n",
       "      <td>11.0</td>\n",
       "      <td>17.0</td>\n",
       "      <td>64.0</td>\n",
       "      <td>36.0</td>\n",
       "      <td>0.0</td>\n",
       "      <td>0.0</td>\n",
       "      <td>6</td>\n",
       "      <td>1</td>\n",
       "      <td>11</td>\n",
       "      <td>27</td>\n",
       "      <td>0</td>\n",
       "    </tr>\n",
       "  </tbody>\n",
       "</table>\n",
       "</div>"
      ],
      "text/plain": [
       "   Month  Quarter  TaxiIn  TaxiOut  ActualElapsedTime  AirTime  \\\n",
       "0      1        1     7.0     14.0               59.0     38.0   \n",
       "1      1        1    12.0     13.0               61.0     36.0   \n",
       "2      1        1    11.0     18.0               69.0     40.0   \n",
       "3      1        1    11.0     17.0               63.0     35.0   \n",
       "4      1        1    11.0     17.0               64.0     36.0   \n",
       "\n",
       "   ArrDelayMinutes  DepDelayMinutes  DayOfWeek  DistanceGroup  Airline  \\\n",
       "0              0.0              0.0          2              1       11   \n",
       "1              0.0              0.0          3              1       11   \n",
       "2              0.0              0.0          4              1       11   \n",
       "3              0.0              0.0          5              1       11   \n",
       "4              0.0              0.0          6              1       11   \n",
       "\n",
       "   DayofMonth  Cancelled  \n",
       "0          23          0  \n",
       "1          24          0  \n",
       "2          25          0  \n",
       "3          26          0  \n",
       "4          27          0  "
      ]
     },
     "execution_count": 84,
     "metadata": {},
     "output_type": "execute_result"
    }
   ],
   "source": [
    "cancel_final.head()"
   ]
  },
  {
   "cell_type": "code",
   "execution_count": 169,
   "id": "ee38a33a",
   "metadata": {},
   "outputs": [
    {
     "name": "stdout",
     "output_type": "stream",
     "text": [
      "<class 'pandas.core.frame.DataFrame'>\n",
      "RangeIndex: 1048575 entries, 0 to 1048574\n",
      "Data columns (total 13 columns):\n",
      " #   Column             Non-Null Count    Dtype  \n",
      "---  ------             --------------    -----  \n",
      " 0   Month              1048575 non-null  int64  \n",
      " 1   Quarter            1048575 non-null  int64  \n",
      " 2   TaxiIn             1048575 non-null  float64\n",
      " 3   TaxiOut            1048575 non-null  float64\n",
      " 4   ActualElapsedTime  1048575 non-null  float64\n",
      " 5   AirTime            1048575 non-null  float64\n",
      " 6   ArrDelayMinutes    1048575 non-null  float64\n",
      " 7   DepDelayMinutes    1048575 non-null  float64\n",
      " 8   DayOfWeek          1048575 non-null  int64  \n",
      " 9   DistanceGroup      1048575 non-null  int64  \n",
      " 10  Airline            1048575 non-null  int32  \n",
      " 11  DayofMonth         1048575 non-null  int64  \n",
      " 12  Cancelled          1048575 non-null  int32  \n",
      "dtypes: float64(6), int32(2), int64(5)\n",
      "memory usage: 96.0 MB\n"
     ]
    }
   ],
   "source": [
    "cancel_final.info()"
   ]
  },
  {
   "cell_type": "code",
   "execution_count": 85,
   "id": "85dd514c",
   "metadata": {},
   "outputs": [
    {
     "data": {
      "text/plain": [
       "array([[-1.13623315, -1.13623315, -0.05360769, ..., -0.62314707,\n",
       "         0.79259584, -0.12855337],\n",
       "       [-1.13623315, -1.13623315,  0.84360862, ..., -0.62314707,\n",
       "         0.9054405 , -0.12855337],\n",
       "       [-1.13623315, -1.13623315,  0.66416536, ..., -0.62314707,\n",
       "         1.01828516, -0.12855337],\n",
       "       ...,\n",
       "       [ 0.88010106,  0.88010106, -0.23305095, ...,  1.24484652,\n",
       "        -1.12576338, -0.12855337],\n",
       "       [ 0.88010106,  0.88010106,  0.4847221 , ...,  1.24484652,\n",
       "        -1.12576338, -0.12855337],\n",
       "       [ 0.88010106,  0.88010106,  0.4847221 , ...,  1.24484652,\n",
       "        -1.12576338, -0.12855337]])"
      ]
     },
     "execution_count": 85,
     "metadata": {},
     "output_type": "execute_result"
    }
   ],
   "source": [
    "from sklearn.preprocessing import StandardScaler\n",
    "scaler = StandardScaler()\n",
    "scaler.fit_transform(cancel_final)"
   ]
  },
  {
   "cell_type": "markdown",
   "id": "ab8f41e1",
   "metadata": {},
   "source": [
    "# 1>LOGISTIC REGRESSION"
   ]
  },
  {
   "cell_type": "code",
   "execution_count": 89,
   "id": "be391456",
   "metadata": {},
   "outputs": [],
   "source": [
    "# Splitting into train and test data set\n",
    "X=cancel_final.drop([\"Cancelled\"],axis=1)\n",
    "y=cancel_final[\"Cancelled\"]\n",
    "from sklearn.model_selection import train_test_split\n",
    "X_train,X_test,y_train,y_test = train_test_split(X,y,test_size=0.30,random_state=None)"
   ]
  },
  {
   "cell_type": "code",
   "execution_count": 90,
   "id": "d328db94",
   "metadata": {},
   "outputs": [],
   "source": [
    "from sklearn.linear_model import LogisticRegression"
   ]
  },
  {
   "cell_type": "code",
   "execution_count": 91,
   "id": "6e8c434c",
   "metadata": {},
   "outputs": [],
   "source": [
    "from sklearn.metrics import mean_squared_error,mean_absolute_error\n",
    "from sklearn.metrics import accuracy_score"
   ]
  },
  {
   "cell_type": "code",
   "execution_count": 92,
   "id": "c03823c3",
   "metadata": {},
   "outputs": [],
   "source": [
    "lr=LogisticRegression()"
   ]
  },
  {
   "cell_type": "code",
   "execution_count": 93,
   "id": "ce669bfd",
   "metadata": {},
   "outputs": [
    {
     "name": "stderr",
     "output_type": "stream",
     "text": [
      "C:\\Users\\rauna\\anaconda3\\lib\\site-packages\\sklearn\\linear_model\\_logistic.py:444: ConvergenceWarning: lbfgs failed to converge (status=1):\n",
      "STOP: TOTAL NO. of ITERATIONS REACHED LIMIT.\n",
      "\n",
      "Increase the number of iterations (max_iter) or scale the data as shown in:\n",
      "    https://scikit-learn.org/stable/modules/preprocessing.html\n",
      "Please also refer to the documentation for alternative solver options:\n",
      "    https://scikit-learn.org/stable/modules/linear_model.html#logistic-regression\n",
      "  n_iter_i = _check_optimize_result(\n"
     ]
    },
    {
     "data": {
      "text/html": [
       "<style>#sk-container-id-4 {color: black;background-color: white;}#sk-container-id-4 pre{padding: 0;}#sk-container-id-4 div.sk-toggleable {background-color: white;}#sk-container-id-4 label.sk-toggleable__label {cursor: pointer;display: block;width: 100%;margin-bottom: 0;padding: 0.3em;box-sizing: border-box;text-align: center;}#sk-container-id-4 label.sk-toggleable__label-arrow:before {content: \"▸\";float: left;margin-right: 0.25em;color: #696969;}#sk-container-id-4 label.sk-toggleable__label-arrow:hover:before {color: black;}#sk-container-id-4 div.sk-estimator:hover label.sk-toggleable__label-arrow:before {color: black;}#sk-container-id-4 div.sk-toggleable__content {max-height: 0;max-width: 0;overflow: hidden;text-align: left;background-color: #f0f8ff;}#sk-container-id-4 div.sk-toggleable__content pre {margin: 0.2em;color: black;border-radius: 0.25em;background-color: #f0f8ff;}#sk-container-id-4 input.sk-toggleable__control:checked~div.sk-toggleable__content {max-height: 200px;max-width: 100%;overflow: auto;}#sk-container-id-4 input.sk-toggleable__control:checked~label.sk-toggleable__label-arrow:before {content: \"▾\";}#sk-container-id-4 div.sk-estimator input.sk-toggleable__control:checked~label.sk-toggleable__label {background-color: #d4ebff;}#sk-container-id-4 div.sk-label input.sk-toggleable__control:checked~label.sk-toggleable__label {background-color: #d4ebff;}#sk-container-id-4 input.sk-hidden--visually {border: 0;clip: rect(1px 1px 1px 1px);clip: rect(1px, 1px, 1px, 1px);height: 1px;margin: -1px;overflow: hidden;padding: 0;position: absolute;width: 1px;}#sk-container-id-4 div.sk-estimator {font-family: monospace;background-color: #f0f8ff;border: 1px dotted black;border-radius: 0.25em;box-sizing: border-box;margin-bottom: 0.5em;}#sk-container-id-4 div.sk-estimator:hover {background-color: #d4ebff;}#sk-container-id-4 div.sk-parallel-item::after {content: \"\";width: 100%;border-bottom: 1px solid gray;flex-grow: 1;}#sk-container-id-4 div.sk-label:hover label.sk-toggleable__label {background-color: #d4ebff;}#sk-container-id-4 div.sk-serial::before {content: \"\";position: absolute;border-left: 1px solid gray;box-sizing: border-box;top: 0;bottom: 0;left: 50%;z-index: 0;}#sk-container-id-4 div.sk-serial {display: flex;flex-direction: column;align-items: center;background-color: white;padding-right: 0.2em;padding-left: 0.2em;position: relative;}#sk-container-id-4 div.sk-item {position: relative;z-index: 1;}#sk-container-id-4 div.sk-parallel {display: flex;align-items: stretch;justify-content: center;background-color: white;position: relative;}#sk-container-id-4 div.sk-item::before, #sk-container-id-4 div.sk-parallel-item::before {content: \"\";position: absolute;border-left: 1px solid gray;box-sizing: border-box;top: 0;bottom: 0;left: 50%;z-index: -1;}#sk-container-id-4 div.sk-parallel-item {display: flex;flex-direction: column;z-index: 1;position: relative;background-color: white;}#sk-container-id-4 div.sk-parallel-item:first-child::after {align-self: flex-end;width: 50%;}#sk-container-id-4 div.sk-parallel-item:last-child::after {align-self: flex-start;width: 50%;}#sk-container-id-4 div.sk-parallel-item:only-child::after {width: 0;}#sk-container-id-4 div.sk-dashed-wrapped {border: 1px dashed gray;margin: 0 0.4em 0.5em 0.4em;box-sizing: border-box;padding-bottom: 0.4em;background-color: white;}#sk-container-id-4 div.sk-label label {font-family: monospace;font-weight: bold;display: inline-block;line-height: 1.2em;}#sk-container-id-4 div.sk-label-container {text-align: center;}#sk-container-id-4 div.sk-container {/* jupyter's `normalize.less` sets `[hidden] { display: none; }` but bootstrap.min.css set `[hidden] { display: none !important; }` so we also need the `!important` here to be able to override the default hidden behavior on the sphinx rendered scikit-learn.org. See: https://github.com/scikit-learn/scikit-learn/issues/21755 */display: inline-block !important;position: relative;}#sk-container-id-4 div.sk-text-repr-fallback {display: none;}</style><div id=\"sk-container-id-4\" class=\"sk-top-container\"><div class=\"sk-text-repr-fallback\"><pre>LogisticRegression()</pre><b>In a Jupyter environment, please rerun this cell to show the HTML representation or trust the notebook. <br />On GitHub, the HTML representation is unable to render, please try loading this page with nbviewer.org.</b></div><div class=\"sk-container\" hidden><div class=\"sk-item\"><div class=\"sk-estimator sk-toggleable\"><input class=\"sk-toggleable__control sk-hidden--visually\" id=\"sk-estimator-id-4\" type=\"checkbox\" checked><label for=\"sk-estimator-id-4\" class=\"sk-toggleable__label sk-toggleable__label-arrow\">LogisticRegression</label><div class=\"sk-toggleable__content\"><pre>LogisticRegression()</pre></div></div></div></div></div>"
      ],
      "text/plain": [
       "LogisticRegression()"
      ]
     },
     "execution_count": 93,
     "metadata": {},
     "output_type": "execute_result"
    }
   ],
   "source": [
    "lr.fit(X_train,y_train)"
   ]
  },
  {
   "cell_type": "code",
   "execution_count": 94,
   "id": "fde75d69",
   "metadata": {},
   "outputs": [
    {
     "name": "stdout",
     "output_type": "stream",
     "text": [
      "Training Score in LR:= 0.9838706161563593\n",
      "Test Score in LR:= 0.9837017162947869\n"
     ]
    }
   ],
   "source": [
    "print(\"Training Score in LR:=\",accuracy_score(y_train,lr.predict(X_train)))\n",
    "print(\"Test Score in LR:=\",accuracy_score(y_test,lr.predict(X_test)))"
   ]
  },
  {
   "cell_type": "code",
   "execution_count": 95,
   "id": "8120ffd2",
   "metadata": {},
   "outputs": [],
   "source": [
    "y_pred_lr = lr.predict(X_test) "
   ]
  },
  {
   "cell_type": "code",
   "execution_count": 96,
   "id": "75fd7b57",
   "metadata": {},
   "outputs": [
    {
     "name": "stdout",
     "output_type": "stream",
     "text": [
      "0.9837017162947869\n",
      "0.0162982837052131\n",
      "0.1276647316419578\n"
     ]
    }
   ],
   "source": [
    "print(accuracy_score(y_test,y_pred_lr))\n",
    "print(mean_absolute_error(y_test,y_pred_lr))\n",
    "print(np.sqrt(mean_squared_error(y_test,y_pred_lr)))"
   ]
  },
  {
   "cell_type": "code",
   "execution_count": 97,
   "id": "fd95c89c",
   "metadata": {},
   "outputs": [
    {
     "data": {
      "image/png": "[encoded data removed]",
      "text/plain": [
       "<Figure size 432x288 with 2 Axes>"
      ]
     },
     "metadata": {
      "needs_background": "light"
     },
     "output_type": "display_data"
    }
   ],
   "source": [
    "# Calculate the confusion matrix\n",
    "from sklearn.metrics import roc_auc_score, roc_curve, confusion_matrix, classification_report\n",
    "from sklearn import metrics\n",
    "confusion_matrix = metrics.confusion_matrix(y_test, y_pred_lr)\n",
    "cm_display = metrics.ConfusionMatrixDisplay(confusion_matrix = confusion_matrix, display_labels = [0,1])\n",
    "cm_display.plot()\n",
    "plt.show()"
   ]
  },
  {
   "cell_type": "code",
   "execution_count": 98,
   "id": "98ced5a6",
   "metadata": {},
   "outputs": [
    {
     "name": "stdout",
     "output_type": "stream",
     "text": [
      "              precision    recall  f1-score   support\n",
      "\n",
      "           0       0.98      1.00      0.99    309420\n",
      "           1       0.77      0.01      0.01      5153\n",
      "\n",
      "    accuracy                           0.98    314573\n",
      "   macro avg       0.88      0.50      0.50    314573\n",
      "weighted avg       0.98      0.98      0.98    314573\n",
      "\n"
     ]
    }
   ],
   "source": [
    "# Calculate the classification report\n",
    "print(classification_report(y_test,y_pred_lr))"
   ]
  },
  {
   "cell_type": "code",
   "execution_count": 99,
   "id": "6b9b06ac",
   "metadata": {},
   "outputs": [
    {
     "name": "stdout",
     "output_type": "stream",
     "text": [
      "0.5035723664727542\n"
     ]
    }
   ],
   "source": [
    "# Calculate roc_auc_score\n",
    "roc_auc_lr=(roc_auc_score(y_test, y_pred_lr))\n",
    "print(roc_auc_lr)"
   ]
  },
  {
   "cell_type": "markdown",
   "id": "00edf258",
   "metadata": {},
   "source": [
    "# NAIVE BAYES"
   ]
  },
  {
   "cell_type": "code",
   "execution_count": 100,
   "id": "652fe9ae",
   "metadata": {},
   "outputs": [],
   "source": [
    "from sklearn.naive_bayes import GaussianNB\n",
    "nb=GaussianNB()"
   ]
  },
  {
   "cell_type": "code",
   "execution_count": 101,
   "id": "6129d9db",
   "metadata": {},
   "outputs": [
    {
     "data": {
      "text/html": [
       "<style>#sk-container-id-5 {color: black;background-color: white;}#sk-container-id-5 pre{padding: 0;}#sk-container-id-5 div.sk-toggleable {background-color: white;}#sk-container-id-5 label.sk-toggleable__label {cursor: pointer;display: block;width: 100%;margin-bottom: 0;padding: 0.3em;box-sizing: border-box;text-align: center;}#sk-container-id-5 label.sk-toggleable__label-arrow:before {content: \"▸\";float: left;margin-right: 0.25em;color: #696969;}#sk-container-id-5 label.sk-toggleable__label-arrow:hover:before {color: black;}#sk-container-id-5 div.sk-estimator:hover label.sk-toggleable__label-arrow:before {color: black;}#sk-container-id-5 div.sk-toggleable__content {max-height: 0;max-width: 0;overflow: hidden;text-align: left;background-color: #f0f8ff;}#sk-container-id-5 div.sk-toggleable__content pre {margin: 0.2em;color: black;border-radius: 0.25em;background-color: #f0f8ff;}#sk-container-id-5 input.sk-toggleable__control:checked~div.sk-toggleable__content {max-height: 200px;max-width: 100%;overflow: auto;}#sk-container-id-5 input.sk-toggleable__control:checked~label.sk-toggleable__label-arrow:before {content: \"▾\";}#sk-container-id-5 div.sk-estimator input.sk-toggleable__control:checked~label.sk-toggleable__label {background-color: #d4ebff;}#sk-container-id-5 div.sk-label input.sk-toggleable__control:checked~label.sk-toggleable__label {background-color: #d4ebff;}#sk-container-id-5 input.sk-hidden--visually {border: 0;clip: rect(1px 1px 1px 1px);clip: rect(1px, 1px, 1px, 1px);height: 1px;margin: -1px;overflow: hidden;padding: 0;position: absolute;width: 1px;}#sk-container-id-5 div.sk-estimator {font-family: monospace;background-color: #f0f8ff;border: 1px dotted black;border-radius: 0.25em;box-sizing: border-box;margin-bottom: 0.5em;}#sk-container-id-5 div.sk-estimator:hover {background-color: #d4ebff;}#sk-container-id-5 div.sk-parallel-item::after {content: \"\";width: 100%;border-bottom: 1px solid gray;flex-grow: 1;}#sk-container-id-5 div.sk-label:hover label.sk-toggleable__label {background-color: #d4ebff;}#sk-container-id-5 div.sk-serial::before {content: \"\";position: absolute;border-left: 1px solid gray;box-sizing: border-box;top: 0;bottom: 0;left: 50%;z-index: 0;}#sk-container-id-5 div.sk-serial {display: flex;flex-direction: column;align-items: center;background-color: white;padding-right: 0.2em;padding-left: 0.2em;position: relative;}#sk-container-id-5 div.sk-item {position: relative;z-index: 1;}#sk-container-id-5 div.sk-parallel {display: flex;align-items: stretch;justify-content: center;background-color: white;position: relative;}#sk-container-id-5 div.sk-item::before, #sk-container-id-5 div.sk-parallel-item::before {content: \"\";position: absolute;border-left: 1px solid gray;box-sizing: border-box;top: 0;bottom: 0;left: 50%;z-index: -1;}#sk-container-id-5 div.sk-parallel-item {display: flex;flex-direction: column;z-index: 1;position: relative;background-color: white;}#sk-container-id-5 div.sk-parallel-item:first-child::after {align-self: flex-end;width: 50%;}#sk-container-id-5 div.sk-parallel-item:last-child::after {align-self: flex-start;width: 50%;}#sk-container-id-5 div.sk-parallel-item:only-child::after {width: 0;}#sk-container-id-5 div.sk-dashed-wrapped {border: 1px dashed gray;margin: 0 0.4em 0.5em 0.4em;box-sizing: border-box;padding-bottom: 0.4em;background-color: white;}#sk-container-id-5 div.sk-label label {font-family: monospace;font-weight: bold;display: inline-block;line-height: 1.2em;}#sk-container-id-5 div.sk-label-container {text-align: center;}#sk-container-id-5 div.sk-container {/* jupyter's `normalize.less` sets `[hidden] { display: none; }` but bootstrap.min.css set `[hidden] { display: none !important; }` so we also need the `!important` here to be able to override the default hidden behavior on the sphinx rendered scikit-learn.org. See: https://github.com/scikit-learn/scikit-learn/issues/21755 */display: inline-block !important;position: relative;}#sk-container-id-5 div.sk-text-repr-fallback {display: none;}</style><div id=\"sk-container-id-5\" class=\"sk-top-container\"><div class=\"sk-text-repr-fallback\"><pre>GaussianNB()</pre><b>In a Jupyter environment, please rerun this cell to show the HTML representation or trust the notebook. <br />On GitHub, the HTML representation is unable to render, please try loading this page with nbviewer.org.</b></div><div class=\"sk-container\" hidden><div class=\"sk-item\"><div class=\"sk-estimator sk-toggleable\"><input class=\"sk-toggleable__control sk-hidden--visually\" id=\"sk-estimator-id-5\" type=\"checkbox\" checked><label for=\"sk-estimator-id-5\" class=\"sk-toggleable__label sk-toggleable__label-arrow\">GaussianNB</label><div class=\"sk-toggleable__content\"><pre>GaussianNB()</pre></div></div></div></div></div>"
      ],
      "text/plain": [
       "GaussianNB()"
      ]
     },
     "execution_count": 101,
     "metadata": {},
     "output_type": "execute_result"
    }
   ],
   "source": [
    "nb.fit(X_train,y_train)"
   ]
  },
  {
   "cell_type": "code",
   "execution_count": 102,
   "id": "65b18c68",
   "metadata": {},
   "outputs": [
    {
     "name": "stdout",
     "output_type": "stream",
     "text": [
      "Training Scpre in NB:= 0.958780766264942\n",
      "Test Score in NB:= 0.958995209379063\n"
     ]
    }
   ],
   "source": [
    "print(\"Training Scpre in NB:=\",accuracy_score(y_train,nb.predict(X_train)))\n",
    "print(\"Test Score in NB:=\",accuracy_score(y_test,nb.predict(X_test)))"
   ]
  },
  {
   "cell_type": "code",
   "execution_count": 103,
   "id": "c26d1e75",
   "metadata": {},
   "outputs": [],
   "source": [
    "y_pred_nb = nb.predict(X_test) "
   ]
  },
  {
   "cell_type": "code",
   "execution_count": 104,
   "id": "47bc6e1f",
   "metadata": {},
   "outputs": [
    {
     "name": "stdout",
     "output_type": "stream",
     "text": [
      "0.958995209379063\n",
      "0.041004790620936954\n",
      "0.20249639656284493\n"
     ]
    }
   ],
   "source": [
    "print(accuracy_score(y_test,y_pred_nb))\n",
    "print(mean_absolute_error(y_test,y_pred_nb))\n",
    "print(np.sqrt(mean_squared_error(y_test,y_pred_nb)))"
   ]
  },
  {
   "cell_type": "code",
   "execution_count": 105,
   "id": "2151d551",
   "metadata": {},
   "outputs": [
    {
     "data": {
      "image/png": "[encoded data removed]",
      "text/plain": [
       "<Figure size 432x288 with 2 Axes>"
      ]
     },
     "metadata": {
      "needs_background": "light"
     },
     "output_type": "display_data"
    }
   ],
   "source": [
    "# Calculate the confusion matrix\n",
    "from sklearn.metrics import roc_auc_score, roc_curve, confusion_matrix, classification_report\n",
    "confusion_matrix = metrics.confusion_matrix(y_test, y_pred_nb)\n",
    "cm_display = metrics.ConfusionMatrixDisplay(confusion_matrix = confusion_matrix, display_labels = [0,1])\n",
    "cm_display.plot()\n",
    "plt.show()"
   ]
  },
  {
   "cell_type": "code",
   "execution_count": 106,
   "id": "6a742cdb",
   "metadata": {},
   "outputs": [
    {
     "name": "stdout",
     "output_type": "stream",
     "text": [
      "              precision    recall  f1-score   support\n",
      "\n",
      "           0       0.98      0.97      0.98    309420\n",
      "           1       0.05      0.08      0.06      5153\n",
      "\n",
      "    accuracy                           0.96    314573\n",
      "   macro avg       0.52      0.53      0.52    314573\n",
      "weighted avg       0.97      0.96      0.96    314573\n",
      "\n"
     ]
    }
   ],
   "source": [
    "# Calculate the classification report\n",
    "print(classification_report(y_test,y_pred_nb))"
   ]
  },
  {
   "cell_type": "code",
   "execution_count": 107,
   "id": "09bc4081",
   "metadata": {},
   "outputs": [
    {
     "name": "stdout",
     "output_type": "stream",
     "text": [
      "0.5255535895376917\n"
     ]
    }
   ],
   "source": [
    "# Calculate roc_auc_score\n",
    "roc_auc_nb=(roc_auc_score(y_test, y_pred_nb))\n",
    "print(roc_auc_nb)"
   ]
  },
  {
   "cell_type": "markdown",
   "id": "97a1aa43",
   "metadata": {},
   "source": [
    "# DECISION TREE CLASSIFIER"
   ]
  },
  {
   "cell_type": "code",
   "execution_count": 108,
   "id": "ca16c835",
   "metadata": {},
   "outputs": [
    {
     "name": "stdout",
     "output_type": "stream",
     "text": [
      "The Training Accuracy for max_depth 1 is: 0.9837956844804238\n",
      "The Validation Accuracy for max_depth 1 is: 0.9836190645732469\n",
      "\n",
      "The Training Accuracy for max_depth 2 is: 0.9841676180718854\n",
      "The Validation Accuracy for max_depth 2 is: 0.9839337768975722\n",
      "\n",
      "The Training Accuracy for max_depth 3 is: 0.9841676180718854\n",
      "The Validation Accuracy for max_depth 3 is: 0.9839242401604715\n",
      "\n",
      "The Training Accuracy for max_depth 4 is: 0.984173067648317\n",
      "The Validation Accuracy for max_depth 4 is: 0.9839305979852053\n",
      "\n",
      "The Training Accuracy for max_depth 5 is: 0.98419077877172\n",
      "The Validation Accuracy for max_depth 5 is: 0.9839274190728384\n",
      "\n",
      "The Training Accuracy for max_depth 6 is: 0.9848842373726502\n",
      "The Validation Accuracy for max_depth 6 is: 0.9845790961080576\n",
      "\n",
      "The Training Accuracy for max_depth 7 is: 0.9854591676861916\n",
      "The Validation Accuracy for max_depth 7 is: 0.9851163322980675\n",
      "\n",
      "The Training Accuracy for max_depth 8 is: 0.9862970400625611\n",
      "The Validation Accuracy for max_depth 8 is: 0.9859937121113382\n",
      "\n",
      "The Training Accuracy for max_depth 9 is: 0.9866757856245624\n",
      "The Validation Accuracy for max_depth 9 is: 0.9862289516264905\n",
      "\n",
      "The Training Accuracy for max_depth 10 is: 0.9868256489764333\n",
      "The Validation Accuracy for max_depth 10 is: 0.9862829931367282\n",
      "\n",
      "The Training Accuracy for max_depth 11 is: 0.9871158389214199\n",
      "The Validation Accuracy for max_depth 11 is: 0.9863465713840667\n",
      "\n",
      "The Training Accuracy for max_depth 12 is: 0.9874986716657448\n",
      "The Validation Accuracy for max_depth 12 is: 0.9864769067911104\n",
      "\n",
      "The Training Accuracy for max_depth 13 is: 0.988358342347841\n",
      "The Validation Accuracy for max_depth 13 is: 0.9870332164553219\n",
      "\n",
      "The Training Accuracy for max_depth 14 is: 0.9888746897147419\n",
      "The Validation Accuracy for max_depth 14 is: 0.9870236797182212\n",
      "\n",
      "The Training Accuracy for max_depth 15 is: 0.9897357227909461\n",
      "The Validation Accuracy for max_depth 15 is: 0.987154015125265\n",
      "\n",
      "The Training Accuracy for max_depth 16 is: 0.9905545216498047\n",
      "The Validation Accuracy for max_depth 16 is: 0.9870872579655596\n",
      "\n",
      "The Training Accuracy for max_depth 17 is: 0.9913705957204476\n",
      "The Validation Accuracy for max_depth 17 is: 0.9871444783881643\n",
      "\n",
      "The Training Accuracy for max_depth 18 is: 0.9922261792202202\n",
      "The Validation Accuracy for max_depth 18 is: 0.986785261290702\n",
      "\n",
      "The Training Accuracy for max_depth 19 is: 0.9931008362375034\n",
      "The Validation Accuracy for max_depth 19 is: 0.9865023380900458\n",
      "\n",
      "The Training Accuracy for max_depth 20 is: 0.9939632317078155\n",
      "The Validation Accuracy for max_depth 20 is: 0.9859333127763666\n",
      "\n",
      "The Training Accuracy for max_depth 21 is: 0.9947847553548901\n",
      "The Validation Accuracy for max_depth 21 is: 0.9856090637149406\n",
      "\n",
      "The Training Accuracy for max_depth 22 is: 0.9955354345083528\n",
      "The Validation Accuracy for max_depth 22 is: 0.9852752779164137\n",
      "\n",
      "The Training Accuracy for max_depth 23 is: 0.9962752145089523\n",
      "The Validation Accuracy for max_depth 23 is: 0.9850368594888945\n",
      "\n",
      "The Training Accuracy for max_depth 24 is: 0.9969196269219975\n",
      "The Validation Accuracy for max_depth 24 is: 0.9846108852317268\n",
      "\n",
      "The Training Accuracy for max_depth 25 is: 0.9974891076591071\n",
      "The Validation Accuracy for max_depth 25 is: 0.9842961729074015\n",
      "\n",
      "The Training Accuracy for max_depth 26 is: 0.997974119961526\n",
      "The Validation Accuracy for max_depth 26 is: 0.9840959014282853\n",
      "\n",
      "The Training Accuracy for max_depth 27 is: 0.9984346091700023\n",
      "The Validation Accuracy for max_depth 27 is: 0.9838320517018307\n",
      "\n",
      "The Training Accuracy for max_depth 28 is: 0.998753409391255\n",
      "The Validation Accuracy for max_depth 28 is: 0.9836190645732469\n",
      "\n",
      "The Training Accuracy for max_depth 29 is: 0.9990599480655366\n",
      "The Validation Accuracy for max_depth 29 is: 0.9833742883209938\n",
      "\n"
     ]
    }
   ],
   "source": [
    "from sklearn.tree import DecisionTreeClassifier\n",
    "training_accuracy = []\n",
    "test_accuracy = []\n",
    "for max_d in range(1,30):\n",
    "    model = DecisionTreeClassifier(max_depth=max_d, random_state=42)\n",
    "    model.fit(X_train, y_train)\n",
    "    training_accuracy.append(model.score(X_train, y_train))\n",
    "    test_accuracy.append(model.score(X_train, y_train))\n",
    "    print('The Training Accuracy for max_depth {} is:'.format(max_d), model.score(X_train, y_train))\n",
    "    print('The Validation Accuracy for max_depth {} is:'.format(max_d), model.score(X_test,y_test))\n",
    "    print('')"
   ]
  },
  {
   "cell_type": "code",
   "execution_count": 109,
   "id": "8c35b444",
   "metadata": {},
   "outputs": [
    {
     "data": {
      "text/html": [
       "<style>#sk-container-id-6 {color: black;background-color: white;}#sk-container-id-6 pre{padding: 0;}#sk-container-id-6 div.sk-toggleable {background-color: white;}#sk-container-id-6 label.sk-toggleable__label {cursor: pointer;display: block;width: 100%;margin-bottom: 0;padding: 0.3em;box-sizing: border-box;text-align: center;}#sk-container-id-6 label.sk-toggleable__label-arrow:before {content: \"▸\";float: left;margin-right: 0.25em;color: #696969;}#sk-container-id-6 label.sk-toggleable__label-arrow:hover:before {color: black;}#sk-container-id-6 div.sk-estimator:hover label.sk-toggleable__label-arrow:before {color: black;}#sk-container-id-6 div.sk-toggleable__content {max-height: 0;max-width: 0;overflow: hidden;text-align: left;background-color: #f0f8ff;}#sk-container-id-6 div.sk-toggleable__content pre {margin: 0.2em;color: black;border-radius: 0.25em;background-color: #f0f8ff;}#sk-container-id-6 input.sk-toggleable__control:checked~div.sk-toggleable__content {max-height: 200px;max-width: 100%;overflow: auto;}#sk-container-id-6 input.sk-toggleable__control:checked~label.sk-toggleable__label-arrow:before {content: \"▾\";}#sk-container-id-6 div.sk-estimator input.sk-toggleable__control:checked~label.sk-toggleable__label {background-color: #d4ebff;}#sk-container-id-6 div.sk-label input.sk-toggleable__control:checked~label.sk-toggleable__label {background-color: #d4ebff;}#sk-container-id-6 input.sk-hidden--visually {border: 0;clip: rect(1px 1px 1px 1px);clip: rect(1px, 1px, 1px, 1px);height: 1px;margin: -1px;overflow: hidden;padding: 0;position: absolute;width: 1px;}#sk-container-id-6 div.sk-estimator {font-family: monospace;background-color: #f0f8ff;border: 1px dotted black;border-radius: 0.25em;box-sizing: border-box;margin-bottom: 0.5em;}#sk-container-id-6 div.sk-estimator:hover {background-color: #d4ebff;}#sk-container-id-6 div.sk-parallel-item::after {content: \"\";width: 100%;border-bottom: 1px solid gray;flex-grow: 1;}#sk-container-id-6 div.sk-label:hover label.sk-toggleable__label {background-color: #d4ebff;}#sk-container-id-6 div.sk-serial::before {content: \"\";position: absolute;border-left: 1px solid gray;box-sizing: border-box;top: 0;bottom: 0;left: 50%;z-index: 0;}#sk-container-id-6 div.sk-serial {display: flex;flex-direction: column;align-items: center;background-color: white;padding-right: 0.2em;padding-left: 0.2em;position: relative;}#sk-container-id-6 div.sk-item {position: relative;z-index: 1;}#sk-container-id-6 div.sk-parallel {display: flex;align-items: stretch;justify-content: center;background-color: white;position: relative;}#sk-container-id-6 div.sk-item::before, #sk-container-id-6 div.sk-parallel-item::before {content: \"\";position: absolute;border-left: 1px solid gray;box-sizing: border-box;top: 0;bottom: 0;left: 50%;z-index: -1;}#sk-container-id-6 div.sk-parallel-item {display: flex;flex-direction: column;z-index: 1;position: relative;background-color: white;}#sk-container-id-6 div.sk-parallel-item:first-child::after {align-self: flex-end;width: 50%;}#sk-container-id-6 div.sk-parallel-item:last-child::after {align-self: flex-start;width: 50%;}#sk-container-id-6 div.sk-parallel-item:only-child::after {width: 0;}#sk-container-id-6 div.sk-dashed-wrapped {border: 1px dashed gray;margin: 0 0.4em 0.5em 0.4em;box-sizing: border-box;padding-bottom: 0.4em;background-color: white;}#sk-container-id-6 div.sk-label label {font-family: monospace;font-weight: bold;display: inline-block;line-height: 1.2em;}#sk-container-id-6 div.sk-label-container {text-align: center;}#sk-container-id-6 div.sk-container {/* jupyter's `normalize.less` sets `[hidden] { display: none; }` but bootstrap.min.css set `[hidden] { display: none !important; }` so we also need the `!important` here to be able to override the default hidden behavior on the sphinx rendered scikit-learn.org. See: https://github.com/scikit-learn/scikit-learn/issues/21755 */display: inline-block !important;position: relative;}#sk-container-id-6 div.sk-text-repr-fallback {display: none;}</style><div id=\"sk-container-id-6\" class=\"sk-top-container\"><div class=\"sk-text-repr-fallback\"><pre>DecisionTreeClassifier(max_depth=16, random_state=100)</pre><b>In a Jupyter environment, please rerun this cell to show the HTML representation or trust the notebook. <br />On GitHub, the HTML representation is unable to render, please try loading this page with nbviewer.org.</b></div><div class=\"sk-container\" hidden><div class=\"sk-item\"><div class=\"sk-estimator sk-toggleable\"><input class=\"sk-toggleable__control sk-hidden--visually\" id=\"sk-estimator-id-6\" type=\"checkbox\" checked><label for=\"sk-estimator-id-6\" class=\"sk-toggleable__label sk-toggleable__label-arrow\">DecisionTreeClassifier</label><div class=\"sk-toggleable__content\"><pre>DecisionTreeClassifier(max_depth=16, random_state=100)</pre></div></div></div></div></div>"
      ],
      "text/plain": [
       "DecisionTreeClassifier(max_depth=16, random_state=100)"
      ]
     },
     "execution_count": 109,
     "metadata": {},
     "output_type": "execute_result"
    }
   ],
   "source": [
    "from sklearn.tree import DecisionTreeClassifier  \n",
    "dt = DecisionTreeClassifier(max_depth=16,random_state = 100)  \n",
    "dt.fit(X_train, y_train)"
   ]
  },
  {
   "cell_type": "code",
   "execution_count": 110,
   "id": "6477c377",
   "metadata": {},
   "outputs": [
    {
     "name": "stdout",
     "output_type": "stream",
     "text": [
      "Training Score in DT:= 0.9905517968615889\n",
      "Test Score in DT:= 0.9871158681768619\n"
     ]
    }
   ],
   "source": [
    "print(\"Training Score in DT:=\",accuracy_score(y_train,dt.predict(X_train)))\n",
    "print(\"Test Score in DT:=\",accuracy_score(y_test,dt.predict(X_test)))"
   ]
  },
  {
   "cell_type": "code",
   "execution_count": 111,
   "id": "982a05f2",
   "metadata": {},
   "outputs": [],
   "source": [
    "y_pred_dt = dt.predict(X_test)"
   ]
  },
  {
   "cell_type": "code",
   "execution_count": 112,
   "id": "74f0132c",
   "metadata": {},
   "outputs": [
    {
     "name": "stdout",
     "output_type": "stream",
     "text": [
      "0.9871158681768619\n",
      "0.012884131823138032\n",
      "0.11350828966704604\n"
     ]
    }
   ],
   "source": [
    "print(accuracy_score(y_test,y_pred_dt))\n",
    "print(mean_absolute_error(y_test,y_pred_dt))\n",
    "print(np.sqrt(mean_squared_error(y_test,y_pred_dt)))"
   ]
  },
  {
   "cell_type": "code",
   "execution_count": 113,
   "id": "10f68b67",
   "metadata": {},
   "outputs": [
    {
     "data": {
      "image/png": "[encoded data removed]",
      "text/plain": [
       "<Figure size 432x288 with 2 Axes>"
      ]
     },
     "metadata": {
      "needs_background": "light"
     },
     "output_type": "display_data"
    }
   ],
   "source": [
    "# Calculate the confusion matrix\n",
    "from sklearn.metrics import roc_auc_score, roc_curve, confusion_matrix, classification_report\n",
    "confusion_matrix = metrics.confusion_matrix(y_test, y_pred_dt)\n",
    "cm_display = metrics.ConfusionMatrixDisplay(confusion_matrix = confusion_matrix, display_labels = [0,1])\n",
    "cm_display.plot()\n",
    "plt.show()"
   ]
  },
  {
   "cell_type": "code",
   "execution_count": 114,
   "id": "00bd9f28",
   "metadata": {},
   "outputs": [
    {
     "name": "stdout",
     "output_type": "stream",
     "text": [
      "              precision    recall  f1-score   support\n",
      "\n",
      "           0       0.99      1.00      0.99    309420\n",
      "           1       0.74      0.33      0.45      5153\n",
      "\n",
      "    accuracy                           0.99    314573\n",
      "   macro avg       0.87      0.66      0.72    314573\n",
      "weighted avg       0.98      0.99      0.98    314573\n",
      "\n"
     ]
    }
   ],
   "source": [
    "# Calculate the classification report\n",
    "print(classification_report(y_test,y_pred_dt))"
   ]
  },
  {
   "cell_type": "code",
   "execution_count": 115,
   "id": "c353bea7",
   "metadata": {},
   "outputs": [
    {
     "name": "stdout",
     "output_type": "stream",
     "text": [
      "0.6626470899279161\n"
     ]
    }
   ],
   "source": [
    "# Calculate roc_auc_score\n",
    "roc_auc_dt=(roc_auc_score(y_test, y_pred_dt))\n",
    "print(roc_auc_dt)"
   ]
  },
  {
   "cell_type": "markdown",
   "id": "de48b1f7",
   "metadata": {},
   "source": [
    "# KNN"
   ]
  },
  {
   "cell_type": "code",
   "execution_count": 117,
   "id": "b9bf4a83",
   "metadata": {},
   "outputs": [],
   "source": [
    "from sklearn.neighbors import KNeighborsClassifier"
   ]
  },
  {
   "cell_type": "code",
   "execution_count": 121,
   "id": "123d38f0",
   "metadata": {},
   "outputs": [
    {
     "ename": "KeyboardInterrupt",
     "evalue": "",
     "output_type": "error",
     "traceback": [
      "\u001b[1;31m---------------------------------------------------------------------------\u001b[0m",
      "\u001b[1;31mKeyboardInterrupt\u001b[0m                         Traceback (most recent call last)",
      "Input \u001b[1;32mIn [121]\u001b[0m, in \u001b[0;36m<cell line: 6>\u001b[1;34m()\u001b[0m\n\u001b[0;32m      9\u001b[0m clf\u001b[38;5;241m.\u001b[39mfit(X_train, y_train)\n\u001b[0;32m     10\u001b[0m \u001b[38;5;66;03m# record training set accuracy\u001b[39;00m\n\u001b[1;32m---> 11\u001b[0m training_accuracy\u001b[38;5;241m.\u001b[39mappend(\u001b[43mclf\u001b[49m\u001b[38;5;241;43m.\u001b[39;49m\u001b[43mscore\u001b[49m\u001b[43m(\u001b[49m\u001b[43mX_train\u001b[49m\u001b[43m,\u001b[49m\u001b[43m \u001b[49m\u001b[43my_train\u001b[49m\u001b[43m)\u001b[49m)\n\u001b[0;32m     12\u001b[0m \u001b[38;5;66;03m# record generalization accuracy\u001b[39;00m\n\u001b[0;32m     13\u001b[0m test_accuracy\u001b[38;5;241m.\u001b[39mappend(clf\u001b[38;5;241m.\u001b[39mscore(X_test, y_test))\n",
      "File \u001b[1;32m~\\anaconda3\\lib\\site-packages\\sklearn\\base.py:666\u001b[0m, in \u001b[0;36mClassifierMixin.score\u001b[1;34m(self, X, y, sample_weight)\u001b[0m\n\u001b[0;32m    641\u001b[0m \u001b[38;5;124;03m\"\"\"\u001b[39;00m\n\u001b[0;32m    642\u001b[0m \u001b[38;5;124;03mReturn the mean accuracy on the given test data and labels.\u001b[39;00m\n\u001b[0;32m    643\u001b[0m \n\u001b[1;32m   (...)\u001b[0m\n\u001b[0;32m    662\u001b[0m \u001b[38;5;124;03m    Mean accuracy of ``self.predict(X)`` wrt. `y`.\u001b[39;00m\n\u001b[0;32m    663\u001b[0m \u001b[38;5;124;03m\"\"\"\u001b[39;00m\n\u001b[0;32m    664\u001b[0m \u001b[38;5;28;01mfrom\u001b[39;00m \u001b[38;5;21;01m.\u001b[39;00m\u001b[38;5;21;01mmetrics\u001b[39;00m \u001b[38;5;28;01mimport\u001b[39;00m accuracy_score\n\u001b[1;32m--> 666\u001b[0m \u001b[38;5;28;01mreturn\u001b[39;00m accuracy_score(y, \u001b[38;5;28;43mself\u001b[39;49m\u001b[38;5;241;43m.\u001b[39;49m\u001b[43mpredict\u001b[49m\u001b[43m(\u001b[49m\u001b[43mX\u001b[49m\u001b[43m)\u001b[49m, sample_weight\u001b[38;5;241m=\u001b[39msample_weight)\n",
      "File \u001b[1;32m~\\anaconda3\\lib\\site-packages\\sklearn\\neighbors\\_classification.py:226\u001b[0m, in \u001b[0;36mKNeighborsClassifier.predict\u001b[1;34m(self, X)\u001b[0m\n\u001b[0;32m    210\u001b[0m \u001b[38;5;124;03m\"\"\"Predict the class labels for the provided data.\u001b[39;00m\n\u001b[0;32m    211\u001b[0m \n\u001b[0;32m    212\u001b[0m \u001b[38;5;124;03mParameters\u001b[39;00m\n\u001b[1;32m   (...)\u001b[0m\n\u001b[0;32m    221\u001b[0m \u001b[38;5;124;03m    Class labels for each data sample.\u001b[39;00m\n\u001b[0;32m    222\u001b[0m \u001b[38;5;124;03m\"\"\"\u001b[39;00m\n\u001b[0;32m    223\u001b[0m \u001b[38;5;28;01mif\u001b[39;00m \u001b[38;5;28mself\u001b[39m\u001b[38;5;241m.\u001b[39mweights \u001b[38;5;241m==\u001b[39m \u001b[38;5;124m\"\u001b[39m\u001b[38;5;124muniform\u001b[39m\u001b[38;5;124m\"\u001b[39m:\n\u001b[0;32m    224\u001b[0m     \u001b[38;5;66;03m# In that case, we do not need the distances to perform\u001b[39;00m\n\u001b[0;32m    225\u001b[0m     \u001b[38;5;66;03m# the weighting so we do not compute them.\u001b[39;00m\n\u001b[1;32m--> 226\u001b[0m     neigh_ind \u001b[38;5;241m=\u001b[39m \u001b[38;5;28;43mself\u001b[39;49m\u001b[38;5;241;43m.\u001b[39;49m\u001b[43mkneighbors\u001b[49m\u001b[43m(\u001b[49m\u001b[43mX\u001b[49m\u001b[43m,\u001b[49m\u001b[43m \u001b[49m\u001b[43mreturn_distance\u001b[49m\u001b[38;5;241;43m=\u001b[39;49m\u001b[38;5;28;43;01mFalse\u001b[39;49;00m\u001b[43m)\u001b[49m\n\u001b[0;32m    227\u001b[0m     neigh_dist \u001b[38;5;241m=\u001b[39m \u001b[38;5;28;01mNone\u001b[39;00m\n\u001b[0;32m    228\u001b[0m \u001b[38;5;28;01melse\u001b[39;00m:\n",
      "File \u001b[1;32m~\\anaconda3\\lib\\site-packages\\sklearn\\neighbors\\_base.py:763\u001b[0m, in \u001b[0;36mKNeighborsMixin.kneighbors\u001b[1;34m(self, X, n_neighbors, return_distance)\u001b[0m\n\u001b[0;32m    756\u001b[0m use_pairwise_distances_reductions \u001b[38;5;241m=\u001b[39m (\n\u001b[0;32m    757\u001b[0m     \u001b[38;5;28mself\u001b[39m\u001b[38;5;241m.\u001b[39m_fit_method \u001b[38;5;241m==\u001b[39m \u001b[38;5;124m\"\u001b[39m\u001b[38;5;124mbrute\u001b[39m\u001b[38;5;124m\"\u001b[39m\n\u001b[0;32m    758\u001b[0m     \u001b[38;5;129;01mand\u001b[39;00m PairwiseDistancesArgKmin\u001b[38;5;241m.\u001b[39mis_usable_for(\n\u001b[0;32m    759\u001b[0m         X \u001b[38;5;28;01mif\u001b[39;00m X \u001b[38;5;129;01mis\u001b[39;00m \u001b[38;5;129;01mnot\u001b[39;00m \u001b[38;5;28;01mNone\u001b[39;00m \u001b[38;5;28;01melse\u001b[39;00m \u001b[38;5;28mself\u001b[39m\u001b[38;5;241m.\u001b[39m_fit_X, \u001b[38;5;28mself\u001b[39m\u001b[38;5;241m.\u001b[39m_fit_X, \u001b[38;5;28mself\u001b[39m\u001b[38;5;241m.\u001b[39meffective_metric_\n\u001b[0;32m    760\u001b[0m     )\n\u001b[0;32m    761\u001b[0m )\n\u001b[0;32m    762\u001b[0m \u001b[38;5;28;01mif\u001b[39;00m use_pairwise_distances_reductions:\n\u001b[1;32m--> 763\u001b[0m     results \u001b[38;5;241m=\u001b[39m \u001b[43mPairwiseDistancesArgKmin\u001b[49m\u001b[38;5;241;43m.\u001b[39;49m\u001b[43mcompute\u001b[49m\u001b[43m(\u001b[49m\n\u001b[0;32m    764\u001b[0m \u001b[43m        \u001b[49m\u001b[43mX\u001b[49m\u001b[38;5;241;43m=\u001b[39;49m\u001b[43mX\u001b[49m\u001b[43m,\u001b[49m\n\u001b[0;32m    765\u001b[0m \u001b[43m        \u001b[49m\u001b[43mY\u001b[49m\u001b[38;5;241;43m=\u001b[39;49m\u001b[38;5;28;43mself\u001b[39;49m\u001b[38;5;241;43m.\u001b[39;49m\u001b[43m_fit_X\u001b[49m\u001b[43m,\u001b[49m\n\u001b[0;32m    766\u001b[0m \u001b[43m        \u001b[49m\u001b[43mk\u001b[49m\u001b[38;5;241;43m=\u001b[39;49m\u001b[43mn_neighbors\u001b[49m\u001b[43m,\u001b[49m\n\u001b[0;32m    767\u001b[0m \u001b[43m        \u001b[49m\u001b[43mmetric\u001b[49m\u001b[38;5;241;43m=\u001b[39;49m\u001b[38;5;28;43mself\u001b[39;49m\u001b[38;5;241;43m.\u001b[39;49m\u001b[43meffective_metric_\u001b[49m\u001b[43m,\u001b[49m\n\u001b[0;32m    768\u001b[0m \u001b[43m        \u001b[49m\u001b[43mmetric_kwargs\u001b[49m\u001b[38;5;241;43m=\u001b[39;49m\u001b[38;5;28;43mself\u001b[39;49m\u001b[38;5;241;43m.\u001b[39;49m\u001b[43meffective_metric_params_\u001b[49m\u001b[43m,\u001b[49m\n\u001b[0;32m    769\u001b[0m \u001b[43m        \u001b[49m\u001b[43mstrategy\u001b[49m\u001b[38;5;241;43m=\u001b[39;49m\u001b[38;5;124;43m\"\u001b[39;49m\u001b[38;5;124;43mauto\u001b[39;49m\u001b[38;5;124;43m\"\u001b[39;49m\u001b[43m,\u001b[49m\n\u001b[0;32m    770\u001b[0m \u001b[43m        \u001b[49m\u001b[43mreturn_distance\u001b[49m\u001b[38;5;241;43m=\u001b[39;49m\u001b[43mreturn_distance\u001b[49m\u001b[43m,\u001b[49m\n\u001b[0;32m    771\u001b[0m \u001b[43m    \u001b[49m\u001b[43m)\u001b[49m\n\u001b[0;32m    773\u001b[0m \u001b[38;5;28;01melif\u001b[39;00m (\n\u001b[0;32m    774\u001b[0m     \u001b[38;5;28mself\u001b[39m\u001b[38;5;241m.\u001b[39m_fit_method \u001b[38;5;241m==\u001b[39m \u001b[38;5;124m\"\u001b[39m\u001b[38;5;124mbrute\u001b[39m\u001b[38;5;124m\"\u001b[39m \u001b[38;5;129;01mand\u001b[39;00m \u001b[38;5;28mself\u001b[39m\u001b[38;5;241m.\u001b[39mmetric \u001b[38;5;241m==\u001b[39m \u001b[38;5;124m\"\u001b[39m\u001b[38;5;124mprecomputed\u001b[39m\u001b[38;5;124m\"\u001b[39m \u001b[38;5;129;01mand\u001b[39;00m issparse(X)\n\u001b[0;32m    775\u001b[0m ):\n\u001b[0;32m    776\u001b[0m     results \u001b[38;5;241m=\u001b[39m _kneighbors_from_graph(\n\u001b[0;32m    777\u001b[0m         X, n_neighbors\u001b[38;5;241m=\u001b[39mn_neighbors, return_distance\u001b[38;5;241m=\u001b[39mreturn_distance\n\u001b[0;32m    778\u001b[0m     )\n",
      "File \u001b[1;32msklearn\\metrics\\_pairwise_distances_reduction.pyx:698\u001b[0m, in \u001b[0;36msklearn.metrics._pairwise_distances_reduction.PairwiseDistancesArgKmin.compute\u001b[1;34m()\u001b[0m\n",
      "File \u001b[1;32m~\\anaconda3\\lib\\site-packages\\threadpoolctl.py:176\u001b[0m, in \u001b[0;36mthreadpool_limits.__exit__\u001b[1;34m(self, type, value, traceback)\u001b[0m\n\u001b[0;32m    173\u001b[0m \u001b[38;5;28;01mdef\u001b[39;00m \u001b[38;5;21m__enter__\u001b[39m(\u001b[38;5;28mself\u001b[39m):\n\u001b[0;32m    174\u001b[0m     \u001b[38;5;28;01mreturn\u001b[39;00m \u001b[38;5;28mself\u001b[39m\n\u001b[1;32m--> 176\u001b[0m \u001b[38;5;28;01mdef\u001b[39;00m \u001b[38;5;21m__exit__\u001b[39m(\u001b[38;5;28mself\u001b[39m, \u001b[38;5;28mtype\u001b[39m, value, traceback):\n\u001b[0;32m    177\u001b[0m     \u001b[38;5;28mself\u001b[39m\u001b[38;5;241m.\u001b[39munregister()\n\u001b[0;32m    179\u001b[0m \u001b[38;5;28;01mdef\u001b[39;00m \u001b[38;5;21munregister\u001b[39m(\u001b[38;5;28mself\u001b[39m):\n",
      "\u001b[1;31mKeyboardInterrupt\u001b[0m: "
     ]
    }
   ],
   "source": [
    "#Choosing optimal value of  k \n",
    "training_accuracy = []\n",
    "test_accuracy = []\n",
    "# try n_neighbors from 1 to 15.\n",
    "neighbors_settings = range(1, 16)\n",
    "for n_neighbors in neighbors_settings:\n",
    "    # build the model\n",
    "    clf = KNeighborsClassifier(n_neighbors=n_neighbors)\n",
    "    clf.fit(X_train, y_train)\n",
    "    # record training set accuracy\n",
    "    training_accuracy.append(clf.score(X_train, y_train))\n",
    "    # record generalization accuracy\n",
    "    test_accuracy.append(clf.score(X_test, y_test))\n",
    "    print('The Training Accuracy for k {} is:'.format(n_neighbors), clf.score(X_test,y_test))\n",
    "    print('The Validation Accuracy for k {} is:'.format(n_neighbors), clf.score(X_test,y_test))\n",
    "    print('')\n",
    "plt.plot(neighbors_settings, training_accuracy, label=\"training accuracy\")\n",
    "plt.plot(neighbors_settings, test_accuracy, label=\"test accuracy\")\n",
    "plt.legend()"
   ]
  },
  {
   "cell_type": "code",
   "execution_count": 118,
   "id": "5464522f",
   "metadata": {},
   "outputs": [
    {
     "data": {
      "text/html": [
       "<style>#sk-container-id-7 {color: black;background-color: white;}#sk-container-id-7 pre{padding: 0;}#sk-container-id-7 div.sk-toggleable {background-color: white;}#sk-container-id-7 label.sk-toggleable__label {cursor: pointer;display: block;width: 100%;margin-bottom: 0;padding: 0.3em;box-sizing: border-box;text-align: center;}#sk-container-id-7 label.sk-toggleable__label-arrow:before {content: \"▸\";float: left;margin-right: 0.25em;color: #696969;}#sk-container-id-7 label.sk-toggleable__label-arrow:hover:before {color: black;}#sk-container-id-7 div.sk-estimator:hover label.sk-toggleable__label-arrow:before {color: black;}#sk-container-id-7 div.sk-toggleable__content {max-height: 0;max-width: 0;overflow: hidden;text-align: left;background-color: #f0f8ff;}#sk-container-id-7 div.sk-toggleable__content pre {margin: 0.2em;color: black;border-radius: 0.25em;background-color: #f0f8ff;}#sk-container-id-7 input.sk-toggleable__control:checked~div.sk-toggleable__content {max-height: 200px;max-width: 100%;overflow: auto;}#sk-container-id-7 input.sk-toggleable__control:checked~label.sk-toggleable__label-arrow:before {content: \"▾\";}#sk-container-id-7 div.sk-estimator input.sk-toggleable__control:checked~label.sk-toggleable__label {background-color: #d4ebff;}#sk-container-id-7 div.sk-label input.sk-toggleable__control:checked~label.sk-toggleable__label {background-color: #d4ebff;}#sk-container-id-7 input.sk-hidden--visually {border: 0;clip: rect(1px 1px 1px 1px);clip: rect(1px, 1px, 1px, 1px);height: 1px;margin: -1px;overflow: hidden;padding: 0;position: absolute;width: 1px;}#sk-container-id-7 div.sk-estimator {font-family: monospace;background-color: #f0f8ff;border: 1px dotted black;border-radius: 0.25em;box-sizing: border-box;margin-bottom: 0.5em;}#sk-container-id-7 div.sk-estimator:hover {background-color: #d4ebff;}#sk-container-id-7 div.sk-parallel-item::after {content: \"\";width: 100%;border-bottom: 1px solid gray;flex-grow: 1;}#sk-container-id-7 div.sk-label:hover label.sk-toggleable__label {background-color: #d4ebff;}#sk-container-id-7 div.sk-serial::before {content: \"\";position: absolute;border-left: 1px solid gray;box-sizing: border-box;top: 0;bottom: 0;left: 50%;z-index: 0;}#sk-container-id-7 div.sk-serial {display: flex;flex-direction: column;align-items: center;background-color: white;padding-right: 0.2em;padding-left: 0.2em;position: relative;}#sk-container-id-7 div.sk-item {position: relative;z-index: 1;}#sk-container-id-7 div.sk-parallel {display: flex;align-items: stretch;justify-content: center;background-color: white;position: relative;}#sk-container-id-7 div.sk-item::before, #sk-container-id-7 div.sk-parallel-item::before {content: \"\";position: absolute;border-left: 1px solid gray;box-sizing: border-box;top: 0;bottom: 0;left: 50%;z-index: -1;}#sk-container-id-7 div.sk-parallel-item {display: flex;flex-direction: column;z-index: 1;position: relative;background-color: white;}#sk-container-id-7 div.sk-parallel-item:first-child::after {align-self: flex-end;width: 50%;}#sk-container-id-7 div.sk-parallel-item:last-child::after {align-self: flex-start;width: 50%;}#sk-container-id-7 div.sk-parallel-item:only-child::after {width: 0;}#sk-container-id-7 div.sk-dashed-wrapped {border: 1px dashed gray;margin: 0 0.4em 0.5em 0.4em;box-sizing: border-box;padding-bottom: 0.4em;background-color: white;}#sk-container-id-7 div.sk-label label {font-family: monospace;font-weight: bold;display: inline-block;line-height: 1.2em;}#sk-container-id-7 div.sk-label-container {text-align: center;}#sk-container-id-7 div.sk-container {/* jupyter's `normalize.less` sets `[hidden] { display: none; }` but bootstrap.min.css set `[hidden] { display: none !important; }` so we also need the `!important` here to be able to override the default hidden behavior on the sphinx rendered scikit-learn.org. See: https://github.com/scikit-learn/scikit-learn/issues/21755 */display: inline-block !important;position: relative;}#sk-container-id-7 div.sk-text-repr-fallback {display: none;}</style><div id=\"sk-container-id-7\" class=\"sk-top-container\"><div class=\"sk-text-repr-fallback\"><pre>KNeighborsClassifier(n_neighbors=3)</pre><b>In a Jupyter environment, please rerun this cell to show the HTML representation or trust the notebook. <br />On GitHub, the HTML representation is unable to render, please try loading this page with nbviewer.org.</b></div><div class=\"sk-container\" hidden><div class=\"sk-item\"><div class=\"sk-estimator sk-toggleable\"><input class=\"sk-toggleable__control sk-hidden--visually\" id=\"sk-estimator-id-7\" type=\"checkbox\" checked><label for=\"sk-estimator-id-7\" class=\"sk-toggleable__label sk-toggleable__label-arrow\">KNeighborsClassifier</label><div class=\"sk-toggleable__content\"><pre>KNeighborsClassifier(n_neighbors=3)</pre></div></div></div></div></div>"
      ],
      "text/plain": [
       "KNeighborsClassifier(n_neighbors=3)"
      ]
     },
     "execution_count": 118,
     "metadata": {},
     "output_type": "execute_result"
    }
   ],
   "source": [
    "knn = KNeighborsClassifier(n_neighbors = 3)\n",
    "knn.fit(X_train, y_train)"
   ]
  },
  {
   "cell_type": "code",
   "execution_count": null,
   "id": "a5a307bd",
   "metadata": {},
   "outputs": [],
   "source": []
  },
  {
   "cell_type": "code",
   "execution_count": 119,
   "id": "b263e49b",
   "metadata": {},
   "outputs": [
    {
     "name": "stdout",
     "output_type": "stream",
     "text": [
      "Training Score in KNN:= 0.9863351870975828\n",
      "Test Score in KNN:= 0.9824524037345862\n"
     ]
    }
   ],
   "source": [
    "print(\"Training Score in KNN:=\",accuracy_score(y_train,knn.predict(X_train)))\n",
    "print(\"Test Score in KNN:=\",accuracy_score(y_test,knn.predict(X_test)))"
   ]
  },
  {
   "cell_type": "code",
   "execution_count": 120,
   "id": "c6cd5b98",
   "metadata": {},
   "outputs": [],
   "source": [
    "y_pred_knn = knn.predict(X_test)"
   ]
  },
  {
   "cell_type": "code",
   "execution_count": 121,
   "id": "0ea9eca2",
   "metadata": {},
   "outputs": [
    {
     "name": "stdout",
     "output_type": "stream",
     "text": [
      "0.9824524037345862\n",
      "0.017547596265413752\n",
      "0.13246734037268867\n"
     ]
    }
   ],
   "source": [
    "print(accuracy_score(y_test,y_pred_knn))\n",
    "print(mean_absolute_error(y_test,y_pred_knn))\n",
    "print(np.sqrt(mean_squared_error(y_test,y_pred_knn)))"
   ]
  },
  {
   "cell_type": "code",
   "execution_count": 122,
   "id": "e03404fc",
   "metadata": {},
   "outputs": [
    {
     "data": {
      "image/png": "[encoded data removed]",
      "text/plain": [
       "<Figure size 432x288 with 2 Axes>"
      ]
     },
     "metadata": {
      "needs_background": "light"
     },
     "output_type": "display_data"
    }
   ],
   "source": [
    "# Calculate the confusion matrix\n",
    "from sklearn.metrics import roc_auc_score, roc_curve, confusion_matrix, classification_report\n",
    "confusion_matrix = metrics.confusion_matrix(y_test, y_pred_knn)\n",
    "cm_display = metrics.ConfusionMatrixDisplay(confusion_matrix = confusion_matrix, display_labels = [0,1])\n",
    "cm_display.plot()\n",
    "plt.show()"
   ]
  },
  {
   "cell_type": "code",
   "execution_count": 123,
   "id": "92a048df",
   "metadata": {},
   "outputs": [
    {
     "name": "stdout",
     "output_type": "stream",
     "text": [
      "              precision    recall  f1-score   support\n",
      "\n",
      "           0       0.98      1.00      0.99    309420\n",
      "           1       0.35      0.08      0.13      5153\n",
      "\n",
      "    accuracy                           0.98    314573\n",
      "   macro avg       0.67      0.54      0.56    314573\n",
      "weighted avg       0.97      0.98      0.98    314573\n",
      "\n"
     ]
    }
   ],
   "source": [
    "# Calculate the classification report\n",
    "print(classification_report(y_test,y_pred_knn))"
   ]
  },
  {
   "cell_type": "code",
   "execution_count": 124,
   "id": "1e51ca2b",
   "metadata": {},
   "outputs": [
    {
     "name": "stdout",
     "output_type": "stream",
     "text": [
      "0.5401491297333839\n"
     ]
    }
   ],
   "source": [
    "# Calculate roc_auc_score\n",
    "roc_auc_knn=(roc_auc_score(y_test, y_pred_knn))\n",
    "print(roc_auc_knn)"
   ]
  },
  {
   "cell_type": "code",
   "execution_count": null,
   "id": "c517cf89",
   "metadata": {},
   "outputs": [],
   "source": []
  },
  {
   "cell_type": "markdown",
   "id": "bc7ffb43",
   "metadata": {},
   "source": [
    "# ROC-AUC CURVE"
   ]
  },
  {
   "cell_type": "code",
   "execution_count": 125,
   "id": "cfd79600",
   "metadata": {},
   "outputs": [
    {
     "data": {
      "image/png": "[encoded data removed]",
      "text/plain": [
       "<Figure size 1500x1500 with 1 Axes>"
      ]
     },
     "metadata": {},
     "output_type": "display_data"
    }
   ],
   "source": [
    "plt.style.use('seaborn')\n",
    "fpr_lr, tpr_lr, thresh1 = roc_curve(y_test, y_pred_lr)\n",
    "fpr_nb, tpr_nb, thresh2 = roc_curve(y_test, y_pred_nb)\n",
    "fpr_dt, tpr_dt, thresh3 = roc_curve(y_test, y_pred_dt)\n",
    "fpr_knn, tpr_knn, thresh4 = roc_curve(y_test, y_pred_knn)\n",
    "# plot roc curves\n",
    "plt.figure(figsize=(10, 10),dpi=150)\n",
    "plt.plot(fpr_lr, tpr_lr, linestyle='--',color='green', label='LogisticRegression(roc_auc_lr = %0.3f)' % roc_auc_lr)\n",
    "plt.plot(fpr_nb, tpr_nb, linestyle='--',color='red', label='NaiveBayes(roc_auc_nb = %0.3f)' % roc_auc_nb)\n",
    "plt.plot(fpr_dt, tpr_dt, linestyle='--',color='blue', label='Decision Tree(roc_auc_dt = %0.3f)' % roc_auc_dt)\n",
    "plt.plot(fpr_knn, tpr_knn, linestyle='--',color='orange', label='KNN(roc_auc_knn = %0.3f)' % roc_auc_knn)\n",
    "\n",
    "# title\n",
    "plt.title('ROC curve')\n",
    "# x label\n",
    "plt.xlabel('False Positive Rate')\n",
    "# y label\n",
    "plt.ylabel('True Positive rate')\n",
    "\n",
    "plt.legend(loc='best')\n",
    "plt.show()"
   ]
  },
  {
   "cell_type": "markdown",
   "id": "c076369b",
   "metadata": {},
   "source": [
    "# BALANCING THE DATASET"
   ]
  },
  {
   "cell_type": "code",
   "execution_count": 126,
   "id": "9133ed58",
   "metadata": {},
   "outputs": [
    {
     "data": {
      "text/plain": [
       "0    1031528\n",
       "1      17047\n",
       "Name: Cancelled, dtype: int64"
      ]
     },
     "execution_count": 126,
     "metadata": {},
     "output_type": "execute_result"
    }
   ],
   "source": [
    "cancel_final[\"Cancelled\"].value_counts()"
   ]
  },
  {
   "cell_type": "code",
   "execution_count": 128,
   "id": "6fb98a16",
   "metadata": {},
   "outputs": [
    {
     "data": {
      "image/png": "[encoded data removed]",
      "text/plain": [
       "<Figure size 576x396 with 1 Axes>"
      ]
     },
     "metadata": {},
     "output_type": "display_data"
    }
   ],
   "source": [
    "import seaborn as sns\n",
    "sns.countplot(x='Cancelled',data=cancel_final)\n",
    "plt.show()"
   ]
  },
  {
   "cell_type": "code",
   "execution_count": 129,
   "id": "986ba771",
   "metadata": {},
   "outputs": [],
   "source": [
    "from collections import Counter\n",
    "from sklearn.datasets import make_classification\n",
    "from imblearn.under_sampling import RandomUnderSampler\n",
    "from imblearn.under_sampling import NearMiss"
   ]
  },
  {
   "cell_type": "code",
   "execution_count": 130,
   "id": "b62e666c",
   "metadata": {},
   "outputs": [
    {
     "name": "stdout",
     "output_type": "stream",
     "text": [
      "(34094, 12) (34094,)\n"
     ]
    }
   ],
   "source": [
    "# instantiating the random undersampler\n",
    "res = NearMiss() \n",
    "\n",
    "# resampling X, y\n",
    "X_res, y_res = res.fit_resample(X,y)\n",
    "print(X_res.shape,y_res.shape)"
   ]
  },
  {
   "cell_type": "code",
   "execution_count": 131,
   "id": "70556820",
   "metadata": {},
   "outputs": [
    {
     "name": "stdout",
     "output_type": "stream",
     "text": [
      "Original dataset shape: Counter({0: 1031528, 1: 17047})\n",
      "Resampled dataset shape: Counter({0: 17047, 1: 17047})\n"
     ]
    }
   ],
   "source": [
    "print(\"Original dataset shape:\",format(Counter(y)))\n",
    "print(\"Resampled dataset shape:\",format(Counter(y_res)))"
   ]
  },
  {
   "cell_type": "markdown",
   "id": "4d3369a1",
   "metadata": {},
   "source": [
    "# REAPPLYING THE MODELS ON THE BALANCED DATASET"
   ]
  },
  {
   "cell_type": "markdown",
   "id": "723b1849",
   "metadata": {},
   "source": [
    "# 1>LOGISTIC REGRESSION"
   ]
  },
  {
   "cell_type": "code",
   "execution_count": 132,
   "id": "f77a4cbc",
   "metadata": {},
   "outputs": [],
   "source": [
    "# Splitting into train and test data set\n",
    "from sklearn.model_selection import train_test_split\n",
    "X_train,X_test,y_train,y_test = train_test_split(X_res,y_res,test_size=0.30,random_state=None)"
   ]
  },
  {
   "cell_type": "code",
   "execution_count": 133,
   "id": "03038127",
   "metadata": {},
   "outputs": [],
   "source": [
    "from sklearn.linear_model import LogisticRegression"
   ]
  },
  {
   "cell_type": "code",
   "execution_count": 134,
   "id": "026ea316",
   "metadata": {},
   "outputs": [],
   "source": [
    "from sklearn.metrics import mean_squared_error,mean_absolute_error\n",
    "from sklearn.metrics import accuracy_score"
   ]
  },
  {
   "cell_type": "code",
   "execution_count": 135,
   "id": "09d9f93d",
   "metadata": {},
   "outputs": [],
   "source": [
    "lr=LogisticRegression()"
   ]
  },
  {
   "cell_type": "code",
   "execution_count": 136,
   "id": "c3846b56",
   "metadata": {},
   "outputs": [
    {
     "name": "stderr",
     "output_type": "stream",
     "text": [
      "C:\\Users\\rauna\\anaconda3\\lib\\site-packages\\sklearn\\linear_model\\_logistic.py:444: ConvergenceWarning: lbfgs failed to converge (status=1):\n",
      "STOP: TOTAL NO. of ITERATIONS REACHED LIMIT.\n",
      "\n",
      "Increase the number of iterations (max_iter) or scale the data as shown in:\n",
      "    https://scikit-learn.org/stable/modules/preprocessing.html\n",
      "Please also refer to the documentation for alternative solver options:\n",
      "    https://scikit-learn.org/stable/modules/linear_model.html#logistic-regression\n",
      "  n_iter_i = _check_optimize_result(\n"
     ]
    },
    {
     "data": {
      "text/html": [
       "<style>#sk-container-id-8 {color: black;background-color: white;}#sk-container-id-8 pre{padding: 0;}#sk-container-id-8 div.sk-toggleable {background-color: white;}#sk-container-id-8 label.sk-toggleable__label {cursor: pointer;display: block;width: 100%;margin-bottom: 0;padding: 0.3em;box-sizing: border-box;text-align: center;}#sk-container-id-8 label.sk-toggleable__label-arrow:before {content: \"▸\";float: left;margin-right: 0.25em;color: #696969;}#sk-container-id-8 label.sk-toggleable__label-arrow:hover:before {color: black;}#sk-container-id-8 div.sk-estimator:hover label.sk-toggleable__label-arrow:before {color: black;}#sk-container-id-8 div.sk-toggleable__content {max-height: 0;max-width: 0;overflow: hidden;text-align: left;background-color: #f0f8ff;}#sk-container-id-8 div.sk-toggleable__content pre {margin: 0.2em;color: black;border-radius: 0.25em;background-color: #f0f8ff;}#sk-container-id-8 input.sk-toggleable__control:checked~div.sk-toggleable__content {max-height: 200px;max-width: 100%;overflow: auto;}#sk-container-id-8 input.sk-toggleable__control:checked~label.sk-toggleable__label-arrow:before {content: \"▾\";}#sk-container-id-8 div.sk-estimator input.sk-toggleable__control:checked~label.sk-toggleable__label {background-color: #d4ebff;}#sk-container-id-8 div.sk-label input.sk-toggleable__control:checked~label.sk-toggleable__label {background-color: #d4ebff;}#sk-container-id-8 input.sk-hidden--visually {border: 0;clip: rect(1px 1px 1px 1px);clip: rect(1px, 1px, 1px, 1px);height: 1px;margin: -1px;overflow: hidden;padding: 0;position: absolute;width: 1px;}#sk-container-id-8 div.sk-estimator {font-family: monospace;background-color: #f0f8ff;border: 1px dotted black;border-radius: 0.25em;box-sizing: border-box;margin-bottom: 0.5em;}#sk-container-id-8 div.sk-estimator:hover {background-color: #d4ebff;}#sk-container-id-8 div.sk-parallel-item::after {content: \"\";width: 100%;border-bottom: 1px solid gray;flex-grow: 1;}#sk-container-id-8 div.sk-label:hover label.sk-toggleable__label {background-color: #d4ebff;}#sk-container-id-8 div.sk-serial::before {content: \"\";position: absolute;border-left: 1px solid gray;box-sizing: border-box;top: 0;bottom: 0;left: 50%;z-index: 0;}#sk-container-id-8 div.sk-serial {display: flex;flex-direction: column;align-items: center;background-color: white;padding-right: 0.2em;padding-left: 0.2em;position: relative;}#sk-container-id-8 div.sk-item {position: relative;z-index: 1;}#sk-container-id-8 div.sk-parallel {display: flex;align-items: stretch;justify-content: center;background-color: white;position: relative;}#sk-container-id-8 div.sk-item::before, #sk-container-id-8 div.sk-parallel-item::before {content: \"\";position: absolute;border-left: 1px solid gray;box-sizing: border-box;top: 0;bottom: 0;left: 50%;z-index: -1;}#sk-container-id-8 div.sk-parallel-item {display: flex;flex-direction: column;z-index: 1;position: relative;background-color: white;}#sk-container-id-8 div.sk-parallel-item:first-child::after {align-self: flex-end;width: 50%;}#sk-container-id-8 div.sk-parallel-item:last-child::after {align-self: flex-start;width: 50%;}#sk-container-id-8 div.sk-parallel-item:only-child::after {width: 0;}#sk-container-id-8 div.sk-dashed-wrapped {border: 1px dashed gray;margin: 0 0.4em 0.5em 0.4em;box-sizing: border-box;padding-bottom: 0.4em;background-color: white;}#sk-container-id-8 div.sk-label label {font-family: monospace;font-weight: bold;display: inline-block;line-height: 1.2em;}#sk-container-id-8 div.sk-label-container {text-align: center;}#sk-container-id-8 div.sk-container {/* jupyter's `normalize.less` sets `[hidden] { display: none; }` but bootstrap.min.css set `[hidden] { display: none !important; }` so we also need the `!important` here to be able to override the default hidden behavior on the sphinx rendered scikit-learn.org. See: https://github.com/scikit-learn/scikit-learn/issues/21755 */display: inline-block !important;position: relative;}#sk-container-id-8 div.sk-text-repr-fallback {display: none;}</style><div id=\"sk-container-id-8\" class=\"sk-top-container\"><div class=\"sk-text-repr-fallback\"><pre>LogisticRegression()</pre><b>In a Jupyter environment, please rerun this cell to show the HTML representation or trust the notebook. <br />On GitHub, the HTML representation is unable to render, please try loading this page with nbviewer.org.</b></div><div class=\"sk-container\" hidden><div class=\"sk-item\"><div class=\"sk-estimator sk-toggleable\"><input class=\"sk-toggleable__control sk-hidden--visually\" id=\"sk-estimator-id-8\" type=\"checkbox\" checked><label for=\"sk-estimator-id-8\" class=\"sk-toggleable__label sk-toggleable__label-arrow\">LogisticRegression</label><div class=\"sk-toggleable__content\"><pre>LogisticRegression()</pre></div></div></div></div></div>"
      ],
      "text/plain": [
       "LogisticRegression()"
      ]
     },
     "execution_count": 136,
     "metadata": {},
     "output_type": "execute_result"
    }
   ],
   "source": [
    "lr.fit(X_train,y_train)"
   ]
  },
  {
   "cell_type": "code",
   "execution_count": 137,
   "id": "b32803d0",
   "metadata": {},
   "outputs": [
    {
     "name": "stdout",
     "output_type": "stream",
     "text": [
      "Training Score in LR:= 0.8896710664152525\n",
      "Test Score in LR:= 0.8901163359077133\n"
     ]
    }
   ],
   "source": [
    "print(\"Training Score in LR:=\",accuracy_score(y_train,lr.predict(X_train)))\n",
    "print(\"Test Score in LR:=\",accuracy_score(y_test,lr.predict(X_test)))"
   ]
  },
  {
   "cell_type": "code",
   "execution_count": 138,
   "id": "a1eb9b6c",
   "metadata": {},
   "outputs": [],
   "source": [
    "y_pred_lr = lr.predict(X_test) "
   ]
  },
  {
   "cell_type": "code",
   "execution_count": 139,
   "id": "5cb609da",
   "metadata": {},
   "outputs": [
    {
     "name": "stdout",
     "output_type": "stream",
     "text": [
      "0.8901163359077133\n",
      "0.10988366409228664\n",
      "0.331487049659993\n"
     ]
    }
   ],
   "source": [
    "print(accuracy_score(y_test,y_pred_lr))\n",
    "print(mean_absolute_error(y_test,y_pred_lr))\n",
    "print(np.sqrt(mean_squared_error(y_test,y_pred_lr)))"
   ]
  },
  {
   "cell_type": "code",
   "execution_count": 140,
   "id": "75c609a2",
   "metadata": {},
   "outputs": [
    {
     "data": {
      "image/png": "[encoded data removed]",
      "text/plain": [
       "<Figure size 576x396 with 2 Axes>"
      ]
     },
     "metadata": {},
     "output_type": "display_data"
    }
   ],
   "source": [
    "# Calculate the confusion matrix\n",
    "from sklearn.metrics import roc_auc_score, roc_curve, confusion_matrix, classification_report\n",
    "from sklearn import metrics\n",
    "confusion_matrix = metrics.confusion_matrix(y_test, y_pred_lr)\n",
    "cm_display = metrics.ConfusionMatrixDisplay(confusion_matrix = confusion_matrix, display_labels = [0,1])\n",
    "cm_display.plot()\n",
    "plt.show()"
   ]
  },
  {
   "cell_type": "code",
   "execution_count": 141,
   "id": "522b906e",
   "metadata": {},
   "outputs": [
    {
     "name": "stdout",
     "output_type": "stream",
     "text": [
      "              precision    recall  f1-score   support\n",
      "\n",
      "           0       0.85      0.95      0.90      5072\n",
      "           1       0.94      0.83      0.88      5157\n",
      "\n",
      "    accuracy                           0.89     10229\n",
      "   macro avg       0.90      0.89      0.89     10229\n",
      "weighted avg       0.90      0.89      0.89     10229\n",
      "\n"
     ]
    }
   ],
   "source": [
    "# Calculate the classification report\n",
    "print(classification_report(y_test,y_pred_lr))"
   ]
  },
  {
   "cell_type": "code",
   "execution_count": 142,
   "id": "533964d9",
   "metadata": {},
   "outputs": [
    {
     "name": "stdout",
     "output_type": "stream",
     "text": [
      "0.8906157001386741\n"
     ]
    }
   ],
   "source": [
    "# Calculate roc_auc_score\n",
    "roc_auc_lr=(roc_auc_score(y_test, y_pred_lr))\n",
    "print(roc_auc_lr)"
   ]
  },
  {
   "cell_type": "markdown",
   "id": "8aee2347",
   "metadata": {},
   "source": [
    "# NAIVE BAYES"
   ]
  },
  {
   "cell_type": "code",
   "execution_count": 143,
   "id": "cea2b42c",
   "metadata": {},
   "outputs": [],
   "source": [
    "from sklearn.naive_bayes import GaussianNB\n",
    "nb=GaussianNB()"
   ]
  },
  {
   "cell_type": "code",
   "execution_count": 144,
   "id": "a2a90c0a",
   "metadata": {},
   "outputs": [
    {
     "data": {
      "text/html": [
       "<style>#sk-container-id-9 {color: black;background-color: white;}#sk-container-id-9 pre{padding: 0;}#sk-container-id-9 div.sk-toggleable {background-color: white;}#sk-container-id-9 label.sk-toggleable__label {cursor: pointer;display: block;width: 100%;margin-bottom: 0;padding: 0.3em;box-sizing: border-box;text-align: center;}#sk-container-id-9 label.sk-toggleable__label-arrow:before {content: \"▸\";float: left;margin-right: 0.25em;color: #696969;}#sk-container-id-9 label.sk-toggleable__label-arrow:hover:before {color: black;}#sk-container-id-9 div.sk-estimator:hover label.sk-toggleable__label-arrow:before {color: black;}#sk-container-id-9 div.sk-toggleable__content {max-height: 0;max-width: 0;overflow: hidden;text-align: left;background-color: #f0f8ff;}#sk-container-id-9 div.sk-toggleable__content pre {margin: 0.2em;color: black;border-radius: 0.25em;background-color: #f0f8ff;}#sk-container-id-9 input.sk-toggleable__control:checked~div.sk-toggleable__content {max-height: 200px;max-width: 100%;overflow: auto;}#sk-container-id-9 input.sk-toggleable__control:checked~label.sk-toggleable__label-arrow:before {content: \"▾\";}#sk-container-id-9 div.sk-estimator input.sk-toggleable__control:checked~label.sk-toggleable__label {background-color: #d4ebff;}#sk-container-id-9 div.sk-label input.sk-toggleable__control:checked~label.sk-toggleable__label {background-color: #d4ebff;}#sk-container-id-9 input.sk-hidden--visually {border: 0;clip: rect(1px 1px 1px 1px);clip: rect(1px, 1px, 1px, 1px);height: 1px;margin: -1px;overflow: hidden;padding: 0;position: absolute;width: 1px;}#sk-container-id-9 div.sk-estimator {font-family: monospace;background-color: #f0f8ff;border: 1px dotted black;border-radius: 0.25em;box-sizing: border-box;margin-bottom: 0.5em;}#sk-container-id-9 div.sk-estimator:hover {background-color: #d4ebff;}#sk-container-id-9 div.sk-parallel-item::after {content: \"\";width: 100%;border-bottom: 1px solid gray;flex-grow: 1;}#sk-container-id-9 div.sk-label:hover label.sk-toggleable__label {background-color: #d4ebff;}#sk-container-id-9 div.sk-serial::before {content: \"\";position: absolute;border-left: 1px solid gray;box-sizing: border-box;top: 0;bottom: 0;left: 50%;z-index: 0;}#sk-container-id-9 div.sk-serial {display: flex;flex-direction: column;align-items: center;background-color: white;padding-right: 0.2em;padding-left: 0.2em;position: relative;}#sk-container-id-9 div.sk-item {position: relative;z-index: 1;}#sk-container-id-9 div.sk-parallel {display: flex;align-items: stretch;justify-content: center;background-color: white;position: relative;}#sk-container-id-9 div.sk-item::before, #sk-container-id-9 div.sk-parallel-item::before {content: \"\";position: absolute;border-left: 1px solid gray;box-sizing: border-box;top: 0;bottom: 0;left: 50%;z-index: -1;}#sk-container-id-9 div.sk-parallel-item {display: flex;flex-direction: column;z-index: 1;position: relative;background-color: white;}#sk-container-id-9 div.sk-parallel-item:first-child::after {align-self: flex-end;width: 50%;}#sk-container-id-9 div.sk-parallel-item:last-child::after {align-self: flex-start;width: 50%;}#sk-container-id-9 div.sk-parallel-item:only-child::after {width: 0;}#sk-container-id-9 div.sk-dashed-wrapped {border: 1px dashed gray;margin: 0 0.4em 0.5em 0.4em;box-sizing: border-box;padding-bottom: 0.4em;background-color: white;}#sk-container-id-9 div.sk-label label {font-family: monospace;font-weight: bold;display: inline-block;line-height: 1.2em;}#sk-container-id-9 div.sk-label-container {text-align: center;}#sk-container-id-9 div.sk-container {/* jupyter's `normalize.less` sets `[hidden] { display: none; }` but bootstrap.min.css set `[hidden] { display: none !important; }` so we also need the `!important` here to be able to override the default hidden behavior on the sphinx rendered scikit-learn.org. See: https://github.com/scikit-learn/scikit-learn/issues/21755 */display: inline-block !important;position: relative;}#sk-container-id-9 div.sk-text-repr-fallback {display: none;}</style><div id=\"sk-container-id-9\" class=\"sk-top-container\"><div class=\"sk-text-repr-fallback\"><pre>GaussianNB()</pre><b>In a Jupyter environment, please rerun this cell to show the HTML representation or trust the notebook. <br />On GitHub, the HTML representation is unable to render, please try loading this page with nbviewer.org.</b></div><div class=\"sk-container\" hidden><div class=\"sk-item\"><div class=\"sk-estimator sk-toggleable\"><input class=\"sk-toggleable__control sk-hidden--visually\" id=\"sk-estimator-id-9\" type=\"checkbox\" checked><label for=\"sk-estimator-id-9\" class=\"sk-toggleable__label sk-toggleable__label-arrow\">GaussianNB</label><div class=\"sk-toggleable__content\"><pre>GaussianNB()</pre></div></div></div></div></div>"
      ],
      "text/plain": [
       "GaussianNB()"
      ]
     },
     "execution_count": 144,
     "metadata": {},
     "output_type": "execute_result"
    }
   ],
   "source": [
    "nb.fit(X_train,y_train)"
   ]
  },
  {
   "cell_type": "code",
   "execution_count": 145,
   "id": "52e87ba3",
   "metadata": {},
   "outputs": [
    {
     "name": "stdout",
     "output_type": "stream",
     "text": [
      "Training Scpre in NB:= 0.8770165514351561\n",
      "Test Score in NB:= 0.8756476683937824\n"
     ]
    }
   ],
   "source": [
    "print(\"Training Scpre in NB:=\",accuracy_score(y_train,nb.predict(X_train)))\n",
    "print(\"Test Score in NB:=\",accuracy_score(y_test,nb.predict(X_test)))"
   ]
  },
  {
   "cell_type": "code",
   "execution_count": 146,
   "id": "b5cc7ce4",
   "metadata": {},
   "outputs": [],
   "source": [
    "y_pred_nb = nb.predict(X_test) "
   ]
  },
  {
   "cell_type": "code",
   "execution_count": 147,
   "id": "934dba20",
   "metadata": {
    "scrolled": true
   },
   "outputs": [
    {
     "name": "stdout",
     "output_type": "stream",
     "text": [
      "0.8756476683937824\n",
      "0.12435233160621761\n",
      "0.35263625963054\n"
     ]
    }
   ],
   "source": [
    "print(accuracy_score(y_test,y_pred_nb))\n",
    "print(mean_absolute_error(y_test,y_pred_nb))\n",
    "print(np.sqrt(mean_squared_error(y_test,y_pred_nb)))"
   ]
  },
  {
   "cell_type": "code",
   "execution_count": 148,
   "id": "27446b30",
   "metadata": {},
   "outputs": [
    {
     "data": {
      "image/png": "[encoded data removed]",
      "text/plain": [
       "<Figure size 576x396 with 2 Axes>"
      ]
     },
     "metadata": {},
     "output_type": "display_data"
    }
   ],
   "source": [
    "# Calculate the confusion matrix\n",
    "from sklearn.metrics import roc_auc_score, roc_curve, confusion_matrix, classification_report\n",
    "confusion_matrix = metrics.confusion_matrix(y_test, y_pred_nb)\n",
    "cm_display = metrics.ConfusionMatrixDisplay(confusion_matrix = confusion_matrix, display_labels = [0,1])\n",
    "cm_display.plot()\n",
    "plt.show()"
   ]
  },
  {
   "cell_type": "code",
   "execution_count": 149,
   "id": "3bd907f1",
   "metadata": {},
   "outputs": [
    {
     "name": "stdout",
     "output_type": "stream",
     "text": [
      "              precision    recall  f1-score   support\n",
      "\n",
      "           0       0.81      0.98      0.89      5072\n",
      "           1       0.98      0.77      0.86      5157\n",
      "\n",
      "    accuracy                           0.88     10229\n",
      "   macro avg       0.89      0.88      0.87     10229\n",
      "weighted avg       0.89      0.88      0.87     10229\n",
      "\n"
     ]
    }
   ],
   "source": [
    "# Calculate the classification report\n",
    "print(classification_report(y_test,y_pred_nb))"
   ]
  },
  {
   "cell_type": "code",
   "execution_count": 150,
   "id": "e09e6c80",
   "metadata": {},
   "outputs": [
    {
     "name": "stdout",
     "output_type": "stream",
     "text": [
      "0.8765229980504892\n"
     ]
    }
   ],
   "source": [
    "# Calculate roc_auc_score\n",
    "roc_auc_nb=(roc_auc_score(y_test, y_pred_nb))\n",
    "print(roc_auc_nb)"
   ]
  },
  {
   "cell_type": "markdown",
   "id": "214460e5",
   "metadata": {},
   "source": [
    "# DECISION TREE CLASSIFIER"
   ]
  },
  {
   "cell_type": "code",
   "execution_count": 151,
   "id": "4d5c0010",
   "metadata": {},
   "outputs": [
    {
     "name": "stdout",
     "output_type": "stream",
     "text": [
      "The Training Accuracy for max_depth 1 is: 0.840100565681961\n",
      "The Validation Accuracy for max_depth 1 is: 0.8371297292012905\n",
      "\n",
      "The Training Accuracy for max_depth 2 is: 0.859543264194427\n",
      "The Validation Accuracy for max_depth 2 is: 0.8517939192491935\n",
      "\n",
      "The Training Accuracy for max_depth 3 is: 0.8623088204483553\n",
      "The Validation Accuracy for max_depth 3 is: 0.8584416854042428\n",
      "\n",
      "The Training Accuracy for max_depth 4 is: 0.8846846846846846\n",
      "The Validation Accuracy for max_depth 4 is: 0.883761853553622\n",
      "\n",
      "The Training Accuracy for max_depth 5 is: 0.8974649067672323\n",
      "The Validation Accuracy for max_depth 5 is: 0.8958842506598885\n",
      "\n",
      "The Training Accuracy for max_depth 6 is: 0.9053425518541798\n",
      "The Validation Accuracy for max_depth 6 is: 0.9010655978101476\n",
      "\n",
      "The Training Accuracy for max_depth 7 is: 0.915021998742929\n",
      "The Validation Accuracy for max_depth 7 is: 0.9111350083097077\n",
      "\n",
      "The Training Accuracy for max_depth 8 is: 0.9226482296249738\n",
      "The Validation Accuracy for max_depth 8 is: 0.9169029230618829\n",
      "\n",
      "The Training Accuracy for max_depth 9 is: 0.9317410433689504\n",
      "The Validation Accuracy for max_depth 9 is: 0.9225730765470721\n",
      "\n",
      "The Training Accuracy for max_depth 10 is: 0.9384035197988686\n",
      "The Validation Accuracy for max_depth 10 is: 0.9234529279499463\n",
      "\n",
      "The Training Accuracy for max_depth 11 is: 0.9464906767232348\n",
      "The Validation Accuracy for max_depth 11 is: 0.9268745722944569\n",
      "\n",
      "The Training Accuracy for max_depth 12 is: 0.9527760318457993\n",
      "The Validation Accuracy for max_depth 12 is: 0.9282432300322612\n",
      "\n",
      "The Training Accuracy for max_depth 13 is: 0.9590613869683637\n",
      "The Validation Accuracy for max_depth 13 is: 0.9333268159155342\n",
      "\n",
      "The Training Accuracy for max_depth 14 is: 0.9628745024093861\n",
      "The Validation Accuracy for max_depth 14 is: 0.9313715905758139\n",
      "\n",
      "The Training Accuracy for max_depth 15 is: 0.9662685941755709\n",
      "The Validation Accuracy for max_depth 15 is: 0.931860396910744\n",
      "\n",
      "The Training Accuracy for max_depth 16 is: 0.9689922480620154\n",
      "The Validation Accuracy for max_depth 16 is: 0.9312738293088278\n",
      "\n",
      "The Training Accuracy for max_depth 17 is: 0.9748585795097423\n",
      "The Validation Accuracy for max_depth 17 is: 0.9345977123863525\n",
      "\n",
      "The Training Accuracy for max_depth 18 is: 0.9791326209930861\n",
      "The Validation Accuracy for max_depth 18 is: 0.932349203245674\n",
      "\n",
      "The Training Accuracy for max_depth 19 is: 0.9829038340666247\n",
      "The Validation Accuracy for max_depth 19 is: 0.9335223384495063\n",
      "\n",
      "The Training Accuracy for max_depth 20 is: 0.985501780850618\n",
      "The Validation Accuracy for max_depth 20 is: 0.9340111447844364\n",
      "\n",
      "The Training Accuracy for max_depth 21 is: 0.9873873873873874\n",
      "The Validation Accuracy for max_depth 21 is: 0.9344021898523804\n",
      "\n",
      "The Training Accuracy for max_depth 22 is: 0.9900272365388645\n",
      "The Validation Accuracy for max_depth 22 is: 0.9338156222504643\n",
      "\n",
      "The Training Accuracy for max_depth 23 is: 0.9917452336056988\n",
      "The Validation Accuracy for max_depth 23 is: 0.9333268159155342\n",
      "\n",
      "The Training Accuracy for max_depth 24 is: 0.9934213283050493\n",
      "The Validation Accuracy for max_depth 24 is: 0.9331312933815622\n",
      "\n",
      "The Training Accuracy for max_depth 25 is: 0.9951812277393672\n",
      "The Validation Accuracy for max_depth 25 is: 0.9307850229738978\n",
      "\n",
      "The Training Accuracy for max_depth 26 is: 0.9962706892939451\n",
      "The Validation Accuracy for max_depth 26 is: 0.9284387525662332\n",
      "\n",
      "The Training Accuracy for max_depth 27 is: 0.9971925413785879\n",
      "The Validation Accuracy for max_depth 27 is: 0.9291230814351354\n",
      "\n",
      "The Training Accuracy for max_depth 28 is: 0.9977372721558768\n",
      "The Validation Accuracy for max_depth 28 is: 0.9303939779059537\n",
      "\n",
      "The Training Accuracy for max_depth 29 is: 0.9983239053006495\n",
      "The Validation Accuracy for max_depth 29 is: 0.9308827842408838\n",
      "\n"
     ]
    }
   ],
   "source": [
    "from sklearn.tree import DecisionTreeClassifier\n",
    "training_accuracy = []\n",
    "test_accuracy = []\n",
    "for max_d in range(1,30):\n",
    "    model = DecisionTreeClassifier(max_depth=max_d, random_state=42)\n",
    "    model.fit(X_train, y_train)\n",
    "    training_accuracy.append(model.score(X_train, y_train))\n",
    "    test_accuracy.append(model.score(X_train, y_train))\n",
    "    print('The Training Accuracy for max_depth {} is:'.format(max_d), model.score(X_train, y_train))\n",
    "    print('The Validation Accuracy for max_depth {} is:'.format(max_d), model.score(X_test,y_test))\n",
    "    print('')"
   ]
  },
  {
   "cell_type": "code",
   "execution_count": 153,
   "id": "39e26212",
   "metadata": {},
   "outputs": [
    {
     "data": {
      "text/html": [
       "<style>#sk-container-id-10 {color: black;background-color: white;}#sk-container-id-10 pre{padding: 0;}#sk-container-id-10 div.sk-toggleable {background-color: white;}#sk-container-id-10 label.sk-toggleable__label {cursor: pointer;display: block;width: 100%;margin-bottom: 0;padding: 0.3em;box-sizing: border-box;text-align: center;}#sk-container-id-10 label.sk-toggleable__label-arrow:before {content: \"▸\";float: left;margin-right: 0.25em;color: #696969;}#sk-container-id-10 label.sk-toggleable__label-arrow:hover:before {color: black;}#sk-container-id-10 div.sk-estimator:hover label.sk-toggleable__label-arrow:before {color: black;}#sk-container-id-10 div.sk-toggleable__content {max-height: 0;max-width: 0;overflow: hidden;text-align: left;background-color: #f0f8ff;}#sk-container-id-10 div.sk-toggleable__content pre {margin: 0.2em;color: black;border-radius: 0.25em;background-color: #f0f8ff;}#sk-container-id-10 input.sk-toggleable__control:checked~div.sk-toggleable__content {max-height: 200px;max-width: 100%;overflow: auto;}#sk-container-id-10 input.sk-toggleable__control:checked~label.sk-toggleable__label-arrow:before {content: \"▾\";}#sk-container-id-10 div.sk-estimator input.sk-toggleable__control:checked~label.sk-toggleable__label {background-color: #d4ebff;}#sk-container-id-10 div.sk-label input.sk-toggleable__control:checked~label.sk-toggleable__label {background-color: #d4ebff;}#sk-container-id-10 input.sk-hidden--visually {border: 0;clip: rect(1px 1px 1px 1px);clip: rect(1px, 1px, 1px, 1px);height: 1px;margin: -1px;overflow: hidden;padding: 0;position: absolute;width: 1px;}#sk-container-id-10 div.sk-estimator {font-family: monospace;background-color: #f0f8ff;border: 1px dotted black;border-radius: 0.25em;box-sizing: border-box;margin-bottom: 0.5em;}#sk-container-id-10 div.sk-estimator:hover {background-color: #d4ebff;}#sk-container-id-10 div.sk-parallel-item::after {content: \"\";width: 100%;border-bottom: 1px solid gray;flex-grow: 1;}#sk-container-id-10 div.sk-label:hover label.sk-toggleable__label {background-color: #d4ebff;}#sk-container-id-10 div.sk-serial::before {content: \"\";position: absolute;border-left: 1px solid gray;box-sizing: border-box;top: 0;bottom: 0;left: 50%;z-index: 0;}#sk-container-id-10 div.sk-serial {display: flex;flex-direction: column;align-items: center;background-color: white;padding-right: 0.2em;padding-left: 0.2em;position: relative;}#sk-container-id-10 div.sk-item {position: relative;z-index: 1;}#sk-container-id-10 div.sk-parallel {display: flex;align-items: stretch;justify-content: center;background-color: white;position: relative;}#sk-container-id-10 div.sk-item::before, #sk-container-id-10 div.sk-parallel-item::before {content: \"\";position: absolute;border-left: 1px solid gray;box-sizing: border-box;top: 0;bottom: 0;left: 50%;z-index: -1;}#sk-container-id-10 div.sk-parallel-item {display: flex;flex-direction: column;z-index: 1;position: relative;background-color: white;}#sk-container-id-10 div.sk-parallel-item:first-child::after {align-self: flex-end;width: 50%;}#sk-container-id-10 div.sk-parallel-item:last-child::after {align-self: flex-start;width: 50%;}#sk-container-id-10 div.sk-parallel-item:only-child::after {width: 0;}#sk-container-id-10 div.sk-dashed-wrapped {border: 1px dashed gray;margin: 0 0.4em 0.5em 0.4em;box-sizing: border-box;padding-bottom: 0.4em;background-color: white;}#sk-container-id-10 div.sk-label label {font-family: monospace;font-weight: bold;display: inline-block;line-height: 1.2em;}#sk-container-id-10 div.sk-label-container {text-align: center;}#sk-container-id-10 div.sk-container {/* jupyter's `normalize.less` sets `[hidden] { display: none; }` but bootstrap.min.css set `[hidden] { display: none !important; }` so we also need the `!important` here to be able to override the default hidden behavior on the sphinx rendered scikit-learn.org. See: https://github.com/scikit-learn/scikit-learn/issues/21755 */display: inline-block !important;position: relative;}#sk-container-id-10 div.sk-text-repr-fallback {display: none;}</style><div id=\"sk-container-id-10\" class=\"sk-top-container\"><div class=\"sk-text-repr-fallback\"><pre>DecisionTreeClassifier(max_depth=16, random_state=100)</pre><b>In a Jupyter environment, please rerun this cell to show the HTML representation or trust the notebook. <br />On GitHub, the HTML representation is unable to render, please try loading this page with nbviewer.org.</b></div><div class=\"sk-container\" hidden><div class=\"sk-item\"><div class=\"sk-estimator sk-toggleable\"><input class=\"sk-toggleable__control sk-hidden--visually\" id=\"sk-estimator-id-10\" type=\"checkbox\" checked><label for=\"sk-estimator-id-10\" class=\"sk-toggleable__label sk-toggleable__label-arrow\">DecisionTreeClassifier</label><div class=\"sk-toggleable__content\"><pre>DecisionTreeClassifier(max_depth=16, random_state=100)</pre></div></div></div></div></div>"
      ],
      "text/plain": [
       "DecisionTreeClassifier(max_depth=16, random_state=100)"
      ]
     },
     "execution_count": 153,
     "metadata": {},
     "output_type": "execute_result"
    }
   ],
   "source": [
    "from sklearn.tree import DecisionTreeClassifier  \n",
    "dt = DecisionTreeClassifier(max_depth=16,random_state = 100)  \n",
    "dt.fit(X_train, y_train)"
   ]
  },
  {
   "cell_type": "code",
   "execution_count": 154,
   "id": "2d11faea",
   "metadata": {},
   "outputs": [
    {
     "name": "stdout",
     "output_type": "stream",
     "text": [
      "Training Score in DT:= 0.9689503456945318\n",
      "Test Score in DT:= 0.9315671131097859\n"
     ]
    }
   ],
   "source": [
    "print(\"Training Score in DT:=\",accuracy_score(y_train,dt.predict(X_train)))\n",
    "print(\"Test Score in DT:=\",accuracy_score(y_test,dt.predict(X_test)))"
   ]
  },
  {
   "cell_type": "code",
   "execution_count": 155,
   "id": "f51dc38a",
   "metadata": {},
   "outputs": [],
   "source": [
    "y_pred_dt = dt.predict(X_test)"
   ]
  },
  {
   "cell_type": "code",
   "execution_count": 156,
   "id": "e3583305",
   "metadata": {},
   "outputs": [
    {
     "name": "stdout",
     "output_type": "stream",
     "text": [
      "0.9315671131097859\n",
      "0.0684328868902141\n",
      "0.26159680214064945\n"
     ]
    }
   ],
   "source": [
    "print(accuracy_score(y_test,y_pred_dt))\n",
    "print(mean_absolute_error(y_test,y_pred_dt))\n",
    "print(np.sqrt(mean_squared_error(y_test,y_pred_dt)))"
   ]
  },
  {
   "cell_type": "code",
   "execution_count": 157,
   "id": "2940ecce",
   "metadata": {},
   "outputs": [
    {
     "data": {
      "image/png": "[encoded data removed]",
      "text/plain": [
       "<Figure size 576x396 with 2 Axes>"
      ]
     },
     "metadata": {},
     "output_type": "display_data"
    }
   ],
   "source": [
    "# Calculate the confusion matrix\n",
    "from sklearn.metrics import roc_auc_score, roc_curve, confusion_matrix, classification_report\n",
    "confusion_matrix = metrics.confusion_matrix(y_test, y_pred_dt)\n",
    "cm_display = metrics.ConfusionMatrixDisplay(confusion_matrix = confusion_matrix, display_labels = [0,1])\n",
    "cm_display.plot()\n",
    "plt.show()"
   ]
  },
  {
   "cell_type": "code",
   "execution_count": 158,
   "id": "c52f5dfe",
   "metadata": {},
   "outputs": [
    {
     "name": "stdout",
     "output_type": "stream",
     "text": [
      "              precision    recall  f1-score   support\n",
      "\n",
      "           0       0.90      0.96      0.93      5072\n",
      "           1       0.96      0.90      0.93      5157\n",
      "\n",
      "    accuracy                           0.93     10229\n",
      "   macro avg       0.93      0.93      0.93     10229\n",
      "weighted avg       0.93      0.93      0.93     10229\n",
      "\n"
     ]
    }
   ],
   "source": [
    "# Calculate the classification report\n",
    "print(classification_report(y_test,y_pred_dt))"
   ]
  },
  {
   "cell_type": "code",
   "execution_count": 159,
   "id": "de35f975",
   "metadata": {},
   "outputs": [
    {
     "name": "stdout",
     "output_type": "stream",
     "text": [
      "0.9318288623652639\n"
     ]
    }
   ],
   "source": [
    "# Calculate roc_auc_score\n",
    "roc_auc_dt=(roc_auc_score(y_test, y_pred_dt))\n",
    "print(roc_auc_dt)"
   ]
  },
  {
   "cell_type": "markdown",
   "id": "b8b2134d",
   "metadata": {},
   "source": [
    "# KNN"
   ]
  },
  {
   "cell_type": "code",
   "execution_count": 160,
   "id": "b9da7abf",
   "metadata": {},
   "outputs": [],
   "source": [
    "from sklearn.neighbors import KNeighborsClassifier"
   ]
  },
  {
   "cell_type": "code",
   "execution_count": 195,
   "id": "369ab2c1",
   "metadata": {},
   "outputs": [
    {
     "ename": "KeyboardInterrupt",
     "evalue": "",
     "output_type": "error",
     "traceback": [
      "\u001b[1;31m---------------------------------------------------------------------------\u001b[0m",
      "\u001b[1;31mKeyboardInterrupt\u001b[0m                         Traceback (most recent call last)",
      "Input \u001b[1;32mIn [195]\u001b[0m, in \u001b[0;36m<cell line: 6>\u001b[1;34m()\u001b[0m\n\u001b[0;32m      9\u001b[0m clf\u001b[38;5;241m.\u001b[39mfit(X_train, y_train)\n\u001b[0;32m     10\u001b[0m \u001b[38;5;66;03m# record training set accuracy\u001b[39;00m\n\u001b[1;32m---> 11\u001b[0m training_accuracy\u001b[38;5;241m.\u001b[39mappend(\u001b[43mclf\u001b[49m\u001b[38;5;241;43m.\u001b[39;49m\u001b[43mscore\u001b[49m\u001b[43m(\u001b[49m\u001b[43mX_train\u001b[49m\u001b[43m,\u001b[49m\u001b[43m \u001b[49m\u001b[43my_train\u001b[49m\u001b[43m)\u001b[49m)\n\u001b[0;32m     12\u001b[0m \u001b[38;5;66;03m# record generalization accuracy\u001b[39;00m\n\u001b[0;32m     13\u001b[0m test_accuracy\u001b[38;5;241m.\u001b[39mappend(clf\u001b[38;5;241m.\u001b[39mscore(X_test, y_test))\n",
      "File \u001b[1;32m~\\anaconda3\\lib\\site-packages\\sklearn\\base.py:666\u001b[0m, in \u001b[0;36mClassifierMixin.score\u001b[1;34m(self, X, y, sample_weight)\u001b[0m\n\u001b[0;32m    641\u001b[0m \u001b[38;5;124;03m\"\"\"\u001b[39;00m\n\u001b[0;32m    642\u001b[0m \u001b[38;5;124;03mReturn the mean accuracy on the given test data and labels.\u001b[39;00m\n\u001b[0;32m    643\u001b[0m \n\u001b[1;32m   (...)\u001b[0m\n\u001b[0;32m    662\u001b[0m \u001b[38;5;124;03m    Mean accuracy of ``self.predict(X)`` wrt. `y`.\u001b[39;00m\n\u001b[0;32m    663\u001b[0m \u001b[38;5;124;03m\"\"\"\u001b[39;00m\n\u001b[0;32m    664\u001b[0m \u001b[38;5;28;01mfrom\u001b[39;00m \u001b[38;5;21;01m.\u001b[39;00m\u001b[38;5;21;01mmetrics\u001b[39;00m \u001b[38;5;28;01mimport\u001b[39;00m accuracy_score\n\u001b[1;32m--> 666\u001b[0m \u001b[38;5;28;01mreturn\u001b[39;00m accuracy_score(y, \u001b[38;5;28;43mself\u001b[39;49m\u001b[38;5;241;43m.\u001b[39;49m\u001b[43mpredict\u001b[49m\u001b[43m(\u001b[49m\u001b[43mX\u001b[49m\u001b[43m)\u001b[49m, sample_weight\u001b[38;5;241m=\u001b[39msample_weight)\n",
      "File \u001b[1;32m~\\anaconda3\\lib\\site-packages\\sklearn\\neighbors\\_classification.py:244\u001b[0m, in \u001b[0;36mKNeighborsClassifier.predict\u001b[1;34m(self, X)\u001b[0m\n\u001b[0;32m    242\u001b[0m \u001b[38;5;28;01mfor\u001b[39;00m k, classes_k \u001b[38;5;129;01min\u001b[39;00m \u001b[38;5;28menumerate\u001b[39m(classes_):\n\u001b[0;32m    243\u001b[0m     \u001b[38;5;28;01mif\u001b[39;00m weights \u001b[38;5;129;01mis\u001b[39;00m \u001b[38;5;28;01mNone\u001b[39;00m:\n\u001b[1;32m--> 244\u001b[0m         mode, _ \u001b[38;5;241m=\u001b[39m \u001b[43m_mode\u001b[49m\u001b[43m(\u001b[49m\u001b[43m_y\u001b[49m\u001b[43m[\u001b[49m\u001b[43mneigh_ind\u001b[49m\u001b[43m,\u001b[49m\u001b[43m \u001b[49m\u001b[43mk\u001b[49m\u001b[43m]\u001b[49m\u001b[43m,\u001b[49m\u001b[43m \u001b[49m\u001b[43maxis\u001b[49m\u001b[38;5;241;43m=\u001b[39;49m\u001b[38;5;241;43m1\u001b[39;49m\u001b[43m)\u001b[49m\n\u001b[0;32m    245\u001b[0m     \u001b[38;5;28;01melse\u001b[39;00m:\n\u001b[0;32m    246\u001b[0m         mode, _ \u001b[38;5;241m=\u001b[39m weighted_mode(_y[neigh_ind, k], weights, axis\u001b[38;5;241m=\u001b[39m\u001b[38;5;241m1\u001b[39m)\n",
      "File \u001b[1;32m~\\anaconda3\\lib\\site-packages\\sklearn\\utils\\fixes.py:172\u001b[0m, in \u001b[0;36m_mode\u001b[1;34m(a, axis)\u001b[0m\n\u001b[0;32m    170\u001b[0m \u001b[38;5;28;01mif\u001b[39;00m sp_version \u001b[38;5;241m>\u001b[39m\u001b[38;5;241m=\u001b[39m parse_version(\u001b[38;5;124m\"\u001b[39m\u001b[38;5;124m1.9.0\u001b[39m\u001b[38;5;124m\"\u001b[39m):\n\u001b[0;32m    171\u001b[0m     \u001b[38;5;28;01mreturn\u001b[39;00m scipy\u001b[38;5;241m.\u001b[39mstats\u001b[38;5;241m.\u001b[39mmode(a, axis\u001b[38;5;241m=\u001b[39maxis, keepdims\u001b[38;5;241m=\u001b[39m\u001b[38;5;28;01mTrue\u001b[39;00m)\n\u001b[1;32m--> 172\u001b[0m \u001b[38;5;28;01mreturn\u001b[39;00m \u001b[43mscipy\u001b[49m\u001b[38;5;241;43m.\u001b[39;49m\u001b[43mstats\u001b[49m\u001b[38;5;241;43m.\u001b[39;49m\u001b[43mmode\u001b[49m\u001b[43m(\u001b[49m\u001b[43ma\u001b[49m\u001b[43m,\u001b[49m\u001b[43m \u001b[49m\u001b[43maxis\u001b[49m\u001b[38;5;241;43m=\u001b[39;49m\u001b[43maxis\u001b[49m\u001b[43m)\u001b[49m\n",
      "File \u001b[1;32m~\\anaconda3\\lib\\site-packages\\scipy\\stats\\stats.py:448\u001b[0m, in \u001b[0;36mmode\u001b[1;34m(a, axis, nan_policy)\u001b[0m\n\u001b[0;32m    446\u001b[0m counts \u001b[38;5;241m=\u001b[39m np\u001b[38;5;241m.\u001b[39mempty(a_view\u001b[38;5;241m.\u001b[39mshape[:\u001b[38;5;241m-\u001b[39m\u001b[38;5;241m1\u001b[39m], dtype\u001b[38;5;241m=\u001b[39mnp\u001b[38;5;241m.\u001b[39mint_)\n\u001b[0;32m    447\u001b[0m \u001b[38;5;28;01mfor\u001b[39;00m ind \u001b[38;5;129;01min\u001b[39;00m inds:\n\u001b[1;32m--> 448\u001b[0m     modes[ind], counts[ind] \u001b[38;5;241m=\u001b[39m \u001b[43m_mode1D\u001b[49m\u001b[43m(\u001b[49m\u001b[43ma_view\u001b[49m\u001b[43m[\u001b[49m\u001b[43mind\u001b[49m\u001b[43m]\u001b[49m\u001b[43m)\u001b[49m\n\u001b[0;32m    449\u001b[0m newshape \u001b[38;5;241m=\u001b[39m \u001b[38;5;28mlist\u001b[39m(a\u001b[38;5;241m.\u001b[39mshape)\n\u001b[0;32m    450\u001b[0m newshape[axis] \u001b[38;5;241m=\u001b[39m \u001b[38;5;241m1\u001b[39m\n",
      "File \u001b[1;32m~\\anaconda3\\lib\\site-packages\\scipy\\stats\\stats.py:435\u001b[0m, in \u001b[0;36mmode.<locals>._mode1D\u001b[1;34m(a)\u001b[0m\n\u001b[0;32m    433\u001b[0m \u001b[38;5;28;01mdef\u001b[39;00m \u001b[38;5;21m_mode1D\u001b[39m(a):\n\u001b[0;32m    434\u001b[0m     vals, cnts \u001b[38;5;241m=\u001b[39m np\u001b[38;5;241m.\u001b[39munique(a, return_counts\u001b[38;5;241m=\u001b[39m\u001b[38;5;28;01mTrue\u001b[39;00m)\n\u001b[1;32m--> 435\u001b[0m     \u001b[38;5;28;01mreturn\u001b[39;00m vals[\u001b[43mcnts\u001b[49m\u001b[38;5;241;43m.\u001b[39;49m\u001b[43margmax\u001b[49m\u001b[43m(\u001b[49m\u001b[43m)\u001b[49m], cnts\u001b[38;5;241m.\u001b[39mmax()\n",
      "\u001b[1;31mKeyboardInterrupt\u001b[0m: "
     ]
    }
   ],
   "source": [
    "#Choosing optimal value of  k \n",
    "training_accuracy = []\n",
    "test_accuracy = []\n",
    "# try n_neighbors from 1 to 15.\n",
    "neighbors_settings = range(1, 16)\n",
    "for n_neighbors in neighbors_settings:\n",
    "    # build the model\n",
    "    clf = KNeighborsClassifier(n_neighbors=n_neighbors)\n",
    "    clf.fit(X_train, y_train)\n",
    "    # record training set accuracy\n",
    "    training_accuracy.append(clf.score(X_train, y_train))\n",
    "    # record generalization accuracy\n",
    "    test_accuracy.append(clf.score(X_test, y_test))\n",
    "    print('The Training Accuracy for k {} is:'.format(n_neighbors), clf.score(X_test,y_test))\n",
    "    print('The Validation Accuracy for k {} is:'.format(n_neighbors), clf.score(X_test,y_test))\n",
    "    print('')\n",
    "plt.plot(neighbors_settings, training_accuracy, label=\"training accuracy\")\n",
    "plt.plot(neighbors_settings, test_accuracy, label=\"test accuracy\")\n",
    "plt.legend()"
   ]
  },
  {
   "cell_type": "code",
   "execution_count": 161,
   "id": "ce32ff7b",
   "metadata": {},
   "outputs": [
    {
     "data": {
      "text/html": [
       "<style>#sk-container-id-11 {color: black;background-color: white;}#sk-container-id-11 pre{padding: 0;}#sk-container-id-11 div.sk-toggleable {background-color: white;}#sk-container-id-11 label.sk-toggleable__label {cursor: pointer;display: block;width: 100%;margin-bottom: 0;padding: 0.3em;box-sizing: border-box;text-align: center;}#sk-container-id-11 label.sk-toggleable__label-arrow:before {content: \"▸\";float: left;margin-right: 0.25em;color: #696969;}#sk-container-id-11 label.sk-toggleable__label-arrow:hover:before {color: black;}#sk-container-id-11 div.sk-estimator:hover label.sk-toggleable__label-arrow:before {color: black;}#sk-container-id-11 div.sk-toggleable__content {max-height: 0;max-width: 0;overflow: hidden;text-align: left;background-color: #f0f8ff;}#sk-container-id-11 div.sk-toggleable__content pre {margin: 0.2em;color: black;border-radius: 0.25em;background-color: #f0f8ff;}#sk-container-id-11 input.sk-toggleable__control:checked~div.sk-toggleable__content {max-height: 200px;max-width: 100%;overflow: auto;}#sk-container-id-11 input.sk-toggleable__control:checked~label.sk-toggleable__label-arrow:before {content: \"▾\";}#sk-container-id-11 div.sk-estimator input.sk-toggleable__control:checked~label.sk-toggleable__label {background-color: #d4ebff;}#sk-container-id-11 div.sk-label input.sk-toggleable__control:checked~label.sk-toggleable__label {background-color: #d4ebff;}#sk-container-id-11 input.sk-hidden--visually {border: 0;clip: rect(1px 1px 1px 1px);clip: rect(1px, 1px, 1px, 1px);height: 1px;margin: -1px;overflow: hidden;padding: 0;position: absolute;width: 1px;}#sk-container-id-11 div.sk-estimator {font-family: monospace;background-color: #f0f8ff;border: 1px dotted black;border-radius: 0.25em;box-sizing: border-box;margin-bottom: 0.5em;}#sk-container-id-11 div.sk-estimator:hover {background-color: #d4ebff;}#sk-container-id-11 div.sk-parallel-item::after {content: \"\";width: 100%;border-bottom: 1px solid gray;flex-grow: 1;}#sk-container-id-11 div.sk-label:hover label.sk-toggleable__label {background-color: #d4ebff;}#sk-container-id-11 div.sk-serial::before {content: \"\";position: absolute;border-left: 1px solid gray;box-sizing: border-box;top: 0;bottom: 0;left: 50%;z-index: 0;}#sk-container-id-11 div.sk-serial {display: flex;flex-direction: column;align-items: center;background-color: white;padding-right: 0.2em;padding-left: 0.2em;position: relative;}#sk-container-id-11 div.sk-item {position: relative;z-index: 1;}#sk-container-id-11 div.sk-parallel {display: flex;align-items: stretch;justify-content: center;background-color: white;position: relative;}#sk-container-id-11 div.sk-item::before, #sk-container-id-11 div.sk-parallel-item::before {content: \"\";position: absolute;border-left: 1px solid gray;box-sizing: border-box;top: 0;bottom: 0;left: 50%;z-index: -1;}#sk-container-id-11 div.sk-parallel-item {display: flex;flex-direction: column;z-index: 1;position: relative;background-color: white;}#sk-container-id-11 div.sk-parallel-item:first-child::after {align-self: flex-end;width: 50%;}#sk-container-id-11 div.sk-parallel-item:last-child::after {align-self: flex-start;width: 50%;}#sk-container-id-11 div.sk-parallel-item:only-child::after {width: 0;}#sk-container-id-11 div.sk-dashed-wrapped {border: 1px dashed gray;margin: 0 0.4em 0.5em 0.4em;box-sizing: border-box;padding-bottom: 0.4em;background-color: white;}#sk-container-id-11 div.sk-label label {font-family: monospace;font-weight: bold;display: inline-block;line-height: 1.2em;}#sk-container-id-11 div.sk-label-container {text-align: center;}#sk-container-id-11 div.sk-container {/* jupyter's `normalize.less` sets `[hidden] { display: none; }` but bootstrap.min.css set `[hidden] { display: none !important; }` so we also need the `!important` here to be able to override the default hidden behavior on the sphinx rendered scikit-learn.org. See: https://github.com/scikit-learn/scikit-learn/issues/21755 */display: inline-block !important;position: relative;}#sk-container-id-11 div.sk-text-repr-fallback {display: none;}</style><div id=\"sk-container-id-11\" class=\"sk-top-container\"><div class=\"sk-text-repr-fallback\"><pre>KNeighborsClassifier(n_neighbors=3)</pre><b>In a Jupyter environment, please rerun this cell to show the HTML representation or trust the notebook. <br />On GitHub, the HTML representation is unable to render, please try loading this page with nbviewer.org.</b></div><div class=\"sk-container\" hidden><div class=\"sk-item\"><div class=\"sk-estimator sk-toggleable\"><input class=\"sk-toggleable__control sk-hidden--visually\" id=\"sk-estimator-id-11\" type=\"checkbox\" checked><label for=\"sk-estimator-id-11\" class=\"sk-toggleable__label sk-toggleable__label-arrow\">KNeighborsClassifier</label><div class=\"sk-toggleable__content\"><pre>KNeighborsClassifier(n_neighbors=3)</pre></div></div></div></div></div>"
      ],
      "text/plain": [
       "KNeighborsClassifier(n_neighbors=3)"
      ]
     },
     "execution_count": 161,
     "metadata": {},
     "output_type": "execute_result"
    }
   ],
   "source": [
    "knn = KNeighborsClassifier(n_neighbors = 3)\n",
    "knn.fit(X_train, y_train)"
   ]
  },
  {
   "cell_type": "code",
   "execution_count": null,
   "id": "78ad737e",
   "metadata": {},
   "outputs": [],
   "source": []
  },
  {
   "cell_type": "code",
   "execution_count": 162,
   "id": "518455cc",
   "metadata": {},
   "outputs": [
    {
     "name": "stdout",
     "output_type": "stream",
     "text": [
      "Training Score in KNN:= 0.9223968154200712\n",
      "Test Score in KNN:= 0.8767230423306286\n"
     ]
    }
   ],
   "source": [
    "print(\"Training Score in KNN:=\",accuracy_score(y_train,knn.predict(X_train)))\n",
    "print(\"Test Score in KNN:=\",accuracy_score(y_test,knn.predict(X_test)))"
   ]
  },
  {
   "cell_type": "code",
   "execution_count": 163,
   "id": "a17a75a2",
   "metadata": {},
   "outputs": [],
   "source": [
    "y_pred_knn = knn.predict(X_test)"
   ]
  },
  {
   "cell_type": "code",
   "execution_count": 164,
   "id": "7f1a526f",
   "metadata": {},
   "outputs": [
    {
     "name": "stdout",
     "output_type": "stream",
     "text": [
      "0.8767230423306286\n",
      "0.1232769576693714\n",
      "0.35110818513582304\n"
     ]
    }
   ],
   "source": [
    "print(accuracy_score(y_test,y_pred_knn))\n",
    "print(mean_absolute_error(y_test,y_pred_knn))\n",
    "print(np.sqrt(mean_squared_error(y_test,y_pred_knn)))"
   ]
  },
  {
   "cell_type": "code",
   "execution_count": 165,
   "id": "4fafc75d",
   "metadata": {},
   "outputs": [
    {
     "data": {
      "image/png": "[encoded data removed]",
      "text/plain": [
       "<Figure size 576x396 with 2 Axes>"
      ]
     },
     "metadata": {},
     "output_type": "display_data"
    }
   ],
   "source": [
    "# Calculate the confusion matrix\n",
    "from sklearn.metrics import roc_auc_score, roc_curve, confusion_matrix, classification_report\n",
    "confusion_matrix = metrics.confusion_matrix(y_test, y_pred_knn)\n",
    "cm_display = metrics.ConfusionMatrixDisplay(confusion_matrix = confusion_matrix, display_labels = [0,1])\n",
    "cm_display.plot()\n",
    "plt.show()"
   ]
  },
  {
   "cell_type": "code",
   "execution_count": 166,
   "id": "3333661b",
   "metadata": {},
   "outputs": [
    {
     "name": "stdout",
     "output_type": "stream",
     "text": [
      "              precision    recall  f1-score   support\n",
      "\n",
      "           0       0.83      0.95      0.88      5072\n",
      "           1       0.94      0.80      0.87      5157\n",
      "\n",
      "    accuracy                           0.88     10229\n",
      "   macro avg       0.88      0.88      0.88     10229\n",
      "weighted avg       0.89      0.88      0.88     10229\n",
      "\n"
     ]
    }
   ],
   "source": [
    "# Calculate the classification report\n",
    "print(classification_report(y_test,y_pred_knn))"
   ]
  },
  {
   "cell_type": "code",
   "execution_count": 167,
   "id": "1e631687",
   "metadata": {},
   "outputs": [
    {
     "name": "stdout",
     "output_type": "stream",
     "text": [
      "0.8773246594778834\n"
     ]
    }
   ],
   "source": [
    "# Calculate roc_auc_score\n",
    "roc_auc_knn=(roc_auc_score(y_test, y_pred_knn))\n",
    "print(roc_auc_knn)"
   ]
  },
  {
   "cell_type": "code",
   "execution_count": null,
   "id": "acfdd8da",
   "metadata": {},
   "outputs": [],
   "source": []
  },
  {
   "cell_type": "markdown",
   "id": "90791ddf",
   "metadata": {},
   "source": [
    "# ROC-AUC CURVE"
   ]
  },
  {
   "cell_type": "code",
   "execution_count": 168,
   "id": "d9042130",
   "metadata": {},
   "outputs": [
    {
     "data": {
      "image/png": "[encoded data removed]",
      "text/plain": [
       "<Figure size 1500x1500 with 1 Axes>"
      ]
     },
     "metadata": {},
     "output_type": "display_data"
    }
   ],
   "source": [
    "plt.style.use('seaborn')\n",
    "fpr_lr, tpr_lr, thresh1 = roc_curve(y_test, y_pred_lr)\n",
    "fpr_nb, tpr_nb, thresh2 = roc_curve(y_test, y_pred_nb)\n",
    "fpr_dt, tpr_dt, thresh3 = roc_curve(y_test, y_pred_dt)\n",
    "fpr_knn, tpr_knn, thresh4 = roc_curve(y_test, y_pred_knn)\n",
    "# plot roc curves\n",
    "plt.figure(figsize=(10, 10),dpi=150)\n",
    "plt.plot(fpr_lr, tpr_lr, linestyle='--',color='green', label='LogisticRegression(roc_auc_lr = %0.3f)' % roc_auc_lr)\n",
    "plt.plot(fpr_nb, tpr_nb, linestyle='--',color='red', label='NaiveBayes(roc_auc_nb = %0.3f)' % roc_auc_nb)\n",
    "plt.plot(fpr_dt, tpr_dt, linestyle='--',color='blue', label='Decision Tree(roc_auc_dt = %0.3f)' % roc_auc_dt)\n",
    "plt.plot(fpr_knn, tpr_knn, linestyle='--',color='orange', label='KNN(roc_auc_knn = %0.3f)' % roc_auc_knn)\n",
    "\n",
    "# title\n",
    "plt.title('ROC curve')\n",
    "# x label\n",
    "plt.xlabel('False Positive Rate')\n",
    "# y label\n",
    "plt.ylabel('True Positive rate')\n",
    "\n",
    "plt.legend(loc='best')\n",
    "plt.show()"
   ]
  },
  {
   "cell_type": "code",
   "execution_count": null,
   "id": "03716bbd",
   "metadata": {},
   "outputs": [],
   "source": []
  },
  {
   "cell_type": "code",
   "execution_count": null,
   "id": "55da51b0",
   "metadata": {},
   "outputs": [],
   "source": []
  },
  {
   "cell_type": "code",
   "execution_count": null,
   "id": "3a123c92",
   "metadata": {},
   "outputs": [],
   "source": []
  },
  {
   "cell_type": "code",
   "execution_count": null,
   "id": "c2607c79",
   "metadata": {},
   "outputs": [],
   "source": []
  },
  {
   "cell_type": "code",
   "execution_count": null,
   "id": "6b1e19f9",
   "metadata": {},
   "outputs": [],
   "source": []
  },
  {
   "cell_type": "code",
   "execution_count": null,
   "id": "d70dce3a",
   "metadata": {},
   "outputs": [],
   "source": []
  },
  {
   "cell_type": "code",
   "execution_count": null,
   "id": "35d081fd",
   "metadata": {},
   "outputs": [],
   "source": []
  }
 ],
 "metadata": {
  "kernelspec": {
   "display_name": "Python 3 (ipykernel)",
   "language": "python",
   "name": "python3"
  },
  "language_info": {
   "codemirror_mode": {
    "name": "ipython",
    "version": 3
   },
   "file_extension": ".py",
   "mimetype": "text/x-python",
   "name": "python",
   "nbconvert_exporter": "python",
   "pygments_lexer": "ipython3",
   "version": "3.9.12"
  }
 },
 "nbformat": 4,
 "nbformat_minor": 5
}
