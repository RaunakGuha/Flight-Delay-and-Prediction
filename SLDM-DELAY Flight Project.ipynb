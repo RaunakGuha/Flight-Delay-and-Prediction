{
 "cells": [
  {
   "cell_type": "code",
   "execution_count": 161,
   "id": "0b469bc7",
   "metadata": {},
   "outputs": [],
   "source": [
    "import numpy as np \n",
    "import pandas as pd\n",
    "import matplotlib.pyplot as plt\n",
    "import seaborn as sns\n",
    "%matplotlib inline\n",
    "from sklearn.model_selection import train_test_split\n",
    "from sklearn.ensemble import RandomForestClassifier"
   ]
  },
  {
   "cell_type": "code",
   "execution_count": 2,
   "id": "3f445ed4",
   "metadata": {},
   "outputs": [
    {
     "data": {
      "text/html": [
       "<div>\n",
       "<style scoped>\n",
       "    .dataframe tbody tr th:only-of-type {\n",
       "        vertical-align: middle;\n",
       "    }\n",
       "\n",
       "    .dataframe tbody tr th {\n",
       "        vertical-align: top;\n",
       "    }\n",
       "\n",
       "    .dataframe thead th {\n",
       "        text-align: right;\n",
       "    }\n",
       "</style>\n",
       "<table border=\"1\" class=\"dataframe\">\n",
       "  <thead>\n",
       "    <tr style=\"text-align: right;\">\n",
       "      <th></th>\n",
       "      <th>FlightDate</th>\n",
       "      <th>Airline</th>\n",
       "      <th>Origin</th>\n",
       "      <th>Dest</th>\n",
       "      <th>Cancelled</th>\n",
       "      <th>Diverted</th>\n",
       "      <th>CRSDepTime</th>\n",
       "      <th>DepTime</th>\n",
       "      <th>DepDelayMinutes</th>\n",
       "      <th>DepDelay</th>\n",
       "      <th>...</th>\n",
       "      <th>WheelsOff</th>\n",
       "      <th>WheelsOn</th>\n",
       "      <th>TaxiIn</th>\n",
       "      <th>CRSArrTime</th>\n",
       "      <th>ArrDelay</th>\n",
       "      <th>ArrDel15</th>\n",
       "      <th>ArrivalDelayGroups</th>\n",
       "      <th>ArrTimeBlk</th>\n",
       "      <th>DistanceGroup</th>\n",
       "      <th>DivAirportLandings</th>\n",
       "    </tr>\n",
       "  </thead>\n",
       "  <tbody>\n",
       "    <tr>\n",
       "      <th>0</th>\n",
       "      <td>23-01-2018</td>\n",
       "      <td>Endeavor Air Inc.</td>\n",
       "      <td>ABY</td>\n",
       "      <td>ATL</td>\n",
       "      <td>False</td>\n",
       "      <td>False</td>\n",
       "      <td>1202</td>\n",
       "      <td>1157.0</td>\n",
       "      <td>0.0</td>\n",
       "      <td>-5.0</td>\n",
       "      <td>...</td>\n",
       "      <td>1211.0</td>\n",
       "      <td>1249.0</td>\n",
       "      <td>7.0</td>\n",
       "      <td>1304</td>\n",
       "      <td>-8.0</td>\n",
       "      <td>0.0</td>\n",
       "      <td>-1.0</td>\n",
       "      <td>1300-1359</td>\n",
       "      <td>1</td>\n",
       "      <td>0</td>\n",
       "    </tr>\n",
       "    <tr>\n",
       "      <th>1</th>\n",
       "      <td>24-01-2018</td>\n",
       "      <td>Endeavor Air Inc.</td>\n",
       "      <td>ABY</td>\n",
       "      <td>ATL</td>\n",
       "      <td>False</td>\n",
       "      <td>False</td>\n",
       "      <td>1202</td>\n",
       "      <td>1157.0</td>\n",
       "      <td>0.0</td>\n",
       "      <td>-5.0</td>\n",
       "      <td>...</td>\n",
       "      <td>1210.0</td>\n",
       "      <td>1246.0</td>\n",
       "      <td>12.0</td>\n",
       "      <td>1304</td>\n",
       "      <td>-6.0</td>\n",
       "      <td>0.0</td>\n",
       "      <td>-1.0</td>\n",
       "      <td>1300-1359</td>\n",
       "      <td>1</td>\n",
       "      <td>0</td>\n",
       "    </tr>\n",
       "    <tr>\n",
       "      <th>2</th>\n",
       "      <td>25-01-2018</td>\n",
       "      <td>Endeavor Air Inc.</td>\n",
       "      <td>ABY</td>\n",
       "      <td>ATL</td>\n",
       "      <td>False</td>\n",
       "      <td>False</td>\n",
       "      <td>1202</td>\n",
       "      <td>1153.0</td>\n",
       "      <td>0.0</td>\n",
       "      <td>-9.0</td>\n",
       "      <td>...</td>\n",
       "      <td>1211.0</td>\n",
       "      <td>1251.0</td>\n",
       "      <td>11.0</td>\n",
       "      <td>1304</td>\n",
       "      <td>-2.0</td>\n",
       "      <td>0.0</td>\n",
       "      <td>-1.0</td>\n",
       "      <td>1300-1359</td>\n",
       "      <td>1</td>\n",
       "      <td>0</td>\n",
       "    </tr>\n",
       "    <tr>\n",
       "      <th>3</th>\n",
       "      <td>26-01-2018</td>\n",
       "      <td>Endeavor Air Inc.</td>\n",
       "      <td>ABY</td>\n",
       "      <td>ATL</td>\n",
       "      <td>False</td>\n",
       "      <td>False</td>\n",
       "      <td>1202</td>\n",
       "      <td>1150.0</td>\n",
       "      <td>0.0</td>\n",
       "      <td>-12.0</td>\n",
       "      <td>...</td>\n",
       "      <td>1207.0</td>\n",
       "      <td>1242.0</td>\n",
       "      <td>11.0</td>\n",
       "      <td>1304</td>\n",
       "      <td>-11.0</td>\n",
       "      <td>0.0</td>\n",
       "      <td>-1.0</td>\n",
       "      <td>1300-1359</td>\n",
       "      <td>1</td>\n",
       "      <td>0</td>\n",
       "    </tr>\n",
       "    <tr>\n",
       "      <th>4</th>\n",
       "      <td>27-01-2018</td>\n",
       "      <td>Endeavor Air Inc.</td>\n",
       "      <td>ABY</td>\n",
       "      <td>ATL</td>\n",
       "      <td>False</td>\n",
       "      <td>False</td>\n",
       "      <td>1400</td>\n",
       "      <td>1355.0</td>\n",
       "      <td>0.0</td>\n",
       "      <td>-5.0</td>\n",
       "      <td>...</td>\n",
       "      <td>1412.0</td>\n",
       "      <td>1448.0</td>\n",
       "      <td>11.0</td>\n",
       "      <td>1500</td>\n",
       "      <td>-1.0</td>\n",
       "      <td>0.0</td>\n",
       "      <td>-1.0</td>\n",
       "      <td>1500-1559</td>\n",
       "      <td>1</td>\n",
       "      <td>0</td>\n",
       "    </tr>\n",
       "    <tr>\n",
       "      <th>5</th>\n",
       "      <td>28-01-2018</td>\n",
       "      <td>Endeavor Air Inc.</td>\n",
       "      <td>ABY</td>\n",
       "      <td>ATL</td>\n",
       "      <td>False</td>\n",
       "      <td>False</td>\n",
       "      <td>1202</td>\n",
       "      <td>1202.0</td>\n",
       "      <td>NaN</td>\n",
       "      <td>NaN</td>\n",
       "      <td>...</td>\n",
       "      <td>1236.0</td>\n",
       "      <td>1313.0</td>\n",
       "      <td>13.0</td>\n",
       "      <td>1304</td>\n",
       "      <td>22.0</td>\n",
       "      <td>1.0</td>\n",
       "      <td>1.0</td>\n",
       "      <td>1300-1359</td>\n",
       "      <td>1</td>\n",
       "      <td>0</td>\n",
       "    </tr>\n",
       "    <tr>\n",
       "      <th>6</th>\n",
       "      <td>29-01-2018</td>\n",
       "      <td>Endeavor Air Inc.</td>\n",
       "      <td>ABY</td>\n",
       "      <td>ATL</td>\n",
       "      <td>False</td>\n",
       "      <td>False</td>\n",
       "      <td>1202</td>\n",
       "      <td>1204.0</td>\n",
       "      <td>2.0</td>\n",
       "      <td>2.0</td>\n",
       "      <td>...</td>\n",
       "      <td>1219.0</td>\n",
       "      <td>1253.0</td>\n",
       "      <td>10.0</td>\n",
       "      <td>1304</td>\n",
       "      <td>-1.0</td>\n",
       "      <td>0.0</td>\n",
       "      <td>-1.0</td>\n",
       "      <td>1300-1359</td>\n",
       "      <td>1</td>\n",
       "      <td>0</td>\n",
       "    </tr>\n",
       "    <tr>\n",
       "      <th>7</th>\n",
       "      <td>30-01-2018</td>\n",
       "      <td>Endeavor Air Inc.</td>\n",
       "      <td>ABY</td>\n",
       "      <td>ATL</td>\n",
       "      <td>False</td>\n",
       "      <td>False</td>\n",
       "      <td>1202</td>\n",
       "      <td>1153.0</td>\n",
       "      <td>0.0</td>\n",
       "      <td>-9.0</td>\n",
       "      <td>...</td>\n",
       "      <td>1200.0</td>\n",
       "      <td>1244.0</td>\n",
       "      <td>11.0</td>\n",
       "      <td>1304</td>\n",
       "      <td>-9.0</td>\n",
       "      <td>0.0</td>\n",
       "      <td>-1.0</td>\n",
       "      <td>1300-1359</td>\n",
       "      <td>1</td>\n",
       "      <td>0</td>\n",
       "    </tr>\n",
       "    <tr>\n",
       "      <th>8</th>\n",
       "      <td>31-01-2018</td>\n",
       "      <td>Endeavor Air Inc.</td>\n",
       "      <td>ABY</td>\n",
       "      <td>ATL</td>\n",
       "      <td>False</td>\n",
       "      <td>False</td>\n",
       "      <td>1202</td>\n",
       "      <td>1153.0</td>\n",
       "      <td>0.0</td>\n",
       "      <td>-9.0</td>\n",
       "      <td>...</td>\n",
       "      <td>1219.0</td>\n",
       "      <td>1256.0</td>\n",
       "      <td>8.0</td>\n",
       "      <td>1304</td>\n",
       "      <td>NaN</td>\n",
       "      <td>NaN</td>\n",
       "      <td>NaN</td>\n",
       "      <td>1300-1359</td>\n",
       "      <td>1</td>\n",
       "      <td>0</td>\n",
       "    </tr>\n",
       "    <tr>\n",
       "      <th>9</th>\n",
       "      <td>03-01-2018</td>\n",
       "      <td>Endeavor Air Inc.</td>\n",
       "      <td>ATL</td>\n",
       "      <td>ABY</td>\n",
       "      <td>False</td>\n",
       "      <td>False</td>\n",
       "      <td>1037</td>\n",
       "      <td>1101.0</td>\n",
       "      <td>24.0</td>\n",
       "      <td>24.0</td>\n",
       "      <td>...</td>\n",
       "      <td>1124.0</td>\n",
       "      <td>1156.0</td>\n",
       "      <td>3.0</td>\n",
       "      <td>1137</td>\n",
       "      <td>22.0</td>\n",
       "      <td>1.0</td>\n",
       "      <td>1.0</td>\n",
       "      <td>1100-1159</td>\n",
       "      <td>1</td>\n",
       "      <td>0</td>\n",
       "    </tr>\n",
       "  </tbody>\n",
       "</table>\n",
       "<p>10 rows × 61 columns</p>\n",
       "</div>"
      ],
      "text/plain": [
       "   FlightDate            Airline Origin Dest  Cancelled  Diverted  CRSDepTime  \\\n",
       "0  23-01-2018  Endeavor Air Inc.    ABY  ATL      False     False        1202   \n",
       "1  24-01-2018  Endeavor Air Inc.    ABY  ATL      False     False        1202   \n",
       "2  25-01-2018  Endeavor Air Inc.    ABY  ATL      False     False        1202   \n",
       "3  26-01-2018  Endeavor Air Inc.    ABY  ATL      False     False        1202   \n",
       "4  27-01-2018  Endeavor Air Inc.    ABY  ATL      False     False        1400   \n",
       "5  28-01-2018  Endeavor Air Inc.    ABY  ATL      False     False        1202   \n",
       "6  29-01-2018  Endeavor Air Inc.    ABY  ATL      False     False        1202   \n",
       "7  30-01-2018  Endeavor Air Inc.    ABY  ATL      False     False        1202   \n",
       "8  31-01-2018  Endeavor Air Inc.    ABY  ATL      False     False        1202   \n",
       "9  03-01-2018  Endeavor Air Inc.    ATL  ABY      False     False        1037   \n",
       "\n",
       "   DepTime  DepDelayMinutes  DepDelay  ...  WheelsOff  WheelsOn  TaxiIn  \\\n",
       "0   1157.0              0.0      -5.0  ...     1211.0    1249.0     7.0   \n",
       "1   1157.0              0.0      -5.0  ...     1210.0    1246.0    12.0   \n",
       "2   1153.0              0.0      -9.0  ...     1211.0    1251.0    11.0   \n",
       "3   1150.0              0.0     -12.0  ...     1207.0    1242.0    11.0   \n",
       "4   1355.0              0.0      -5.0  ...     1412.0    1448.0    11.0   \n",
       "5   1202.0              NaN       NaN  ...     1236.0    1313.0    13.0   \n",
       "6   1204.0              2.0       2.0  ...     1219.0    1253.0    10.0   \n",
       "7   1153.0              0.0      -9.0  ...     1200.0    1244.0    11.0   \n",
       "8   1153.0              0.0      -9.0  ...     1219.0    1256.0     8.0   \n",
       "9   1101.0             24.0      24.0  ...     1124.0    1156.0     3.0   \n",
       "\n",
       "   CRSArrTime  ArrDelay  ArrDel15  ArrivalDelayGroups  ArrTimeBlk  \\\n",
       "0        1304      -8.0       0.0                -1.0   1300-1359   \n",
       "1        1304      -6.0       0.0                -1.0   1300-1359   \n",
       "2        1304      -2.0       0.0                -1.0   1300-1359   \n",
       "3        1304     -11.0       0.0                -1.0   1300-1359   \n",
       "4        1500      -1.0       0.0                -1.0   1500-1559   \n",
       "5        1304      22.0       1.0                 1.0   1300-1359   \n",
       "6        1304      -1.0       0.0                -1.0   1300-1359   \n",
       "7        1304      -9.0       0.0                -1.0   1300-1359   \n",
       "8        1304       NaN       NaN                 NaN   1300-1359   \n",
       "9        1137      22.0       1.0                 1.0   1100-1159   \n",
       "\n",
       "   DistanceGroup  DivAirportLandings  \n",
       "0              1                   0  \n",
       "1              1                   0  \n",
       "2              1                   0  \n",
       "3              1                   0  \n",
       "4              1                   0  \n",
       "5              1                   0  \n",
       "6              1                   0  \n",
       "7              1                   0  \n",
       "8              1                   0  \n",
       "9              1                   0  \n",
       "\n",
       "[10 rows x 61 columns]"
      ]
     },
     "execution_count": 2,
     "metadata": {},
     "output_type": "execute_result"
    }
   ],
   "source": [
    "flight=pd.read_csv(\"Flight_status (1).csv\")\n",
    "flight.head(10)"
   ]
  },
  {
   "cell_type": "code",
   "execution_count": 3,
   "id": "4a140b1d",
   "metadata": {},
   "outputs": [
    {
     "name": "stdout",
     "output_type": "stream",
     "text": [
      "<class 'pandas.core.frame.DataFrame'>\n",
      "RangeIndex: 1048575 entries, 0 to 1048574\n",
      "Data columns (total 61 columns):\n",
      " #   Column                                   Non-Null Count    Dtype  \n",
      "---  ------                                   --------------    -----  \n",
      " 0   FlightDate                               1048575 non-null  object \n",
      " 1   Airline                                  1048575 non-null  object \n",
      " 2   Origin                                   1048575 non-null  object \n",
      " 3   Dest                                     1048575 non-null  object \n",
      " 4   Cancelled                                1048575 non-null  bool   \n",
      " 5   Diverted                                 1048575 non-null  bool   \n",
      " 6   CRSDepTime                               1048575 non-null  int64  \n",
      " 7   DepTime                                  1032002 non-null  float64\n",
      " 8   DepDelayMinutes                          1031514 non-null  float64\n",
      " 9   DepDelay                                 1031514 non-null  float64\n",
      " 10  ArrTime                                  1031060 non-null  float64\n",
      " 11  ArrDelayMinutes                          1029014 non-null  float64\n",
      " 12  AirTime                                  1028355 non-null  float64\n",
      " 13  CRSElapsedTime                           1048575 non-null  int64  \n",
      " 14  ActualElapsedTime                        1029216 non-null  float64\n",
      " 15  Distance                                 1048575 non-null  int64  \n",
      " 16  Year                                     1048575 non-null  int64  \n",
      " 17  Quarter                                  1048575 non-null  int64  \n",
      " 18  Month                                    1048575 non-null  int64  \n",
      " 19  DayofMonth                               1048575 non-null  int64  \n",
      " 20  DayOfWeek                                1048575 non-null  int64  \n",
      " 21  Marketing_Airline_Network                1048575 non-null  object \n",
      " 22  Operated_or_Branded_Code_Share_Partners  1048575 non-null  object \n",
      " 23  DOT_ID_Marketing_Airline                 1048575 non-null  int64  \n",
      " 24  IATA_Code_Marketing_Airline              1048575 non-null  object \n",
      " 25  Flight_Number_Marketing_Airline          1048575 non-null  int64  \n",
      " 26  Operating_Airline                        1048575 non-null  object \n",
      " 27  DOT_ID_Operating_Airline                 1048575 non-null  int64  \n",
      " 28  IATA_Code_Operating_Airline              1048575 non-null  object \n",
      " 29  Tail_Number                              1045824 non-null  object \n",
      " 30  Flight_Number_Operating_Airline          1048575 non-null  int64  \n",
      " 31  OriginAirportID                          1048575 non-null  int64  \n",
      " 32  OriginAirportSeqID                       1048575 non-null  int64  \n",
      " 33  OriginCityMarketID                       1048575 non-null  int64  \n",
      " 34  OriginCityName                           1048575 non-null  object \n",
      " 35  OriginState                              1048575 non-null  object \n",
      " 36  OriginStateFips                          1048575 non-null  int64  \n",
      " 37  OriginStateName                          1048575 non-null  object \n",
      " 38  OriginWac                                1048575 non-null  int64  \n",
      " 39  DestAirportID                            1048575 non-null  int64  \n",
      " 40  DestAirportSeqID                         1048575 non-null  int64  \n",
      " 41  DestCityMarketID                         1048575 non-null  int64  \n",
      " 42  DestCityName                             1048575 non-null  object \n",
      " 43  DestState                                1048575 non-null  object \n",
      " 44  DestStateFips                            1048575 non-null  int64  \n",
      " 45  DestStateName                            1048575 non-null  object \n",
      " 46  DestWac                                  1048575 non-null  int64  \n",
      " 47  DepDel15                                 1031514 non-null  float64\n",
      " 48  DepartureDelayGroups                     1031514 non-null  float64\n",
      " 49  DepTimeBlk                               1048575 non-null  object \n",
      " 50  TaxiOut                                  1030819 non-null  float64\n",
      " 51  WheelsOff                                1030828 non-null  float64\n",
      " 52  WheelsOn                                 1030208 non-null  float64\n",
      " 53  TaxiIn                                   1030199 non-null  float64\n",
      " 54  CRSArrTime                               1048575 non-null  int64  \n",
      " 55  ArrDelay                                 1029014 non-null  float64\n",
      " 56  ArrDel15                                 1029014 non-null  float64\n",
      " 57  ArrivalDelayGroups                       1029014 non-null  float64\n",
      " 58  ArrTimeBlk                               1048575 non-null  object \n",
      " 59  DistanceGroup                            1048575 non-null  int64  \n",
      " 60  DivAirportLandings                       1048575 non-null  int64  \n",
      "dtypes: bool(2), float64(16), int64(25), object(18)\n",
      "memory usage: 474.0+ MB\n"
     ]
    }
   ],
   "source": [
    "flight.info()"
   ]
  },
  {
   "cell_type": "code",
   "execution_count": 4,
   "id": "b2b8a7e9",
   "metadata": {},
   "outputs": [],
   "source": [
    "#Some Useless Columns:\n",
    "#1>Flight_Number_Marketing_Airline\n",
    "#2>Operated_or_Branded_Code_Share_Partners \n",
    "#3>DOT_ID_Marketing_Airline                   \n",
    "#4>IATA_Code_Marketing_Airline              \n",
    "#5>Flight_Number_Marketing_Airline\n",
    "#6>Operating_Airline\n",
    "#7>DOT_ID_Operating_Airline                   \n",
    "#8>IATA_Code_Operating_Airline               \n",
    "#9>Tail_Number                               \n",
    "#10>Flight_Number_Operating_Airline\n",
    "#11>OriginAirportID\n",
    "#13>OriginStateFips\n",
    "#14>OriginAirportSeqID                         \n",
    "#15>OriginCityMarketID\n",
    "#16>OriginWac\n",
    "#17>DestAirportID                             \n",
    "#18>DestAirportSeqID                          \n",
    "#19>DestCityMarketID \n",
    "#20>DestStateFips                          \n",
    "#21>DestWac\n",
    "#22>Marketing_Airline_Network \n",
    "#23>\"Year\"\n",
    "#24>FlightDate\n",
    "#Dropping them"
   ]
  },
  {
   "cell_type": "code",
   "execution_count": 5,
   "id": "f26e85ba",
   "metadata": {},
   "outputs": [],
   "source": [
    "flight2=flight.drop([\"FlightDate\",\"Year\",\"Marketing_Airline_Network\",\"Flight_Number_Marketing_Airline\",\"Operated_or_Branded_Code_Share_Partners\",\"DOT_ID_Marketing_Airline\",\n",
    "\"IATA_Code_Marketing_Airline\",\"Flight_Number_Marketing_Airline\",\"Operating_Airline\",\"DOT_ID_Operating_Airline\",\"IATA_Code_Operating_Airline\",\n",
    "\"Tail_Number\",\"Flight_Number_Operating_Airline\",\"OriginAirportID\",\"OriginStateFips\",\"OriginAirportSeqID\",\n",
    "\"OriginCityMarketID\",\"OriginWac\",\"DestAirportID\",\"DestAirportSeqID\",\"DestCityMarketID\", \"DestStateFips\",\"DestWac\",\"OriginState\",\"DestState\"],axis=1)"
   ]
  },
  {
   "cell_type": "code",
   "execution_count": 6,
   "id": "4cdea141",
   "metadata": {},
   "outputs": [
    {
     "name": "stdout",
     "output_type": "stream",
     "text": [
      "<class 'pandas.core.frame.DataFrame'>\n",
      "RangeIndex: 1048575 entries, 0 to 1048574\n",
      "Data columns (total 37 columns):\n",
      " #   Column                Non-Null Count    Dtype  \n",
      "---  ------                --------------    -----  \n",
      " 0   Airline               1048575 non-null  object \n",
      " 1   Origin                1048575 non-null  object \n",
      " 2   Dest                  1048575 non-null  object \n",
      " 3   Cancelled             1048575 non-null  bool   \n",
      " 4   Diverted              1048575 non-null  bool   \n",
      " 5   CRSDepTime            1048575 non-null  int64  \n",
      " 6   DepTime               1032002 non-null  float64\n",
      " 7   DepDelayMinutes       1031514 non-null  float64\n",
      " 8   DepDelay              1031514 non-null  float64\n",
      " 9   ArrTime               1031060 non-null  float64\n",
      " 10  ArrDelayMinutes       1029014 non-null  float64\n",
      " 11  AirTime               1028355 non-null  float64\n",
      " 12  CRSElapsedTime        1048575 non-null  int64  \n",
      " 13  ActualElapsedTime     1029216 non-null  float64\n",
      " 14  Distance              1048575 non-null  int64  \n",
      " 15  Quarter               1048575 non-null  int64  \n",
      " 16  Month                 1048575 non-null  int64  \n",
      " 17  DayofMonth            1048575 non-null  int64  \n",
      " 18  DayOfWeek             1048575 non-null  int64  \n",
      " 19  OriginCityName        1048575 non-null  object \n",
      " 20  OriginStateName       1048575 non-null  object \n",
      " 21  DestCityName          1048575 non-null  object \n",
      " 22  DestStateName         1048575 non-null  object \n",
      " 23  DepDel15              1031514 non-null  float64\n",
      " 24  DepartureDelayGroups  1031514 non-null  float64\n",
      " 25  DepTimeBlk            1048575 non-null  object \n",
      " 26  TaxiOut               1030819 non-null  float64\n",
      " 27  WheelsOff             1030828 non-null  float64\n",
      " 28  WheelsOn              1030208 non-null  float64\n",
      " 29  TaxiIn                1030199 non-null  float64\n",
      " 30  CRSArrTime            1048575 non-null  int64  \n",
      " 31  ArrDelay              1029014 non-null  float64\n",
      " 32  ArrDel15              1029014 non-null  float64\n",
      " 33  ArrivalDelayGroups    1029014 non-null  float64\n",
      " 34  ArrTimeBlk            1048575 non-null  object \n",
      " 35  DistanceGroup         1048575 non-null  int64  \n",
      " 36  DivAirportLandings    1048575 non-null  int64  \n",
      "dtypes: bool(2), float64(16), int64(10), object(9)\n",
      "memory usage: 282.0+ MB\n"
     ]
    }
   ],
   "source": [
    "flight2.info()"
   ]
  },
  {
   "cell_type": "code",
   "execution_count": 7,
   "id": "157b27ed",
   "metadata": {},
   "outputs": [
    {
     "data": {
      "text/html": [
       "<div>\n",
       "<style scoped>\n",
       "    .dataframe tbody tr th:only-of-type {\n",
       "        vertical-align: middle;\n",
       "    }\n",
       "\n",
       "    .dataframe tbody tr th {\n",
       "        vertical-align: top;\n",
       "    }\n",
       "\n",
       "    .dataframe thead th {\n",
       "        text-align: right;\n",
       "    }\n",
       "</style>\n",
       "<table border=\"1\" class=\"dataframe\">\n",
       "  <thead>\n",
       "    <tr style=\"text-align: right;\">\n",
       "      <th></th>\n",
       "      <th>Airline</th>\n",
       "      <th>Origin</th>\n",
       "      <th>Dest</th>\n",
       "      <th>Cancelled</th>\n",
       "      <th>Diverted</th>\n",
       "      <th>CRSDepTime</th>\n",
       "      <th>DepTime</th>\n",
       "      <th>DepDelayMinutes</th>\n",
       "      <th>DepDelay</th>\n",
       "      <th>ArrTime</th>\n",
       "      <th>...</th>\n",
       "      <th>WheelsOff</th>\n",
       "      <th>WheelsOn</th>\n",
       "      <th>TaxiIn</th>\n",
       "      <th>CRSArrTime</th>\n",
       "      <th>ArrDelay</th>\n",
       "      <th>ArrDel15</th>\n",
       "      <th>ArrivalDelayGroups</th>\n",
       "      <th>ArrTimeBlk</th>\n",
       "      <th>DistanceGroup</th>\n",
       "      <th>DivAirportLandings</th>\n",
       "    </tr>\n",
       "  </thead>\n",
       "  <tbody>\n",
       "    <tr>\n",
       "      <th>0</th>\n",
       "      <td>Endeavor Air Inc.</td>\n",
       "      <td>ABY</td>\n",
       "      <td>ATL</td>\n",
       "      <td>False</td>\n",
       "      <td>False</td>\n",
       "      <td>1202</td>\n",
       "      <td>1157.0</td>\n",
       "      <td>0.0</td>\n",
       "      <td>-5.0</td>\n",
       "      <td>1256.0</td>\n",
       "      <td>...</td>\n",
       "      <td>1211.0</td>\n",
       "      <td>1249.0</td>\n",
       "      <td>7.0</td>\n",
       "      <td>1304</td>\n",
       "      <td>-8.0</td>\n",
       "      <td>0.0</td>\n",
       "      <td>-1.0</td>\n",
       "      <td>1300-1359</td>\n",
       "      <td>1</td>\n",
       "      <td>0</td>\n",
       "    </tr>\n",
       "    <tr>\n",
       "      <th>1</th>\n",
       "      <td>Endeavor Air Inc.</td>\n",
       "      <td>ABY</td>\n",
       "      <td>ATL</td>\n",
       "      <td>False</td>\n",
       "      <td>False</td>\n",
       "      <td>1202</td>\n",
       "      <td>1157.0</td>\n",
       "      <td>0.0</td>\n",
       "      <td>-5.0</td>\n",
       "      <td>1258.0</td>\n",
       "      <td>...</td>\n",
       "      <td>1210.0</td>\n",
       "      <td>1246.0</td>\n",
       "      <td>12.0</td>\n",
       "      <td>1304</td>\n",
       "      <td>-6.0</td>\n",
       "      <td>0.0</td>\n",
       "      <td>-1.0</td>\n",
       "      <td>1300-1359</td>\n",
       "      <td>1</td>\n",
       "      <td>0</td>\n",
       "    </tr>\n",
       "    <tr>\n",
       "      <th>2</th>\n",
       "      <td>Endeavor Air Inc.</td>\n",
       "      <td>ABY</td>\n",
       "      <td>ATL</td>\n",
       "      <td>False</td>\n",
       "      <td>False</td>\n",
       "      <td>1202</td>\n",
       "      <td>1153.0</td>\n",
       "      <td>0.0</td>\n",
       "      <td>-9.0</td>\n",
       "      <td>1302.0</td>\n",
       "      <td>...</td>\n",
       "      <td>1211.0</td>\n",
       "      <td>1251.0</td>\n",
       "      <td>11.0</td>\n",
       "      <td>1304</td>\n",
       "      <td>-2.0</td>\n",
       "      <td>0.0</td>\n",
       "      <td>-1.0</td>\n",
       "      <td>1300-1359</td>\n",
       "      <td>1</td>\n",
       "      <td>0</td>\n",
       "    </tr>\n",
       "    <tr>\n",
       "      <th>3</th>\n",
       "      <td>Endeavor Air Inc.</td>\n",
       "      <td>ABY</td>\n",
       "      <td>ATL</td>\n",
       "      <td>False</td>\n",
       "      <td>False</td>\n",
       "      <td>1202</td>\n",
       "      <td>1150.0</td>\n",
       "      <td>0.0</td>\n",
       "      <td>-12.0</td>\n",
       "      <td>1253.0</td>\n",
       "      <td>...</td>\n",
       "      <td>1207.0</td>\n",
       "      <td>1242.0</td>\n",
       "      <td>11.0</td>\n",
       "      <td>1304</td>\n",
       "      <td>-11.0</td>\n",
       "      <td>0.0</td>\n",
       "      <td>-1.0</td>\n",
       "      <td>1300-1359</td>\n",
       "      <td>1</td>\n",
       "      <td>0</td>\n",
       "    </tr>\n",
       "    <tr>\n",
       "      <th>4</th>\n",
       "      <td>Endeavor Air Inc.</td>\n",
       "      <td>ABY</td>\n",
       "      <td>ATL</td>\n",
       "      <td>False</td>\n",
       "      <td>False</td>\n",
       "      <td>1400</td>\n",
       "      <td>1355.0</td>\n",
       "      <td>0.0</td>\n",
       "      <td>-5.0</td>\n",
       "      <td>1459.0</td>\n",
       "      <td>...</td>\n",
       "      <td>1412.0</td>\n",
       "      <td>1448.0</td>\n",
       "      <td>11.0</td>\n",
       "      <td>1500</td>\n",
       "      <td>-1.0</td>\n",
       "      <td>0.0</td>\n",
       "      <td>-1.0</td>\n",
       "      <td>1500-1559</td>\n",
       "      <td>1</td>\n",
       "      <td>0</td>\n",
       "    </tr>\n",
       "  </tbody>\n",
       "</table>\n",
       "<p>5 rows × 37 columns</p>\n",
       "</div>"
      ],
      "text/plain": [
       "             Airline Origin Dest  Cancelled  Diverted  CRSDepTime  DepTime  \\\n",
       "0  Endeavor Air Inc.    ABY  ATL      False     False        1202   1157.0   \n",
       "1  Endeavor Air Inc.    ABY  ATL      False     False        1202   1157.0   \n",
       "2  Endeavor Air Inc.    ABY  ATL      False     False        1202   1153.0   \n",
       "3  Endeavor Air Inc.    ABY  ATL      False     False        1202   1150.0   \n",
       "4  Endeavor Air Inc.    ABY  ATL      False     False        1400   1355.0   \n",
       "\n",
       "   DepDelayMinutes  DepDelay  ArrTime  ...  WheelsOff  WheelsOn  TaxiIn  \\\n",
       "0              0.0      -5.0   1256.0  ...     1211.0    1249.0     7.0   \n",
       "1              0.0      -5.0   1258.0  ...     1210.0    1246.0    12.0   \n",
       "2              0.0      -9.0   1302.0  ...     1211.0    1251.0    11.0   \n",
       "3              0.0     -12.0   1253.0  ...     1207.0    1242.0    11.0   \n",
       "4              0.0      -5.0   1459.0  ...     1412.0    1448.0    11.0   \n",
       "\n",
       "   CRSArrTime  ArrDelay  ArrDel15  ArrivalDelayGroups  ArrTimeBlk  \\\n",
       "0        1304      -8.0       0.0                -1.0   1300-1359   \n",
       "1        1304      -6.0       0.0                -1.0   1300-1359   \n",
       "2        1304      -2.0       0.0                -1.0   1300-1359   \n",
       "3        1304     -11.0       0.0                -1.0   1300-1359   \n",
       "4        1500      -1.0       0.0                -1.0   1500-1559   \n",
       "\n",
       "   DistanceGroup DivAirportLandings  \n",
       "0              1                  0  \n",
       "1              1                  0  \n",
       "2              1                  0  \n",
       "3              1                  0  \n",
       "4              1                  0  \n",
       "\n",
       "[5 rows x 37 columns]"
      ]
     },
     "execution_count": 7,
     "metadata": {},
     "output_type": "execute_result"
    }
   ],
   "source": [
    "flight2.head()"
   ]
  },
  {
   "cell_type": "code",
   "execution_count": 8,
   "id": "bfe109d8",
   "metadata": {},
   "outputs": [
    {
     "data": {
      "text/plain": [
       "Airline                     0\n",
       "Origin                      0\n",
       "Dest                        0\n",
       "Cancelled                   0\n",
       "Diverted                    0\n",
       "CRSDepTime                  0\n",
       "DepTime                 16573\n",
       "DepDelayMinutes         17061\n",
       "DepDelay                17061\n",
       "ArrTime                 17515\n",
       "ArrDelayMinutes         19561\n",
       "AirTime                 20220\n",
       "CRSElapsedTime              0\n",
       "ActualElapsedTime       19359\n",
       "Distance                    0\n",
       "Quarter                     0\n",
       "Month                       0\n",
       "DayofMonth                  0\n",
       "DayOfWeek                   0\n",
       "OriginCityName              0\n",
       "OriginStateName             0\n",
       "DestCityName                0\n",
       "DestStateName               0\n",
       "DepDel15                17061\n",
       "DepartureDelayGroups    17061\n",
       "DepTimeBlk                  0\n",
       "TaxiOut                 17756\n",
       "WheelsOff               17747\n",
       "WheelsOn                18367\n",
       "TaxiIn                  18376\n",
       "CRSArrTime                  0\n",
       "ArrDelay                19561\n",
       "ArrDel15                19561\n",
       "ArrivalDelayGroups      19561\n",
       "ArrTimeBlk                  0\n",
       "DistanceGroup               0\n",
       "DivAirportLandings          0\n",
       "dtype: int64"
      ]
     },
     "execution_count": 8,
     "metadata": {},
     "output_type": "execute_result"
    }
   ],
   "source": [
    "flight2.isnull().sum()"
   ]
  },
  {
   "cell_type": "code",
   "execution_count": 9,
   "id": "44b06717",
   "metadata": {},
   "outputs": [
    {
     "name": "stdout",
     "output_type": "stream",
     "text": [
      "0.0       706275\n",
      "1.0        21469\n",
      "2.0        16983\n",
      "3.0        14754\n",
      "4.0        13319\n",
      "           ...  \n",
      "752.0          1\n",
      "1168.0         1\n",
      "645.0          1\n",
      "724.0          1\n",
      "1132.0         1\n",
      "Name: DepDelayMinutes, Length: 1052, dtype: int64\n"
     ]
    }
   ],
   "source": [
    "print(flight[\"DepDelayMinutes\"].value_counts())"
   ]
  },
  {
   "cell_type": "code",
   "execution_count": 10,
   "id": "79089c06",
   "metadata": {},
   "outputs": [
    {
     "name": "stdout",
     "output_type": "stream",
     "text": [
      "-5.0       84344\n",
      "-4.0       79654\n",
      "-3.0       76187\n",
      "-2.0       68532\n",
      "-6.0       67489\n",
      "           ...  \n",
      " 1418.0        1\n",
      " 1032.0        1\n",
      " 937.0         1\n",
      " 869.0         1\n",
      " 1020.0        1\n",
      "Name: DepDelay, Length: 1162, dtype: int64\n"
     ]
    }
   ],
   "source": [
    "print(flight[\"DepDelay\"].value_counts())"
   ]
  },
  {
   "cell_type": "code",
   "execution_count": 11,
   "id": "ee6b85a2",
   "metadata": {},
   "outputs": [
    {
     "name": "stdout",
     "output_type": "stream",
     "text": [
      "0.0    860830\n",
      "1.0    170684\n",
      "Name: DepDel15, dtype: int64\n"
     ]
    }
   ],
   "source": [
    "print(flight[\"DepDel15\"].value_counts())"
   ]
  },
  {
   "cell_type": "code",
   "execution_count": 12,
   "id": "b69b7a2e",
   "metadata": {},
   "outputs": [
    {
     "name": "stdout",
     "output_type": "stream",
     "text": [
      "-1.0     647834\n",
      " 0.0     204086\n",
      " 1.0      61959\n",
      " 2.0      32487\n",
      " 3.0      20037\n",
      " 4.0      12990\n",
      " 12.0     10022\n",
      " 5.0       9263\n",
      "-2.0       8910\n",
      " 6.0       6805\n",
      " 7.0       5341\n",
      " 8.0       4004\n",
      " 9.0       3157\n",
      " 10.0      2555\n",
      " 11.0      2064\n",
      "Name: DepartureDelayGroups, dtype: int64\n"
     ]
    }
   ],
   "source": [
    "print(flight[\"DepartureDelayGroups\"].value_counts())"
   ]
  },
  {
   "cell_type": "code",
   "execution_count": 13,
   "id": "b568889d",
   "metadata": {},
   "outputs": [
    {
     "name": "stdout",
     "output_type": "stream",
     "text": [
      "2     271985\n",
      "3     204999\n",
      "4     154129\n",
      "1     152274\n",
      "5     101676\n",
      "7      42164\n",
      "6      41447\n",
      "10     25696\n",
      "8      20987\n",
      "11     18588\n",
      "9      14630\n",
      "Name: DistanceGroup, dtype: int64\n"
     ]
    }
   ],
   "source": [
    "print(flight[\"DistanceGroup\"].value_counts())"
   ]
  },
  {
   "cell_type": "code",
   "execution_count": 14,
   "id": "7c925491",
   "metadata": {},
   "outputs": [
    {
     "name": "stdout",
     "output_type": "stream",
     "text": [
      "0    1046115\n",
      "1       2265\n",
      "9        167\n",
      "2         28\n",
      "Name: DivAirportLandings, dtype: int64\n"
     ]
    }
   ],
   "source": [
    "print(flight[\"DivAirportLandings\"].value_counts())"
   ]
  },
  {
   "cell_type": "code",
   "execution_count": 15,
   "id": "f7effbd7",
   "metadata": {},
   "outputs": [],
   "source": [
    "# For departure and arrival delay we already have 2 columns. Thus we remove the ones which has -ve values "
   ]
  },
  {
   "cell_type": "code",
   "execution_count": 16,
   "id": "6e44a1cf",
   "metadata": {},
   "outputs": [],
   "source": [
    "flight3 = flight2.drop([\"DepDelay\",\"ArrDelay\"],axis=1)"
   ]
  },
  {
   "cell_type": "code",
   "execution_count": 17,
   "id": "eec9e065",
   "metadata": {},
   "outputs": [
    {
     "name": "stdout",
     "output_type": "stream",
     "text": [
      "<class 'pandas.core.frame.DataFrame'>\n",
      "RangeIndex: 1048575 entries, 0 to 1048574\n",
      "Data columns (total 35 columns):\n",
      " #   Column                Non-Null Count    Dtype  \n",
      "---  ------                --------------    -----  \n",
      " 0   Airline               1048575 non-null  object \n",
      " 1   Origin                1048575 non-null  object \n",
      " 2   Dest                  1048575 non-null  object \n",
      " 3   Cancelled             1048575 non-null  bool   \n",
      " 4   Diverted              1048575 non-null  bool   \n",
      " 5   CRSDepTime            1048575 non-null  int64  \n",
      " 6   DepTime               1032002 non-null  float64\n",
      " 7   DepDelayMinutes       1031514 non-null  float64\n",
      " 8   ArrTime               1031060 non-null  float64\n",
      " 9   ArrDelayMinutes       1029014 non-null  float64\n",
      " 10  AirTime               1028355 non-null  float64\n",
      " 11  CRSElapsedTime        1048575 non-null  int64  \n",
      " 12  ActualElapsedTime     1029216 non-null  float64\n",
      " 13  Distance              1048575 non-null  int64  \n",
      " 14  Quarter               1048575 non-null  int64  \n",
      " 15  Month                 1048575 non-null  int64  \n",
      " 16  DayofMonth            1048575 non-null  int64  \n",
      " 17  DayOfWeek             1048575 non-null  int64  \n",
      " 18  OriginCityName        1048575 non-null  object \n",
      " 19  OriginStateName       1048575 non-null  object \n",
      " 20  DestCityName          1048575 non-null  object \n",
      " 21  DestStateName         1048575 non-null  object \n",
      " 22  DepDel15              1031514 non-null  float64\n",
      " 23  DepartureDelayGroups  1031514 non-null  float64\n",
      " 24  DepTimeBlk            1048575 non-null  object \n",
      " 25  TaxiOut               1030819 non-null  float64\n",
      " 26  WheelsOff             1030828 non-null  float64\n",
      " 27  WheelsOn              1030208 non-null  float64\n",
      " 28  TaxiIn                1030199 non-null  float64\n",
      " 29  CRSArrTime            1048575 non-null  int64  \n",
      " 30  ArrDel15              1029014 non-null  float64\n",
      " 31  ArrivalDelayGroups    1029014 non-null  float64\n",
      " 32  ArrTimeBlk            1048575 non-null  object \n",
      " 33  DistanceGroup         1048575 non-null  int64  \n",
      " 34  DivAirportLandings    1048575 non-null  int64  \n",
      "dtypes: bool(2), float64(14), int64(10), object(9)\n",
      "memory usage: 266.0+ MB\n"
     ]
    }
   ],
   "source": [
    "flight3.info()"
   ]
  },
  {
   "cell_type": "code",
   "execution_count": null,
   "id": "242c6cb3",
   "metadata": {},
   "outputs": [],
   "source": []
  },
  {
   "cell_type": "code",
   "execution_count": 18,
   "id": "e185ae39",
   "metadata": {},
   "outputs": [
    {
     "data": {
      "text/plain": [
       "Index(['Airline', 'Origin', 'Dest', 'Cancelled', 'Diverted', 'CRSDepTime',\n",
       "       'DepTime', 'DepDelayMinutes', 'ArrTime', 'ArrDelayMinutes', 'AirTime',\n",
       "       'CRSElapsedTime', 'ActualElapsedTime', 'Distance', 'Quarter', 'Month',\n",
       "       'DayofMonth', 'DayOfWeek', 'OriginCityName', 'OriginStateName',\n",
       "       'DestCityName', 'DestStateName', 'DepDel15', 'DepartureDelayGroups',\n",
       "       'DepTimeBlk', 'TaxiOut', 'WheelsOff', 'WheelsOn', 'TaxiIn',\n",
       "       'CRSArrTime', 'ArrDel15', 'ArrivalDelayGroups', 'ArrTimeBlk',\n",
       "       'DistanceGroup', 'DivAirportLandings'],\n",
       "      dtype='object')"
      ]
     },
     "execution_count": 18,
     "metadata": {},
     "output_type": "execute_result"
    }
   ],
   "source": [
    "flight3.columns"
   ]
  },
  {
   "cell_type": "markdown",
   "id": "d275f393",
   "metadata": {},
   "source": [
    "# PROBLEM 1:Predict which flights will be cancelled or delayed(Classification)"
   ]
  },
  {
   "cell_type": "code",
   "execution_count": 19,
   "id": "3f6f7f8e",
   "metadata": {},
   "outputs": [
    {
     "name": "stdout",
     "output_type": "stream",
     "text": [
      "<class 'pandas.core.frame.DataFrame'>\n",
      "RangeIndex: 1048575 entries, 0 to 1048574\n",
      "Data columns (total 35 columns):\n",
      " #   Column                Non-Null Count    Dtype  \n",
      "---  ------                --------------    -----  \n",
      " 0   Airline               1048575 non-null  object \n",
      " 1   Origin                1048575 non-null  object \n",
      " 2   Dest                  1048575 non-null  object \n",
      " 3   Cancelled             1048575 non-null  bool   \n",
      " 4   Diverted              1048575 non-null  bool   \n",
      " 5   CRSDepTime            1048575 non-null  int64  \n",
      " 6   DepTime               1032002 non-null  float64\n",
      " 7   DepDelayMinutes       1031514 non-null  float64\n",
      " 8   ArrTime               1031060 non-null  float64\n",
      " 9   ArrDelayMinutes       1029014 non-null  float64\n",
      " 10  AirTime               1028355 non-null  float64\n",
      " 11  CRSElapsedTime        1048575 non-null  int64  \n",
      " 12  ActualElapsedTime     1029216 non-null  float64\n",
      " 13  Distance              1048575 non-null  int64  \n",
      " 14  Quarter               1048575 non-null  int64  \n",
      " 15  Month                 1048575 non-null  int64  \n",
      " 16  DayofMonth            1048575 non-null  int64  \n",
      " 17  DayOfWeek             1048575 non-null  int64  \n",
      " 18  OriginCityName        1048575 non-null  object \n",
      " 19  OriginStateName       1048575 non-null  object \n",
      " 20  DestCityName          1048575 non-null  object \n",
      " 21  DestStateName         1048575 non-null  object \n",
      " 22  DepDel15              1031514 non-null  float64\n",
      " 23  DepartureDelayGroups  1031514 non-null  float64\n",
      " 24  DepTimeBlk            1048575 non-null  object \n",
      " 25  TaxiOut               1030819 non-null  float64\n",
      " 26  WheelsOff             1030828 non-null  float64\n",
      " 27  WheelsOn              1030208 non-null  float64\n",
      " 28  TaxiIn                1030199 non-null  float64\n",
      " 29  CRSArrTime            1048575 non-null  int64  \n",
      " 30  ArrDel15              1029014 non-null  float64\n",
      " 31  ArrivalDelayGroups    1029014 non-null  float64\n",
      " 32  ArrTimeBlk            1048575 non-null  object \n",
      " 33  DistanceGroup         1048575 non-null  int64  \n",
      " 34  DivAirportLandings    1048575 non-null  int64  \n",
      "dtypes: bool(2), float64(14), int64(10), object(9)\n",
      "memory usage: 266.0+ MB\n"
     ]
    }
   ],
   "source": [
    "flight3.info()"
   ]
  },
  {
   "cell_type": "markdown",
   "id": "d48b17fb",
   "metadata": {},
   "source": [
    "# GLOSSARY"
   ]
  },
  {
   "cell_type": "markdown",
   "id": "07add74a",
   "metadata": {},
   "source": [
    "#Airline = Airline Names\n",
    "#Origin =  Starting Airport\n",
    "#Dest =   Destination Airport\n",
    "#Cancelled = Cancelled Flights(1 = cancelled)\n",
    "#Diverted = Aircraft landed on different airport that the one scheduled\n",
    "#CRSDepTime = Planned Departure Time\n",
    "#DepTime = Actual Departure Time(WHEEL_OFF - TAXI_OUT)\n",
    "#DepDelayMinutes =  Total Delay on Departure in minutes\n",
    "#ArrTime =  Actual Arrival Time( WHEELS_ON + TAXI_IN)\n",
    "#ArrDelayMinutes = Total Delay on Arrival in minutes\n",
    "#AirTime = The time duration between wheels_off and wheels_on time\n",
    "#CRSElapsedTime = Planned or scheduled time amount needed for the flight trip\n",
    "#ActualElapsedTime = Actual Time the flight travels in air\n",
    "#Distance = Distance between airports \n",
    "#Quarter = \n",
    "#Month= \n",
    "#DayofMonth = \n",
    "#DayOfWeek = \n",
    "#OriginCityName\n",
    "#OriginState\n",
    "#OriginStateName\n",
    "#DestCityName\n",
    "#DestState\n",
    "#DestStateName\n",
    "#DepDel15= Departure Delay Indicator, 15 Minutes or More (1=Yes)\n",
    "#DepartureDelayGroups = \n",
    "#DepTimeBlk = CRS Departure Time Block, Hourly Intervals\n",
    "\n",
    "\n",
    "\n",
    "#WheelsOff = The time point that the aircraft's wheels leave the ground\n",
    "\n",
    "#WheelsOn = The time point that the aircraft's wheels touch on the ground\n",
    "\n",
    "#TaxiIn = The time duration elapsed between wheels-on and gate arrival at the destination airport\n",
    "\n",
    "#TaxiOut = The time duration elapsed between departure from the origin airport gate and wheels off\n",
    "\n",
    "#CRSArrTime\n",
    "#ArrDel15\n",
    "#ArrivalDelayGroups\n",
    "#ArrTimeBlk = CRS Arrival Time Block, Hourly Intervals\n",
    "#DistanceGroup\n",
    "#DivAirportLandings\n",
    "\n",
    "\n",
    "\n",
    "#Distance = Distance between airports\n",
    "#TaxiOut\n",
    "#WheelsOff\n",
    "#WheelsOn\n",
    "#DistanceGroup"
   ]
  },
  {
   "cell_type": "code",
   "execution_count": 20,
   "id": "8a36e472",
   "metadata": {},
   "outputs": [
    {
     "data": {
      "text/plain": [
       "Airline                     0\n",
       "Origin                      0\n",
       "Dest                        0\n",
       "Cancelled                   0\n",
       "Diverted                    0\n",
       "CRSDepTime                  0\n",
       "DepTime                 16573\n",
       "DepDelayMinutes         17061\n",
       "ArrTime                 17515\n",
       "ArrDelayMinutes         19561\n",
       "AirTime                 20220\n",
       "CRSElapsedTime              0\n",
       "ActualElapsedTime       19359\n",
       "Distance                    0\n",
       "Quarter                     0\n",
       "Month                       0\n",
       "DayofMonth                  0\n",
       "DayOfWeek                   0\n",
       "OriginCityName              0\n",
       "OriginStateName             0\n",
       "DestCityName                0\n",
       "DestStateName               0\n",
       "DepDel15                17061\n",
       "DepartureDelayGroups    17061\n",
       "DepTimeBlk                  0\n",
       "TaxiOut                 17756\n",
       "WheelsOff               17747\n",
       "WheelsOn                18367\n",
       "TaxiIn                  18376\n",
       "CRSArrTime                  0\n",
       "ArrDel15                19561\n",
       "ArrivalDelayGroups      19561\n",
       "ArrTimeBlk                  0\n",
       "DistanceGroup               0\n",
       "DivAirportLandings          0\n",
       "dtype: int64"
      ]
     },
     "execution_count": 20,
     "metadata": {},
     "output_type": "execute_result"
    }
   ],
   "source": [
    "flight3.isnull().sum()"
   ]
  },
  {
   "cell_type": "code",
   "execution_count": 21,
   "id": "de08345e",
   "metadata": {},
   "outputs": [],
   "source": [
    "flight3.dropna(subset=[\"DepDel15\",\"ArrDel15\"], axis=0, inplace=True)"
   ]
  },
  {
   "cell_type": "code",
   "execution_count": 22,
   "id": "cfd72710",
   "metadata": {},
   "outputs": [],
   "source": [
    "flight3.reset_index(drop=True, inplace=True)"
   ]
  },
  {
   "cell_type": "code",
   "execution_count": 23,
   "id": "761a6016",
   "metadata": {},
   "outputs": [
    {
     "data": {
      "text/plain": [
       "Airline                   0\n",
       "Origin                    0\n",
       "Dest                      0\n",
       "Cancelled                 0\n",
       "Diverted                  0\n",
       "CRSDepTime                0\n",
       "DepTime                   0\n",
       "DepDelayMinutes           0\n",
       "ArrTime                   0\n",
       "ArrDelayMinutes           0\n",
       "AirTime                 861\n",
       "CRSElapsedTime            0\n",
       "ActualElapsedTime         0\n",
       "Distance                  0\n",
       "Quarter                   0\n",
       "Month                     0\n",
       "DayofMonth                0\n",
       "DayOfWeek                 0\n",
       "OriginCityName            0\n",
       "OriginStateName           0\n",
       "DestCityName              0\n",
       "DestStateName             0\n",
       "DepDel15                  0\n",
       "DepartureDelayGroups      0\n",
       "DepTimeBlk                0\n",
       "TaxiOut                 857\n",
       "WheelsOff               857\n",
       "WheelsOn                852\n",
       "TaxiIn                  852\n",
       "CRSArrTime                0\n",
       "ArrDel15                  0\n",
       "ArrivalDelayGroups        0\n",
       "ArrTimeBlk                0\n",
       "DistanceGroup             0\n",
       "DivAirportLandings        0\n",
       "dtype: int64"
      ]
     },
     "execution_count": 23,
     "metadata": {},
     "output_type": "execute_result"
    }
   ],
   "source": [
    "flight3.isnull().sum()"
   ]
  },
  {
   "cell_type": "code",
   "execution_count": null,
   "id": "fe0313af",
   "metadata": {},
   "outputs": [],
   "source": []
  },
  {
   "cell_type": "code",
   "execution_count": 24,
   "id": "da097d7c",
   "metadata": {},
   "outputs": [],
   "source": [
    "flight4 = flight3.drop([\"CRSDepTime\",\"DepTime\",\"ArrTime\",\"CRSArrTime\",\"WheelsOff\",\"WheelsOn\"],axis=1)"
   ]
  },
  {
   "cell_type": "code",
   "execution_count": 25,
   "id": "a72c0975",
   "metadata": {},
   "outputs": [
    {
     "data": {
      "text/plain": [
       "Airline                  object\n",
       "Origin                   object\n",
       "Dest                     object\n",
       "Cancelled                  bool\n",
       "Diverted                   bool\n",
       "DepDelayMinutes         float64\n",
       "ArrDelayMinutes         float64\n",
       "AirTime                 float64\n",
       "CRSElapsedTime            int64\n",
       "ActualElapsedTime       float64\n",
       "Distance                  int64\n",
       "Quarter                   int64\n",
       "Month                     int64\n",
       "DayofMonth                int64\n",
       "DayOfWeek                 int64\n",
       "OriginCityName           object\n",
       "OriginStateName          object\n",
       "DestCityName             object\n",
       "DestStateName            object\n",
       "DepDel15                float64\n",
       "DepartureDelayGroups    float64\n",
       "DepTimeBlk               object\n",
       "TaxiOut                 float64\n",
       "TaxiIn                  float64\n",
       "ArrDel15                float64\n",
       "ArrivalDelayGroups      float64\n",
       "ArrTimeBlk               object\n",
       "DistanceGroup             int64\n",
       "DivAirportLandings        int64\n",
       "dtype: object"
      ]
     },
     "execution_count": 25,
     "metadata": {},
     "output_type": "execute_result"
    }
   ],
   "source": [
    "flight4.dtypes"
   ]
  },
  {
   "cell_type": "code",
   "execution_count": null,
   "id": "2cc60b58",
   "metadata": {},
   "outputs": [],
   "source": []
  },
  {
   "cell_type": "code",
   "execution_count": null,
   "id": "b6a78028",
   "metadata": {},
   "outputs": [],
   "source": []
  },
  {
   "cell_type": "code",
   "execution_count": null,
   "id": "e97d2aaa",
   "metadata": {},
   "outputs": [],
   "source": []
  },
  {
   "cell_type": "code",
   "execution_count": 26,
   "id": "a43d944f",
   "metadata": {},
   "outputs": [],
   "source": [
    "import random\n",
    "import sklearn.neighbors._base\n",
    "import sys\n",
    "sys.modules['sklearn.neighbors.base'] = sklearn.neighbors._base\n",
    "from missingpy import MissForest"
   ]
  },
  {
   "cell_type": "code",
   "execution_count": 27,
   "id": "9a77243b",
   "metadata": {},
   "outputs": [],
   "source": [
    "imputer = MissForest()"
   ]
  },
  {
   "cell_type": "code",
   "execution_count": 28,
   "id": "1fc9ec6f",
   "metadata": {},
   "outputs": [
    {
     "data": {
      "text/html": [
       "<div>\n",
       "<style scoped>\n",
       "    .dataframe tbody tr th:only-of-type {\n",
       "        vertical-align: middle;\n",
       "    }\n",
       "\n",
       "    .dataframe tbody tr th {\n",
       "        vertical-align: top;\n",
       "    }\n",
       "\n",
       "    .dataframe thead th {\n",
       "        text-align: right;\n",
       "    }\n",
       "</style>\n",
       "<table border=\"1\" class=\"dataframe\">\n",
       "  <thead>\n",
       "    <tr style=\"text-align: right;\">\n",
       "      <th></th>\n",
       "      <th>Airline</th>\n",
       "      <th>Origin</th>\n",
       "      <th>Dest</th>\n",
       "      <th>Cancelled</th>\n",
       "      <th>Diverted</th>\n",
       "      <th>DepDelayMinutes</th>\n",
       "      <th>ArrDelayMinutes</th>\n",
       "      <th>AirTime</th>\n",
       "      <th>CRSElapsedTime</th>\n",
       "      <th>ActualElapsedTime</th>\n",
       "      <th>...</th>\n",
       "      <th>DepDel15</th>\n",
       "      <th>DepartureDelayGroups</th>\n",
       "      <th>DepTimeBlk</th>\n",
       "      <th>TaxiOut</th>\n",
       "      <th>TaxiIn</th>\n",
       "      <th>ArrDel15</th>\n",
       "      <th>ArrivalDelayGroups</th>\n",
       "      <th>ArrTimeBlk</th>\n",
       "      <th>DistanceGroup</th>\n",
       "      <th>DivAirportLandings</th>\n",
       "    </tr>\n",
       "  </thead>\n",
       "  <tbody>\n",
       "    <tr>\n",
       "      <th>0</th>\n",
       "      <td>Endeavor Air Inc.</td>\n",
       "      <td>ABY</td>\n",
       "      <td>ATL</td>\n",
       "      <td>False</td>\n",
       "      <td>False</td>\n",
       "      <td>0.0</td>\n",
       "      <td>0.0</td>\n",
       "      <td>38.0</td>\n",
       "      <td>62</td>\n",
       "      <td>59.0</td>\n",
       "      <td>...</td>\n",
       "      <td>0.0</td>\n",
       "      <td>-1.0</td>\n",
       "      <td>1200-1259</td>\n",
       "      <td>14.0</td>\n",
       "      <td>7.0</td>\n",
       "      <td>0.0</td>\n",
       "      <td>-1.0</td>\n",
       "      <td>1300-1359</td>\n",
       "      <td>1</td>\n",
       "      <td>0</td>\n",
       "    </tr>\n",
       "    <tr>\n",
       "      <th>1</th>\n",
       "      <td>Endeavor Air Inc.</td>\n",
       "      <td>ABY</td>\n",
       "      <td>ATL</td>\n",
       "      <td>False</td>\n",
       "      <td>False</td>\n",
       "      <td>0.0</td>\n",
       "      <td>0.0</td>\n",
       "      <td>36.0</td>\n",
       "      <td>62</td>\n",
       "      <td>61.0</td>\n",
       "      <td>...</td>\n",
       "      <td>0.0</td>\n",
       "      <td>-1.0</td>\n",
       "      <td>1200-1259</td>\n",
       "      <td>13.0</td>\n",
       "      <td>12.0</td>\n",
       "      <td>0.0</td>\n",
       "      <td>-1.0</td>\n",
       "      <td>1300-1359</td>\n",
       "      <td>1</td>\n",
       "      <td>0</td>\n",
       "    </tr>\n",
       "    <tr>\n",
       "      <th>2</th>\n",
       "      <td>Endeavor Air Inc.</td>\n",
       "      <td>ABY</td>\n",
       "      <td>ATL</td>\n",
       "      <td>False</td>\n",
       "      <td>False</td>\n",
       "      <td>0.0</td>\n",
       "      <td>0.0</td>\n",
       "      <td>40.0</td>\n",
       "      <td>62</td>\n",
       "      <td>69.0</td>\n",
       "      <td>...</td>\n",
       "      <td>0.0</td>\n",
       "      <td>-1.0</td>\n",
       "      <td>1200-1259</td>\n",
       "      <td>18.0</td>\n",
       "      <td>11.0</td>\n",
       "      <td>0.0</td>\n",
       "      <td>-1.0</td>\n",
       "      <td>1300-1359</td>\n",
       "      <td>1</td>\n",
       "      <td>0</td>\n",
       "    </tr>\n",
       "    <tr>\n",
       "      <th>3</th>\n",
       "      <td>Endeavor Air Inc.</td>\n",
       "      <td>ABY</td>\n",
       "      <td>ATL</td>\n",
       "      <td>False</td>\n",
       "      <td>False</td>\n",
       "      <td>0.0</td>\n",
       "      <td>0.0</td>\n",
       "      <td>35.0</td>\n",
       "      <td>62</td>\n",
       "      <td>63.0</td>\n",
       "      <td>...</td>\n",
       "      <td>0.0</td>\n",
       "      <td>-1.0</td>\n",
       "      <td>1200-1259</td>\n",
       "      <td>17.0</td>\n",
       "      <td>11.0</td>\n",
       "      <td>0.0</td>\n",
       "      <td>-1.0</td>\n",
       "      <td>1300-1359</td>\n",
       "      <td>1</td>\n",
       "      <td>0</td>\n",
       "    </tr>\n",
       "    <tr>\n",
       "      <th>4</th>\n",
       "      <td>Endeavor Air Inc.</td>\n",
       "      <td>ABY</td>\n",
       "      <td>ATL</td>\n",
       "      <td>False</td>\n",
       "      <td>False</td>\n",
       "      <td>0.0</td>\n",
       "      <td>0.0</td>\n",
       "      <td>36.0</td>\n",
       "      <td>60</td>\n",
       "      <td>64.0</td>\n",
       "      <td>...</td>\n",
       "      <td>0.0</td>\n",
       "      <td>-1.0</td>\n",
       "      <td>1400-1459</td>\n",
       "      <td>17.0</td>\n",
       "      <td>11.0</td>\n",
       "      <td>0.0</td>\n",
       "      <td>-1.0</td>\n",
       "      <td>1500-1559</td>\n",
       "      <td>1</td>\n",
       "      <td>0</td>\n",
       "    </tr>\n",
       "    <tr>\n",
       "      <th>...</th>\n",
       "      <td>...</td>\n",
       "      <td>...</td>\n",
       "      <td>...</td>\n",
       "      <td>...</td>\n",
       "      <td>...</td>\n",
       "      <td>...</td>\n",
       "      <td>...</td>\n",
       "      <td>...</td>\n",
       "      <td>...</td>\n",
       "      <td>...</td>\n",
       "      <td>...</td>\n",
       "      <td>...</td>\n",
       "      <td>...</td>\n",
       "      <td>...</td>\n",
       "      <td>...</td>\n",
       "      <td>...</td>\n",
       "      <td>...</td>\n",
       "      <td>...</td>\n",
       "      <td>...</td>\n",
       "      <td>...</td>\n",
       "      <td>...</td>\n",
       "    </tr>\n",
       "    <tr>\n",
       "      <th>1028533</th>\n",
       "      <td>United Air Lines Inc.</td>\n",
       "      <td>SFO</td>\n",
       "      <td>OGG</td>\n",
       "      <td>False</td>\n",
       "      <td>False</td>\n",
       "      <td>1.0</td>\n",
       "      <td>0.0</td>\n",
       "      <td>288.0</td>\n",
       "      <td>328</td>\n",
       "      <td>325.0</td>\n",
       "      <td>...</td>\n",
       "      <td>0.0</td>\n",
       "      <td>0.0</td>\n",
       "      <td>1300-1359</td>\n",
       "      <td>31.0</td>\n",
       "      <td>6.0</td>\n",
       "      <td>0.0</td>\n",
       "      <td>-1.0</td>\n",
       "      <td>1500-1559</td>\n",
       "      <td>10</td>\n",
       "      <td>0</td>\n",
       "    </tr>\n",
       "    <tr>\n",
       "      <th>1028534</th>\n",
       "      <td>United Air Lines Inc.</td>\n",
       "      <td>FLL</td>\n",
       "      <td>EWR</td>\n",
       "      <td>False</td>\n",
       "      <td>False</td>\n",
       "      <td>0.0</td>\n",
       "      <td>6.0</td>\n",
       "      <td>153.0</td>\n",
       "      <td>173</td>\n",
       "      <td>186.0</td>\n",
       "      <td>...</td>\n",
       "      <td>0.0</td>\n",
       "      <td>-1.0</td>\n",
       "      <td>1200-1259</td>\n",
       "      <td>27.0</td>\n",
       "      <td>6.0</td>\n",
       "      <td>0.0</td>\n",
       "      <td>0.0</td>\n",
       "      <td>1500-1559</td>\n",
       "      <td>5</td>\n",
       "      <td>0</td>\n",
       "    </tr>\n",
       "    <tr>\n",
       "      <th>1028535</th>\n",
       "      <td>United Air Lines Inc.</td>\n",
       "      <td>BIL</td>\n",
       "      <td>DEN</td>\n",
       "      <td>False</td>\n",
       "      <td>False</td>\n",
       "      <td>0.0</td>\n",
       "      <td>0.0</td>\n",
       "      <td>66.0</td>\n",
       "      <td>86</td>\n",
       "      <td>90.0</td>\n",
       "      <td>...</td>\n",
       "      <td>0.0</td>\n",
       "      <td>-2.0</td>\n",
       "      <td>1300-1359</td>\n",
       "      <td>18.0</td>\n",
       "      <td>6.0</td>\n",
       "      <td>0.0</td>\n",
       "      <td>-2.0</td>\n",
       "      <td>1500-1559</td>\n",
       "      <td>2</td>\n",
       "      <td>0</td>\n",
       "    </tr>\n",
       "    <tr>\n",
       "      <th>1028536</th>\n",
       "      <td>United Air Lines Inc.</td>\n",
       "      <td>SFO</td>\n",
       "      <td>EWR</td>\n",
       "      <td>False</td>\n",
       "      <td>False</td>\n",
       "      <td>0.0</td>\n",
       "      <td>0.0</td>\n",
       "      <td>292.0</td>\n",
       "      <td>332</td>\n",
       "      <td>327.0</td>\n",
       "      <td>...</td>\n",
       "      <td>0.0</td>\n",
       "      <td>-1.0</td>\n",
       "      <td>1100-1159</td>\n",
       "      <td>25.0</td>\n",
       "      <td>10.0</td>\n",
       "      <td>0.0</td>\n",
       "      <td>-1.0</td>\n",
       "      <td>2000-2059</td>\n",
       "      <td>11</td>\n",
       "      <td>0</td>\n",
       "    </tr>\n",
       "    <tr>\n",
       "      <th>1028537</th>\n",
       "      <td>United Air Lines Inc.</td>\n",
       "      <td>HNL</td>\n",
       "      <td>LAX</td>\n",
       "      <td>False</td>\n",
       "      <td>False</td>\n",
       "      <td>75.0</td>\n",
       "      <td>81.0</td>\n",
       "      <td>295.0</td>\n",
       "      <td>319</td>\n",
       "      <td>325.0</td>\n",
       "      <td>...</td>\n",
       "      <td>1.0</td>\n",
       "      <td>5.0</td>\n",
       "      <td>2000-2059</td>\n",
       "      <td>20.0</td>\n",
       "      <td>10.0</td>\n",
       "      <td>1.0</td>\n",
       "      <td>5.0</td>\n",
       "      <td>0001-0559</td>\n",
       "      <td>11</td>\n",
       "      <td>0</td>\n",
       "    </tr>\n",
       "  </tbody>\n",
       "</table>\n",
       "<p>1028538 rows × 29 columns</p>\n",
       "</div>"
      ],
      "text/plain": [
       "                       Airline Origin Dest  Cancelled  Diverted  \\\n",
       "0            Endeavor Air Inc.    ABY  ATL      False     False   \n",
       "1            Endeavor Air Inc.    ABY  ATL      False     False   \n",
       "2            Endeavor Air Inc.    ABY  ATL      False     False   \n",
       "3            Endeavor Air Inc.    ABY  ATL      False     False   \n",
       "4            Endeavor Air Inc.    ABY  ATL      False     False   \n",
       "...                        ...    ...  ...        ...       ...   \n",
       "1028533  United Air Lines Inc.    SFO  OGG      False     False   \n",
       "1028534  United Air Lines Inc.    FLL  EWR      False     False   \n",
       "1028535  United Air Lines Inc.    BIL  DEN      False     False   \n",
       "1028536  United Air Lines Inc.    SFO  EWR      False     False   \n",
       "1028537  United Air Lines Inc.    HNL  LAX      False     False   \n",
       "\n",
       "         DepDelayMinutes  ArrDelayMinutes  AirTime  CRSElapsedTime  \\\n",
       "0                    0.0              0.0     38.0              62   \n",
       "1                    0.0              0.0     36.0              62   \n",
       "2                    0.0              0.0     40.0              62   \n",
       "3                    0.0              0.0     35.0              62   \n",
       "4                    0.0              0.0     36.0              60   \n",
       "...                  ...              ...      ...             ...   \n",
       "1028533              1.0              0.0    288.0             328   \n",
       "1028534              0.0              6.0    153.0             173   \n",
       "1028535              0.0              0.0     66.0              86   \n",
       "1028536              0.0              0.0    292.0             332   \n",
       "1028537             75.0             81.0    295.0             319   \n",
       "\n",
       "         ActualElapsedTime  ...  DepDel15  DepartureDelayGroups  DepTimeBlk  \\\n",
       "0                     59.0  ...       0.0                  -1.0   1200-1259   \n",
       "1                     61.0  ...       0.0                  -1.0   1200-1259   \n",
       "2                     69.0  ...       0.0                  -1.0   1200-1259   \n",
       "3                     63.0  ...       0.0                  -1.0   1200-1259   \n",
       "4                     64.0  ...       0.0                  -1.0   1400-1459   \n",
       "...                    ...  ...       ...                   ...         ...   \n",
       "1028533              325.0  ...       0.0                   0.0   1300-1359   \n",
       "1028534              186.0  ...       0.0                  -1.0   1200-1259   \n",
       "1028535               90.0  ...       0.0                  -2.0   1300-1359   \n",
       "1028536              327.0  ...       0.0                  -1.0   1100-1159   \n",
       "1028537              325.0  ...       1.0                   5.0   2000-2059   \n",
       "\n",
       "         TaxiOut  TaxiIn ArrDel15 ArrivalDelayGroups ArrTimeBlk DistanceGroup  \\\n",
       "0           14.0     7.0      0.0               -1.0  1300-1359             1   \n",
       "1           13.0    12.0      0.0               -1.0  1300-1359             1   \n",
       "2           18.0    11.0      0.0               -1.0  1300-1359             1   \n",
       "3           17.0    11.0      0.0               -1.0  1300-1359             1   \n",
       "4           17.0    11.0      0.0               -1.0  1500-1559             1   \n",
       "...          ...     ...      ...                ...        ...           ...   \n",
       "1028533     31.0     6.0      0.0               -1.0  1500-1559            10   \n",
       "1028534     27.0     6.0      0.0                0.0  1500-1559             5   \n",
       "1028535     18.0     6.0      0.0               -2.0  1500-1559             2   \n",
       "1028536     25.0    10.0      0.0               -1.0  2000-2059            11   \n",
       "1028537     20.0    10.0      1.0                5.0  0001-0559            11   \n",
       "\n",
       "         DivAirportLandings  \n",
       "0                         0  \n",
       "1                         0  \n",
       "2                         0  \n",
       "3                         0  \n",
       "4                         0  \n",
       "...                     ...  \n",
       "1028533                   0  \n",
       "1028534                   0  \n",
       "1028535                   0  \n",
       "1028536                   0  \n",
       "1028537                   0  \n",
       "\n",
       "[1028538 rows x 29 columns]"
      ]
     },
     "execution_count": 28,
     "metadata": {},
     "output_type": "execute_result"
    }
   ],
   "source": [
    "flight4"
   ]
  },
  {
   "cell_type": "code",
   "execution_count": null,
   "id": "5346e6e6",
   "metadata": {},
   "outputs": [],
   "source": []
  },
  {
   "cell_type": "code",
   "execution_count": 29,
   "id": "e747a64d",
   "metadata": {},
   "outputs": [],
   "source": [
    "flight4['CRSElapsedTime']=flight4['CRSElapsedTime'].astype('float64')\n",
    "flight4['Distance']=flight4['Distance'].astype('float64')\n",
    "flight4['ArrDel15']=flight4['ArrDel15'].astype('bool')\n",
    "flight4['DepDel15']=flight4['DepDel15'].astype('bool')\n",
    "flight4['ArrivalDelayGroups']=flight4['ArrivalDelayGroups'].astype('int')\n",
    "flight4['DepartureDelayGroups']=flight4['DepartureDelayGroups'].astype('int')"
   ]
  },
  {
   "cell_type": "code",
   "execution_count": 30,
   "id": "2973df12",
   "metadata": {},
   "outputs": [
    {
     "data": {
      "text/plain": [
       "Airline                  object\n",
       "Origin                   object\n",
       "Dest                     object\n",
       "Cancelled                  bool\n",
       "Diverted                   bool\n",
       "DepDelayMinutes         float64\n",
       "ArrDelayMinutes         float64\n",
       "AirTime                 float64\n",
       "CRSElapsedTime          float64\n",
       "ActualElapsedTime       float64\n",
       "Distance                float64\n",
       "Quarter                   int64\n",
       "Month                     int64\n",
       "DayofMonth                int64\n",
       "DayOfWeek                 int64\n",
       "OriginCityName           object\n",
       "OriginStateName          object\n",
       "DestCityName             object\n",
       "DestStateName            object\n",
       "DepDel15                   bool\n",
       "DepartureDelayGroups      int32\n",
       "DepTimeBlk               object\n",
       "TaxiOut                 float64\n",
       "TaxiIn                  float64\n",
       "ArrDel15                   bool\n",
       "ArrivalDelayGroups        int32\n",
       "ArrTimeBlk               object\n",
       "DistanceGroup             int64\n",
       "DivAirportLandings        int64\n",
       "dtype: object"
      ]
     },
     "execution_count": 30,
     "metadata": {},
     "output_type": "execute_result"
    }
   ],
   "source": [
    "flight4.dtypes"
   ]
  },
  {
   "cell_type": "code",
   "execution_count": 31,
   "id": "d81c3106",
   "metadata": {},
   "outputs": [
    {
     "data": {
      "text/plain": [
       "Airline                   0\n",
       "Origin                    0\n",
       "Dest                      0\n",
       "Cancelled                 0\n",
       "Diverted                  0\n",
       "DepDelayMinutes           0\n",
       "ArrDelayMinutes           0\n",
       "AirTime                 861\n",
       "CRSElapsedTime            0\n",
       "ActualElapsedTime         0\n",
       "Distance                  0\n",
       "Quarter                   0\n",
       "Month                     0\n",
       "DayofMonth                0\n",
       "DayOfWeek                 0\n",
       "OriginCityName            0\n",
       "OriginStateName           0\n",
       "DestCityName              0\n",
       "DestStateName             0\n",
       "DepDel15                  0\n",
       "DepartureDelayGroups      0\n",
       "DepTimeBlk                0\n",
       "TaxiOut                 857\n",
       "TaxiIn                  852\n",
       "ArrDel15                  0\n",
       "ArrivalDelayGroups        0\n",
       "ArrTimeBlk                0\n",
       "DistanceGroup             0\n",
       "DivAirportLandings        0\n",
       "dtype: int64"
      ]
     },
     "execution_count": 31,
     "metadata": {},
     "output_type": "execute_result"
    }
   ],
   "source": [
    "flight4.isnull().sum()"
   ]
  },
  {
   "cell_type": "code",
   "execution_count": 32,
   "id": "43da2dc7",
   "metadata": {},
   "outputs": [],
   "source": [
    "a= flight4[\"AirTime\"].mean(axis=0)\n",
    "b= flight4[\"TaxiOut\"].mean(axis=0)\n",
    "c= flight4[\"TaxiIn\"].mean(axis=0)"
   ]
  },
  {
   "cell_type": "code",
   "execution_count": 33,
   "id": "fcfdd567",
   "metadata": {},
   "outputs": [],
   "source": [
    "flight4[\"AirTime\"].replace(np.nan,a,inplace=True)\n",
    "flight4['TaxiOut'].replace(np.nan,b,inplace=True)\n",
    "flight4['TaxiIn'].replace(np.nan,c,inplace=True)"
   ]
  },
  {
   "cell_type": "code",
   "execution_count": 34,
   "id": "0ced25d0",
   "metadata": {},
   "outputs": [
    {
     "data": {
      "text/plain": [
       "Airline                 0\n",
       "Origin                  0\n",
       "Dest                    0\n",
       "Cancelled               0\n",
       "Diverted                0\n",
       "DepDelayMinutes         0\n",
       "ArrDelayMinutes         0\n",
       "AirTime                 0\n",
       "CRSElapsedTime          0\n",
       "ActualElapsedTime       0\n",
       "Distance                0\n",
       "Quarter                 0\n",
       "Month                   0\n",
       "DayofMonth              0\n",
       "DayOfWeek               0\n",
       "OriginCityName          0\n",
       "OriginStateName         0\n",
       "DestCityName            0\n",
       "DestStateName           0\n",
       "DepDel15                0\n",
       "DepartureDelayGroups    0\n",
       "DepTimeBlk              0\n",
       "TaxiOut                 0\n",
       "TaxiIn                  0\n",
       "ArrDel15                0\n",
       "ArrivalDelayGroups      0\n",
       "ArrTimeBlk              0\n",
       "DistanceGroup           0\n",
       "DivAirportLandings      0\n",
       "dtype: int64"
      ]
     },
     "execution_count": 34,
     "metadata": {},
     "output_type": "execute_result"
    }
   ],
   "source": [
    "flight4.isnull().sum()"
   ]
  },
  {
   "cell_type": "code",
   "execution_count": 35,
   "id": "367574bb",
   "metadata": {},
   "outputs": [
    {
     "data": {
      "text/plain": [
       "array([-1,  0,  1,  7,  8,  2,  4,  5,  6, 12, -2,  3,  9, 10, 11])"
      ]
     },
     "execution_count": 35,
     "metadata": {},
     "output_type": "execute_result"
    }
   ],
   "source": [
    "flight4[\"DepartureDelayGroups\"].unique()"
   ]
  },
  {
   "cell_type": "code",
   "execution_count": 36,
   "id": "6eb7e470",
   "metadata": {},
   "outputs": [
    {
     "data": {
      "text/plain": [
       "array([-1,  1,  7,  0, -2,  8,  6,  3,  2,  5,  4, 12, 10, 11,  9])"
      ]
     },
     "execution_count": 36,
     "metadata": {},
     "output_type": "execute_result"
    }
   ],
   "source": [
    "flight4[\"ArrivalDelayGroups\"].unique()"
   ]
  },
  {
   "cell_type": "code",
   "execution_count": 37,
   "id": "82be1947",
   "metadata": {},
   "outputs": [
    {
     "data": {
      "text/plain": [
       "array(['1300-1359', '1500-1559', '1100-1159', '1000-1059', '1200-1259',\n",
       "       '2300-2359', '1400-1459', '1900-1959', '1600-1659', '1700-1759',\n",
       "       '1800-1859', '2000-2059', '2200-2259', '2100-2159', '0700-0759',\n",
       "       '0900-0959', '0800-0859', '0600-0659', '0001-0559'], dtype=object)"
      ]
     },
     "execution_count": 37,
     "metadata": {},
     "output_type": "execute_result"
    }
   ],
   "source": [
    "flight4[\"ArrTimeBlk\"].unique()"
   ]
  },
  {
   "cell_type": "code",
   "execution_count": 38,
   "id": "39537600",
   "metadata": {},
   "outputs": [
    {
     "data": {
      "text/plain": [
       "array(['1200-1259', '1400-1459', '1000-1059', '0900-0959', '2200-2259',\n",
       "       '1800-1859', '1500-1559', '1300-1359', '0800-0859', '1700-1759',\n",
       "       '1600-1659', '1100-1159', '2100-2159', '0600-0659', '1900-1959',\n",
       "       '2000-2059', '0700-0759', '0001-0559', '2300-2359'], dtype=object)"
      ]
     },
     "execution_count": 38,
     "metadata": {},
     "output_type": "execute_result"
    }
   ],
   "source": [
    "flight4[\"DepTimeBlk\"].unique()"
   ]
  },
  {
   "cell_type": "code",
   "execution_count": 39,
   "id": "99ee3368",
   "metadata": {},
   "outputs": [
    {
     "data": {
      "text/plain": [
       "array([ 1,  2,  3,  4,  5,  6, 11,  9, 10,  7,  8], dtype=int64)"
      ]
     },
     "execution_count": 39,
     "metadata": {},
     "output_type": "execute_result"
    }
   ],
   "source": [
    "flight4[\"DistanceGroup\"].unique()"
   ]
  },
  {
   "cell_type": "code",
   "execution_count": 40,
   "id": "7de4c49a",
   "metadata": {},
   "outputs": [],
   "source": [
    "flight4[\"DepartureDelayGroups\"]=flight4[\"DepartureDelayGroups\"].replace([-2,-1],0)"
   ]
  },
  {
   "cell_type": "code",
   "execution_count": 41,
   "id": "1dafb452",
   "metadata": {},
   "outputs": [],
   "source": [
    "flight4[\"ArrivalDelayGroups\"]=flight4[\"ArrivalDelayGroups\"].replace([-2,-1],0)"
   ]
  },
  {
   "cell_type": "code",
   "execution_count": 42,
   "id": "b015223e",
   "metadata": {},
   "outputs": [],
   "source": [
    "flight4[\"ArrTimeBlk\"]=flight4[\"ArrTimeBlk\"].replace(['0001-0559'],'0500-0559')"
   ]
  },
  {
   "cell_type": "code",
   "execution_count": 43,
   "id": "0bc790db",
   "metadata": {},
   "outputs": [],
   "source": [
    "flight4[\"DepTimeBlk\"]=flight4[\"DepTimeBlk\"].replace(['0001-0559'],'0500-0559')"
   ]
  },
  {
   "cell_type": "code",
   "execution_count": 44,
   "id": "608d6e75",
   "metadata": {},
   "outputs": [
    {
     "data": {
      "text/plain": [
       "array([ 0,  1,  7,  8,  2,  4,  5,  6, 12,  3,  9, 10, 11])"
      ]
     },
     "execution_count": 44,
     "metadata": {},
     "output_type": "execute_result"
    }
   ],
   "source": [
    "flight4[\"DepartureDelayGroups\"].unique()"
   ]
  },
  {
   "cell_type": "code",
   "execution_count": 45,
   "id": "701ff062",
   "metadata": {},
   "outputs": [
    {
     "data": {
      "text/plain": [
       "array([ 0,  1,  7,  8,  6,  3,  2,  5,  4, 12, 10, 11,  9])"
      ]
     },
     "execution_count": 45,
     "metadata": {},
     "output_type": "execute_result"
    }
   ],
   "source": [
    "flight4[\"ArrivalDelayGroups\"].unique()"
   ]
  },
  {
   "cell_type": "code",
   "execution_count": 46,
   "id": "e7e07acf",
   "metadata": {},
   "outputs": [
    {
     "data": {
      "text/plain": [
       "array(['1300-1359', '1500-1559', '1100-1159', '1000-1059', '1200-1259',\n",
       "       '2300-2359', '1400-1459', '1900-1959', '1600-1659', '1700-1759',\n",
       "       '1800-1859', '2000-2059', '2200-2259', '2100-2159', '0700-0759',\n",
       "       '0900-0959', '0800-0859', '0600-0659', '0500-0559'], dtype=object)"
      ]
     },
     "execution_count": 46,
     "metadata": {},
     "output_type": "execute_result"
    }
   ],
   "source": [
    "flight4[\"ArrTimeBlk\"].unique()"
   ]
  },
  {
   "cell_type": "code",
   "execution_count": 47,
   "id": "7eebc3fc",
   "metadata": {},
   "outputs": [
    {
     "data": {
      "text/plain": [
       "array(['1200-1259', '1400-1459', '1000-1059', '0900-0959', '2200-2259',\n",
       "       '1800-1859', '1500-1559', '1300-1359', '0800-0859', '1700-1759',\n",
       "       '1600-1659', '1100-1159', '2100-2159', '0600-0659', '1900-1959',\n",
       "       '2000-2059', '0700-0759', '0500-0559', '2300-2359'], dtype=object)"
      ]
     },
     "execution_count": 47,
     "metadata": {},
     "output_type": "execute_result"
    }
   ],
   "source": [
    "flight4[\"DepTimeBlk\"].unique()"
   ]
  },
  {
   "cell_type": "code",
   "execution_count": 48,
   "id": "a21ed4e5",
   "metadata": {},
   "outputs": [
    {
     "data": {
      "text/plain": [
       "array([ 1,  2,  3,  4,  5,  6, 11,  9, 10,  7,  8], dtype=int64)"
      ]
     },
     "execution_count": 48,
     "metadata": {},
     "output_type": "execute_result"
    }
   ],
   "source": [
    "flight4[\"DistanceGroup\"].unique()"
   ]
  },
  {
   "cell_type": "code",
   "execution_count": 49,
   "id": "3502ae54",
   "metadata": {},
   "outputs": [
    {
     "data": {
      "text/plain": [
       "array([0], dtype=int64)"
      ]
     },
     "execution_count": 49,
     "metadata": {},
     "output_type": "execute_result"
    }
   ],
   "source": [
    "flight4[\"DivAirportLandings\"].unique()"
   ]
  },
  {
   "cell_type": "code",
   "execution_count": 50,
   "id": "99352e0d",
   "metadata": {},
   "outputs": [
    {
     "data": {
      "text/html": [
       "<div>\n",
       "<style scoped>\n",
       "    .dataframe tbody tr th:only-of-type {\n",
       "        vertical-align: middle;\n",
       "    }\n",
       "\n",
       "    .dataframe tbody tr th {\n",
       "        vertical-align: top;\n",
       "    }\n",
       "\n",
       "    .dataframe thead th {\n",
       "        text-align: right;\n",
       "    }\n",
       "</style>\n",
       "<table border=\"1\" class=\"dataframe\">\n",
       "  <thead>\n",
       "    <tr style=\"text-align: right;\">\n",
       "      <th></th>\n",
       "      <th>Airline</th>\n",
       "      <th>Origin</th>\n",
       "      <th>Dest</th>\n",
       "      <th>Cancelled</th>\n",
       "      <th>Diverted</th>\n",
       "      <th>DepDelayMinutes</th>\n",
       "      <th>ArrDelayMinutes</th>\n",
       "      <th>AirTime</th>\n",
       "      <th>CRSElapsedTime</th>\n",
       "      <th>ActualElapsedTime</th>\n",
       "      <th>...</th>\n",
       "      <th>DepDel15</th>\n",
       "      <th>DepartureDelayGroups</th>\n",
       "      <th>DepTimeBlk</th>\n",
       "      <th>TaxiOut</th>\n",
       "      <th>TaxiIn</th>\n",
       "      <th>ArrDel15</th>\n",
       "      <th>ArrivalDelayGroups</th>\n",
       "      <th>ArrTimeBlk</th>\n",
       "      <th>DistanceGroup</th>\n",
       "      <th>DivAirportLandings</th>\n",
       "    </tr>\n",
       "  </thead>\n",
       "  <tbody>\n",
       "    <tr>\n",
       "      <th>0</th>\n",
       "      <td>Endeavor Air Inc.</td>\n",
       "      <td>ABY</td>\n",
       "      <td>ATL</td>\n",
       "      <td>False</td>\n",
       "      <td>False</td>\n",
       "      <td>0.0</td>\n",
       "      <td>0.0</td>\n",
       "      <td>38.0</td>\n",
       "      <td>62.0</td>\n",
       "      <td>59.0</td>\n",
       "      <td>...</td>\n",
       "      <td>False</td>\n",
       "      <td>0</td>\n",
       "      <td>1200-1259</td>\n",
       "      <td>14.0</td>\n",
       "      <td>7.0</td>\n",
       "      <td>False</td>\n",
       "      <td>0</td>\n",
       "      <td>1300-1359</td>\n",
       "      <td>1</td>\n",
       "      <td>0</td>\n",
       "    </tr>\n",
       "    <tr>\n",
       "      <th>1</th>\n",
       "      <td>Endeavor Air Inc.</td>\n",
       "      <td>ABY</td>\n",
       "      <td>ATL</td>\n",
       "      <td>False</td>\n",
       "      <td>False</td>\n",
       "      <td>0.0</td>\n",
       "      <td>0.0</td>\n",
       "      <td>36.0</td>\n",
       "      <td>62.0</td>\n",
       "      <td>61.0</td>\n",
       "      <td>...</td>\n",
       "      <td>False</td>\n",
       "      <td>0</td>\n",
       "      <td>1200-1259</td>\n",
       "      <td>13.0</td>\n",
       "      <td>12.0</td>\n",
       "      <td>False</td>\n",
       "      <td>0</td>\n",
       "      <td>1300-1359</td>\n",
       "      <td>1</td>\n",
       "      <td>0</td>\n",
       "    </tr>\n",
       "    <tr>\n",
       "      <th>2</th>\n",
       "      <td>Endeavor Air Inc.</td>\n",
       "      <td>ABY</td>\n",
       "      <td>ATL</td>\n",
       "      <td>False</td>\n",
       "      <td>False</td>\n",
       "      <td>0.0</td>\n",
       "      <td>0.0</td>\n",
       "      <td>40.0</td>\n",
       "      <td>62.0</td>\n",
       "      <td>69.0</td>\n",
       "      <td>...</td>\n",
       "      <td>False</td>\n",
       "      <td>0</td>\n",
       "      <td>1200-1259</td>\n",
       "      <td>18.0</td>\n",
       "      <td>11.0</td>\n",
       "      <td>False</td>\n",
       "      <td>0</td>\n",
       "      <td>1300-1359</td>\n",
       "      <td>1</td>\n",
       "      <td>0</td>\n",
       "    </tr>\n",
       "    <tr>\n",
       "      <th>3</th>\n",
       "      <td>Endeavor Air Inc.</td>\n",
       "      <td>ABY</td>\n",
       "      <td>ATL</td>\n",
       "      <td>False</td>\n",
       "      <td>False</td>\n",
       "      <td>0.0</td>\n",
       "      <td>0.0</td>\n",
       "      <td>35.0</td>\n",
       "      <td>62.0</td>\n",
       "      <td>63.0</td>\n",
       "      <td>...</td>\n",
       "      <td>False</td>\n",
       "      <td>0</td>\n",
       "      <td>1200-1259</td>\n",
       "      <td>17.0</td>\n",
       "      <td>11.0</td>\n",
       "      <td>False</td>\n",
       "      <td>0</td>\n",
       "      <td>1300-1359</td>\n",
       "      <td>1</td>\n",
       "      <td>0</td>\n",
       "    </tr>\n",
       "    <tr>\n",
       "      <th>4</th>\n",
       "      <td>Endeavor Air Inc.</td>\n",
       "      <td>ABY</td>\n",
       "      <td>ATL</td>\n",
       "      <td>False</td>\n",
       "      <td>False</td>\n",
       "      <td>0.0</td>\n",
       "      <td>0.0</td>\n",
       "      <td>36.0</td>\n",
       "      <td>60.0</td>\n",
       "      <td>64.0</td>\n",
       "      <td>...</td>\n",
       "      <td>False</td>\n",
       "      <td>0</td>\n",
       "      <td>1400-1459</td>\n",
       "      <td>17.0</td>\n",
       "      <td>11.0</td>\n",
       "      <td>False</td>\n",
       "      <td>0</td>\n",
       "      <td>1500-1559</td>\n",
       "      <td>1</td>\n",
       "      <td>0</td>\n",
       "    </tr>\n",
       "    <tr>\n",
       "      <th>5</th>\n",
       "      <td>Endeavor Air Inc.</td>\n",
       "      <td>ABY</td>\n",
       "      <td>ATL</td>\n",
       "      <td>False</td>\n",
       "      <td>False</td>\n",
       "      <td>2.0</td>\n",
       "      <td>0.0</td>\n",
       "      <td>34.0</td>\n",
       "      <td>62.0</td>\n",
       "      <td>59.0</td>\n",
       "      <td>...</td>\n",
       "      <td>False</td>\n",
       "      <td>0</td>\n",
       "      <td>1200-1259</td>\n",
       "      <td>15.0</td>\n",
       "      <td>10.0</td>\n",
       "      <td>False</td>\n",
       "      <td>0</td>\n",
       "      <td>1300-1359</td>\n",
       "      <td>1</td>\n",
       "      <td>0</td>\n",
       "    </tr>\n",
       "    <tr>\n",
       "      <th>6</th>\n",
       "      <td>Endeavor Air Inc.</td>\n",
       "      <td>ABY</td>\n",
       "      <td>ATL</td>\n",
       "      <td>False</td>\n",
       "      <td>False</td>\n",
       "      <td>0.0</td>\n",
       "      <td>0.0</td>\n",
       "      <td>44.0</td>\n",
       "      <td>62.0</td>\n",
       "      <td>62.0</td>\n",
       "      <td>...</td>\n",
       "      <td>False</td>\n",
       "      <td>0</td>\n",
       "      <td>1200-1259</td>\n",
       "      <td>7.0</td>\n",
       "      <td>11.0</td>\n",
       "      <td>False</td>\n",
       "      <td>0</td>\n",
       "      <td>1300-1359</td>\n",
       "      <td>1</td>\n",
       "      <td>0</td>\n",
       "    </tr>\n",
       "    <tr>\n",
       "      <th>7</th>\n",
       "      <td>Endeavor Air Inc.</td>\n",
       "      <td>ATL</td>\n",
       "      <td>ABY</td>\n",
       "      <td>False</td>\n",
       "      <td>False</td>\n",
       "      <td>24.0</td>\n",
       "      <td>22.0</td>\n",
       "      <td>32.0</td>\n",
       "      <td>60.0</td>\n",
       "      <td>58.0</td>\n",
       "      <td>...</td>\n",
       "      <td>True</td>\n",
       "      <td>1</td>\n",
       "      <td>1000-1059</td>\n",
       "      <td>23.0</td>\n",
       "      <td>3.0</td>\n",
       "      <td>True</td>\n",
       "      <td>1</td>\n",
       "      <td>1100-1159</td>\n",
       "      <td>1</td>\n",
       "      <td>0</td>\n",
       "    </tr>\n",
       "    <tr>\n",
       "      <th>8</th>\n",
       "      <td>Endeavor Air Inc.</td>\n",
       "      <td>ATL</td>\n",
       "      <td>ABY</td>\n",
       "      <td>False</td>\n",
       "      <td>False</td>\n",
       "      <td>0.0</td>\n",
       "      <td>0.0</td>\n",
       "      <td>27.0</td>\n",
       "      <td>60.0</td>\n",
       "      <td>53.0</td>\n",
       "      <td>...</td>\n",
       "      <td>False</td>\n",
       "      <td>0</td>\n",
       "      <td>1000-1059</td>\n",
       "      <td>23.0</td>\n",
       "      <td>3.0</td>\n",
       "      <td>False</td>\n",
       "      <td>0</td>\n",
       "      <td>1100-1159</td>\n",
       "      <td>1</td>\n",
       "      <td>0</td>\n",
       "    </tr>\n",
       "    <tr>\n",
       "      <th>9</th>\n",
       "      <td>Endeavor Air Inc.</td>\n",
       "      <td>ATL</td>\n",
       "      <td>ABY</td>\n",
       "      <td>False</td>\n",
       "      <td>False</td>\n",
       "      <td>0.0</td>\n",
       "      <td>0.0</td>\n",
       "      <td>29.0</td>\n",
       "      <td>60.0</td>\n",
       "      <td>52.0</td>\n",
       "      <td>...</td>\n",
       "      <td>False</td>\n",
       "      <td>0</td>\n",
       "      <td>1000-1059</td>\n",
       "      <td>20.0</td>\n",
       "      <td>3.0</td>\n",
       "      <td>False</td>\n",
       "      <td>0</td>\n",
       "      <td>1100-1159</td>\n",
       "      <td>1</td>\n",
       "      <td>0</td>\n",
       "    </tr>\n",
       "    <tr>\n",
       "      <th>10</th>\n",
       "      <td>Endeavor Air Inc.</td>\n",
       "      <td>ATL</td>\n",
       "      <td>ABY</td>\n",
       "      <td>False</td>\n",
       "      <td>False</td>\n",
       "      <td>0.0</td>\n",
       "      <td>0.0</td>\n",
       "      <td>34.0</td>\n",
       "      <td>59.0</td>\n",
       "      <td>54.0</td>\n",
       "      <td>...</td>\n",
       "      <td>False</td>\n",
       "      <td>0</td>\n",
       "      <td>1000-1059</td>\n",
       "      <td>18.0</td>\n",
       "      <td>2.0</td>\n",
       "      <td>False</td>\n",
       "      <td>0</td>\n",
       "      <td>1100-1159</td>\n",
       "      <td>1</td>\n",
       "      <td>0</td>\n",
       "    </tr>\n",
       "    <tr>\n",
       "      <th>11</th>\n",
       "      <td>Endeavor Air Inc.</td>\n",
       "      <td>ATL</td>\n",
       "      <td>ABY</td>\n",
       "      <td>False</td>\n",
       "      <td>False</td>\n",
       "      <td>0.0</td>\n",
       "      <td>0.0</td>\n",
       "      <td>29.0</td>\n",
       "      <td>60.0</td>\n",
       "      <td>50.0</td>\n",
       "      <td>...</td>\n",
       "      <td>False</td>\n",
       "      <td>0</td>\n",
       "      <td>1000-1059</td>\n",
       "      <td>18.0</td>\n",
       "      <td>3.0</td>\n",
       "      <td>False</td>\n",
       "      <td>0</td>\n",
       "      <td>1100-1159</td>\n",
       "      <td>1</td>\n",
       "      <td>0</td>\n",
       "    </tr>\n",
       "    <tr>\n",
       "      <th>12</th>\n",
       "      <td>Endeavor Air Inc.</td>\n",
       "      <td>ATL</td>\n",
       "      <td>ABY</td>\n",
       "      <td>False</td>\n",
       "      <td>False</td>\n",
       "      <td>22.0</td>\n",
       "      <td>16.0</td>\n",
       "      <td>32.0</td>\n",
       "      <td>60.0</td>\n",
       "      <td>54.0</td>\n",
       "      <td>...</td>\n",
       "      <td>True</td>\n",
       "      <td>1</td>\n",
       "      <td>1000-1059</td>\n",
       "      <td>18.0</td>\n",
       "      <td>4.0</td>\n",
       "      <td>True</td>\n",
       "      <td>1</td>\n",
       "      <td>1100-1159</td>\n",
       "      <td>1</td>\n",
       "      <td>0</td>\n",
       "    </tr>\n",
       "    <tr>\n",
       "      <th>13</th>\n",
       "      <td>Endeavor Air Inc.</td>\n",
       "      <td>ATL</td>\n",
       "      <td>ABY</td>\n",
       "      <td>False</td>\n",
       "      <td>False</td>\n",
       "      <td>105.0</td>\n",
       "      <td>105.0</td>\n",
       "      <td>37.0</td>\n",
       "      <td>60.0</td>\n",
       "      <td>60.0</td>\n",
       "      <td>...</td>\n",
       "      <td>True</td>\n",
       "      <td>7</td>\n",
       "      <td>1000-1059</td>\n",
       "      <td>20.0</td>\n",
       "      <td>3.0</td>\n",
       "      <td>True</td>\n",
       "      <td>7</td>\n",
       "      <td>1100-1159</td>\n",
       "      <td>1</td>\n",
       "      <td>0</td>\n",
       "    </tr>\n",
       "    <tr>\n",
       "      <th>14</th>\n",
       "      <td>Endeavor Air Inc.</td>\n",
       "      <td>ATL</td>\n",
       "      <td>ABY</td>\n",
       "      <td>False</td>\n",
       "      <td>False</td>\n",
       "      <td>0.0</td>\n",
       "      <td>0.0</td>\n",
       "      <td>37.0</td>\n",
       "      <td>60.0</td>\n",
       "      <td>59.0</td>\n",
       "      <td>...</td>\n",
       "      <td>False</td>\n",
       "      <td>0</td>\n",
       "      <td>1000-1059</td>\n",
       "      <td>19.0</td>\n",
       "      <td>3.0</td>\n",
       "      <td>False</td>\n",
       "      <td>0</td>\n",
       "      <td>1100-1159</td>\n",
       "      <td>1</td>\n",
       "      <td>0</td>\n",
       "    </tr>\n",
       "    <tr>\n",
       "      <th>15</th>\n",
       "      <td>Endeavor Air Inc.</td>\n",
       "      <td>ATL</td>\n",
       "      <td>ABY</td>\n",
       "      <td>False</td>\n",
       "      <td>False</td>\n",
       "      <td>0.0</td>\n",
       "      <td>8.0</td>\n",
       "      <td>38.0</td>\n",
       "      <td>60.0</td>\n",
       "      <td>72.0</td>\n",
       "      <td>...</td>\n",
       "      <td>False</td>\n",
       "      <td>0</td>\n",
       "      <td>1000-1059</td>\n",
       "      <td>31.0</td>\n",
       "      <td>3.0</td>\n",
       "      <td>False</td>\n",
       "      <td>0</td>\n",
       "      <td>1100-1159</td>\n",
       "      <td>1</td>\n",
       "      <td>0</td>\n",
       "    </tr>\n",
       "    <tr>\n",
       "      <th>16</th>\n",
       "      <td>Endeavor Air Inc.</td>\n",
       "      <td>ATL</td>\n",
       "      <td>ABY</td>\n",
       "      <td>False</td>\n",
       "      <td>False</td>\n",
       "      <td>7.0</td>\n",
       "      <td>1.0</td>\n",
       "      <td>35.0</td>\n",
       "      <td>60.0</td>\n",
       "      <td>54.0</td>\n",
       "      <td>...</td>\n",
       "      <td>False</td>\n",
       "      <td>0</td>\n",
       "      <td>1000-1059</td>\n",
       "      <td>16.0</td>\n",
       "      <td>3.0</td>\n",
       "      <td>False</td>\n",
       "      <td>0</td>\n",
       "      <td>1100-1159</td>\n",
       "      <td>1</td>\n",
       "      <td>0</td>\n",
       "    </tr>\n",
       "    <tr>\n",
       "      <th>17</th>\n",
       "      <td>Endeavor Air Inc.</td>\n",
       "      <td>ATL</td>\n",
       "      <td>ABY</td>\n",
       "      <td>False</td>\n",
       "      <td>False</td>\n",
       "      <td>0.0</td>\n",
       "      <td>0.0</td>\n",
       "      <td>34.0</td>\n",
       "      <td>59.0</td>\n",
       "      <td>52.0</td>\n",
       "      <td>...</td>\n",
       "      <td>False</td>\n",
       "      <td>0</td>\n",
       "      <td>1000-1059</td>\n",
       "      <td>16.0</td>\n",
       "      <td>2.0</td>\n",
       "      <td>False</td>\n",
       "      <td>0</td>\n",
       "      <td>1100-1159</td>\n",
       "      <td>1</td>\n",
       "      <td>0</td>\n",
       "    </tr>\n",
       "    <tr>\n",
       "      <th>18</th>\n",
       "      <td>Endeavor Air Inc.</td>\n",
       "      <td>ATL</td>\n",
       "      <td>ABY</td>\n",
       "      <td>False</td>\n",
       "      <td>False</td>\n",
       "      <td>0.0</td>\n",
       "      <td>0.0</td>\n",
       "      <td>30.0</td>\n",
       "      <td>60.0</td>\n",
       "      <td>49.0</td>\n",
       "      <td>...</td>\n",
       "      <td>False</td>\n",
       "      <td>0</td>\n",
       "      <td>1000-1059</td>\n",
       "      <td>16.0</td>\n",
       "      <td>3.0</td>\n",
       "      <td>False</td>\n",
       "      <td>0</td>\n",
       "      <td>1100-1159</td>\n",
       "      <td>1</td>\n",
       "      <td>0</td>\n",
       "    </tr>\n",
       "    <tr>\n",
       "      <th>19</th>\n",
       "      <td>Endeavor Air Inc.</td>\n",
       "      <td>ATL</td>\n",
       "      <td>ABY</td>\n",
       "      <td>False</td>\n",
       "      <td>False</td>\n",
       "      <td>0.0</td>\n",
       "      <td>0.0</td>\n",
       "      <td>30.0</td>\n",
       "      <td>60.0</td>\n",
       "      <td>53.0</td>\n",
       "      <td>...</td>\n",
       "      <td>False</td>\n",
       "      <td>0</td>\n",
       "      <td>1000-1059</td>\n",
       "      <td>20.0</td>\n",
       "      <td>3.0</td>\n",
       "      <td>False</td>\n",
       "      <td>0</td>\n",
       "      <td>1100-1159</td>\n",
       "      <td>1</td>\n",
       "      <td>0</td>\n",
       "    </tr>\n",
       "    <tr>\n",
       "      <th>20</th>\n",
       "      <td>Endeavor Air Inc.</td>\n",
       "      <td>ATL</td>\n",
       "      <td>ABY</td>\n",
       "      <td>False</td>\n",
       "      <td>False</td>\n",
       "      <td>0.0</td>\n",
       "      <td>0.0</td>\n",
       "      <td>30.0</td>\n",
       "      <td>60.0</td>\n",
       "      <td>56.0</td>\n",
       "      <td>...</td>\n",
       "      <td>False</td>\n",
       "      <td>0</td>\n",
       "      <td>1000-1059</td>\n",
       "      <td>23.0</td>\n",
       "      <td>3.0</td>\n",
       "      <td>False</td>\n",
       "      <td>0</td>\n",
       "      <td>1100-1159</td>\n",
       "      <td>1</td>\n",
       "      <td>0</td>\n",
       "    </tr>\n",
       "    <tr>\n",
       "      <th>21</th>\n",
       "      <td>Endeavor Air Inc.</td>\n",
       "      <td>ATL</td>\n",
       "      <td>ABY</td>\n",
       "      <td>False</td>\n",
       "      <td>False</td>\n",
       "      <td>116.0</td>\n",
       "      <td>128.0</td>\n",
       "      <td>32.0</td>\n",
       "      <td>60.0</td>\n",
       "      <td>72.0</td>\n",
       "      <td>...</td>\n",
       "      <td>True</td>\n",
       "      <td>7</td>\n",
       "      <td>1000-1059</td>\n",
       "      <td>34.0</td>\n",
       "      <td>6.0</td>\n",
       "      <td>True</td>\n",
       "      <td>8</td>\n",
       "      <td>1100-1159</td>\n",
       "      <td>1</td>\n",
       "      <td>0</td>\n",
       "    </tr>\n",
       "    <tr>\n",
       "      <th>22</th>\n",
       "      <td>Endeavor Air Inc.</td>\n",
       "      <td>ATL</td>\n",
       "      <td>ABY</td>\n",
       "      <td>False</td>\n",
       "      <td>False</td>\n",
       "      <td>0.0</td>\n",
       "      <td>0.0</td>\n",
       "      <td>28.0</td>\n",
       "      <td>60.0</td>\n",
       "      <td>53.0</td>\n",
       "      <td>...</td>\n",
       "      <td>False</td>\n",
       "      <td>0</td>\n",
       "      <td>1000-1059</td>\n",
       "      <td>21.0</td>\n",
       "      <td>4.0</td>\n",
       "      <td>False</td>\n",
       "      <td>0</td>\n",
       "      <td>1100-1159</td>\n",
       "      <td>1</td>\n",
       "      <td>0</td>\n",
       "    </tr>\n",
       "    <tr>\n",
       "      <th>23</th>\n",
       "      <td>Endeavor Air Inc.</td>\n",
       "      <td>ATL</td>\n",
       "      <td>ABY</td>\n",
       "      <td>False</td>\n",
       "      <td>False</td>\n",
       "      <td>0.0</td>\n",
       "      <td>0.0</td>\n",
       "      <td>27.0</td>\n",
       "      <td>59.0</td>\n",
       "      <td>46.0</td>\n",
       "      <td>...</td>\n",
       "      <td>False</td>\n",
       "      <td>0</td>\n",
       "      <td>1000-1059</td>\n",
       "      <td>17.0</td>\n",
       "      <td>2.0</td>\n",
       "      <td>False</td>\n",
       "      <td>0</td>\n",
       "      <td>1100-1159</td>\n",
       "      <td>1</td>\n",
       "      <td>0</td>\n",
       "    </tr>\n",
       "    <tr>\n",
       "      <th>24</th>\n",
       "      <td>Endeavor Air Inc.</td>\n",
       "      <td>ATL</td>\n",
       "      <td>ABY</td>\n",
       "      <td>False</td>\n",
       "      <td>False</td>\n",
       "      <td>0.0</td>\n",
       "      <td>0.0</td>\n",
       "      <td>30.0</td>\n",
       "      <td>60.0</td>\n",
       "      <td>50.0</td>\n",
       "      <td>...</td>\n",
       "      <td>False</td>\n",
       "      <td>0</td>\n",
       "      <td>1000-1059</td>\n",
       "      <td>16.0</td>\n",
       "      <td>4.0</td>\n",
       "      <td>False</td>\n",
       "      <td>0</td>\n",
       "      <td>1100-1159</td>\n",
       "      <td>1</td>\n",
       "      <td>0</td>\n",
       "    </tr>\n",
       "    <tr>\n",
       "      <th>25</th>\n",
       "      <td>Endeavor Air Inc.</td>\n",
       "      <td>ATL</td>\n",
       "      <td>ABY</td>\n",
       "      <td>False</td>\n",
       "      <td>False</td>\n",
       "      <td>0.0</td>\n",
       "      <td>0.0</td>\n",
       "      <td>30.0</td>\n",
       "      <td>60.0</td>\n",
       "      <td>60.0</td>\n",
       "      <td>...</td>\n",
       "      <td>False</td>\n",
       "      <td>0</td>\n",
       "      <td>1000-1059</td>\n",
       "      <td>27.0</td>\n",
       "      <td>3.0</td>\n",
       "      <td>False</td>\n",
       "      <td>0</td>\n",
       "      <td>1100-1159</td>\n",
       "      <td>1</td>\n",
       "      <td>0</td>\n",
       "    </tr>\n",
       "    <tr>\n",
       "      <th>26</th>\n",
       "      <td>Endeavor Air Inc.</td>\n",
       "      <td>ATL</td>\n",
       "      <td>ABY</td>\n",
       "      <td>False</td>\n",
       "      <td>False</td>\n",
       "      <td>0.0</td>\n",
       "      <td>0.0</td>\n",
       "      <td>38.0</td>\n",
       "      <td>60.0</td>\n",
       "      <td>61.0</td>\n",
       "      <td>...</td>\n",
       "      <td>False</td>\n",
       "      <td>0</td>\n",
       "      <td>1000-1059</td>\n",
       "      <td>19.0</td>\n",
       "      <td>4.0</td>\n",
       "      <td>False</td>\n",
       "      <td>0</td>\n",
       "      <td>1100-1159</td>\n",
       "      <td>1</td>\n",
       "      <td>0</td>\n",
       "    </tr>\n",
       "    <tr>\n",
       "      <th>27</th>\n",
       "      <td>Endeavor Air Inc.</td>\n",
       "      <td>ATL</td>\n",
       "      <td>ABY</td>\n",
       "      <td>False</td>\n",
       "      <td>False</td>\n",
       "      <td>0.0</td>\n",
       "      <td>0.0</td>\n",
       "      <td>29.0</td>\n",
       "      <td>60.0</td>\n",
       "      <td>50.0</td>\n",
       "      <td>...</td>\n",
       "      <td>False</td>\n",
       "      <td>0</td>\n",
       "      <td>1000-1059</td>\n",
       "      <td>16.0</td>\n",
       "      <td>5.0</td>\n",
       "      <td>False</td>\n",
       "      <td>0</td>\n",
       "      <td>1100-1159</td>\n",
       "      <td>1</td>\n",
       "      <td>0</td>\n",
       "    </tr>\n",
       "    <tr>\n",
       "      <th>28</th>\n",
       "      <td>Endeavor Air Inc.</td>\n",
       "      <td>ATL</td>\n",
       "      <td>ABY</td>\n",
       "      <td>False</td>\n",
       "      <td>False</td>\n",
       "      <td>0.0</td>\n",
       "      <td>0.0</td>\n",
       "      <td>28.0</td>\n",
       "      <td>60.0</td>\n",
       "      <td>51.0</td>\n",
       "      <td>...</td>\n",
       "      <td>False</td>\n",
       "      <td>0</td>\n",
       "      <td>1000-1059</td>\n",
       "      <td>16.0</td>\n",
       "      <td>7.0</td>\n",
       "      <td>False</td>\n",
       "      <td>0</td>\n",
       "      <td>1100-1159</td>\n",
       "      <td>1</td>\n",
       "      <td>0</td>\n",
       "    </tr>\n",
       "    <tr>\n",
       "      <th>29</th>\n",
       "      <td>Endeavor Air Inc.</td>\n",
       "      <td>ATL</td>\n",
       "      <td>ABY</td>\n",
       "      <td>False</td>\n",
       "      <td>False</td>\n",
       "      <td>0.0</td>\n",
       "      <td>0.0</td>\n",
       "      <td>30.0</td>\n",
       "      <td>60.0</td>\n",
       "      <td>51.0</td>\n",
       "      <td>...</td>\n",
       "      <td>False</td>\n",
       "      <td>0</td>\n",
       "      <td>1000-1059</td>\n",
       "      <td>18.0</td>\n",
       "      <td>3.0</td>\n",
       "      <td>False</td>\n",
       "      <td>0</td>\n",
       "      <td>1100-1159</td>\n",
       "      <td>1</td>\n",
       "      <td>0</td>\n",
       "    </tr>\n",
       "    <tr>\n",
       "      <th>30</th>\n",
       "      <td>Endeavor Air Inc.</td>\n",
       "      <td>ATL</td>\n",
       "      <td>ABY</td>\n",
       "      <td>False</td>\n",
       "      <td>False</td>\n",
       "      <td>0.0</td>\n",
       "      <td>0.0</td>\n",
       "      <td>29.0</td>\n",
       "      <td>59.0</td>\n",
       "      <td>51.0</td>\n",
       "      <td>...</td>\n",
       "      <td>False</td>\n",
       "      <td>0</td>\n",
       "      <td>1000-1059</td>\n",
       "      <td>18.0</td>\n",
       "      <td>4.0</td>\n",
       "      <td>False</td>\n",
       "      <td>0</td>\n",
       "      <td>1100-1159</td>\n",
       "      <td>1</td>\n",
       "      <td>0</td>\n",
       "    </tr>\n",
       "    <tr>\n",
       "      <th>31</th>\n",
       "      <td>Endeavor Air Inc.</td>\n",
       "      <td>ATL</td>\n",
       "      <td>ABY</td>\n",
       "      <td>False</td>\n",
       "      <td>False</td>\n",
       "      <td>15.0</td>\n",
       "      <td>0.0</td>\n",
       "      <td>30.0</td>\n",
       "      <td>60.0</td>\n",
       "      <td>43.0</td>\n",
       "      <td>...</td>\n",
       "      <td>True</td>\n",
       "      <td>1</td>\n",
       "      <td>1000-1059</td>\n",
       "      <td>10.0</td>\n",
       "      <td>3.0</td>\n",
       "      <td>False</td>\n",
       "      <td>0</td>\n",
       "      <td>1100-1159</td>\n",
       "      <td>1</td>\n",
       "      <td>0</td>\n",
       "    </tr>\n",
       "    <tr>\n",
       "      <th>32</th>\n",
       "      <td>Endeavor Air Inc.</td>\n",
       "      <td>ATL</td>\n",
       "      <td>ABY</td>\n",
       "      <td>False</td>\n",
       "      <td>False</td>\n",
       "      <td>0.0</td>\n",
       "      <td>0.0</td>\n",
       "      <td>33.0</td>\n",
       "      <td>60.0</td>\n",
       "      <td>51.0</td>\n",
       "      <td>...</td>\n",
       "      <td>False</td>\n",
       "      <td>0</td>\n",
       "      <td>1000-1059</td>\n",
       "      <td>15.0</td>\n",
       "      <td>3.0</td>\n",
       "      <td>False</td>\n",
       "      <td>0</td>\n",
       "      <td>1100-1159</td>\n",
       "      <td>1</td>\n",
       "      <td>0</td>\n",
       "    </tr>\n",
       "    <tr>\n",
       "      <th>33</th>\n",
       "      <td>Endeavor Air Inc.</td>\n",
       "      <td>ATL</td>\n",
       "      <td>ABY</td>\n",
       "      <td>False</td>\n",
       "      <td>False</td>\n",
       "      <td>0.0</td>\n",
       "      <td>0.0</td>\n",
       "      <td>30.0</td>\n",
       "      <td>60.0</td>\n",
       "      <td>54.0</td>\n",
       "      <td>...</td>\n",
       "      <td>False</td>\n",
       "      <td>0</td>\n",
       "      <td>1000-1059</td>\n",
       "      <td>21.0</td>\n",
       "      <td>3.0</td>\n",
       "      <td>False</td>\n",
       "      <td>0</td>\n",
       "      <td>1100-1159</td>\n",
       "      <td>1</td>\n",
       "      <td>0</td>\n",
       "    </tr>\n",
       "    <tr>\n",
       "      <th>34</th>\n",
       "      <td>Endeavor Air Inc.</td>\n",
       "      <td>ATL</td>\n",
       "      <td>MOB</td>\n",
       "      <td>False</td>\n",
       "      <td>False</td>\n",
       "      <td>0.0</td>\n",
       "      <td>0.0</td>\n",
       "      <td>54.0</td>\n",
       "      <td>88.0</td>\n",
       "      <td>74.0</td>\n",
       "      <td>...</td>\n",
       "      <td>False</td>\n",
       "      <td>0</td>\n",
       "      <td>0900-0959</td>\n",
       "      <td>16.0</td>\n",
       "      <td>4.0</td>\n",
       "      <td>False</td>\n",
       "      <td>0</td>\n",
       "      <td>1000-1059</td>\n",
       "      <td>2</td>\n",
       "      <td>0</td>\n",
       "    </tr>\n",
       "    <tr>\n",
       "      <th>35</th>\n",
       "      <td>Endeavor Air Inc.</td>\n",
       "      <td>MOB</td>\n",
       "      <td>ATL</td>\n",
       "      <td>False</td>\n",
       "      <td>False</td>\n",
       "      <td>0.0</td>\n",
       "      <td>6.0</td>\n",
       "      <td>50.0</td>\n",
       "      <td>83.0</td>\n",
       "      <td>96.0</td>\n",
       "      <td>...</td>\n",
       "      <td>False</td>\n",
       "      <td>0</td>\n",
       "      <td>1000-1059</td>\n",
       "      <td>40.0</td>\n",
       "      <td>6.0</td>\n",
       "      <td>False</td>\n",
       "      <td>0</td>\n",
       "      <td>1200-1259</td>\n",
       "      <td>2</td>\n",
       "      <td>0</td>\n",
       "    </tr>\n",
       "    <tr>\n",
       "      <th>36</th>\n",
       "      <td>Endeavor Air Inc.</td>\n",
       "      <td>MOB</td>\n",
       "      <td>ATL</td>\n",
       "      <td>False</td>\n",
       "      <td>False</td>\n",
       "      <td>0.0</td>\n",
       "      <td>1.0</td>\n",
       "      <td>47.0</td>\n",
       "      <td>76.0</td>\n",
       "      <td>78.0</td>\n",
       "      <td>...</td>\n",
       "      <td>False</td>\n",
       "      <td>0</td>\n",
       "      <td>0900-0959</td>\n",
       "      <td>20.0</td>\n",
       "      <td>11.0</td>\n",
       "      <td>False</td>\n",
       "      <td>0</td>\n",
       "      <td>1100-1159</td>\n",
       "      <td>2</td>\n",
       "      <td>0</td>\n",
       "    </tr>\n",
       "    <tr>\n",
       "      <th>37</th>\n",
       "      <td>Endeavor Air Inc.</td>\n",
       "      <td>ATL</td>\n",
       "      <td>EVV</td>\n",
       "      <td>False</td>\n",
       "      <td>False</td>\n",
       "      <td>0.0</td>\n",
       "      <td>0.0</td>\n",
       "      <td>54.0</td>\n",
       "      <td>89.0</td>\n",
       "      <td>78.0</td>\n",
       "      <td>...</td>\n",
       "      <td>False</td>\n",
       "      <td>0</td>\n",
       "      <td>0900-0959</td>\n",
       "      <td>20.0</td>\n",
       "      <td>4.0</td>\n",
       "      <td>False</td>\n",
       "      <td>0</td>\n",
       "      <td>1000-1059</td>\n",
       "      <td>2</td>\n",
       "      <td>0</td>\n",
       "    </tr>\n",
       "    <tr>\n",
       "      <th>38</th>\n",
       "      <td>Endeavor Air Inc.</td>\n",
       "      <td>ATL</td>\n",
       "      <td>EVV</td>\n",
       "      <td>False</td>\n",
       "      <td>False</td>\n",
       "      <td>0.0</td>\n",
       "      <td>0.0</td>\n",
       "      <td>64.0</td>\n",
       "      <td>89.0</td>\n",
       "      <td>82.0</td>\n",
       "      <td>...</td>\n",
       "      <td>False</td>\n",
       "      <td>0</td>\n",
       "      <td>0900-0959</td>\n",
       "      <td>14.0</td>\n",
       "      <td>4.0</td>\n",
       "      <td>False</td>\n",
       "      <td>0</td>\n",
       "      <td>1000-1059</td>\n",
       "      <td>2</td>\n",
       "      <td>0</td>\n",
       "    </tr>\n",
       "    <tr>\n",
       "      <th>39</th>\n",
       "      <td>Endeavor Air Inc.</td>\n",
       "      <td>ATL</td>\n",
       "      <td>EVV</td>\n",
       "      <td>False</td>\n",
       "      <td>False</td>\n",
       "      <td>0.0</td>\n",
       "      <td>0.0</td>\n",
       "      <td>62.0</td>\n",
       "      <td>89.0</td>\n",
       "      <td>84.0</td>\n",
       "      <td>...</td>\n",
       "      <td>False</td>\n",
       "      <td>0</td>\n",
       "      <td>0900-0959</td>\n",
       "      <td>17.0</td>\n",
       "      <td>5.0</td>\n",
       "      <td>False</td>\n",
       "      <td>0</td>\n",
       "      <td>1000-1059</td>\n",
       "      <td>2</td>\n",
       "      <td>0</td>\n",
       "    </tr>\n",
       "  </tbody>\n",
       "</table>\n",
       "<p>40 rows × 29 columns</p>\n",
       "</div>"
      ],
      "text/plain": [
       "              Airline Origin Dest  Cancelled  Diverted  DepDelayMinutes  \\\n",
       "0   Endeavor Air Inc.    ABY  ATL      False     False              0.0   \n",
       "1   Endeavor Air Inc.    ABY  ATL      False     False              0.0   \n",
       "2   Endeavor Air Inc.    ABY  ATL      False     False              0.0   \n",
       "3   Endeavor Air Inc.    ABY  ATL      False     False              0.0   \n",
       "4   Endeavor Air Inc.    ABY  ATL      False     False              0.0   \n",
       "5   Endeavor Air Inc.    ABY  ATL      False     False              2.0   \n",
       "6   Endeavor Air Inc.    ABY  ATL      False     False              0.0   \n",
       "7   Endeavor Air Inc.    ATL  ABY      False     False             24.0   \n",
       "8   Endeavor Air Inc.    ATL  ABY      False     False              0.0   \n",
       "9   Endeavor Air Inc.    ATL  ABY      False     False              0.0   \n",
       "10  Endeavor Air Inc.    ATL  ABY      False     False              0.0   \n",
       "11  Endeavor Air Inc.    ATL  ABY      False     False              0.0   \n",
       "12  Endeavor Air Inc.    ATL  ABY      False     False             22.0   \n",
       "13  Endeavor Air Inc.    ATL  ABY      False     False            105.0   \n",
       "14  Endeavor Air Inc.    ATL  ABY      False     False              0.0   \n",
       "15  Endeavor Air Inc.    ATL  ABY      False     False              0.0   \n",
       "16  Endeavor Air Inc.    ATL  ABY      False     False              7.0   \n",
       "17  Endeavor Air Inc.    ATL  ABY      False     False              0.0   \n",
       "18  Endeavor Air Inc.    ATL  ABY      False     False              0.0   \n",
       "19  Endeavor Air Inc.    ATL  ABY      False     False              0.0   \n",
       "20  Endeavor Air Inc.    ATL  ABY      False     False              0.0   \n",
       "21  Endeavor Air Inc.    ATL  ABY      False     False            116.0   \n",
       "22  Endeavor Air Inc.    ATL  ABY      False     False              0.0   \n",
       "23  Endeavor Air Inc.    ATL  ABY      False     False              0.0   \n",
       "24  Endeavor Air Inc.    ATL  ABY      False     False              0.0   \n",
       "25  Endeavor Air Inc.    ATL  ABY      False     False              0.0   \n",
       "26  Endeavor Air Inc.    ATL  ABY      False     False              0.0   \n",
       "27  Endeavor Air Inc.    ATL  ABY      False     False              0.0   \n",
       "28  Endeavor Air Inc.    ATL  ABY      False     False              0.0   \n",
       "29  Endeavor Air Inc.    ATL  ABY      False     False              0.0   \n",
       "30  Endeavor Air Inc.    ATL  ABY      False     False              0.0   \n",
       "31  Endeavor Air Inc.    ATL  ABY      False     False             15.0   \n",
       "32  Endeavor Air Inc.    ATL  ABY      False     False              0.0   \n",
       "33  Endeavor Air Inc.    ATL  ABY      False     False              0.0   \n",
       "34  Endeavor Air Inc.    ATL  MOB      False     False              0.0   \n",
       "35  Endeavor Air Inc.    MOB  ATL      False     False              0.0   \n",
       "36  Endeavor Air Inc.    MOB  ATL      False     False              0.0   \n",
       "37  Endeavor Air Inc.    ATL  EVV      False     False              0.0   \n",
       "38  Endeavor Air Inc.    ATL  EVV      False     False              0.0   \n",
       "39  Endeavor Air Inc.    ATL  EVV      False     False              0.0   \n",
       "\n",
       "    ArrDelayMinutes  AirTime  CRSElapsedTime  ActualElapsedTime  ...  \\\n",
       "0               0.0     38.0            62.0               59.0  ...   \n",
       "1               0.0     36.0            62.0               61.0  ...   \n",
       "2               0.0     40.0            62.0               69.0  ...   \n",
       "3               0.0     35.0            62.0               63.0  ...   \n",
       "4               0.0     36.0            60.0               64.0  ...   \n",
       "5               0.0     34.0            62.0               59.0  ...   \n",
       "6               0.0     44.0            62.0               62.0  ...   \n",
       "7              22.0     32.0            60.0               58.0  ...   \n",
       "8               0.0     27.0            60.0               53.0  ...   \n",
       "9               0.0     29.0            60.0               52.0  ...   \n",
       "10              0.0     34.0            59.0               54.0  ...   \n",
       "11              0.0     29.0            60.0               50.0  ...   \n",
       "12             16.0     32.0            60.0               54.0  ...   \n",
       "13            105.0     37.0            60.0               60.0  ...   \n",
       "14              0.0     37.0            60.0               59.0  ...   \n",
       "15              8.0     38.0            60.0               72.0  ...   \n",
       "16              1.0     35.0            60.0               54.0  ...   \n",
       "17              0.0     34.0            59.0               52.0  ...   \n",
       "18              0.0     30.0            60.0               49.0  ...   \n",
       "19              0.0     30.0            60.0               53.0  ...   \n",
       "20              0.0     30.0            60.0               56.0  ...   \n",
       "21            128.0     32.0            60.0               72.0  ...   \n",
       "22              0.0     28.0            60.0               53.0  ...   \n",
       "23              0.0     27.0            59.0               46.0  ...   \n",
       "24              0.0     30.0            60.0               50.0  ...   \n",
       "25              0.0     30.0            60.0               60.0  ...   \n",
       "26              0.0     38.0            60.0               61.0  ...   \n",
       "27              0.0     29.0            60.0               50.0  ...   \n",
       "28              0.0     28.0            60.0               51.0  ...   \n",
       "29              0.0     30.0            60.0               51.0  ...   \n",
       "30              0.0     29.0            59.0               51.0  ...   \n",
       "31              0.0     30.0            60.0               43.0  ...   \n",
       "32              0.0     33.0            60.0               51.0  ...   \n",
       "33              0.0     30.0            60.0               54.0  ...   \n",
       "34              0.0     54.0            88.0               74.0  ...   \n",
       "35              6.0     50.0            83.0               96.0  ...   \n",
       "36              1.0     47.0            76.0               78.0  ...   \n",
       "37              0.0     54.0            89.0               78.0  ...   \n",
       "38              0.0     64.0            89.0               82.0  ...   \n",
       "39              0.0     62.0            89.0               84.0  ...   \n",
       "\n",
       "    DepDel15  DepartureDelayGroups  DepTimeBlk  TaxiOut  TaxiIn ArrDel15  \\\n",
       "0      False                     0   1200-1259     14.0     7.0    False   \n",
       "1      False                     0   1200-1259     13.0    12.0    False   \n",
       "2      False                     0   1200-1259     18.0    11.0    False   \n",
       "3      False                     0   1200-1259     17.0    11.0    False   \n",
       "4      False                     0   1400-1459     17.0    11.0    False   \n",
       "5      False                     0   1200-1259     15.0    10.0    False   \n",
       "6      False                     0   1200-1259      7.0    11.0    False   \n",
       "7       True                     1   1000-1059     23.0     3.0     True   \n",
       "8      False                     0   1000-1059     23.0     3.0    False   \n",
       "9      False                     0   1000-1059     20.0     3.0    False   \n",
       "10     False                     0   1000-1059     18.0     2.0    False   \n",
       "11     False                     0   1000-1059     18.0     3.0    False   \n",
       "12      True                     1   1000-1059     18.0     4.0     True   \n",
       "13      True                     7   1000-1059     20.0     3.0     True   \n",
       "14     False                     0   1000-1059     19.0     3.0    False   \n",
       "15     False                     0   1000-1059     31.0     3.0    False   \n",
       "16     False                     0   1000-1059     16.0     3.0    False   \n",
       "17     False                     0   1000-1059     16.0     2.0    False   \n",
       "18     False                     0   1000-1059     16.0     3.0    False   \n",
       "19     False                     0   1000-1059     20.0     3.0    False   \n",
       "20     False                     0   1000-1059     23.0     3.0    False   \n",
       "21      True                     7   1000-1059     34.0     6.0     True   \n",
       "22     False                     0   1000-1059     21.0     4.0    False   \n",
       "23     False                     0   1000-1059     17.0     2.0    False   \n",
       "24     False                     0   1000-1059     16.0     4.0    False   \n",
       "25     False                     0   1000-1059     27.0     3.0    False   \n",
       "26     False                     0   1000-1059     19.0     4.0    False   \n",
       "27     False                     0   1000-1059     16.0     5.0    False   \n",
       "28     False                     0   1000-1059     16.0     7.0    False   \n",
       "29     False                     0   1000-1059     18.0     3.0    False   \n",
       "30     False                     0   1000-1059     18.0     4.0    False   \n",
       "31      True                     1   1000-1059     10.0     3.0    False   \n",
       "32     False                     0   1000-1059     15.0     3.0    False   \n",
       "33     False                     0   1000-1059     21.0     3.0    False   \n",
       "34     False                     0   0900-0959     16.0     4.0    False   \n",
       "35     False                     0   1000-1059     40.0     6.0    False   \n",
       "36     False                     0   0900-0959     20.0    11.0    False   \n",
       "37     False                     0   0900-0959     20.0     4.0    False   \n",
       "38     False                     0   0900-0959     14.0     4.0    False   \n",
       "39     False                     0   0900-0959     17.0     5.0    False   \n",
       "\n",
       "   ArrivalDelayGroups ArrTimeBlk DistanceGroup  DivAirportLandings  \n",
       "0                   0  1300-1359             1                   0  \n",
       "1                   0  1300-1359             1                   0  \n",
       "2                   0  1300-1359             1                   0  \n",
       "3                   0  1300-1359             1                   0  \n",
       "4                   0  1500-1559             1                   0  \n",
       "5                   0  1300-1359             1                   0  \n",
       "6                   0  1300-1359             1                   0  \n",
       "7                   1  1100-1159             1                   0  \n",
       "8                   0  1100-1159             1                   0  \n",
       "9                   0  1100-1159             1                   0  \n",
       "10                  0  1100-1159             1                   0  \n",
       "11                  0  1100-1159             1                   0  \n",
       "12                  1  1100-1159             1                   0  \n",
       "13                  7  1100-1159             1                   0  \n",
       "14                  0  1100-1159             1                   0  \n",
       "15                  0  1100-1159             1                   0  \n",
       "16                  0  1100-1159             1                   0  \n",
       "17                  0  1100-1159             1                   0  \n",
       "18                  0  1100-1159             1                   0  \n",
       "19                  0  1100-1159             1                   0  \n",
       "20                  0  1100-1159             1                   0  \n",
       "21                  8  1100-1159             1                   0  \n",
       "22                  0  1100-1159             1                   0  \n",
       "23                  0  1100-1159             1                   0  \n",
       "24                  0  1100-1159             1                   0  \n",
       "25                  0  1100-1159             1                   0  \n",
       "26                  0  1100-1159             1                   0  \n",
       "27                  0  1100-1159             1                   0  \n",
       "28                  0  1100-1159             1                   0  \n",
       "29                  0  1100-1159             1                   0  \n",
       "30                  0  1100-1159             1                   0  \n",
       "31                  0  1100-1159             1                   0  \n",
       "32                  0  1100-1159             1                   0  \n",
       "33                  0  1100-1159             1                   0  \n",
       "34                  0  1000-1059             2                   0  \n",
       "35                  0  1200-1259             2                   0  \n",
       "36                  0  1100-1159             2                   0  \n",
       "37                  0  1000-1059             2                   0  \n",
       "38                  0  1000-1059             2                   0  \n",
       "39                  0  1000-1059             2                   0  \n",
       "\n",
       "[40 rows x 29 columns]"
      ]
     },
     "execution_count": 50,
     "metadata": {},
     "output_type": "execute_result"
    }
   ],
   "source": [
    "flight4.head(40)"
   ]
  },
  {
   "cell_type": "code",
   "execution_count": 51,
   "id": "812d2462",
   "metadata": {},
   "outputs": [
    {
     "data": {
      "text/plain": [
       "28"
      ]
     },
     "execution_count": 51,
     "metadata": {},
     "output_type": "execute_result"
    }
   ],
   "source": [
    "len(flight4[\"Airline\"].unique())"
   ]
  },
  {
   "cell_type": "code",
   "execution_count": 52,
   "id": "0282060c",
   "metadata": {},
   "outputs": [
    {
     "data": {
      "text/plain": [
       "False    1028538\n",
       "Name: Cancelled, dtype: int64"
      ]
     },
     "execution_count": 52,
     "metadata": {},
     "output_type": "execute_result"
    }
   ],
   "source": [
    "flight4[\"Cancelled\"].value_counts()"
   ]
  },
  {
   "cell_type": "code",
   "execution_count": 53,
   "id": "6f8aa372",
   "metadata": {},
   "outputs": [],
   "source": [
    "flight4.to_csv('delay_flight.csv')"
   ]
  },
  {
   "cell_type": "code",
   "execution_count": 54,
   "id": "a61597aa",
   "metadata": {},
   "outputs": [],
   "source": [
    "from sklearn.preprocessing import LabelEncoder\n",
    "le=LabelEncoder()\n",
    "for col in flight4.select_dtypes(include='object').columns:\n",
    "    flight4[col]=le.fit_transform(flight4[col].astype(str)) "
   ]
  },
  {
   "cell_type": "code",
   "execution_count": 55,
   "id": "74232249",
   "metadata": {},
   "outputs": [],
   "source": [
    "from sklearn.preprocessing import LabelEncoder\n",
    "le=LabelEncoder()\n",
    "for col in flight4.select_dtypes(include='bool').columns:\n",
    "    flight4[col]=le.fit_transform(flight4[col].astype(str))  "
   ]
  },
  {
   "cell_type": "code",
   "execution_count": 74,
   "id": "77a8c8bb",
   "metadata": {},
   "outputs": [],
   "source": [
    "X=flight4.drop([\"DepDel15\"],axis=1)\n",
    "y=flight4[\"DepDel15\"]"
   ]
  },
  {
   "cell_type": "code",
   "execution_count": 75,
   "id": "696da687",
   "metadata": {},
   "outputs": [],
   "source": [
    "from sklearn.model_selection import train_test_split\n",
    "X_train,X_test,y_train,y_test=train_test_split(X,y,test_size=0.30,random_state=0)"
   ]
  },
  {
   "cell_type": "code",
   "execution_count": 76,
   "id": "d597213b",
   "metadata": {},
   "outputs": [
    {
     "data": {
      "text/plain": [
       "array([1.77398022e-02, 5.06855300e-03, 5.38321107e-03, 8.96092084e-06,\n",
       "       1.07578775e-05, 4.47396435e-01, 2.64569435e-01, 8.49013231e-04,\n",
       "       1.80715395e-03, 9.84088901e-04, 5.69218206e-03, 7.18660030e-02,\n",
       "       7.85882525e-02, 1.13285521e-02, 1.75509536e-02, 4.80579887e-03,\n",
       "       6.82593559e-03, 5.94917306e-03, 7.85318715e-03, 4.48774259e-01,\n",
       "       1.60487300e-02, 7.11172339e-03, 8.81473974e-03, 2.13626656e-01,\n",
       "       2.30302874e-01, 1.60031236e-02, 1.48043309e-02, 2.17926364e-04])"
      ]
     },
     "execution_count": 76,
     "metadata": {},
     "output_type": "execute_result"
    }
   ],
   "source": [
    "from sklearn.feature_selection import mutual_info_classif\n",
    "mi=mutual_info_classif(X_train,y_train)\n",
    "mi"
   ]
  },
  {
   "cell_type": "code",
   "execution_count": 77,
   "id": "72029131",
   "metadata": {},
   "outputs": [
    {
     "data": {
      "text/plain": [
       "DepartureDelayGroups    0.448774\n",
       "DepDelayMinutes         0.447396\n",
       "ArrDelayMinutes         0.264569\n",
       "ArrivalDelayGroups      0.230303\n",
       "ArrDel15                0.213627\n",
       "Month                   0.078588\n",
       "Quarter                 0.071866\n",
       "Airline                 0.017740\n",
       "DayOfWeek               0.017551\n",
       "DepTimeBlk              0.016049\n",
       "ArrTimeBlk              0.016003\n",
       "DistanceGroup           0.014804\n",
       "DayofMonth              0.011329\n",
       "TaxiIn                  0.008815\n",
       "DestStateName           0.007853\n",
       "TaxiOut                 0.007112\n",
       "OriginStateName         0.006826\n",
       "DestCityName            0.005949\n",
       "Distance                0.005692\n",
       "Dest                    0.005383\n",
       "Origin                  0.005069\n",
       "OriginCityName          0.004806\n",
       "CRSElapsedTime          0.001807\n",
       "ActualElapsedTime       0.000984\n",
       "AirTime                 0.000849\n",
       "DivAirportLandings      0.000218\n",
       "Diverted                0.000011\n",
       "Cancelled               0.000009\n",
       "dtype: float64"
      ]
     },
     "execution_count": 77,
     "metadata": {},
     "output_type": "execute_result"
    }
   ],
   "source": [
    "mi=pd.Series(mi)\n",
    "mi.index=X_train.columns\n",
    "mi.sort_values(ascending=False)"
   ]
  },
  {
   "cell_type": "code",
   "execution_count": 78,
   "id": "330811ce",
   "metadata": {},
   "outputs": [
    {
     "data": {
      "text/plain": [
       "<AxesSubplot:>"
      ]
     },
     "execution_count": 78,
     "metadata": {},
     "output_type": "execute_result"
    },
    {
     "data": {
      "image/png": "[encoded data removed]",
      "text/plain": [
       "<Figure size 1440x720 with 1 Axes>"
      ]
     },
     "metadata": {
      "needs_background": "light"
     },
     "output_type": "display_data"
    }
   ],
   "source": [
    "mi.sort_values(ascending=False).plot.bar(figsize=(20,10))"
   ]
  },
  {
   "cell_type": "code",
   "execution_count": 79,
   "id": "46803a14",
   "metadata": {},
   "outputs": [
    {
     "name": "stdout",
     "output_type": "stream",
     "text": [
      "('DepartureDelayGroups', 0.44877425902026946)\n",
      "('DepDelayMinutes', 0.4473964353150348)\n",
      "('ArrDelayMinutes', 0.26456943514166587)\n",
      "('ArrivalDelayGroups', 0.23030287429606755)\n",
      "('ArrDel15', 0.21362665588330687)\n",
      "('Month', 0.07858825250641632)\n",
      "('Quarter', 0.07186600295727352)\n",
      "('Airline', 0.017739802223137424)\n",
      "('DayOfWeek', 0.01755095357218539)\n",
      "('DepTimeBlk', 0.01604872996343598)\n",
      "('ArrTimeBlk', 0.01600312355721978)\n",
      "('DistanceGroup', 0.014804330896206253)\n",
      "('DayofMonth', 0.011328552137027659)\n",
      "('TaxiIn', 0.008814739735083288)\n",
      "('DestStateName', 0.00785318715179617)\n",
      "('TaxiOut', 0.007111723387775548)\n",
      "('OriginStateName', 0.00682593559020872)\n",
      "('DestCityName', 0.005949173061216673)\n",
      "('Distance', 0.005692182060928808)\n",
      "('Dest', 0.005383211074670324)\n",
      "('Origin', 0.005068553000479037)\n",
      "('OriginCityName', 0.004805798866709621)\n",
      "('CRSElapsedTime', 0.001807153949325624)\n",
      "('ActualElapsedTime', 0.0009840889011802911)\n",
      "('AirTime', 0.0008490132308376364)\n",
      "('DivAirportLandings', 0.0002179263637429596)\n",
      "('Diverted', 1.075787754500901e-05)\n",
      "('Cancelled', 8.960920844680587e-06)\n"
     ]
    }
   ],
   "source": [
    "a=mi.sort_values(ascending=False)\n",
    "for cols in a.iteritems():\n",
    "    print(cols) "
   ]
  },
  {
   "cell_type": "code",
   "execution_count": 88,
   "id": "df67e007",
   "metadata": {},
   "outputs": [],
   "source": [
    "delay_final=flight4[['DepartureDelayGroups','DepDelayMinutes','ArrDelayMinutes','ArrivalDelayGroups','ArrDel15',\n",
    "'Month','Quarter','Airline','DayOfWeek','DepTimeBlk','ArrTimeBlk','DistanceGroup','DayofMonth','DepDel15']]"
   ]
  },
  {
   "cell_type": "code",
   "execution_count": 89,
   "id": "004c7ba3",
   "metadata": {},
   "outputs": [
    {
     "data": {
      "text/html": [
       "<div>\n",
       "<style scoped>\n",
       "    .dataframe tbody tr th:only-of-type {\n",
       "        vertical-align: middle;\n",
       "    }\n",
       "\n",
       "    .dataframe tbody tr th {\n",
       "        vertical-align: top;\n",
       "    }\n",
       "\n",
       "    .dataframe thead th {\n",
       "        text-align: right;\n",
       "    }\n",
       "</style>\n",
       "<table border=\"1\" class=\"dataframe\">\n",
       "  <thead>\n",
       "    <tr style=\"text-align: right;\">\n",
       "      <th></th>\n",
       "      <th>DepartureDelayGroups</th>\n",
       "      <th>DepDelayMinutes</th>\n",
       "      <th>ArrDelayMinutes</th>\n",
       "      <th>ArrivalDelayGroups</th>\n",
       "      <th>ArrDel15</th>\n",
       "      <th>Month</th>\n",
       "      <th>Quarter</th>\n",
       "      <th>Airline</th>\n",
       "      <th>DayOfWeek</th>\n",
       "      <th>DepTimeBlk</th>\n",
       "      <th>ArrTimeBlk</th>\n",
       "      <th>DistanceGroup</th>\n",
       "      <th>DayofMonth</th>\n",
       "      <th>DepDel15</th>\n",
       "    </tr>\n",
       "  </thead>\n",
       "  <tbody>\n",
       "    <tr>\n",
       "      <th>0</th>\n",
       "      <td>0</td>\n",
       "      <td>0.0</td>\n",
       "      <td>0.0</td>\n",
       "      <td>0</td>\n",
       "      <td>0</td>\n",
       "      <td>1</td>\n",
       "      <td>1</td>\n",
       "      <td>11</td>\n",
       "      <td>2</td>\n",
       "      <td>7</td>\n",
       "      <td>8</td>\n",
       "      <td>1</td>\n",
       "      <td>23</td>\n",
       "      <td>0</td>\n",
       "    </tr>\n",
       "    <tr>\n",
       "      <th>1</th>\n",
       "      <td>0</td>\n",
       "      <td>0.0</td>\n",
       "      <td>0.0</td>\n",
       "      <td>0</td>\n",
       "      <td>0</td>\n",
       "      <td>1</td>\n",
       "      <td>1</td>\n",
       "      <td>11</td>\n",
       "      <td>3</td>\n",
       "      <td>7</td>\n",
       "      <td>8</td>\n",
       "      <td>1</td>\n",
       "      <td>24</td>\n",
       "      <td>0</td>\n",
       "    </tr>\n",
       "    <tr>\n",
       "      <th>2</th>\n",
       "      <td>0</td>\n",
       "      <td>0.0</td>\n",
       "      <td>0.0</td>\n",
       "      <td>0</td>\n",
       "      <td>0</td>\n",
       "      <td>1</td>\n",
       "      <td>1</td>\n",
       "      <td>11</td>\n",
       "      <td>4</td>\n",
       "      <td>7</td>\n",
       "      <td>8</td>\n",
       "      <td>1</td>\n",
       "      <td>25</td>\n",
       "      <td>0</td>\n",
       "    </tr>\n",
       "    <tr>\n",
       "      <th>3</th>\n",
       "      <td>0</td>\n",
       "      <td>0.0</td>\n",
       "      <td>0.0</td>\n",
       "      <td>0</td>\n",
       "      <td>0</td>\n",
       "      <td>1</td>\n",
       "      <td>1</td>\n",
       "      <td>11</td>\n",
       "      <td>5</td>\n",
       "      <td>7</td>\n",
       "      <td>8</td>\n",
       "      <td>1</td>\n",
       "      <td>26</td>\n",
       "      <td>0</td>\n",
       "    </tr>\n",
       "    <tr>\n",
       "      <th>4</th>\n",
       "      <td>0</td>\n",
       "      <td>0.0</td>\n",
       "      <td>0.0</td>\n",
       "      <td>0</td>\n",
       "      <td>0</td>\n",
       "      <td>1</td>\n",
       "      <td>1</td>\n",
       "      <td>11</td>\n",
       "      <td>6</td>\n",
       "      <td>9</td>\n",
       "      <td>10</td>\n",
       "      <td>1</td>\n",
       "      <td>27</td>\n",
       "      <td>0</td>\n",
       "    </tr>\n",
       "  </tbody>\n",
       "</table>\n",
       "</div>"
      ],
      "text/plain": [
       "   DepartureDelayGroups  DepDelayMinutes  ArrDelayMinutes  ArrivalDelayGroups  \\\n",
       "0                     0              0.0              0.0                   0   \n",
       "1                     0              0.0              0.0                   0   \n",
       "2                     0              0.0              0.0                   0   \n",
       "3                     0              0.0              0.0                   0   \n",
       "4                     0              0.0              0.0                   0   \n",
       "\n",
       "   ArrDel15  Month  Quarter  Airline  DayOfWeek  DepTimeBlk  ArrTimeBlk  \\\n",
       "0         0      1        1       11          2           7           8   \n",
       "1         0      1        1       11          3           7           8   \n",
       "2         0      1        1       11          4           7           8   \n",
       "3         0      1        1       11          5           7           8   \n",
       "4         0      1        1       11          6           9          10   \n",
       "\n",
       "   DistanceGroup  DayofMonth  DepDel15  \n",
       "0              1          23         0  \n",
       "1              1          24         0  \n",
       "2              1          25         0  \n",
       "3              1          26         0  \n",
       "4              1          27         0  "
      ]
     },
     "execution_count": 89,
     "metadata": {},
     "output_type": "execute_result"
    }
   ],
   "source": [
    "delay_final.head()"
   ]
  },
  {
   "cell_type": "code",
   "execution_count": 245,
   "id": "bc0f598d",
   "metadata": {},
   "outputs": [
    {
     "name": "stdout",
     "output_type": "stream",
     "text": [
      "<class 'pandas.core.frame.DataFrame'>\n",
      "RangeIndex: 1028538 entries, 0 to 1028537\n",
      "Data columns (total 14 columns):\n",
      " #   Column                Non-Null Count    Dtype  \n",
      "---  ------                --------------    -----  \n",
      " 0   DepartureDelayGroups  1028538 non-null  int32  \n",
      " 1   DepDelayMinutes       1028538 non-null  float64\n",
      " 2   ArrDelayMinutes       1028538 non-null  float64\n",
      " 3   ArrivalDelayGroups    1028538 non-null  int32  \n",
      " 4   ArrDel15              1028538 non-null  int32  \n",
      " 5   Month                 1028538 non-null  int64  \n",
      " 6   Quarter               1028538 non-null  int64  \n",
      " 7   Airline               1028538 non-null  int32  \n",
      " 8   DayOfWeek             1028538 non-null  int64  \n",
      " 9   DepTimeBlk            1028538 non-null  int32  \n",
      " 10  ArrTimeBlk            1028538 non-null  int32  \n",
      " 11  DistanceGroup         1028538 non-null  int64  \n",
      " 12  DayofMonth            1028538 non-null  int64  \n",
      " 13  DepDel15              1028538 non-null  int32  \n",
      "dtypes: float64(2), int32(7), int64(5)\n",
      "memory usage: 82.4 MB\n"
     ]
    }
   ],
   "source": [
    "delay_final.info()"
   ]
  },
  {
   "cell_type": "code",
   "execution_count": 90,
   "id": "4850bb7a",
   "metadata": {},
   "outputs": [
    {
     "data": {
      "text/plain": [
       "array([[-0.31409659, -0.27600245, -0.28114068, ..., -1.10732026,\n",
       "         0.78314198, -0.44460482],\n",
       "       [-0.31409659, -0.27600245, -0.28114068, ..., -1.10732026,\n",
       "         0.89585806, -0.44460482],\n",
       "       [-0.31409659, -0.27600245, -0.28114068, ..., -1.10732026,\n",
       "         1.00857413, -0.44460482],\n",
       "       ...,\n",
       "       [-0.31409659, -0.27600245, -0.28114068, ..., -0.67721887,\n",
       "        -1.13303132, -0.44460482],\n",
       "       [-0.31409659, -0.27600245, -0.28114068, ...,  3.1936937 ,\n",
       "        -1.13303132, -0.44460482],\n",
       "       [ 2.43285109,  1.48122377,  1.62297128, ...,  3.1936937 ,\n",
       "        -1.13303132,  2.2491884 ]])"
      ]
     },
     "execution_count": 90,
     "metadata": {},
     "output_type": "execute_result"
    }
   ],
   "source": [
    "from sklearn.preprocessing import StandardScaler\n",
    "scaler = StandardScaler()\n",
    "scaler.fit_transform(delay_final)"
   ]
  },
  {
   "cell_type": "markdown",
   "id": "331e1d27",
   "metadata": {},
   "source": [
    "# 1>LOGISTIC REGRESSION"
   ]
  },
  {
   "cell_type": "code",
   "execution_count": 123,
   "id": "39061846",
   "metadata": {},
   "outputs": [],
   "source": [
    "# Splitting into train and test data set\n",
    "X=delay_final.drop([\"DepDel15\"],axis=1)\n",
    "y=delay_final[\"DepDel15\"]\n",
    "from sklearn.model_selection import train_test_split\n",
    "X_train,X_test,y_train,y_test = train_test_split(X,y,test_size=0.30,random_state=None)"
   ]
  },
  {
   "cell_type": "code",
   "execution_count": 124,
   "id": "4258bdf8",
   "metadata": {},
   "outputs": [],
   "source": [
    "from sklearn.linear_model import LogisticRegression"
   ]
  },
  {
   "cell_type": "code",
   "execution_count": 125,
   "id": "b0ff70e2",
   "metadata": {},
   "outputs": [],
   "source": [
    "from sklearn.metrics import mean_squared_error,mean_absolute_error\n",
    "from sklearn.metrics import accuracy_score"
   ]
  },
  {
   "cell_type": "code",
   "execution_count": 126,
   "id": "f8461147",
   "metadata": {},
   "outputs": [],
   "source": [
    "lr=LogisticRegression()"
   ]
  },
  {
   "cell_type": "code",
   "execution_count": 127,
   "id": "8789150e",
   "metadata": {},
   "outputs": [
    {
     "name": "stderr",
     "output_type": "stream",
     "text": [
      "C:\\Users\\rauna\\anaconda3\\lib\\site-packages\\sklearn\\linear_model\\_logistic.py:444: ConvergenceWarning: lbfgs failed to converge (status=1):\n",
      "STOP: TOTAL NO. of ITERATIONS REACHED LIMIT.\n",
      "\n",
      "Increase the number of iterations (max_iter) or scale the data as shown in:\n",
      "    https://scikit-learn.org/stable/modules/preprocessing.html\n",
      "Please also refer to the documentation for alternative solver options:\n",
      "    https://scikit-learn.org/stable/modules/linear_model.html#logistic-regression\n",
      "  n_iter_i = _check_optimize_result(\n"
     ]
    },
    {
     "data": {
      "text/html": [
       "<style>#sk-container-id-4 {color: black;background-color: white;}#sk-container-id-4 pre{padding: 0;}#sk-container-id-4 div.sk-toggleable {background-color: white;}#sk-container-id-4 label.sk-toggleable__label {cursor: pointer;display: block;width: 100%;margin-bottom: 0;padding: 0.3em;box-sizing: border-box;text-align: center;}#sk-container-id-4 label.sk-toggleable__label-arrow:before {content: \"▸\";float: left;margin-right: 0.25em;color: #696969;}#sk-container-id-4 label.sk-toggleable__label-arrow:hover:before {color: black;}#sk-container-id-4 div.sk-estimator:hover label.sk-toggleable__label-arrow:before {color: black;}#sk-container-id-4 div.sk-toggleable__content {max-height: 0;max-width: 0;overflow: hidden;text-align: left;background-color: #f0f8ff;}#sk-container-id-4 div.sk-toggleable__content pre {margin: 0.2em;color: black;border-radius: 0.25em;background-color: #f0f8ff;}#sk-container-id-4 input.sk-toggleable__control:checked~div.sk-toggleable__content {max-height: 200px;max-width: 100%;overflow: auto;}#sk-container-id-4 input.sk-toggleable__control:checked~label.sk-toggleable__label-arrow:before {content: \"▾\";}#sk-container-id-4 div.sk-estimator input.sk-toggleable__control:checked~label.sk-toggleable__label {background-color: #d4ebff;}#sk-container-id-4 div.sk-label input.sk-toggleable__control:checked~label.sk-toggleable__label {background-color: #d4ebff;}#sk-container-id-4 input.sk-hidden--visually {border: 0;clip: rect(1px 1px 1px 1px);clip: rect(1px, 1px, 1px, 1px);height: 1px;margin: -1px;overflow: hidden;padding: 0;position: absolute;width: 1px;}#sk-container-id-4 div.sk-estimator {font-family: monospace;background-color: #f0f8ff;border: 1px dotted black;border-radius: 0.25em;box-sizing: border-box;margin-bottom: 0.5em;}#sk-container-id-4 div.sk-estimator:hover {background-color: #d4ebff;}#sk-container-id-4 div.sk-parallel-item::after {content: \"\";width: 100%;border-bottom: 1px solid gray;flex-grow: 1;}#sk-container-id-4 div.sk-label:hover label.sk-toggleable__label {background-color: #d4ebff;}#sk-container-id-4 div.sk-serial::before {content: \"\";position: absolute;border-left: 1px solid gray;box-sizing: border-box;top: 0;bottom: 0;left: 50%;z-index: 0;}#sk-container-id-4 div.sk-serial {display: flex;flex-direction: column;align-items: center;background-color: white;padding-right: 0.2em;padding-left: 0.2em;position: relative;}#sk-container-id-4 div.sk-item {position: relative;z-index: 1;}#sk-container-id-4 div.sk-parallel {display: flex;align-items: stretch;justify-content: center;background-color: white;position: relative;}#sk-container-id-4 div.sk-item::before, #sk-container-id-4 div.sk-parallel-item::before {content: \"\";position: absolute;border-left: 1px solid gray;box-sizing: border-box;top: 0;bottom: 0;left: 50%;z-index: -1;}#sk-container-id-4 div.sk-parallel-item {display: flex;flex-direction: column;z-index: 1;position: relative;background-color: white;}#sk-container-id-4 div.sk-parallel-item:first-child::after {align-self: flex-end;width: 50%;}#sk-container-id-4 div.sk-parallel-item:last-child::after {align-self: flex-start;width: 50%;}#sk-container-id-4 div.sk-parallel-item:only-child::after {width: 0;}#sk-container-id-4 div.sk-dashed-wrapped {border: 1px dashed gray;margin: 0 0.4em 0.5em 0.4em;box-sizing: border-box;padding-bottom: 0.4em;background-color: white;}#sk-container-id-4 div.sk-label label {font-family: monospace;font-weight: bold;display: inline-block;line-height: 1.2em;}#sk-container-id-4 div.sk-label-container {text-align: center;}#sk-container-id-4 div.sk-container {/* jupyter's `normalize.less` sets `[hidden] { display: none; }` but bootstrap.min.css set `[hidden] { display: none !important; }` so we also need the `!important` here to be able to override the default hidden behavior on the sphinx rendered scikit-learn.org. See: https://github.com/scikit-learn/scikit-learn/issues/21755 */display: inline-block !important;position: relative;}#sk-container-id-4 div.sk-text-repr-fallback {display: none;}</style><div id=\"sk-container-id-4\" class=\"sk-top-container\"><div class=\"sk-text-repr-fallback\"><pre>LogisticRegression()</pre><b>In a Jupyter environment, please rerun this cell to show the HTML representation or trust the notebook. <br />On GitHub, the HTML representation is unable to render, please try loading this page with nbviewer.org.</b></div><div class=\"sk-container\" hidden><div class=\"sk-item\"><div class=\"sk-estimator sk-toggleable\"><input class=\"sk-toggleable__control sk-hidden--visually\" id=\"sk-estimator-id-4\" type=\"checkbox\" checked><label for=\"sk-estimator-id-4\" class=\"sk-toggleable__label sk-toggleable__label-arrow\">LogisticRegression</label><div class=\"sk-toggleable__content\"><pre>LogisticRegression()</pre></div></div></div></div></div>"
      ],
      "text/plain": [
       "LogisticRegression()"
      ]
     },
     "execution_count": 127,
     "metadata": {},
     "output_type": "execute_result"
    }
   ],
   "source": [
    "lr.fit(X_train,y_train)"
   ]
  },
  {
   "cell_type": "code",
   "execution_count": 128,
   "id": "7d27acb2",
   "metadata": {},
   "outputs": [
    {
     "name": "stdout",
     "output_type": "stream",
     "text": [
      "Training Score in LR:= 1.0\n",
      "Test Score in LR:= 1.0\n"
     ]
    }
   ],
   "source": [
    "print(\"Training Score in LR:=\",accuracy_score(y_train,lr.predict(X_train)))\n",
    "print(\"Test Score in LR:=\",accuracy_score(y_test,lr.predict(X_test)))"
   ]
  },
  {
   "cell_type": "code",
   "execution_count": 129,
   "id": "7bef3ac5",
   "metadata": {},
   "outputs": [],
   "source": [
    "y_pred_lr = lr.predict(X_test) "
   ]
  },
  {
   "cell_type": "code",
   "execution_count": 130,
   "id": "9cc98faa",
   "metadata": {},
   "outputs": [
    {
     "name": "stdout",
     "output_type": "stream",
     "text": [
      "1.0\n",
      "0.0\n",
      "0.0\n"
     ]
    }
   ],
   "source": [
    "print(accuracy_score(y_test,y_pred_lr))\n",
    "print(mean_absolute_error(y_test,y_pred_lr))\n",
    "print(np.sqrt(mean_squared_error(y_test,y_pred_lr)))"
   ]
  },
  {
   "cell_type": "code",
   "execution_count": 131,
   "id": "649dc866",
   "metadata": {},
   "outputs": [
    {
     "data": {
      "image/png": "[encoded data removed]",
      "text/plain": [
       "<Figure size 432x288 with 2 Axes>"
      ]
     },
     "metadata": {
      "needs_background": "light"
     },
     "output_type": "display_data"
    }
   ],
   "source": [
    "# Calculate the confusion matrix\n",
    "from sklearn.metrics import roc_auc_score, roc_curve, confusion_matrix, classification_report\n",
    "from sklearn import metrics\n",
    "confusion_matrix = metrics.confusion_matrix(y_test, y_pred_lr)\n",
    "cm_display = metrics.ConfusionMatrixDisplay(confusion_matrix = confusion_matrix, display_labels = [0,1])\n",
    "cm_display.plot()\n",
    "plt.show()"
   ]
  },
  {
   "cell_type": "code",
   "execution_count": 132,
   "id": "062362ff",
   "metadata": {},
   "outputs": [
    {
     "name": "stdout",
     "output_type": "stream",
     "text": [
      "              precision    recall  f1-score   support\n",
      "\n",
      "           0       1.00      1.00      1.00    257491\n",
      "           1       1.00      1.00      1.00     51071\n",
      "\n",
      "    accuracy                           1.00    308562\n",
      "   macro avg       1.00      1.00      1.00    308562\n",
      "weighted avg       1.00      1.00      1.00    308562\n",
      "\n"
     ]
    }
   ],
   "source": [
    "# Calculate the classification report\n",
    "print(classification_report(y_test,y_pred_lr))"
   ]
  },
  {
   "cell_type": "code",
   "execution_count": 133,
   "id": "00a1a1a6",
   "metadata": {},
   "outputs": [
    {
     "name": "stdout",
     "output_type": "stream",
     "text": [
      "1.0\n"
     ]
    }
   ],
   "source": [
    "# Calculate roc_auc_score\n",
    "roc_auc_lr=(roc_auc_score(y_test, y_pred_lr))\n",
    "print(roc_auc_lr)"
   ]
  },
  {
   "cell_type": "markdown",
   "id": "793bfad3",
   "metadata": {},
   "source": [
    "# NAIVE BAYES"
   ]
  },
  {
   "cell_type": "code",
   "execution_count": 134,
   "id": "4ea923b3",
   "metadata": {},
   "outputs": [],
   "source": [
    "from sklearn.naive_bayes import GaussianNB\n",
    "nb=GaussianNB()"
   ]
  },
  {
   "cell_type": "code",
   "execution_count": 135,
   "id": "bfefb09d",
   "metadata": {},
   "outputs": [
    {
     "data": {
      "text/html": [
       "<style>#sk-container-id-5 {color: black;background-color: white;}#sk-container-id-5 pre{padding: 0;}#sk-container-id-5 div.sk-toggleable {background-color: white;}#sk-container-id-5 label.sk-toggleable__label {cursor: pointer;display: block;width: 100%;margin-bottom: 0;padding: 0.3em;box-sizing: border-box;text-align: center;}#sk-container-id-5 label.sk-toggleable__label-arrow:before {content: \"▸\";float: left;margin-right: 0.25em;color: #696969;}#sk-container-id-5 label.sk-toggleable__label-arrow:hover:before {color: black;}#sk-container-id-5 div.sk-estimator:hover label.sk-toggleable__label-arrow:before {color: black;}#sk-container-id-5 div.sk-toggleable__content {max-height: 0;max-width: 0;overflow: hidden;text-align: left;background-color: #f0f8ff;}#sk-container-id-5 div.sk-toggleable__content pre {margin: 0.2em;color: black;border-radius: 0.25em;background-color: #f0f8ff;}#sk-container-id-5 input.sk-toggleable__control:checked~div.sk-toggleable__content {max-height: 200px;max-width: 100%;overflow: auto;}#sk-container-id-5 input.sk-toggleable__control:checked~label.sk-toggleable__label-arrow:before {content: \"▾\";}#sk-container-id-5 div.sk-estimator input.sk-toggleable__control:checked~label.sk-toggleable__label {background-color: #d4ebff;}#sk-container-id-5 div.sk-label input.sk-toggleable__control:checked~label.sk-toggleable__label {background-color: #d4ebff;}#sk-container-id-5 input.sk-hidden--visually {border: 0;clip: rect(1px 1px 1px 1px);clip: rect(1px, 1px, 1px, 1px);height: 1px;margin: -1px;overflow: hidden;padding: 0;position: absolute;width: 1px;}#sk-container-id-5 div.sk-estimator {font-family: monospace;background-color: #f0f8ff;border: 1px dotted black;border-radius: 0.25em;box-sizing: border-box;margin-bottom: 0.5em;}#sk-container-id-5 div.sk-estimator:hover {background-color: #d4ebff;}#sk-container-id-5 div.sk-parallel-item::after {content: \"\";width: 100%;border-bottom: 1px solid gray;flex-grow: 1;}#sk-container-id-5 div.sk-label:hover label.sk-toggleable__label {background-color: #d4ebff;}#sk-container-id-5 div.sk-serial::before {content: \"\";position: absolute;border-left: 1px solid gray;box-sizing: border-box;top: 0;bottom: 0;left: 50%;z-index: 0;}#sk-container-id-5 div.sk-serial {display: flex;flex-direction: column;align-items: center;background-color: white;padding-right: 0.2em;padding-left: 0.2em;position: relative;}#sk-container-id-5 div.sk-item {position: relative;z-index: 1;}#sk-container-id-5 div.sk-parallel {display: flex;align-items: stretch;justify-content: center;background-color: white;position: relative;}#sk-container-id-5 div.sk-item::before, #sk-container-id-5 div.sk-parallel-item::before {content: \"\";position: absolute;border-left: 1px solid gray;box-sizing: border-box;top: 0;bottom: 0;left: 50%;z-index: -1;}#sk-container-id-5 div.sk-parallel-item {display: flex;flex-direction: column;z-index: 1;position: relative;background-color: white;}#sk-container-id-5 div.sk-parallel-item:first-child::after {align-self: flex-end;width: 50%;}#sk-container-id-5 div.sk-parallel-item:last-child::after {align-self: flex-start;width: 50%;}#sk-container-id-5 div.sk-parallel-item:only-child::after {width: 0;}#sk-container-id-5 div.sk-dashed-wrapped {border: 1px dashed gray;margin: 0 0.4em 0.5em 0.4em;box-sizing: border-box;padding-bottom: 0.4em;background-color: white;}#sk-container-id-5 div.sk-label label {font-family: monospace;font-weight: bold;display: inline-block;line-height: 1.2em;}#sk-container-id-5 div.sk-label-container {text-align: center;}#sk-container-id-5 div.sk-container {/* jupyter's `normalize.less` sets `[hidden] { display: none; }` but bootstrap.min.css set `[hidden] { display: none !important; }` so we also need the `!important` here to be able to override the default hidden behavior on the sphinx rendered scikit-learn.org. See: https://github.com/scikit-learn/scikit-learn/issues/21755 */display: inline-block !important;position: relative;}#sk-container-id-5 div.sk-text-repr-fallback {display: none;}</style><div id=\"sk-container-id-5\" class=\"sk-top-container\"><div class=\"sk-text-repr-fallback\"><pre>GaussianNB()</pre><b>In a Jupyter environment, please rerun this cell to show the HTML representation or trust the notebook. <br />On GitHub, the HTML representation is unable to render, please try loading this page with nbviewer.org.</b></div><div class=\"sk-container\" hidden><div class=\"sk-item\"><div class=\"sk-estimator sk-toggleable\"><input class=\"sk-toggleable__control sk-hidden--visually\" id=\"sk-estimator-id-5\" type=\"checkbox\" checked><label for=\"sk-estimator-id-5\" class=\"sk-toggleable__label sk-toggleable__label-arrow\">GaussianNB</label><div class=\"sk-toggleable__content\"><pre>GaussianNB()</pre></div></div></div></div></div>"
      ],
      "text/plain": [
       "GaussianNB()"
      ]
     },
     "execution_count": 135,
     "metadata": {},
     "output_type": "execute_result"
    }
   ],
   "source": [
    "nb.fit(X_train,y_train)"
   ]
  },
  {
   "cell_type": "code",
   "execution_count": 136,
   "id": "dbe39e59",
   "metadata": {},
   "outputs": [
    {
     "name": "stdout",
     "output_type": "stream",
     "text": [
      "Training Scpre in NB:= 0.9808479727102014\n",
      "Test Score in NB:= 0.9805614430811311\n"
     ]
    }
   ],
   "source": [
    "print(\"Training Scpre in NB:=\",accuracy_score(y_train,nb.predict(X_train)))\n",
    "print(\"Test Score in NB:=\",accuracy_score(y_test,nb.predict(X_test)))"
   ]
  },
  {
   "cell_type": "code",
   "execution_count": 137,
   "id": "7d5378b4",
   "metadata": {},
   "outputs": [],
   "source": [
    "y_pred_nb = nb.predict(X_test) "
   ]
  },
  {
   "cell_type": "code",
   "execution_count": 138,
   "id": "e90d1496",
   "metadata": {
    "scrolled": true
   },
   "outputs": [
    {
     "name": "stdout",
     "output_type": "stream",
     "text": [
      "0.9805614430811311\n",
      "0.019438556918868817\n",
      "0.13942222534039836\n"
     ]
    }
   ],
   "source": [
    "print(accuracy_score(y_test,y_pred_nb))\n",
    "print(mean_absolute_error(y_test,y_pred_nb))\n",
    "print(np.sqrt(mean_squared_error(y_test,y_pred_nb)))"
   ]
  },
  {
   "cell_type": "code",
   "execution_count": 139,
   "id": "ac8d2c60",
   "metadata": {},
   "outputs": [
    {
     "data": {
      "image/png": "[encoded data removed]",
      "text/plain": [
       "<Figure size 432x288 with 2 Axes>"
      ]
     },
     "metadata": {
      "needs_background": "light"
     },
     "output_type": "display_data"
    }
   ],
   "source": [
    "# Calculate the confusion matrix\n",
    "from sklearn.metrics import roc_auc_score, roc_curve, confusion_matrix, classification_report\n",
    "confusion_matrix = metrics.confusion_matrix(y_test, y_pred_nb)\n",
    "cm_display = metrics.ConfusionMatrixDisplay(confusion_matrix = confusion_matrix, display_labels = [0,1])\n",
    "cm_display.plot()\n",
    "plt.show()"
   ]
  },
  {
   "cell_type": "code",
   "execution_count": 140,
   "id": "297da448",
   "metadata": {},
   "outputs": [
    {
     "name": "stdout",
     "output_type": "stream",
     "text": [
      "              precision    recall  f1-score   support\n",
      "\n",
      "           0       1.00      0.98      0.99    257491\n",
      "           1       0.89      1.00      0.94     51071\n",
      "\n",
      "    accuracy                           0.98    308562\n",
      "   macro avg       0.95      0.99      0.97    308562\n",
      "weighted avg       0.98      0.98      0.98    308562\n",
      "\n"
     ]
    }
   ],
   "source": [
    "# Calculate the classification report\n",
    "print(classification_report(y_test,y_pred_nb))"
   ]
  },
  {
   "cell_type": "code",
   "execution_count": 141,
   "id": "ae30b098",
   "metadata": {},
   "outputs": [
    {
     "name": "stdout",
     "output_type": "stream",
     "text": [
      "0.9883529909783255\n"
     ]
    }
   ],
   "source": [
    "# Calculate roc_auc_score\n",
    "roc_auc_nb=(roc_auc_score(y_test, y_pred_nb))\n",
    "print(roc_auc_nb)"
   ]
  },
  {
   "cell_type": "markdown",
   "id": "31dedb1b",
   "metadata": {},
   "source": [
    "# DECISION TREE CLASSIFIER"
   ]
  },
  {
   "cell_type": "code",
   "execution_count": 142,
   "id": "73764098",
   "metadata": {},
   "outputs": [
    {
     "name": "stdout",
     "output_type": "stream",
     "text": [
      "The Training Accuracy for max_depth 1 is: 1.0\n",
      "The Validation Accuracy for max_depth 1 is: 1.0\n",
      "\n",
      "The Training Accuracy for max_depth 2 is: 1.0\n",
      "The Validation Accuracy for max_depth 2 is: 1.0\n",
      "\n",
      "The Training Accuracy for max_depth 3 is: 1.0\n",
      "The Validation Accuracy for max_depth 3 is: 1.0\n",
      "\n",
      "The Training Accuracy for max_depth 4 is: 1.0\n",
      "The Validation Accuracy for max_depth 4 is: 1.0\n",
      "\n",
      "The Training Accuracy for max_depth 5 is: 1.0\n",
      "The Validation Accuracy for max_depth 5 is: 1.0\n",
      "\n",
      "The Training Accuracy for max_depth 6 is: 1.0\n",
      "The Validation Accuracy for max_depth 6 is: 1.0\n",
      "\n",
      "The Training Accuracy for max_depth 7 is: 1.0\n",
      "The Validation Accuracy for max_depth 7 is: 1.0\n",
      "\n",
      "The Training Accuracy for max_depth 8 is: 1.0\n",
      "The Validation Accuracy for max_depth 8 is: 1.0\n",
      "\n",
      "The Training Accuracy for max_depth 9 is: 1.0\n",
      "The Validation Accuracy for max_depth 9 is: 1.0\n",
      "\n",
      "The Training Accuracy for max_depth 10 is: 1.0\n",
      "The Validation Accuracy for max_depth 10 is: 1.0\n",
      "\n",
      "The Training Accuracy for max_depth 11 is: 1.0\n",
      "The Validation Accuracy for max_depth 11 is: 1.0\n",
      "\n",
      "The Training Accuracy for max_depth 12 is: 1.0\n",
      "The Validation Accuracy for max_depth 12 is: 1.0\n",
      "\n",
      "The Training Accuracy for max_depth 13 is: 1.0\n",
      "The Validation Accuracy for max_depth 13 is: 1.0\n",
      "\n",
      "The Training Accuracy for max_depth 14 is: 1.0\n",
      "The Validation Accuracy for max_depth 14 is: 1.0\n",
      "\n",
      "The Training Accuracy for max_depth 15 is: 1.0\n",
      "The Validation Accuracy for max_depth 15 is: 1.0\n",
      "\n",
      "The Training Accuracy for max_depth 16 is: 1.0\n",
      "The Validation Accuracy for max_depth 16 is: 1.0\n",
      "\n",
      "The Training Accuracy for max_depth 17 is: 1.0\n",
      "The Validation Accuracy for max_depth 17 is: 1.0\n",
      "\n",
      "The Training Accuracy for max_depth 18 is: 1.0\n",
      "The Validation Accuracy for max_depth 18 is: 1.0\n",
      "\n",
      "The Training Accuracy for max_depth 19 is: 1.0\n",
      "The Validation Accuracy for max_depth 19 is: 1.0\n",
      "\n",
      "The Training Accuracy for max_depth 20 is: 1.0\n",
      "The Validation Accuracy for max_depth 20 is: 1.0\n",
      "\n",
      "The Training Accuracy for max_depth 21 is: 1.0\n",
      "The Validation Accuracy for max_depth 21 is: 1.0\n",
      "\n",
      "The Training Accuracy for max_depth 22 is: 1.0\n",
      "The Validation Accuracy for max_depth 22 is: 1.0\n",
      "\n",
      "The Training Accuracy for max_depth 23 is: 1.0\n",
      "The Validation Accuracy for max_depth 23 is: 1.0\n",
      "\n",
      "The Training Accuracy for max_depth 24 is: 1.0\n",
      "The Validation Accuracy for max_depth 24 is: 1.0\n",
      "\n",
      "The Training Accuracy for max_depth 25 is: 1.0\n",
      "The Validation Accuracy for max_depth 25 is: 1.0\n",
      "\n",
      "The Training Accuracy for max_depth 26 is: 1.0\n",
      "The Validation Accuracy for max_depth 26 is: 1.0\n",
      "\n",
      "The Training Accuracy for max_depth 27 is: 1.0\n",
      "The Validation Accuracy for max_depth 27 is: 1.0\n",
      "\n",
      "The Training Accuracy for max_depth 28 is: 1.0\n",
      "The Validation Accuracy for max_depth 28 is: 1.0\n",
      "\n",
      "The Training Accuracy for max_depth 29 is: 1.0\n",
      "The Validation Accuracy for max_depth 29 is: 1.0\n",
      "\n"
     ]
    }
   ],
   "source": [
    "from sklearn.tree import DecisionTreeClassifier\n",
    "training_accuracy = []\n",
    "test_accuracy = []\n",
    "for max_d in range(1,30):\n",
    "    model = DecisionTreeClassifier(max_depth=max_d, random_state=42)\n",
    "    model.fit(X_train, y_train)\n",
    "    training_accuracy.append(model.score(X_train, y_train))\n",
    "    test_accuracy.append(model.score(X_train, y_train))\n",
    "    print('The Training Accuracy for max_depth {} is:'.format(max_d), model.score(X_train, y_train))\n",
    "    print('The Validation Accuracy for max_depth {} is:'.format(max_d), model.score(X_test,y_test))\n",
    "    print('')"
   ]
  },
  {
   "cell_type": "code",
   "execution_count": 143,
   "id": "9c8200ae",
   "metadata": {},
   "outputs": [
    {
     "data": {
      "text/html": [
       "<style>#sk-container-id-6 {color: black;background-color: white;}#sk-container-id-6 pre{padding: 0;}#sk-container-id-6 div.sk-toggleable {background-color: white;}#sk-container-id-6 label.sk-toggleable__label {cursor: pointer;display: block;width: 100%;margin-bottom: 0;padding: 0.3em;box-sizing: border-box;text-align: center;}#sk-container-id-6 label.sk-toggleable__label-arrow:before {content: \"▸\";float: left;margin-right: 0.25em;color: #696969;}#sk-container-id-6 label.sk-toggleable__label-arrow:hover:before {color: black;}#sk-container-id-6 div.sk-estimator:hover label.sk-toggleable__label-arrow:before {color: black;}#sk-container-id-6 div.sk-toggleable__content {max-height: 0;max-width: 0;overflow: hidden;text-align: left;background-color: #f0f8ff;}#sk-container-id-6 div.sk-toggleable__content pre {margin: 0.2em;color: black;border-radius: 0.25em;background-color: #f0f8ff;}#sk-container-id-6 input.sk-toggleable__control:checked~div.sk-toggleable__content {max-height: 200px;max-width: 100%;overflow: auto;}#sk-container-id-6 input.sk-toggleable__control:checked~label.sk-toggleable__label-arrow:before {content: \"▾\";}#sk-container-id-6 div.sk-estimator input.sk-toggleable__control:checked~label.sk-toggleable__label {background-color: #d4ebff;}#sk-container-id-6 div.sk-label input.sk-toggleable__control:checked~label.sk-toggleable__label {background-color: #d4ebff;}#sk-container-id-6 input.sk-hidden--visually {border: 0;clip: rect(1px 1px 1px 1px);clip: rect(1px, 1px, 1px, 1px);height: 1px;margin: -1px;overflow: hidden;padding: 0;position: absolute;width: 1px;}#sk-container-id-6 div.sk-estimator {font-family: monospace;background-color: #f0f8ff;border: 1px dotted black;border-radius: 0.25em;box-sizing: border-box;margin-bottom: 0.5em;}#sk-container-id-6 div.sk-estimator:hover {background-color: #d4ebff;}#sk-container-id-6 div.sk-parallel-item::after {content: \"\";width: 100%;border-bottom: 1px solid gray;flex-grow: 1;}#sk-container-id-6 div.sk-label:hover label.sk-toggleable__label {background-color: #d4ebff;}#sk-container-id-6 div.sk-serial::before {content: \"\";position: absolute;border-left: 1px solid gray;box-sizing: border-box;top: 0;bottom: 0;left: 50%;z-index: 0;}#sk-container-id-6 div.sk-serial {display: flex;flex-direction: column;align-items: center;background-color: white;padding-right: 0.2em;padding-left: 0.2em;position: relative;}#sk-container-id-6 div.sk-item {position: relative;z-index: 1;}#sk-container-id-6 div.sk-parallel {display: flex;align-items: stretch;justify-content: center;background-color: white;position: relative;}#sk-container-id-6 div.sk-item::before, #sk-container-id-6 div.sk-parallel-item::before {content: \"\";position: absolute;border-left: 1px solid gray;box-sizing: border-box;top: 0;bottom: 0;left: 50%;z-index: -1;}#sk-container-id-6 div.sk-parallel-item {display: flex;flex-direction: column;z-index: 1;position: relative;background-color: white;}#sk-container-id-6 div.sk-parallel-item:first-child::after {align-self: flex-end;width: 50%;}#sk-container-id-6 div.sk-parallel-item:last-child::after {align-self: flex-start;width: 50%;}#sk-container-id-6 div.sk-parallel-item:only-child::after {width: 0;}#sk-container-id-6 div.sk-dashed-wrapped {border: 1px dashed gray;margin: 0 0.4em 0.5em 0.4em;box-sizing: border-box;padding-bottom: 0.4em;background-color: white;}#sk-container-id-6 div.sk-label label {font-family: monospace;font-weight: bold;display: inline-block;line-height: 1.2em;}#sk-container-id-6 div.sk-label-container {text-align: center;}#sk-container-id-6 div.sk-container {/* jupyter's `normalize.less` sets `[hidden] { display: none; }` but bootstrap.min.css set `[hidden] { display: none !important; }` so we also need the `!important` here to be able to override the default hidden behavior on the sphinx rendered scikit-learn.org. See: https://github.com/scikit-learn/scikit-learn/issues/21755 */display: inline-block !important;position: relative;}#sk-container-id-6 div.sk-text-repr-fallback {display: none;}</style><div id=\"sk-container-id-6\" class=\"sk-top-container\"><div class=\"sk-text-repr-fallback\"><pre>DecisionTreeClassifier(random_state=100)</pre><b>In a Jupyter environment, please rerun this cell to show the HTML representation or trust the notebook. <br />On GitHub, the HTML representation is unable to render, please try loading this page with nbviewer.org.</b></div><div class=\"sk-container\" hidden><div class=\"sk-item\"><div class=\"sk-estimator sk-toggleable\"><input class=\"sk-toggleable__control sk-hidden--visually\" id=\"sk-estimator-id-6\" type=\"checkbox\" checked><label for=\"sk-estimator-id-6\" class=\"sk-toggleable__label sk-toggleable__label-arrow\">DecisionTreeClassifier</label><div class=\"sk-toggleable__content\"><pre>DecisionTreeClassifier(random_state=100)</pre></div></div></div></div></div>"
      ],
      "text/plain": [
       "DecisionTreeClassifier(random_state=100)"
      ]
     },
     "execution_count": 143,
     "metadata": {},
     "output_type": "execute_result"
    }
   ],
   "source": [
    "from sklearn.tree import DecisionTreeClassifier  \n",
    "dt = DecisionTreeClassifier(random_state = 100)  \n",
    "dt.fit(X_train, y_train)"
   ]
  },
  {
   "cell_type": "code",
   "execution_count": 144,
   "id": "ae6446d9",
   "metadata": {},
   "outputs": [
    {
     "name": "stdout",
     "output_type": "stream",
     "text": [
      "Training Score in DT:= 1.0\n",
      "Test Score in DT:= 1.0\n"
     ]
    }
   ],
   "source": [
    "print(\"Training Score in DT:=\",accuracy_score(y_train,dt.predict(X_train)))\n",
    "print(\"Test Score in DT:=\",accuracy_score(y_test,dt.predict(X_test)))"
   ]
  },
  {
   "cell_type": "code",
   "execution_count": 145,
   "id": "f4577201",
   "metadata": {},
   "outputs": [],
   "source": [
    "y_pred_dt = dt.predict(X_test)"
   ]
  },
  {
   "cell_type": "code",
   "execution_count": 146,
   "id": "a8bd3fe1",
   "metadata": {},
   "outputs": [
    {
     "name": "stdout",
     "output_type": "stream",
     "text": [
      "1.0\n",
      "0.0\n",
      "0.0\n"
     ]
    }
   ],
   "source": [
    "print(accuracy_score(y_test,y_pred_dt))\n",
    "print(mean_absolute_error(y_test,y_pred_dt))\n",
    "print(np.sqrt(mean_squared_error(y_test,y_pred_dt)))"
   ]
  },
  {
   "cell_type": "code",
   "execution_count": 147,
   "id": "becc7282",
   "metadata": {},
   "outputs": [
    {
     "data": {
      "image/png": "[encoded data removed]",
      "text/plain": [
       "<Figure size 432x288 with 2 Axes>"
      ]
     },
     "metadata": {
      "needs_background": "light"
     },
     "output_type": "display_data"
    }
   ],
   "source": [
    "# Calculate the confusion matrix\n",
    "from sklearn.metrics import roc_auc_score, roc_curve, confusion_matrix, classification_report\n",
    "confusion_matrix = metrics.confusion_matrix(y_test, y_pred_dt)\n",
    "cm_display = metrics.ConfusionMatrixDisplay(confusion_matrix = confusion_matrix, display_labels = [0,1])\n",
    "cm_display.plot()\n",
    "plt.show()"
   ]
  },
  {
   "cell_type": "code",
   "execution_count": 148,
   "id": "5f21b906",
   "metadata": {},
   "outputs": [
    {
     "name": "stdout",
     "output_type": "stream",
     "text": [
      "              precision    recall  f1-score   support\n",
      "\n",
      "           0       1.00      1.00      1.00    257491\n",
      "           1       1.00      1.00      1.00     51071\n",
      "\n",
      "    accuracy                           1.00    308562\n",
      "   macro avg       1.00      1.00      1.00    308562\n",
      "weighted avg       1.00      1.00      1.00    308562\n",
      "\n"
     ]
    }
   ],
   "source": [
    "# Calculate the classification report\n",
    "print(classification_report(y_test,y_pred_dt))"
   ]
  },
  {
   "cell_type": "code",
   "execution_count": 149,
   "id": "1a22e5f9",
   "metadata": {},
   "outputs": [
    {
     "name": "stdout",
     "output_type": "stream",
     "text": [
      "1.0\n"
     ]
    }
   ],
   "source": [
    "# Calculate roc_auc_score\n",
    "roc_auc_dt=(roc_auc_score(y_test, y_pred_dt))\n",
    "print(roc_auc_dt)"
   ]
  },
  {
   "cell_type": "markdown",
   "id": "de48b1f7",
   "metadata": {},
   "source": [
    "# KNN"
   ]
  },
  {
   "cell_type": "code",
   "execution_count": 150,
   "id": "b9bf4a83",
   "metadata": {},
   "outputs": [],
   "source": [
    "from sklearn.neighbors import KNeighborsClassifier"
   ]
  },
  {
   "cell_type": "code",
   "execution_count": 121,
   "id": "123d38f0",
   "metadata": {},
   "outputs": [
    {
     "ename": "KeyboardInterrupt",
     "evalue": "",
     "output_type": "error",
     "traceback": [
      "\u001b[1;31m---------------------------------------------------------------------------\u001b[0m",
      "\u001b[1;31mKeyboardInterrupt\u001b[0m                         Traceback (most recent call last)",
      "Input \u001b[1;32mIn [121]\u001b[0m, in \u001b[0;36m<cell line: 6>\u001b[1;34m()\u001b[0m\n\u001b[0;32m      9\u001b[0m clf\u001b[38;5;241m.\u001b[39mfit(X_train, y_train)\n\u001b[0;32m     10\u001b[0m \u001b[38;5;66;03m# record training set accuracy\u001b[39;00m\n\u001b[1;32m---> 11\u001b[0m training_accuracy\u001b[38;5;241m.\u001b[39mappend(\u001b[43mclf\u001b[49m\u001b[38;5;241;43m.\u001b[39;49m\u001b[43mscore\u001b[49m\u001b[43m(\u001b[49m\u001b[43mX_train\u001b[49m\u001b[43m,\u001b[49m\u001b[43m \u001b[49m\u001b[43my_train\u001b[49m\u001b[43m)\u001b[49m)\n\u001b[0;32m     12\u001b[0m \u001b[38;5;66;03m# record generalization accuracy\u001b[39;00m\n\u001b[0;32m     13\u001b[0m test_accuracy\u001b[38;5;241m.\u001b[39mappend(clf\u001b[38;5;241m.\u001b[39mscore(X_test, y_test))\n",
      "File \u001b[1;32m~\\anaconda3\\lib\\site-packages\\sklearn\\base.py:666\u001b[0m, in \u001b[0;36mClassifierMixin.score\u001b[1;34m(self, X, y, sample_weight)\u001b[0m\n\u001b[0;32m    641\u001b[0m \u001b[38;5;124;03m\"\"\"\u001b[39;00m\n\u001b[0;32m    642\u001b[0m \u001b[38;5;124;03mReturn the mean accuracy on the given test data and labels.\u001b[39;00m\n\u001b[0;32m    643\u001b[0m \n\u001b[1;32m   (...)\u001b[0m\n\u001b[0;32m    662\u001b[0m \u001b[38;5;124;03m    Mean accuracy of ``self.predict(X)`` wrt. `y`.\u001b[39;00m\n\u001b[0;32m    663\u001b[0m \u001b[38;5;124;03m\"\"\"\u001b[39;00m\n\u001b[0;32m    664\u001b[0m \u001b[38;5;28;01mfrom\u001b[39;00m \u001b[38;5;21;01m.\u001b[39;00m\u001b[38;5;21;01mmetrics\u001b[39;00m \u001b[38;5;28;01mimport\u001b[39;00m accuracy_score\n\u001b[1;32m--> 666\u001b[0m \u001b[38;5;28;01mreturn\u001b[39;00m accuracy_score(y, \u001b[38;5;28;43mself\u001b[39;49m\u001b[38;5;241;43m.\u001b[39;49m\u001b[43mpredict\u001b[49m\u001b[43m(\u001b[49m\u001b[43mX\u001b[49m\u001b[43m)\u001b[49m, sample_weight\u001b[38;5;241m=\u001b[39msample_weight)\n",
      "File \u001b[1;32m~\\anaconda3\\lib\\site-packages\\sklearn\\neighbors\\_classification.py:226\u001b[0m, in \u001b[0;36mKNeighborsClassifier.predict\u001b[1;34m(self, X)\u001b[0m\n\u001b[0;32m    210\u001b[0m \u001b[38;5;124;03m\"\"\"Predict the class labels for the provided data.\u001b[39;00m\n\u001b[0;32m    211\u001b[0m \n\u001b[0;32m    212\u001b[0m \u001b[38;5;124;03mParameters\u001b[39;00m\n\u001b[1;32m   (...)\u001b[0m\n\u001b[0;32m    221\u001b[0m \u001b[38;5;124;03m    Class labels for each data sample.\u001b[39;00m\n\u001b[0;32m    222\u001b[0m \u001b[38;5;124;03m\"\"\"\u001b[39;00m\n\u001b[0;32m    223\u001b[0m \u001b[38;5;28;01mif\u001b[39;00m \u001b[38;5;28mself\u001b[39m\u001b[38;5;241m.\u001b[39mweights \u001b[38;5;241m==\u001b[39m \u001b[38;5;124m\"\u001b[39m\u001b[38;5;124muniform\u001b[39m\u001b[38;5;124m\"\u001b[39m:\n\u001b[0;32m    224\u001b[0m     \u001b[38;5;66;03m# In that case, we do not need the distances to perform\u001b[39;00m\n\u001b[0;32m    225\u001b[0m     \u001b[38;5;66;03m# the weighting so we do not compute them.\u001b[39;00m\n\u001b[1;32m--> 226\u001b[0m     neigh_ind \u001b[38;5;241m=\u001b[39m \u001b[38;5;28;43mself\u001b[39;49m\u001b[38;5;241;43m.\u001b[39;49m\u001b[43mkneighbors\u001b[49m\u001b[43m(\u001b[49m\u001b[43mX\u001b[49m\u001b[43m,\u001b[49m\u001b[43m \u001b[49m\u001b[43mreturn_distance\u001b[49m\u001b[38;5;241;43m=\u001b[39;49m\u001b[38;5;28;43;01mFalse\u001b[39;49;00m\u001b[43m)\u001b[49m\n\u001b[0;32m    227\u001b[0m     neigh_dist \u001b[38;5;241m=\u001b[39m \u001b[38;5;28;01mNone\u001b[39;00m\n\u001b[0;32m    228\u001b[0m \u001b[38;5;28;01melse\u001b[39;00m:\n",
      "File \u001b[1;32m~\\anaconda3\\lib\\site-packages\\sklearn\\neighbors\\_base.py:763\u001b[0m, in \u001b[0;36mKNeighborsMixin.kneighbors\u001b[1;34m(self, X, n_neighbors, return_distance)\u001b[0m\n\u001b[0;32m    756\u001b[0m use_pairwise_distances_reductions \u001b[38;5;241m=\u001b[39m (\n\u001b[0;32m    757\u001b[0m     \u001b[38;5;28mself\u001b[39m\u001b[38;5;241m.\u001b[39m_fit_method \u001b[38;5;241m==\u001b[39m \u001b[38;5;124m\"\u001b[39m\u001b[38;5;124mbrute\u001b[39m\u001b[38;5;124m\"\u001b[39m\n\u001b[0;32m    758\u001b[0m     \u001b[38;5;129;01mand\u001b[39;00m PairwiseDistancesArgKmin\u001b[38;5;241m.\u001b[39mis_usable_for(\n\u001b[0;32m    759\u001b[0m         X \u001b[38;5;28;01mif\u001b[39;00m X \u001b[38;5;129;01mis\u001b[39;00m \u001b[38;5;129;01mnot\u001b[39;00m \u001b[38;5;28;01mNone\u001b[39;00m \u001b[38;5;28;01melse\u001b[39;00m \u001b[38;5;28mself\u001b[39m\u001b[38;5;241m.\u001b[39m_fit_X, \u001b[38;5;28mself\u001b[39m\u001b[38;5;241m.\u001b[39m_fit_X, \u001b[38;5;28mself\u001b[39m\u001b[38;5;241m.\u001b[39meffective_metric_\n\u001b[0;32m    760\u001b[0m     )\n\u001b[0;32m    761\u001b[0m )\n\u001b[0;32m    762\u001b[0m \u001b[38;5;28;01mif\u001b[39;00m use_pairwise_distances_reductions:\n\u001b[1;32m--> 763\u001b[0m     results \u001b[38;5;241m=\u001b[39m \u001b[43mPairwiseDistancesArgKmin\u001b[49m\u001b[38;5;241;43m.\u001b[39;49m\u001b[43mcompute\u001b[49m\u001b[43m(\u001b[49m\n\u001b[0;32m    764\u001b[0m \u001b[43m        \u001b[49m\u001b[43mX\u001b[49m\u001b[38;5;241;43m=\u001b[39;49m\u001b[43mX\u001b[49m\u001b[43m,\u001b[49m\n\u001b[0;32m    765\u001b[0m \u001b[43m        \u001b[49m\u001b[43mY\u001b[49m\u001b[38;5;241;43m=\u001b[39;49m\u001b[38;5;28;43mself\u001b[39;49m\u001b[38;5;241;43m.\u001b[39;49m\u001b[43m_fit_X\u001b[49m\u001b[43m,\u001b[49m\n\u001b[0;32m    766\u001b[0m \u001b[43m        \u001b[49m\u001b[43mk\u001b[49m\u001b[38;5;241;43m=\u001b[39;49m\u001b[43mn_neighbors\u001b[49m\u001b[43m,\u001b[49m\n\u001b[0;32m    767\u001b[0m \u001b[43m        \u001b[49m\u001b[43mmetric\u001b[49m\u001b[38;5;241;43m=\u001b[39;49m\u001b[38;5;28;43mself\u001b[39;49m\u001b[38;5;241;43m.\u001b[39;49m\u001b[43meffective_metric_\u001b[49m\u001b[43m,\u001b[49m\n\u001b[0;32m    768\u001b[0m \u001b[43m        \u001b[49m\u001b[43mmetric_kwargs\u001b[49m\u001b[38;5;241;43m=\u001b[39;49m\u001b[38;5;28;43mself\u001b[39;49m\u001b[38;5;241;43m.\u001b[39;49m\u001b[43meffective_metric_params_\u001b[49m\u001b[43m,\u001b[49m\n\u001b[0;32m    769\u001b[0m \u001b[43m        \u001b[49m\u001b[43mstrategy\u001b[49m\u001b[38;5;241;43m=\u001b[39;49m\u001b[38;5;124;43m\"\u001b[39;49m\u001b[38;5;124;43mauto\u001b[39;49m\u001b[38;5;124;43m\"\u001b[39;49m\u001b[43m,\u001b[49m\n\u001b[0;32m    770\u001b[0m \u001b[43m        \u001b[49m\u001b[43mreturn_distance\u001b[49m\u001b[38;5;241;43m=\u001b[39;49m\u001b[43mreturn_distance\u001b[49m\u001b[43m,\u001b[49m\n\u001b[0;32m    771\u001b[0m \u001b[43m    \u001b[49m\u001b[43m)\u001b[49m\n\u001b[0;32m    773\u001b[0m \u001b[38;5;28;01melif\u001b[39;00m (\n\u001b[0;32m    774\u001b[0m     \u001b[38;5;28mself\u001b[39m\u001b[38;5;241m.\u001b[39m_fit_method \u001b[38;5;241m==\u001b[39m \u001b[38;5;124m\"\u001b[39m\u001b[38;5;124mbrute\u001b[39m\u001b[38;5;124m\"\u001b[39m \u001b[38;5;129;01mand\u001b[39;00m \u001b[38;5;28mself\u001b[39m\u001b[38;5;241m.\u001b[39mmetric \u001b[38;5;241m==\u001b[39m \u001b[38;5;124m\"\u001b[39m\u001b[38;5;124mprecomputed\u001b[39m\u001b[38;5;124m\"\u001b[39m \u001b[38;5;129;01mand\u001b[39;00m issparse(X)\n\u001b[0;32m    775\u001b[0m ):\n\u001b[0;32m    776\u001b[0m     results \u001b[38;5;241m=\u001b[39m _kneighbors_from_graph(\n\u001b[0;32m    777\u001b[0m         X, n_neighbors\u001b[38;5;241m=\u001b[39mn_neighbors, return_distance\u001b[38;5;241m=\u001b[39mreturn_distance\n\u001b[0;32m    778\u001b[0m     )\n",
      "File \u001b[1;32msklearn\\metrics\\_pairwise_distances_reduction.pyx:698\u001b[0m, in \u001b[0;36msklearn.metrics._pairwise_distances_reduction.PairwiseDistancesArgKmin.compute\u001b[1;34m()\u001b[0m\n",
      "File \u001b[1;32m~\\anaconda3\\lib\\site-packages\\threadpoolctl.py:176\u001b[0m, in \u001b[0;36mthreadpool_limits.__exit__\u001b[1;34m(self, type, value, traceback)\u001b[0m\n\u001b[0;32m    173\u001b[0m \u001b[38;5;28;01mdef\u001b[39;00m \u001b[38;5;21m__enter__\u001b[39m(\u001b[38;5;28mself\u001b[39m):\n\u001b[0;32m    174\u001b[0m     \u001b[38;5;28;01mreturn\u001b[39;00m \u001b[38;5;28mself\u001b[39m\n\u001b[1;32m--> 176\u001b[0m \u001b[38;5;28;01mdef\u001b[39;00m \u001b[38;5;21m__exit__\u001b[39m(\u001b[38;5;28mself\u001b[39m, \u001b[38;5;28mtype\u001b[39m, value, traceback):\n\u001b[0;32m    177\u001b[0m     \u001b[38;5;28mself\u001b[39m\u001b[38;5;241m.\u001b[39munregister()\n\u001b[0;32m    179\u001b[0m \u001b[38;5;28;01mdef\u001b[39;00m \u001b[38;5;21munregister\u001b[39m(\u001b[38;5;28mself\u001b[39m):\n",
      "\u001b[1;31mKeyboardInterrupt\u001b[0m: "
     ]
    }
   ],
   "source": [
    "#Choosing optimal value of  k \n",
    "training_accuracy = []\n",
    "test_accuracy = []\n",
    "# try n_neighbors from 1 to 15.\n",
    "neighbors_settings = range(1, 16)\n",
    "for n_neighbors in neighbors_settings:\n",
    "    # build the model\n",
    "    clf = KNeighborsClassifier(n_neighbors=n_neighbors)\n",
    "    clf.fit(X_train, y_train)\n",
    "    # record training set accuracy\n",
    "    training_accuracy.append(clf.score(X_train, y_train))\n",
    "    # record generalization accuracy\n",
    "    test_accuracy.append(clf.score(X_test, y_test))\n",
    "    print('The Training Accuracy for k {} is:'.format(n_neighbors), clf.score(X_test,y_test))\n",
    "    print('The Validation Accuracy for k {} is:'.format(n_neighbors), clf.score(X_test,y_test))\n",
    "    print('')\n",
    "plt.plot(neighbors_settings, training_accuracy, label=\"training accuracy\")\n",
    "plt.plot(neighbors_settings, test_accuracy, label=\"test accuracy\")\n",
    "plt.legend()"
   ]
  },
  {
   "cell_type": "code",
   "execution_count": 151,
   "id": "5464522f",
   "metadata": {},
   "outputs": [
    {
     "data": {
      "text/html": [
       "<style>#sk-container-id-7 {color: black;background-color: white;}#sk-container-id-7 pre{padding: 0;}#sk-container-id-7 div.sk-toggleable {background-color: white;}#sk-container-id-7 label.sk-toggleable__label {cursor: pointer;display: block;width: 100%;margin-bottom: 0;padding: 0.3em;box-sizing: border-box;text-align: center;}#sk-container-id-7 label.sk-toggleable__label-arrow:before {content: \"▸\";float: left;margin-right: 0.25em;color: #696969;}#sk-container-id-7 label.sk-toggleable__label-arrow:hover:before {color: black;}#sk-container-id-7 div.sk-estimator:hover label.sk-toggleable__label-arrow:before {color: black;}#sk-container-id-7 div.sk-toggleable__content {max-height: 0;max-width: 0;overflow: hidden;text-align: left;background-color: #f0f8ff;}#sk-container-id-7 div.sk-toggleable__content pre {margin: 0.2em;color: black;border-radius: 0.25em;background-color: #f0f8ff;}#sk-container-id-7 input.sk-toggleable__control:checked~div.sk-toggleable__content {max-height: 200px;max-width: 100%;overflow: auto;}#sk-container-id-7 input.sk-toggleable__control:checked~label.sk-toggleable__label-arrow:before {content: \"▾\";}#sk-container-id-7 div.sk-estimator input.sk-toggleable__control:checked~label.sk-toggleable__label {background-color: #d4ebff;}#sk-container-id-7 div.sk-label input.sk-toggleable__control:checked~label.sk-toggleable__label {background-color: #d4ebff;}#sk-container-id-7 input.sk-hidden--visually {border: 0;clip: rect(1px 1px 1px 1px);clip: rect(1px, 1px, 1px, 1px);height: 1px;margin: -1px;overflow: hidden;padding: 0;position: absolute;width: 1px;}#sk-container-id-7 div.sk-estimator {font-family: monospace;background-color: #f0f8ff;border: 1px dotted black;border-radius: 0.25em;box-sizing: border-box;margin-bottom: 0.5em;}#sk-container-id-7 div.sk-estimator:hover {background-color: #d4ebff;}#sk-container-id-7 div.sk-parallel-item::after {content: \"\";width: 100%;border-bottom: 1px solid gray;flex-grow: 1;}#sk-container-id-7 div.sk-label:hover label.sk-toggleable__label {background-color: #d4ebff;}#sk-container-id-7 div.sk-serial::before {content: \"\";position: absolute;border-left: 1px solid gray;box-sizing: border-box;top: 0;bottom: 0;left: 50%;z-index: 0;}#sk-container-id-7 div.sk-serial {display: flex;flex-direction: column;align-items: center;background-color: white;padding-right: 0.2em;padding-left: 0.2em;position: relative;}#sk-container-id-7 div.sk-item {position: relative;z-index: 1;}#sk-container-id-7 div.sk-parallel {display: flex;align-items: stretch;justify-content: center;background-color: white;position: relative;}#sk-container-id-7 div.sk-item::before, #sk-container-id-7 div.sk-parallel-item::before {content: \"\";position: absolute;border-left: 1px solid gray;box-sizing: border-box;top: 0;bottom: 0;left: 50%;z-index: -1;}#sk-container-id-7 div.sk-parallel-item {display: flex;flex-direction: column;z-index: 1;position: relative;background-color: white;}#sk-container-id-7 div.sk-parallel-item:first-child::after {align-self: flex-end;width: 50%;}#sk-container-id-7 div.sk-parallel-item:last-child::after {align-self: flex-start;width: 50%;}#sk-container-id-7 div.sk-parallel-item:only-child::after {width: 0;}#sk-container-id-7 div.sk-dashed-wrapped {border: 1px dashed gray;margin: 0 0.4em 0.5em 0.4em;box-sizing: border-box;padding-bottom: 0.4em;background-color: white;}#sk-container-id-7 div.sk-label label {font-family: monospace;font-weight: bold;display: inline-block;line-height: 1.2em;}#sk-container-id-7 div.sk-label-container {text-align: center;}#sk-container-id-7 div.sk-container {/* jupyter's `normalize.less` sets `[hidden] { display: none; }` but bootstrap.min.css set `[hidden] { display: none !important; }` so we also need the `!important` here to be able to override the default hidden behavior on the sphinx rendered scikit-learn.org. See: https://github.com/scikit-learn/scikit-learn/issues/21755 */display: inline-block !important;position: relative;}#sk-container-id-7 div.sk-text-repr-fallback {display: none;}</style><div id=\"sk-container-id-7\" class=\"sk-top-container\"><div class=\"sk-text-repr-fallback\"><pre>KNeighborsClassifier(n_neighbors=3)</pre><b>In a Jupyter environment, please rerun this cell to show the HTML representation or trust the notebook. <br />On GitHub, the HTML representation is unable to render, please try loading this page with nbviewer.org.</b></div><div class=\"sk-container\" hidden><div class=\"sk-item\"><div class=\"sk-estimator sk-toggleable\"><input class=\"sk-toggleable__control sk-hidden--visually\" id=\"sk-estimator-id-7\" type=\"checkbox\" checked><label for=\"sk-estimator-id-7\" class=\"sk-toggleable__label sk-toggleable__label-arrow\">KNeighborsClassifier</label><div class=\"sk-toggleable__content\"><pre>KNeighborsClassifier(n_neighbors=3)</pre></div></div></div></div></div>"
      ],
      "text/plain": [
       "KNeighborsClassifier(n_neighbors=3)"
      ]
     },
     "execution_count": 151,
     "metadata": {},
     "output_type": "execute_result"
    }
   ],
   "source": [
    "knn = KNeighborsClassifier(n_neighbors = 3)\n",
    "knn.fit(X_train, y_train)"
   ]
  },
  {
   "cell_type": "code",
   "execution_count": null,
   "id": "a5a307bd",
   "metadata": {},
   "outputs": [],
   "source": []
  },
  {
   "cell_type": "code",
   "execution_count": 152,
   "id": "b263e49b",
   "metadata": {},
   "outputs": [
    {
     "name": "stdout",
     "output_type": "stream",
     "text": [
      "Training Score in KNN:= 0.9986971787948488\n",
      "Test Score in KNN:= 0.9963929453399964\n"
     ]
    }
   ],
   "source": [
    "print(\"Training Score in KNN:=\",accuracy_score(y_train,knn.predict(X_train)))\n",
    "print(\"Test Score in KNN:=\",accuracy_score(y_test,knn.predict(X_test)))"
   ]
  },
  {
   "cell_type": "code",
   "execution_count": 153,
   "id": "c6cd5b98",
   "metadata": {},
   "outputs": [],
   "source": [
    "y_pred_knn = knn.predict(X_test)"
   ]
  },
  {
   "cell_type": "code",
   "execution_count": 154,
   "id": "0ea9eca2",
   "metadata": {},
   "outputs": [
    {
     "name": "stdout",
     "output_type": "stream",
     "text": [
      "0.9963929453399964\n",
      "0.0036070546600035\n",
      "0.06005876006048993\n"
     ]
    }
   ],
   "source": [
    "print(accuracy_score(y_test,y_pred_knn))\n",
    "print(mean_absolute_error(y_test,y_pred_knn))\n",
    "print(np.sqrt(mean_squared_error(y_test,y_pred_knn)))"
   ]
  },
  {
   "cell_type": "code",
   "execution_count": 155,
   "id": "e03404fc",
   "metadata": {},
   "outputs": [
    {
     "data": {
      "image/png": "[encoded data removed]",
      "text/plain": [
       "<Figure size 432x288 with 2 Axes>"
      ]
     },
     "metadata": {
      "needs_background": "light"
     },
     "output_type": "display_data"
    }
   ],
   "source": [
    "# Calculate the confusion matrix\n",
    "from sklearn.metrics import roc_auc_score, roc_curve, confusion_matrix, classification_report\n",
    "confusion_matrix = metrics.confusion_matrix(y_test, y_pred_knn)\n",
    "cm_display = metrics.ConfusionMatrixDisplay(confusion_matrix = confusion_matrix, display_labels = [0,1])\n",
    "cm_display.plot()\n",
    "plt.show()"
   ]
  },
  {
   "cell_type": "code",
   "execution_count": 156,
   "id": "92a048df",
   "metadata": {},
   "outputs": [
    {
     "name": "stdout",
     "output_type": "stream",
     "text": [
      "              precision    recall  f1-score   support\n",
      "\n",
      "           0       1.00      1.00      1.00    257491\n",
      "           1       0.99      0.99      0.99     51071\n",
      "\n",
      "    accuracy                           1.00    308562\n",
      "   macro avg       0.99      0.99      0.99    308562\n",
      "weighted avg       1.00      1.00      1.00    308562\n",
      "\n"
     ]
    }
   ],
   "source": [
    "# Calculate the classification report\n",
    "print(classification_report(y_test,y_pred_knn))"
   ]
  },
  {
   "cell_type": "code",
   "execution_count": 157,
   "id": "1e51ca2b",
   "metadata": {},
   "outputs": [
    {
     "name": "stdout",
     "output_type": "stream",
     "text": [
      "0.9929570070272057\n"
     ]
    }
   ],
   "source": [
    "# Calculate roc_auc_score\n",
    "roc_auc_knn=(roc_auc_score(y_test, y_pred_knn))\n",
    "print(roc_auc_knn)"
   ]
  },
  {
   "cell_type": "code",
   "execution_count": null,
   "id": "c517cf89",
   "metadata": {},
   "outputs": [],
   "source": []
  },
  {
   "cell_type": "markdown",
   "id": "bc7ffb43",
   "metadata": {},
   "source": [
    "# ROC-AUC CURVE"
   ]
  },
  {
   "cell_type": "code",
   "execution_count": 158,
   "id": "cfd79600",
   "metadata": {},
   "outputs": [
    {
     "data": {
      "image/png": "[encoded data removed]",
      "text/plain": [
       "<Figure size 1500x1500 with 1 Axes>"
      ]
     },
     "metadata": {},
     "output_type": "display_data"
    }
   ],
   "source": [
    "plt.style.use('seaborn')\n",
    "fpr_lr, tpr_lr, thresh1 = roc_curve(y_test, y_pred_lr)\n",
    "fpr_nb, tpr_nb, thresh2 = roc_curve(y_test, y_pred_nb)\n",
    "fpr_dt, tpr_dt, thresh3 = roc_curve(y_test, y_pred_dt)\n",
    "fpr_knn, tpr_knn, thresh4 = roc_curve(y_test, y_pred_knn)\n",
    "# plot roc curves\n",
    "plt.figure(figsize=(10, 10),dpi=150)\n",
    "plt.plot(fpr_lr, tpr_lr, linestyle='--',color='green', label='LogisticRegression(roc_auc_lr = %0.3f)' % roc_auc_lr)\n",
    "plt.plot(fpr_nb, tpr_nb, linestyle='--',color='red', label='NaiveBayes(roc_auc_nb = %0.3f)' % roc_auc_nb)\n",
    "plt.plot(fpr_dt, tpr_dt, linestyle='--',color='blue', label='Decision Tree(roc_auc_dt = %0.3f)' % roc_auc_dt)\n",
    "plt.plot(fpr_knn, tpr_knn, linestyle='--',color='orange', label='KNN(roc_auc_knn = %0.3f)' % roc_auc_knn)\n",
    "\n",
    "# title\n",
    "plt.title('ROC curve')\n",
    "# x label\n",
    "plt.xlabel('False Positive Rate')\n",
    "# y label\n",
    "plt.ylabel('True Positive rate')\n",
    "\n",
    "plt.legend(loc='best')\n",
    "plt.show()"
   ]
  },
  {
   "cell_type": "markdown",
   "id": "d2fddb17",
   "metadata": {},
   "source": [
    "# BALANCING THE DATASET"
   ]
  },
  {
   "cell_type": "code",
   "execution_count": 159,
   "id": "9133ed58",
   "metadata": {},
   "outputs": [
    {
     "data": {
      "text/plain": [
       "0    858780\n",
       "1    169758\n",
       "Name: DepDel15, dtype: int64"
      ]
     },
     "execution_count": 159,
     "metadata": {},
     "output_type": "execute_result"
    }
   ],
   "source": [
    "delay_final[\"DepDel15\"].value_counts()"
   ]
  },
  {
   "cell_type": "code",
   "execution_count": 163,
   "id": "6fb98a16",
   "metadata": {},
   "outputs": [
    {
     "data": {
      "image/png": "[encoded data removed]",
      "text/plain": [
       "<Figure size 432x288 with 1 Axes>"
      ]
     },
     "metadata": {
      "needs_background": "light"
     },
     "output_type": "display_data"
    }
   ],
   "source": [
    "sns.countplot(x='DepDel15',data=delay_final)\n",
    "plt.show()"
   ]
  },
  {
   "cell_type": "code",
   "execution_count": 164,
   "id": "9d34fefd",
   "metadata": {},
   "outputs": [],
   "source": [
    "from collections import Counter\n",
    "from sklearn.datasets import make_classification\n",
    "from imblearn.under_sampling import RandomUnderSampler\n",
    "from imblearn.under_sampling import NearMiss"
   ]
  },
  {
   "cell_type": "code",
   "execution_count": 165,
   "id": "b62e666c",
   "metadata": {},
   "outputs": [
    {
     "name": "stdout",
     "output_type": "stream",
     "text": [
      "(339516, 13) (339516,)\n"
     ]
    }
   ],
   "source": [
    "# instantiating the random undersampler\n",
    "res = NearMiss() \n",
    "\n",
    "# resampling X, y\n",
    "X_res, y_res = res.fit_resample(X,y)\n",
    "print(X_res.shape,y_res.shape)"
   ]
  },
  {
   "cell_type": "code",
   "execution_count": 166,
   "id": "70556820",
   "metadata": {},
   "outputs": [
    {
     "name": "stdout",
     "output_type": "stream",
     "text": [
      "Original dataset shape: Counter({0: 858780, 1: 169758})\n",
      "Resampled dataset shape: Counter({0: 169758, 1: 169758})\n"
     ]
    }
   ],
   "source": [
    "print(\"Original dataset shape:\",format(Counter(y)))\n",
    "print(\"Resampled dataset shape:\",format(Counter(y_res)))"
   ]
  },
  {
   "cell_type": "markdown",
   "id": "6b21a117",
   "metadata": {},
   "source": [
    "# REAPPLYING THE MODELS ON THE BALANCED DATASET"
   ]
  },
  {
   "cell_type": "markdown",
   "id": "1a58645e",
   "metadata": {},
   "source": [
    "# 1>LOGISTIC REGRESSION"
   ]
  },
  {
   "cell_type": "code",
   "execution_count": 167,
   "id": "c63af671",
   "metadata": {},
   "outputs": [],
   "source": [
    "# Splitting into train and test data set\n",
    "from sklearn.model_selection import train_test_split\n",
    "X_train,X_test,y_train,y_test = train_test_split(X_res,y_res,test_size=0.30,random_state=None)"
   ]
  },
  {
   "cell_type": "code",
   "execution_count": 168,
   "id": "a3abb01d",
   "metadata": {},
   "outputs": [],
   "source": [
    "from sklearn.linear_model import LogisticRegression"
   ]
  },
  {
   "cell_type": "code",
   "execution_count": 169,
   "id": "3d5703e5",
   "metadata": {},
   "outputs": [],
   "source": [
    "from sklearn.metrics import mean_squared_error,mean_absolute_error\n",
    "from sklearn.metrics import accuracy_score"
   ]
  },
  {
   "cell_type": "code",
   "execution_count": 170,
   "id": "15b72f3c",
   "metadata": {},
   "outputs": [],
   "source": [
    "lr=LogisticRegression()"
   ]
  },
  {
   "cell_type": "code",
   "execution_count": 171,
   "id": "bdc1a0f5",
   "metadata": {},
   "outputs": [
    {
     "name": "stderr",
     "output_type": "stream",
     "text": [
      "C:\\Users\\rauna\\anaconda3\\lib\\site-packages\\sklearn\\linear_model\\_logistic.py:444: ConvergenceWarning: lbfgs failed to converge (status=1):\n",
      "STOP: TOTAL NO. of ITERATIONS REACHED LIMIT.\n",
      "\n",
      "Increase the number of iterations (max_iter) or scale the data as shown in:\n",
      "    https://scikit-learn.org/stable/modules/preprocessing.html\n",
      "Please also refer to the documentation for alternative solver options:\n",
      "    https://scikit-learn.org/stable/modules/linear_model.html#logistic-regression\n",
      "  n_iter_i = _check_optimize_result(\n"
     ]
    },
    {
     "data": {
      "text/html": [
       "<style>#sk-container-id-8 {color: black;background-color: white;}#sk-container-id-8 pre{padding: 0;}#sk-container-id-8 div.sk-toggleable {background-color: white;}#sk-container-id-8 label.sk-toggleable__label {cursor: pointer;display: block;width: 100%;margin-bottom: 0;padding: 0.3em;box-sizing: border-box;text-align: center;}#sk-container-id-8 label.sk-toggleable__label-arrow:before {content: \"▸\";float: left;margin-right: 0.25em;color: #696969;}#sk-container-id-8 label.sk-toggleable__label-arrow:hover:before {color: black;}#sk-container-id-8 div.sk-estimator:hover label.sk-toggleable__label-arrow:before {color: black;}#sk-container-id-8 div.sk-toggleable__content {max-height: 0;max-width: 0;overflow: hidden;text-align: left;background-color: #f0f8ff;}#sk-container-id-8 div.sk-toggleable__content pre {margin: 0.2em;color: black;border-radius: 0.25em;background-color: #f0f8ff;}#sk-container-id-8 input.sk-toggleable__control:checked~div.sk-toggleable__content {max-height: 200px;max-width: 100%;overflow: auto;}#sk-container-id-8 input.sk-toggleable__control:checked~label.sk-toggleable__label-arrow:before {content: \"▾\";}#sk-container-id-8 div.sk-estimator input.sk-toggleable__control:checked~label.sk-toggleable__label {background-color: #d4ebff;}#sk-container-id-8 div.sk-label input.sk-toggleable__control:checked~label.sk-toggleable__label {background-color: #d4ebff;}#sk-container-id-8 input.sk-hidden--visually {border: 0;clip: rect(1px 1px 1px 1px);clip: rect(1px, 1px, 1px, 1px);height: 1px;margin: -1px;overflow: hidden;padding: 0;position: absolute;width: 1px;}#sk-container-id-8 div.sk-estimator {font-family: monospace;background-color: #f0f8ff;border: 1px dotted black;border-radius: 0.25em;box-sizing: border-box;margin-bottom: 0.5em;}#sk-container-id-8 div.sk-estimator:hover {background-color: #d4ebff;}#sk-container-id-8 div.sk-parallel-item::after {content: \"\";width: 100%;border-bottom: 1px solid gray;flex-grow: 1;}#sk-container-id-8 div.sk-label:hover label.sk-toggleable__label {background-color: #d4ebff;}#sk-container-id-8 div.sk-serial::before {content: \"\";position: absolute;border-left: 1px solid gray;box-sizing: border-box;top: 0;bottom: 0;left: 50%;z-index: 0;}#sk-container-id-8 div.sk-serial {display: flex;flex-direction: column;align-items: center;background-color: white;padding-right: 0.2em;padding-left: 0.2em;position: relative;}#sk-container-id-8 div.sk-item {position: relative;z-index: 1;}#sk-container-id-8 div.sk-parallel {display: flex;align-items: stretch;justify-content: center;background-color: white;position: relative;}#sk-container-id-8 div.sk-item::before, #sk-container-id-8 div.sk-parallel-item::before {content: \"\";position: absolute;border-left: 1px solid gray;box-sizing: border-box;top: 0;bottom: 0;left: 50%;z-index: -1;}#sk-container-id-8 div.sk-parallel-item {display: flex;flex-direction: column;z-index: 1;position: relative;background-color: white;}#sk-container-id-8 div.sk-parallel-item:first-child::after {align-self: flex-end;width: 50%;}#sk-container-id-8 div.sk-parallel-item:last-child::after {align-self: flex-start;width: 50%;}#sk-container-id-8 div.sk-parallel-item:only-child::after {width: 0;}#sk-container-id-8 div.sk-dashed-wrapped {border: 1px dashed gray;margin: 0 0.4em 0.5em 0.4em;box-sizing: border-box;padding-bottom: 0.4em;background-color: white;}#sk-container-id-8 div.sk-label label {font-family: monospace;font-weight: bold;display: inline-block;line-height: 1.2em;}#sk-container-id-8 div.sk-label-container {text-align: center;}#sk-container-id-8 div.sk-container {/* jupyter's `normalize.less` sets `[hidden] { display: none; }` but bootstrap.min.css set `[hidden] { display: none !important; }` so we also need the `!important` here to be able to override the default hidden behavior on the sphinx rendered scikit-learn.org. See: https://github.com/scikit-learn/scikit-learn/issues/21755 */display: inline-block !important;position: relative;}#sk-container-id-8 div.sk-text-repr-fallback {display: none;}</style><div id=\"sk-container-id-8\" class=\"sk-top-container\"><div class=\"sk-text-repr-fallback\"><pre>LogisticRegression()</pre><b>In a Jupyter environment, please rerun this cell to show the HTML representation or trust the notebook. <br />On GitHub, the HTML representation is unable to render, please try loading this page with nbviewer.org.</b></div><div class=\"sk-container\" hidden><div class=\"sk-item\"><div class=\"sk-estimator sk-toggleable\"><input class=\"sk-toggleable__control sk-hidden--visually\" id=\"sk-estimator-id-8\" type=\"checkbox\" checked><label for=\"sk-estimator-id-8\" class=\"sk-toggleable__label sk-toggleable__label-arrow\">LogisticRegression</label><div class=\"sk-toggleable__content\"><pre>LogisticRegression()</pre></div></div></div></div></div>"
      ],
      "text/plain": [
       "LogisticRegression()"
      ]
     },
     "execution_count": 171,
     "metadata": {},
     "output_type": "execute_result"
    }
   ],
   "source": [
    "lr.fit(X_train,y_train)"
   ]
  },
  {
   "cell_type": "code",
   "execution_count": 172,
   "id": "f00a2071",
   "metadata": {},
   "outputs": [
    {
     "name": "stdout",
     "output_type": "stream",
     "text": [
      "Training Score in LR:= 1.0\n",
      "Test Score in LR:= 1.0\n"
     ]
    }
   ],
   "source": [
    "print(\"Training Score in LR:=\",accuracy_score(y_train,lr.predict(X_train)))\n",
    "print(\"Test Score in LR:=\",accuracy_score(y_test,lr.predict(X_test)))"
   ]
  },
  {
   "cell_type": "code",
   "execution_count": 173,
   "id": "11fff2df",
   "metadata": {},
   "outputs": [],
   "source": [
    "y_pred_lr = lr.predict(X_test) "
   ]
  },
  {
   "cell_type": "code",
   "execution_count": 174,
   "id": "b7184587",
   "metadata": {},
   "outputs": [
    {
     "name": "stdout",
     "output_type": "stream",
     "text": [
      "1.0\n",
      "0.0\n",
      "0.0\n"
     ]
    }
   ],
   "source": [
    "print(accuracy_score(y_test,y_pred_lr))\n",
    "print(mean_absolute_error(y_test,y_pred_lr))\n",
    "print(np.sqrt(mean_squared_error(y_test,y_pred_lr)))"
   ]
  },
  {
   "cell_type": "code",
   "execution_count": 175,
   "id": "e8c9698e",
   "metadata": {},
   "outputs": [
    {
     "data": {
      "image/png": "[encoded data removed]",
      "text/plain": [
       "<Figure size 432x288 with 2 Axes>"
      ]
     },
     "metadata": {
      "needs_background": "light"
     },
     "output_type": "display_data"
    }
   ],
   "source": [
    "# Calculate the confusion matrix\n",
    "from sklearn.metrics import roc_auc_score, roc_curve, confusion_matrix, classification_report\n",
    "from sklearn import metrics\n",
    "confusion_matrix = metrics.confusion_matrix(y_test, y_pred_lr)\n",
    "cm_display = metrics.ConfusionMatrixDisplay(confusion_matrix = confusion_matrix, display_labels = [0,1])\n",
    "cm_display.plot()\n",
    "plt.show()"
   ]
  },
  {
   "cell_type": "code",
   "execution_count": 176,
   "id": "f11a0a26",
   "metadata": {},
   "outputs": [
    {
     "name": "stdout",
     "output_type": "stream",
     "text": [
      "              precision    recall  f1-score   support\n",
      "\n",
      "           0       1.00      1.00      1.00     50875\n",
      "           1       1.00      1.00      1.00     50980\n",
      "\n",
      "    accuracy                           1.00    101855\n",
      "   macro avg       1.00      1.00      1.00    101855\n",
      "weighted avg       1.00      1.00      1.00    101855\n",
      "\n"
     ]
    }
   ],
   "source": [
    "# Calculate the classification report\n",
    "print(classification_report(y_test,y_pred_lr))"
   ]
  },
  {
   "cell_type": "code",
   "execution_count": 177,
   "id": "aa6eac3d",
   "metadata": {},
   "outputs": [
    {
     "name": "stdout",
     "output_type": "stream",
     "text": [
      "1.0\n"
     ]
    }
   ],
   "source": [
    "# Calculate roc_auc_score\n",
    "roc_auc_lr=(roc_auc_score(y_test, y_pred_lr))\n",
    "print(roc_auc_lr)"
   ]
  },
  {
   "cell_type": "markdown",
   "id": "860849c3",
   "metadata": {},
   "source": [
    "# NAIVE BAYES"
   ]
  },
  {
   "cell_type": "code",
   "execution_count": 178,
   "id": "a1516c01",
   "metadata": {},
   "outputs": [],
   "source": [
    "from sklearn.naive_bayes import GaussianNB\n",
    "nb=GaussianNB()"
   ]
  },
  {
   "cell_type": "code",
   "execution_count": 179,
   "id": "bb89ba35",
   "metadata": {},
   "outputs": [
    {
     "data": {
      "text/html": [
       "<style>#sk-container-id-9 {color: black;background-color: white;}#sk-container-id-9 pre{padding: 0;}#sk-container-id-9 div.sk-toggleable {background-color: white;}#sk-container-id-9 label.sk-toggleable__label {cursor: pointer;display: block;width: 100%;margin-bottom: 0;padding: 0.3em;box-sizing: border-box;text-align: center;}#sk-container-id-9 label.sk-toggleable__label-arrow:before {content: \"▸\";float: left;margin-right: 0.25em;color: #696969;}#sk-container-id-9 label.sk-toggleable__label-arrow:hover:before {color: black;}#sk-container-id-9 div.sk-estimator:hover label.sk-toggleable__label-arrow:before {color: black;}#sk-container-id-9 div.sk-toggleable__content {max-height: 0;max-width: 0;overflow: hidden;text-align: left;background-color: #f0f8ff;}#sk-container-id-9 div.sk-toggleable__content pre {margin: 0.2em;color: black;border-radius: 0.25em;background-color: #f0f8ff;}#sk-container-id-9 input.sk-toggleable__control:checked~div.sk-toggleable__content {max-height: 200px;max-width: 100%;overflow: auto;}#sk-container-id-9 input.sk-toggleable__control:checked~label.sk-toggleable__label-arrow:before {content: \"▾\";}#sk-container-id-9 div.sk-estimator input.sk-toggleable__control:checked~label.sk-toggleable__label {background-color: #d4ebff;}#sk-container-id-9 div.sk-label input.sk-toggleable__control:checked~label.sk-toggleable__label {background-color: #d4ebff;}#sk-container-id-9 input.sk-hidden--visually {border: 0;clip: rect(1px 1px 1px 1px);clip: rect(1px, 1px, 1px, 1px);height: 1px;margin: -1px;overflow: hidden;padding: 0;position: absolute;width: 1px;}#sk-container-id-9 div.sk-estimator {font-family: monospace;background-color: #f0f8ff;border: 1px dotted black;border-radius: 0.25em;box-sizing: border-box;margin-bottom: 0.5em;}#sk-container-id-9 div.sk-estimator:hover {background-color: #d4ebff;}#sk-container-id-9 div.sk-parallel-item::after {content: \"\";width: 100%;border-bottom: 1px solid gray;flex-grow: 1;}#sk-container-id-9 div.sk-label:hover label.sk-toggleable__label {background-color: #d4ebff;}#sk-container-id-9 div.sk-serial::before {content: \"\";position: absolute;border-left: 1px solid gray;box-sizing: border-box;top: 0;bottom: 0;left: 50%;z-index: 0;}#sk-container-id-9 div.sk-serial {display: flex;flex-direction: column;align-items: center;background-color: white;padding-right: 0.2em;padding-left: 0.2em;position: relative;}#sk-container-id-9 div.sk-item {position: relative;z-index: 1;}#sk-container-id-9 div.sk-parallel {display: flex;align-items: stretch;justify-content: center;background-color: white;position: relative;}#sk-container-id-9 div.sk-item::before, #sk-container-id-9 div.sk-parallel-item::before {content: \"\";position: absolute;border-left: 1px solid gray;box-sizing: border-box;top: 0;bottom: 0;left: 50%;z-index: -1;}#sk-container-id-9 div.sk-parallel-item {display: flex;flex-direction: column;z-index: 1;position: relative;background-color: white;}#sk-container-id-9 div.sk-parallel-item:first-child::after {align-self: flex-end;width: 50%;}#sk-container-id-9 div.sk-parallel-item:last-child::after {align-self: flex-start;width: 50%;}#sk-container-id-9 div.sk-parallel-item:only-child::after {width: 0;}#sk-container-id-9 div.sk-dashed-wrapped {border: 1px dashed gray;margin: 0 0.4em 0.5em 0.4em;box-sizing: border-box;padding-bottom: 0.4em;background-color: white;}#sk-container-id-9 div.sk-label label {font-family: monospace;font-weight: bold;display: inline-block;line-height: 1.2em;}#sk-container-id-9 div.sk-label-container {text-align: center;}#sk-container-id-9 div.sk-container {/* jupyter's `normalize.less` sets `[hidden] { display: none; }` but bootstrap.min.css set `[hidden] { display: none !important; }` so we also need the `!important` here to be able to override the default hidden behavior on the sphinx rendered scikit-learn.org. See: https://github.com/scikit-learn/scikit-learn/issues/21755 */display: inline-block !important;position: relative;}#sk-container-id-9 div.sk-text-repr-fallback {display: none;}</style><div id=\"sk-container-id-9\" class=\"sk-top-container\"><div class=\"sk-text-repr-fallback\"><pre>GaussianNB()</pre><b>In a Jupyter environment, please rerun this cell to show the HTML representation or trust the notebook. <br />On GitHub, the HTML representation is unable to render, please try loading this page with nbviewer.org.</b></div><div class=\"sk-container\" hidden><div class=\"sk-item\"><div class=\"sk-estimator sk-toggleable\"><input class=\"sk-toggleable__control sk-hidden--visually\" id=\"sk-estimator-id-9\" type=\"checkbox\" checked><label for=\"sk-estimator-id-9\" class=\"sk-toggleable__label sk-toggleable__label-arrow\">GaussianNB</label><div class=\"sk-toggleable__content\"><pre>GaussianNB()</pre></div></div></div></div></div>"
      ],
      "text/plain": [
       "GaussianNB()"
      ]
     },
     "execution_count": 179,
     "metadata": {},
     "output_type": "execute_result"
    }
   ],
   "source": [
    "nb.fit(X_train,y_train)"
   ]
  },
  {
   "cell_type": "code",
   "execution_count": 180,
   "id": "b9e05cfc",
   "metadata": {},
   "outputs": [
    {
     "name": "stdout",
     "output_type": "stream",
     "text": [
      "Training Scpre in NB:= 0.9877809148324714\n",
      "Test Score in NB:= 0.9885229002012665\n"
     ]
    }
   ],
   "source": [
    "print(\"Training Scpre in NB:=\",accuracy_score(y_train,nb.predict(X_train)))\n",
    "print(\"Test Score in NB:=\",accuracy_score(y_test,nb.predict(X_test)))"
   ]
  },
  {
   "cell_type": "code",
   "execution_count": 181,
   "id": "1704cb3b",
   "metadata": {},
   "outputs": [],
   "source": [
    "y_pred_nb = nb.predict(X_test) "
   ]
  },
  {
   "cell_type": "code",
   "execution_count": 182,
   "id": "5f481885",
   "metadata": {
    "scrolled": true
   },
   "outputs": [
    {
     "name": "stdout",
     "output_type": "stream",
     "text": [
      "0.9885229002012665\n",
      "0.011477099798733494\n",
      "0.10713122700097061\n"
     ]
    }
   ],
   "source": [
    "print(accuracy_score(y_test,y_pred_nb))\n",
    "print(mean_absolute_error(y_test,y_pred_nb))\n",
    "print(np.sqrt(mean_squared_error(y_test,y_pred_nb)))"
   ]
  },
  {
   "cell_type": "code",
   "execution_count": 183,
   "id": "ab187672",
   "metadata": {},
   "outputs": [
    {
     "data": {
      "image/png": "[encoded data removed]",
      "text/plain": [
       "<Figure size 432x288 with 2 Axes>"
      ]
     },
     "metadata": {
      "needs_background": "light"
     },
     "output_type": "display_data"
    }
   ],
   "source": [
    "# Calculate the confusion matrix\n",
    "from sklearn.metrics import roc_auc_score, roc_curve, confusion_matrix, classification_report\n",
    "confusion_matrix = metrics.confusion_matrix(y_test, y_pred_nb)\n",
    "cm_display = metrics.ConfusionMatrixDisplay(confusion_matrix = confusion_matrix, display_labels = [0,1])\n",
    "cm_display.plot()\n",
    "plt.show()"
   ]
  },
  {
   "cell_type": "code",
   "execution_count": 184,
   "id": "f690579a",
   "metadata": {},
   "outputs": [
    {
     "name": "stdout",
     "output_type": "stream",
     "text": [
      "              precision    recall  f1-score   support\n",
      "\n",
      "           0       1.00      0.98      0.99     50875\n",
      "           1       0.98      1.00      0.99     50980\n",
      "\n",
      "    accuracy                           0.99    101855\n",
      "   macro avg       0.99      0.99      0.99    101855\n",
      "weighted avg       0.99      0.99      0.99    101855\n",
      "\n"
     ]
    }
   ],
   "source": [
    "# Calculate the classification report\n",
    "print(classification_report(y_test,y_pred_nb))"
   ]
  },
  {
   "cell_type": "code",
   "execution_count": 185,
   "id": "e2569df0",
   "metadata": {},
   "outputs": [
    {
     "name": "stdout",
     "output_type": "stream",
     "text": [
      "0.9885110565110565\n"
     ]
    }
   ],
   "source": [
    "# Calculate roc_auc_score\n",
    "roc_auc_nb=(roc_auc_score(y_test, y_pred_nb))\n",
    "print(roc_auc_nb)"
   ]
  },
  {
   "cell_type": "markdown",
   "id": "c7929e9a",
   "metadata": {},
   "source": [
    "# DECISION TREE CLASSIFIER"
   ]
  },
  {
   "cell_type": "code",
   "execution_count": 186,
   "id": "b826097b",
   "metadata": {},
   "outputs": [
    {
     "name": "stdout",
     "output_type": "stream",
     "text": [
      "The Training Accuracy for max_depth 1 is: 1.0\n",
      "The Validation Accuracy for max_depth 1 is: 1.0\n",
      "\n",
      "The Training Accuracy for max_depth 2 is: 1.0\n",
      "The Validation Accuracy for max_depth 2 is: 1.0\n",
      "\n",
      "The Training Accuracy for max_depth 3 is: 1.0\n",
      "The Validation Accuracy for max_depth 3 is: 1.0\n",
      "\n",
      "The Training Accuracy for max_depth 4 is: 1.0\n",
      "The Validation Accuracy for max_depth 4 is: 1.0\n",
      "\n",
      "The Training Accuracy for max_depth 5 is: 1.0\n",
      "The Validation Accuracy for max_depth 5 is: 1.0\n",
      "\n",
      "The Training Accuracy for max_depth 6 is: 1.0\n",
      "The Validation Accuracy for max_depth 6 is: 1.0\n",
      "\n",
      "The Training Accuracy for max_depth 7 is: 1.0\n",
      "The Validation Accuracy for max_depth 7 is: 1.0\n",
      "\n",
      "The Training Accuracy for max_depth 8 is: 1.0\n",
      "The Validation Accuracy for max_depth 8 is: 1.0\n",
      "\n",
      "The Training Accuracy for max_depth 9 is: 1.0\n",
      "The Validation Accuracy for max_depth 9 is: 1.0\n",
      "\n",
      "The Training Accuracy for max_depth 10 is: 1.0\n",
      "The Validation Accuracy for max_depth 10 is: 1.0\n",
      "\n",
      "The Training Accuracy for max_depth 11 is: 1.0\n",
      "The Validation Accuracy for max_depth 11 is: 1.0\n",
      "\n",
      "The Training Accuracy for max_depth 12 is: 1.0\n",
      "The Validation Accuracy for max_depth 12 is: 1.0\n",
      "\n",
      "The Training Accuracy for max_depth 13 is: 1.0\n",
      "The Validation Accuracy for max_depth 13 is: 1.0\n",
      "\n",
      "The Training Accuracy for max_depth 14 is: 1.0\n",
      "The Validation Accuracy for max_depth 14 is: 1.0\n",
      "\n",
      "The Training Accuracy for max_depth 15 is: 1.0\n",
      "The Validation Accuracy for max_depth 15 is: 1.0\n",
      "\n",
      "The Training Accuracy for max_depth 16 is: 1.0\n",
      "The Validation Accuracy for max_depth 16 is: 1.0\n",
      "\n",
      "The Training Accuracy for max_depth 17 is: 1.0\n",
      "The Validation Accuracy for max_depth 17 is: 1.0\n",
      "\n",
      "The Training Accuracy for max_depth 18 is: 1.0\n",
      "The Validation Accuracy for max_depth 18 is: 1.0\n",
      "\n",
      "The Training Accuracy for max_depth 19 is: 1.0\n",
      "The Validation Accuracy for max_depth 19 is: 1.0\n",
      "\n",
      "The Training Accuracy for max_depth 20 is: 1.0\n",
      "The Validation Accuracy for max_depth 20 is: 1.0\n",
      "\n",
      "The Training Accuracy for max_depth 21 is: 1.0\n",
      "The Validation Accuracy for max_depth 21 is: 1.0\n",
      "\n",
      "The Training Accuracy for max_depth 22 is: 1.0\n",
      "The Validation Accuracy for max_depth 22 is: 1.0\n",
      "\n",
      "The Training Accuracy for max_depth 23 is: 1.0\n",
      "The Validation Accuracy for max_depth 23 is: 1.0\n",
      "\n",
      "The Training Accuracy for max_depth 24 is: 1.0\n",
      "The Validation Accuracy for max_depth 24 is: 1.0\n",
      "\n",
      "The Training Accuracy for max_depth 25 is: 1.0\n",
      "The Validation Accuracy for max_depth 25 is: 1.0\n",
      "\n",
      "The Training Accuracy for max_depth 26 is: 1.0\n",
      "The Validation Accuracy for max_depth 26 is: 1.0\n",
      "\n",
      "The Training Accuracy for max_depth 27 is: 1.0\n",
      "The Validation Accuracy for max_depth 27 is: 1.0\n",
      "\n",
      "The Training Accuracy for max_depth 28 is: 1.0\n",
      "The Validation Accuracy for max_depth 28 is: 1.0\n",
      "\n",
      "The Training Accuracy for max_depth 29 is: 1.0\n",
      "The Validation Accuracy for max_depth 29 is: 1.0\n",
      "\n"
     ]
    }
   ],
   "source": [
    "from sklearn.tree import DecisionTreeClassifier\n",
    "training_accuracy = []\n",
    "test_accuracy = []\n",
    "for max_d in range(1,30):\n",
    "    model = DecisionTreeClassifier(max_depth=max_d, random_state=42)\n",
    "    model.fit(X_train, y_train)\n",
    "    training_accuracy.append(model.score(X_train, y_train))\n",
    "    test_accuracy.append(model.score(X_train, y_train))\n",
    "    print('The Training Accuracy for max_depth {} is:'.format(max_d), model.score(X_train, y_train))\n",
    "    print('The Validation Accuracy for max_depth {} is:'.format(max_d), model.score(X_test,y_test))\n",
    "    print('')"
   ]
  },
  {
   "cell_type": "code",
   "execution_count": 187,
   "id": "53e9263f",
   "metadata": {},
   "outputs": [
    {
     "data": {
      "text/html": [
       "<style>#sk-container-id-10 {color: black;background-color: white;}#sk-container-id-10 pre{padding: 0;}#sk-container-id-10 div.sk-toggleable {background-color: white;}#sk-container-id-10 label.sk-toggleable__label {cursor: pointer;display: block;width: 100%;margin-bottom: 0;padding: 0.3em;box-sizing: border-box;text-align: center;}#sk-container-id-10 label.sk-toggleable__label-arrow:before {content: \"▸\";float: left;margin-right: 0.25em;color: #696969;}#sk-container-id-10 label.sk-toggleable__label-arrow:hover:before {color: black;}#sk-container-id-10 div.sk-estimator:hover label.sk-toggleable__label-arrow:before {color: black;}#sk-container-id-10 div.sk-toggleable__content {max-height: 0;max-width: 0;overflow: hidden;text-align: left;background-color: #f0f8ff;}#sk-container-id-10 div.sk-toggleable__content pre {margin: 0.2em;color: black;border-radius: 0.25em;background-color: #f0f8ff;}#sk-container-id-10 input.sk-toggleable__control:checked~div.sk-toggleable__content {max-height: 200px;max-width: 100%;overflow: auto;}#sk-container-id-10 input.sk-toggleable__control:checked~label.sk-toggleable__label-arrow:before {content: \"▾\";}#sk-container-id-10 div.sk-estimator input.sk-toggleable__control:checked~label.sk-toggleable__label {background-color: #d4ebff;}#sk-container-id-10 div.sk-label input.sk-toggleable__control:checked~label.sk-toggleable__label {background-color: #d4ebff;}#sk-container-id-10 input.sk-hidden--visually {border: 0;clip: rect(1px 1px 1px 1px);clip: rect(1px, 1px, 1px, 1px);height: 1px;margin: -1px;overflow: hidden;padding: 0;position: absolute;width: 1px;}#sk-container-id-10 div.sk-estimator {font-family: monospace;background-color: #f0f8ff;border: 1px dotted black;border-radius: 0.25em;box-sizing: border-box;margin-bottom: 0.5em;}#sk-container-id-10 div.sk-estimator:hover {background-color: #d4ebff;}#sk-container-id-10 div.sk-parallel-item::after {content: \"\";width: 100%;border-bottom: 1px solid gray;flex-grow: 1;}#sk-container-id-10 div.sk-label:hover label.sk-toggleable__label {background-color: #d4ebff;}#sk-container-id-10 div.sk-serial::before {content: \"\";position: absolute;border-left: 1px solid gray;box-sizing: border-box;top: 0;bottom: 0;left: 50%;z-index: 0;}#sk-container-id-10 div.sk-serial {display: flex;flex-direction: column;align-items: center;background-color: white;padding-right: 0.2em;padding-left: 0.2em;position: relative;}#sk-container-id-10 div.sk-item {position: relative;z-index: 1;}#sk-container-id-10 div.sk-parallel {display: flex;align-items: stretch;justify-content: center;background-color: white;position: relative;}#sk-container-id-10 div.sk-item::before, #sk-container-id-10 div.sk-parallel-item::before {content: \"\";position: absolute;border-left: 1px solid gray;box-sizing: border-box;top: 0;bottom: 0;left: 50%;z-index: -1;}#sk-container-id-10 div.sk-parallel-item {display: flex;flex-direction: column;z-index: 1;position: relative;background-color: white;}#sk-container-id-10 div.sk-parallel-item:first-child::after {align-self: flex-end;width: 50%;}#sk-container-id-10 div.sk-parallel-item:last-child::after {align-self: flex-start;width: 50%;}#sk-container-id-10 div.sk-parallel-item:only-child::after {width: 0;}#sk-container-id-10 div.sk-dashed-wrapped {border: 1px dashed gray;margin: 0 0.4em 0.5em 0.4em;box-sizing: border-box;padding-bottom: 0.4em;background-color: white;}#sk-container-id-10 div.sk-label label {font-family: monospace;font-weight: bold;display: inline-block;line-height: 1.2em;}#sk-container-id-10 div.sk-label-container {text-align: center;}#sk-container-id-10 div.sk-container {/* jupyter's `normalize.less` sets `[hidden] { display: none; }` but bootstrap.min.css set `[hidden] { display: none !important; }` so we also need the `!important` here to be able to override the default hidden behavior on the sphinx rendered scikit-learn.org. See: https://github.com/scikit-learn/scikit-learn/issues/21755 */display: inline-block !important;position: relative;}#sk-container-id-10 div.sk-text-repr-fallback {display: none;}</style><div id=\"sk-container-id-10\" class=\"sk-top-container\"><div class=\"sk-text-repr-fallback\"><pre>DecisionTreeClassifier(random_state=100)</pre><b>In a Jupyter environment, please rerun this cell to show the HTML representation or trust the notebook. <br />On GitHub, the HTML representation is unable to render, please try loading this page with nbviewer.org.</b></div><div class=\"sk-container\" hidden><div class=\"sk-item\"><div class=\"sk-estimator sk-toggleable\"><input class=\"sk-toggleable__control sk-hidden--visually\" id=\"sk-estimator-id-10\" type=\"checkbox\" checked><label for=\"sk-estimator-id-10\" class=\"sk-toggleable__label sk-toggleable__label-arrow\">DecisionTreeClassifier</label><div class=\"sk-toggleable__content\"><pre>DecisionTreeClassifier(random_state=100)</pre></div></div></div></div></div>"
      ],
      "text/plain": [
       "DecisionTreeClassifier(random_state=100)"
      ]
     },
     "execution_count": 187,
     "metadata": {},
     "output_type": "execute_result"
    }
   ],
   "source": [
    "from sklearn.tree import DecisionTreeClassifier  \n",
    "dt = DecisionTreeClassifier(random_state = 100)  \n",
    "dt.fit(X_train, y_train)"
   ]
  },
  {
   "cell_type": "code",
   "execution_count": 188,
   "id": "456308c2",
   "metadata": {},
   "outputs": [
    {
     "name": "stdout",
     "output_type": "stream",
     "text": [
      "Training Score in DT:= 1.0\n",
      "Test Score in DT:= 1.0\n"
     ]
    }
   ],
   "source": [
    "print(\"Training Score in DT:=\",accuracy_score(y_train,dt.predict(X_train)))\n",
    "print(\"Test Score in DT:=\",accuracy_score(y_test,dt.predict(X_test)))"
   ]
  },
  {
   "cell_type": "code",
   "execution_count": 189,
   "id": "c7d40445",
   "metadata": {},
   "outputs": [],
   "source": [
    "y_pred_dt = dt.predict(X_test)"
   ]
  },
  {
   "cell_type": "code",
   "execution_count": 190,
   "id": "7ce0411a",
   "metadata": {},
   "outputs": [
    {
     "name": "stdout",
     "output_type": "stream",
     "text": [
      "1.0\n",
      "0.0\n",
      "0.0\n"
     ]
    }
   ],
   "source": [
    "print(accuracy_score(y_test,y_pred_dt))\n",
    "print(mean_absolute_error(y_test,y_pred_dt))\n",
    "print(np.sqrt(mean_squared_error(y_test,y_pred_dt)))"
   ]
  },
  {
   "cell_type": "code",
   "execution_count": 191,
   "id": "be42e716",
   "metadata": {},
   "outputs": [
    {
     "data": {
      "image/png": "[encoded data removed]",
      "text/plain": [
       "<Figure size 432x288 with 2 Axes>"
      ]
     },
     "metadata": {
      "needs_background": "light"
     },
     "output_type": "display_data"
    }
   ],
   "source": [
    "# Calculate the confusion matrix\n",
    "from sklearn.metrics import roc_auc_score, roc_curve, confusion_matrix, classification_report\n",
    "confusion_matrix = metrics.confusion_matrix(y_test, y_pred_dt)\n",
    "cm_display = metrics.ConfusionMatrixDisplay(confusion_matrix = confusion_matrix, display_labels = [0,1])\n",
    "cm_display.plot()\n",
    "plt.show()"
   ]
  },
  {
   "cell_type": "code",
   "execution_count": 192,
   "id": "8dbc6996",
   "metadata": {},
   "outputs": [
    {
     "name": "stdout",
     "output_type": "stream",
     "text": [
      "              precision    recall  f1-score   support\n",
      "\n",
      "           0       1.00      1.00      1.00     50875\n",
      "           1       1.00      1.00      1.00     50980\n",
      "\n",
      "    accuracy                           1.00    101855\n",
      "   macro avg       1.00      1.00      1.00    101855\n",
      "weighted avg       1.00      1.00      1.00    101855\n",
      "\n"
     ]
    }
   ],
   "source": [
    "# Calculate the classification report\n",
    "print(classification_report(y_test,y_pred_dt))"
   ]
  },
  {
   "cell_type": "code",
   "execution_count": 193,
   "id": "88212d2a",
   "metadata": {},
   "outputs": [
    {
     "name": "stdout",
     "output_type": "stream",
     "text": [
      "1.0\n"
     ]
    }
   ],
   "source": [
    "# Calculate roc_auc_score\n",
    "roc_auc_dt=(roc_auc_score(y_test, y_pred_dt))\n",
    "print(roc_auc_dt)"
   ]
  },
  {
   "cell_type": "markdown",
   "id": "2c2daa33",
   "metadata": {},
   "source": [
    "# KNN"
   ]
  },
  {
   "cell_type": "code",
   "execution_count": 194,
   "id": "dd14803a",
   "metadata": {},
   "outputs": [],
   "source": [
    "from sklearn.neighbors import KNeighborsClassifier"
   ]
  },
  {
   "cell_type": "code",
   "execution_count": 195,
   "id": "9f214cfd",
   "metadata": {},
   "outputs": [
    {
     "ename": "KeyboardInterrupt",
     "evalue": "",
     "output_type": "error",
     "traceback": [
      "\u001b[1;31m---------------------------------------------------------------------------\u001b[0m",
      "\u001b[1;31mKeyboardInterrupt\u001b[0m                         Traceback (most recent call last)",
      "Input \u001b[1;32mIn [195]\u001b[0m, in \u001b[0;36m<cell line: 6>\u001b[1;34m()\u001b[0m\n\u001b[0;32m      9\u001b[0m clf\u001b[38;5;241m.\u001b[39mfit(X_train, y_train)\n\u001b[0;32m     10\u001b[0m \u001b[38;5;66;03m# record training set accuracy\u001b[39;00m\n\u001b[1;32m---> 11\u001b[0m training_accuracy\u001b[38;5;241m.\u001b[39mappend(\u001b[43mclf\u001b[49m\u001b[38;5;241;43m.\u001b[39;49m\u001b[43mscore\u001b[49m\u001b[43m(\u001b[49m\u001b[43mX_train\u001b[49m\u001b[43m,\u001b[49m\u001b[43m \u001b[49m\u001b[43my_train\u001b[49m\u001b[43m)\u001b[49m)\n\u001b[0;32m     12\u001b[0m \u001b[38;5;66;03m# record generalization accuracy\u001b[39;00m\n\u001b[0;32m     13\u001b[0m test_accuracy\u001b[38;5;241m.\u001b[39mappend(clf\u001b[38;5;241m.\u001b[39mscore(X_test, y_test))\n",
      "File \u001b[1;32m~\\anaconda3\\lib\\site-packages\\sklearn\\base.py:666\u001b[0m, in \u001b[0;36mClassifierMixin.score\u001b[1;34m(self, X, y, sample_weight)\u001b[0m\n\u001b[0;32m    641\u001b[0m \u001b[38;5;124;03m\"\"\"\u001b[39;00m\n\u001b[0;32m    642\u001b[0m \u001b[38;5;124;03mReturn the mean accuracy on the given test data and labels.\u001b[39;00m\n\u001b[0;32m    643\u001b[0m \n\u001b[1;32m   (...)\u001b[0m\n\u001b[0;32m    662\u001b[0m \u001b[38;5;124;03m    Mean accuracy of ``self.predict(X)`` wrt. `y`.\u001b[39;00m\n\u001b[0;32m    663\u001b[0m \u001b[38;5;124;03m\"\"\"\u001b[39;00m\n\u001b[0;32m    664\u001b[0m \u001b[38;5;28;01mfrom\u001b[39;00m \u001b[38;5;21;01m.\u001b[39;00m\u001b[38;5;21;01mmetrics\u001b[39;00m \u001b[38;5;28;01mimport\u001b[39;00m accuracy_score\n\u001b[1;32m--> 666\u001b[0m \u001b[38;5;28;01mreturn\u001b[39;00m accuracy_score(y, \u001b[38;5;28;43mself\u001b[39;49m\u001b[38;5;241;43m.\u001b[39;49m\u001b[43mpredict\u001b[49m\u001b[43m(\u001b[49m\u001b[43mX\u001b[49m\u001b[43m)\u001b[49m, sample_weight\u001b[38;5;241m=\u001b[39msample_weight)\n",
      "File \u001b[1;32m~\\anaconda3\\lib\\site-packages\\sklearn\\neighbors\\_classification.py:244\u001b[0m, in \u001b[0;36mKNeighborsClassifier.predict\u001b[1;34m(self, X)\u001b[0m\n\u001b[0;32m    242\u001b[0m \u001b[38;5;28;01mfor\u001b[39;00m k, classes_k \u001b[38;5;129;01min\u001b[39;00m \u001b[38;5;28menumerate\u001b[39m(classes_):\n\u001b[0;32m    243\u001b[0m     \u001b[38;5;28;01mif\u001b[39;00m weights \u001b[38;5;129;01mis\u001b[39;00m \u001b[38;5;28;01mNone\u001b[39;00m:\n\u001b[1;32m--> 244\u001b[0m         mode, _ \u001b[38;5;241m=\u001b[39m \u001b[43m_mode\u001b[49m\u001b[43m(\u001b[49m\u001b[43m_y\u001b[49m\u001b[43m[\u001b[49m\u001b[43mneigh_ind\u001b[49m\u001b[43m,\u001b[49m\u001b[43m \u001b[49m\u001b[43mk\u001b[49m\u001b[43m]\u001b[49m\u001b[43m,\u001b[49m\u001b[43m \u001b[49m\u001b[43maxis\u001b[49m\u001b[38;5;241;43m=\u001b[39;49m\u001b[38;5;241;43m1\u001b[39;49m\u001b[43m)\u001b[49m\n\u001b[0;32m    245\u001b[0m     \u001b[38;5;28;01melse\u001b[39;00m:\n\u001b[0;32m    246\u001b[0m         mode, _ \u001b[38;5;241m=\u001b[39m weighted_mode(_y[neigh_ind, k], weights, axis\u001b[38;5;241m=\u001b[39m\u001b[38;5;241m1\u001b[39m)\n",
      "File \u001b[1;32m~\\anaconda3\\lib\\site-packages\\sklearn\\utils\\fixes.py:172\u001b[0m, in \u001b[0;36m_mode\u001b[1;34m(a, axis)\u001b[0m\n\u001b[0;32m    170\u001b[0m \u001b[38;5;28;01mif\u001b[39;00m sp_version \u001b[38;5;241m>\u001b[39m\u001b[38;5;241m=\u001b[39m parse_version(\u001b[38;5;124m\"\u001b[39m\u001b[38;5;124m1.9.0\u001b[39m\u001b[38;5;124m\"\u001b[39m):\n\u001b[0;32m    171\u001b[0m     \u001b[38;5;28;01mreturn\u001b[39;00m scipy\u001b[38;5;241m.\u001b[39mstats\u001b[38;5;241m.\u001b[39mmode(a, axis\u001b[38;5;241m=\u001b[39maxis, keepdims\u001b[38;5;241m=\u001b[39m\u001b[38;5;28;01mTrue\u001b[39;00m)\n\u001b[1;32m--> 172\u001b[0m \u001b[38;5;28;01mreturn\u001b[39;00m \u001b[43mscipy\u001b[49m\u001b[38;5;241;43m.\u001b[39;49m\u001b[43mstats\u001b[49m\u001b[38;5;241;43m.\u001b[39;49m\u001b[43mmode\u001b[49m\u001b[43m(\u001b[49m\u001b[43ma\u001b[49m\u001b[43m,\u001b[49m\u001b[43m \u001b[49m\u001b[43maxis\u001b[49m\u001b[38;5;241;43m=\u001b[39;49m\u001b[43maxis\u001b[49m\u001b[43m)\u001b[49m\n",
      "File \u001b[1;32m~\\anaconda3\\lib\\site-packages\\scipy\\stats\\stats.py:448\u001b[0m, in \u001b[0;36mmode\u001b[1;34m(a, axis, nan_policy)\u001b[0m\n\u001b[0;32m    446\u001b[0m counts \u001b[38;5;241m=\u001b[39m np\u001b[38;5;241m.\u001b[39mempty(a_view\u001b[38;5;241m.\u001b[39mshape[:\u001b[38;5;241m-\u001b[39m\u001b[38;5;241m1\u001b[39m], dtype\u001b[38;5;241m=\u001b[39mnp\u001b[38;5;241m.\u001b[39mint_)\n\u001b[0;32m    447\u001b[0m \u001b[38;5;28;01mfor\u001b[39;00m ind \u001b[38;5;129;01min\u001b[39;00m inds:\n\u001b[1;32m--> 448\u001b[0m     modes[ind], counts[ind] \u001b[38;5;241m=\u001b[39m \u001b[43m_mode1D\u001b[49m\u001b[43m(\u001b[49m\u001b[43ma_view\u001b[49m\u001b[43m[\u001b[49m\u001b[43mind\u001b[49m\u001b[43m]\u001b[49m\u001b[43m)\u001b[49m\n\u001b[0;32m    449\u001b[0m newshape \u001b[38;5;241m=\u001b[39m \u001b[38;5;28mlist\u001b[39m(a\u001b[38;5;241m.\u001b[39mshape)\n\u001b[0;32m    450\u001b[0m newshape[axis] \u001b[38;5;241m=\u001b[39m \u001b[38;5;241m1\u001b[39m\n",
      "File \u001b[1;32m~\\anaconda3\\lib\\site-packages\\scipy\\stats\\stats.py:435\u001b[0m, in \u001b[0;36mmode.<locals>._mode1D\u001b[1;34m(a)\u001b[0m\n\u001b[0;32m    433\u001b[0m \u001b[38;5;28;01mdef\u001b[39;00m \u001b[38;5;21m_mode1D\u001b[39m(a):\n\u001b[0;32m    434\u001b[0m     vals, cnts \u001b[38;5;241m=\u001b[39m np\u001b[38;5;241m.\u001b[39munique(a, return_counts\u001b[38;5;241m=\u001b[39m\u001b[38;5;28;01mTrue\u001b[39;00m)\n\u001b[1;32m--> 435\u001b[0m     \u001b[38;5;28;01mreturn\u001b[39;00m vals[\u001b[43mcnts\u001b[49m\u001b[38;5;241;43m.\u001b[39;49m\u001b[43margmax\u001b[49m\u001b[43m(\u001b[49m\u001b[43m)\u001b[49m], cnts\u001b[38;5;241m.\u001b[39mmax()\n",
      "\u001b[1;31mKeyboardInterrupt\u001b[0m: "
     ]
    }
   ],
   "source": [
    "#Choosing optimal value of  k \n",
    "training_accuracy = []\n",
    "test_accuracy = []\n",
    "# try n_neighbors from 1 to 15.\n",
    "neighbors_settings = range(1, 16)\n",
    "for n_neighbors in neighbors_settings:\n",
    "    # build the model\n",
    "    clf = KNeighborsClassifier(n_neighbors=n_neighbors)\n",
    "    clf.fit(X_train, y_train)\n",
    "    # record training set accuracy\n",
    "    training_accuracy.append(clf.score(X_train, y_train))\n",
    "    # record generalization accuracy\n",
    "    test_accuracy.append(clf.score(X_test, y_test))\n",
    "    print('The Training Accuracy for k {} is:'.format(n_neighbors), clf.score(X_test,y_test))\n",
    "    print('The Validation Accuracy for k {} is:'.format(n_neighbors), clf.score(X_test,y_test))\n",
    "    print('')\n",
    "plt.plot(neighbors_settings, training_accuracy, label=\"training accuracy\")\n",
    "plt.plot(neighbors_settings, test_accuracy, label=\"test accuracy\")\n",
    "plt.legend()"
   ]
  },
  {
   "cell_type": "code",
   "execution_count": 196,
   "id": "5c97b51a",
   "metadata": {},
   "outputs": [
    {
     "data": {
      "text/html": [
       "<style>#sk-container-id-11 {color: black;background-color: white;}#sk-container-id-11 pre{padding: 0;}#sk-container-id-11 div.sk-toggleable {background-color: white;}#sk-container-id-11 label.sk-toggleable__label {cursor: pointer;display: block;width: 100%;margin-bottom: 0;padding: 0.3em;box-sizing: border-box;text-align: center;}#sk-container-id-11 label.sk-toggleable__label-arrow:before {content: \"▸\";float: left;margin-right: 0.25em;color: #696969;}#sk-container-id-11 label.sk-toggleable__label-arrow:hover:before {color: black;}#sk-container-id-11 div.sk-estimator:hover label.sk-toggleable__label-arrow:before {color: black;}#sk-container-id-11 div.sk-toggleable__content {max-height: 0;max-width: 0;overflow: hidden;text-align: left;background-color: #f0f8ff;}#sk-container-id-11 div.sk-toggleable__content pre {margin: 0.2em;color: black;border-radius: 0.25em;background-color: #f0f8ff;}#sk-container-id-11 input.sk-toggleable__control:checked~div.sk-toggleable__content {max-height: 200px;max-width: 100%;overflow: auto;}#sk-container-id-11 input.sk-toggleable__control:checked~label.sk-toggleable__label-arrow:before {content: \"▾\";}#sk-container-id-11 div.sk-estimator input.sk-toggleable__control:checked~label.sk-toggleable__label {background-color: #d4ebff;}#sk-container-id-11 div.sk-label input.sk-toggleable__control:checked~label.sk-toggleable__label {background-color: #d4ebff;}#sk-container-id-11 input.sk-hidden--visually {border: 0;clip: rect(1px 1px 1px 1px);clip: rect(1px, 1px, 1px, 1px);height: 1px;margin: -1px;overflow: hidden;padding: 0;position: absolute;width: 1px;}#sk-container-id-11 div.sk-estimator {font-family: monospace;background-color: #f0f8ff;border: 1px dotted black;border-radius: 0.25em;box-sizing: border-box;margin-bottom: 0.5em;}#sk-container-id-11 div.sk-estimator:hover {background-color: #d4ebff;}#sk-container-id-11 div.sk-parallel-item::after {content: \"\";width: 100%;border-bottom: 1px solid gray;flex-grow: 1;}#sk-container-id-11 div.sk-label:hover label.sk-toggleable__label {background-color: #d4ebff;}#sk-container-id-11 div.sk-serial::before {content: \"\";position: absolute;border-left: 1px solid gray;box-sizing: border-box;top: 0;bottom: 0;left: 50%;z-index: 0;}#sk-container-id-11 div.sk-serial {display: flex;flex-direction: column;align-items: center;background-color: white;padding-right: 0.2em;padding-left: 0.2em;position: relative;}#sk-container-id-11 div.sk-item {position: relative;z-index: 1;}#sk-container-id-11 div.sk-parallel {display: flex;align-items: stretch;justify-content: center;background-color: white;position: relative;}#sk-container-id-11 div.sk-item::before, #sk-container-id-11 div.sk-parallel-item::before {content: \"\";position: absolute;border-left: 1px solid gray;box-sizing: border-box;top: 0;bottom: 0;left: 50%;z-index: -1;}#sk-container-id-11 div.sk-parallel-item {display: flex;flex-direction: column;z-index: 1;position: relative;background-color: white;}#sk-container-id-11 div.sk-parallel-item:first-child::after {align-self: flex-end;width: 50%;}#sk-container-id-11 div.sk-parallel-item:last-child::after {align-self: flex-start;width: 50%;}#sk-container-id-11 div.sk-parallel-item:only-child::after {width: 0;}#sk-container-id-11 div.sk-dashed-wrapped {border: 1px dashed gray;margin: 0 0.4em 0.5em 0.4em;box-sizing: border-box;padding-bottom: 0.4em;background-color: white;}#sk-container-id-11 div.sk-label label {font-family: monospace;font-weight: bold;display: inline-block;line-height: 1.2em;}#sk-container-id-11 div.sk-label-container {text-align: center;}#sk-container-id-11 div.sk-container {/* jupyter's `normalize.less` sets `[hidden] { display: none; }` but bootstrap.min.css set `[hidden] { display: none !important; }` so we also need the `!important` here to be able to override the default hidden behavior on the sphinx rendered scikit-learn.org. See: https://github.com/scikit-learn/scikit-learn/issues/21755 */display: inline-block !important;position: relative;}#sk-container-id-11 div.sk-text-repr-fallback {display: none;}</style><div id=\"sk-container-id-11\" class=\"sk-top-container\"><div class=\"sk-text-repr-fallback\"><pre>KNeighborsClassifier(n_neighbors=3)</pre><b>In a Jupyter environment, please rerun this cell to show the HTML representation or trust the notebook. <br />On GitHub, the HTML representation is unable to render, please try loading this page with nbviewer.org.</b></div><div class=\"sk-container\" hidden><div class=\"sk-item\"><div class=\"sk-estimator sk-toggleable\"><input class=\"sk-toggleable__control sk-hidden--visually\" id=\"sk-estimator-id-11\" type=\"checkbox\" checked><label for=\"sk-estimator-id-11\" class=\"sk-toggleable__label sk-toggleable__label-arrow\">KNeighborsClassifier</label><div class=\"sk-toggleable__content\"><pre>KNeighborsClassifier(n_neighbors=3)</pre></div></div></div></div></div>"
      ],
      "text/plain": [
       "KNeighborsClassifier(n_neighbors=3)"
      ]
     },
     "execution_count": 196,
     "metadata": {},
     "output_type": "execute_result"
    }
   ],
   "source": [
    "knn = KNeighborsClassifier(n_neighbors = 3)\n",
    "knn.fit(X_train, y_train)"
   ]
  },
  {
   "cell_type": "code",
   "execution_count": null,
   "id": "2dd22882",
   "metadata": {},
   "outputs": [],
   "source": []
  },
  {
   "cell_type": "code",
   "execution_count": 197,
   "id": "ddc00b50",
   "metadata": {},
   "outputs": [
    {
     "name": "stdout",
     "output_type": "stream",
     "text": [
      "Training Score in KNN:= 0.9959269716108238\n",
      "Test Score in KNN:= 0.9890825192675863\n"
     ]
    }
   ],
   "source": [
    "print(\"Training Score in KNN:=\",accuracy_score(y_train,knn.predict(X_train)))\n",
    "print(\"Test Score in KNN:=\",accuracy_score(y_test,knn.predict(X_test)))"
   ]
  },
  {
   "cell_type": "code",
   "execution_count": 198,
   "id": "2823ea4b",
   "metadata": {},
   "outputs": [],
   "source": [
    "y_pred_knn = knn.predict(X_test)"
   ]
  },
  {
   "cell_type": "code",
   "execution_count": 199,
   "id": "e7998ddd",
   "metadata": {},
   "outputs": [
    {
     "name": "stdout",
     "output_type": "stream",
     "text": [
      "0.9890825192675863\n",
      "0.010917480732413725\n",
      "0.10448674907572598\n"
     ]
    }
   ],
   "source": [
    "print(accuracy_score(y_test,y_pred_knn))\n",
    "print(mean_absolute_error(y_test,y_pred_knn))\n",
    "print(np.sqrt(mean_squared_error(y_test,y_pred_knn)))"
   ]
  },
  {
   "cell_type": "code",
   "execution_count": 200,
   "id": "3ce5d9bc",
   "metadata": {},
   "outputs": [
    {
     "data": {
      "image/png": "[encoded data removed]",
      "text/plain": [
       "<Figure size 432x288 with 2 Axes>"
      ]
     },
     "metadata": {
      "needs_background": "light"
     },
     "output_type": "display_data"
    }
   ],
   "source": [
    "# Calculate the confusion matrix\n",
    "from sklearn.metrics import roc_auc_score, roc_curve, confusion_matrix, classification_report\n",
    "confusion_matrix = metrics.confusion_matrix(y_test, y_pred_knn)\n",
    "cm_display = metrics.ConfusionMatrixDisplay(confusion_matrix = confusion_matrix, display_labels = [0,1])\n",
    "cm_display.plot()\n",
    "plt.show()"
   ]
  },
  {
   "cell_type": "code",
   "execution_count": 201,
   "id": "66091722",
   "metadata": {},
   "outputs": [
    {
     "name": "stdout",
     "output_type": "stream",
     "text": [
      "              precision    recall  f1-score   support\n",
      "\n",
      "           0       0.99      0.99      0.99     50875\n",
      "           1       0.99      0.99      0.99     50980\n",
      "\n",
      "    accuracy                           0.99    101855\n",
      "   macro avg       0.99      0.99      0.99    101855\n",
      "weighted avg       0.99      0.99      0.99    101855\n",
      "\n"
     ]
    }
   ],
   "source": [
    "# Calculate the classification report\n",
    "print(classification_report(y_test,y_pred_knn))"
   ]
  },
  {
   "cell_type": "code",
   "execution_count": 202,
   "id": "309dfa4b",
   "metadata": {},
   "outputs": [
    {
     "name": "stdout",
     "output_type": "stream",
     "text": [
      "0.9890845318730763\n"
     ]
    }
   ],
   "source": [
    "# Calculate roc_auc_score\n",
    "roc_auc_knn=(roc_auc_score(y_test, y_pred_knn))\n",
    "print(roc_auc_knn)"
   ]
  },
  {
   "cell_type": "code",
   "execution_count": null,
   "id": "45e0b447",
   "metadata": {},
   "outputs": [],
   "source": []
  },
  {
   "cell_type": "markdown",
   "id": "cd4b303d",
   "metadata": {},
   "source": [
    "# ROC-AUC CURVE"
   ]
  },
  {
   "cell_type": "code",
   "execution_count": 203,
   "id": "952f4191",
   "metadata": {},
   "outputs": [
    {
     "data": {
      "image/png": "[encoded data removed]",
      "text/plain": [
       "<Figure size 1500x1500 with 1 Axes>"
      ]
     },
     "metadata": {},
     "output_type": "display_data"
    }
   ],
   "source": [
    "plt.style.use('seaborn')\n",
    "fpr_lr, tpr_lr, thresh1 = roc_curve(y_test, y_pred_lr)\n",
    "fpr_nb, tpr_nb, thresh2 = roc_curve(y_test, y_pred_nb)\n",
    "fpr_dt, tpr_dt, thresh3 = roc_curve(y_test, y_pred_dt)\n",
    "fpr_knn, tpr_knn, thresh4 = roc_curve(y_test, y_pred_knn)\n",
    "# plot roc curves\n",
    "plt.figure(figsize=(10, 10),dpi=150)\n",
    "plt.plot(fpr_lr, tpr_lr, linestyle='--',color='green', label='LogisticRegression(roc_auc_lr = %0.3f)' % roc_auc_lr)\n",
    "plt.plot(fpr_nb, tpr_nb, linestyle='--',color='red', label='NaiveBayes(roc_auc_nb = %0.3f)' % roc_auc_nb)\n",
    "plt.plot(fpr_dt, tpr_dt, linestyle='--',color='blue', label='Decision Tree(roc_auc_dt = %0.3f)' % roc_auc_dt)\n",
    "plt.plot(fpr_knn, tpr_knn, linestyle='--',color='orange', label='KNN(roc_auc_knn = %0.3f)' % roc_auc_knn)\n",
    "\n",
    "# title\n",
    "plt.title('ROC curve')\n",
    "# x label\n",
    "plt.xlabel('False Positive Rate')\n",
    "# y label\n",
    "plt.ylabel('True Positive rate')\n",
    "\n",
    "plt.legend(loc='best')\n",
    "plt.show()"
   ]
  },
  {
   "cell_type": "markdown",
   "id": "c58ab5f1",
   "metadata": {},
   "source": [
    "# PROBLEM: TO BUILD A REGRESSION MODEL TO PREDICT DELAY TIME"
   ]
  },
  {
   "cell_type": "code",
   "execution_count": 208,
   "id": "9f345557",
   "metadata": {},
   "outputs": [],
   "source": [
    "X=flight4.drop([\"DepDelayMinutes\"],axis=1)\n",
    "y=flight4[\"DepDelayMinutes\"]\n",
    "from sklearn.model_selection import train_test_split\n",
    "X_train,X_test,y_train,y_test = train_test_split(X,y,test_size=0.30,random_state=None)"
   ]
  },
  {
   "cell_type": "code",
   "execution_count": 209,
   "id": "ab22b01e",
   "metadata": {},
   "outputs": [
    {
     "data": {
      "text/plain": [
       "array([2.21866363e-02, 1.32488046e-02, 9.83891774e-03, 8.21743485e-05,\n",
       "       0.00000000e+00, 4.89100682e-01, 1.98762380e-03, 9.15527133e-03,\n",
       "       3.04610279e-03, 1.57021059e-02, 0.00000000e+00, 1.92340073e-03,\n",
       "       1.38693800e-02, 3.24192163e-03, 8.91772808e-03, 6.24334523e-03,\n",
       "       8.64598346e-03, 7.11119834e-03, 4.48436812e-01, 7.74819797e-01,\n",
       "       1.83129361e-02, 5.69589911e-03, 1.07652341e-03, 2.53979617e-01,\n",
       "       4.02207967e-01, 1.73501797e-02, 1.72990962e-03, 1.28938635e-03])"
      ]
     },
     "execution_count": 209,
     "metadata": {},
     "output_type": "execute_result"
    }
   ],
   "source": [
    "from sklearn.feature_selection import mutual_info_regression\n",
    "mi2=mutual_info_regression(X_train,y_train)\n",
    "mi2"
   ]
  },
  {
   "cell_type": "code",
   "execution_count": 210,
   "id": "b9e99808",
   "metadata": {},
   "outputs": [
    {
     "data": {
      "text/plain": [
       "DepartureDelayGroups    0.774820\n",
       "ArrDelayMinutes         0.489101\n",
       "DepDel15                0.448437\n",
       "ArrivalDelayGroups      0.402208\n",
       "ArrDel15                0.253980\n",
       "Airline                 0.022187\n",
       "DepTimeBlk              0.018313\n",
       "ArrTimeBlk              0.017350\n",
       "Distance                0.015702\n",
       "DayofMonth              0.013869\n",
       "Origin                  0.013249\n",
       "Dest                    0.009839\n",
       "CRSElapsedTime          0.009155\n",
       "OriginCityName          0.008918\n",
       "DestCityName            0.008646\n",
       "DestStateName           0.007111\n",
       "OriginStateName         0.006243\n",
       "TaxiOut                 0.005696\n",
       "DayOfWeek               0.003242\n",
       "ActualElapsedTime       0.003046\n",
       "AirTime                 0.001988\n",
       "Month                   0.001923\n",
       "DistanceGroup           0.001730\n",
       "DivAirportLandings      0.001289\n",
       "TaxiIn                  0.001077\n",
       "Cancelled               0.000082\n",
       "Quarter                 0.000000\n",
       "Diverted                0.000000\n",
       "dtype: float64"
      ]
     },
     "execution_count": 210,
     "metadata": {},
     "output_type": "execute_result"
    }
   ],
   "source": [
    "mi2=pd.Series(mi2)\n",
    "mi2.index=X_train.columns\n",
    "mi2.sort_values(ascending=False)"
   ]
  },
  {
   "cell_type": "code",
   "execution_count": 212,
   "id": "90ad5548",
   "metadata": {},
   "outputs": [
    {
     "name": "stdout",
     "output_type": "stream",
     "text": [
      "('DepartureDelayGroups', 0.7748197965814336)\n",
      "('ArrDelayMinutes', 0.4891006816026975)\n",
      "('DepDel15', 0.44843681210957254)\n",
      "('ArrivalDelayGroups', 0.4022079670863228)\n",
      "('ArrDel15', 0.2539796172873565)\n",
      "('Airline', 0.022186636294883932)\n",
      "('DepTimeBlk', 0.01831293606447204)\n",
      "('ArrTimeBlk', 0.0173501796649278)\n",
      "('Distance', 0.015702105900263774)\n",
      "('DayofMonth', 0.013869379951284344)\n",
      "('Origin', 0.013248804646602608)\n",
      "('Dest', 0.009838917735329744)\n",
      "('CRSElapsedTime', 0.009155271332963011)\n",
      "('OriginCityName', 0.008917728081714316)\n",
      "('DestCityName', 0.008645983457606476)\n",
      "('DestStateName', 0.007111198337746316)\n",
      "('OriginStateName', 0.006243345233055919)\n",
      "('TaxiOut', 0.005695899111293201)\n",
      "('DayOfWeek', 0.0032419216252526084)\n",
      "('ActualElapsedTime', 0.0030461027907584537)\n",
      "('AirTime', 0.0019876238037390692)\n",
      "('Month', 0.0019234007332293857)\n",
      "('DistanceGroup', 0.0017299096215230847)\n",
      "('DivAirportLandings', 0.00128938634537068)\n",
      "('TaxiIn', 0.0010765234136043134)\n",
      "('Cancelled', 8.217434851065519e-05)\n",
      "('Quarter', 0.0)\n",
      "('Diverted', 0.0)\n"
     ]
    }
   ],
   "source": [
    "b=mi2.sort_values(ascending=False)\n",
    "for cols in b.iteritems():\n",
    "    print(cols) "
   ]
  },
  {
   "cell_type": "code",
   "execution_count": 213,
   "id": "bf1f99d4",
   "metadata": {},
   "outputs": [
    {
     "data": {
      "text/plain": [
       "<AxesSubplot:>"
      ]
     },
     "execution_count": 213,
     "metadata": {},
     "output_type": "execute_result"
    },
    {
     "data": {
      "image/png": "[encoded data removed]",
      "text/plain": [
       "<Figure size 1440x720 with 1 Axes>"
      ]
     },
     "metadata": {},
     "output_type": "display_data"
    }
   ],
   "source": [
    "mi2.sort_values(ascending=False).plot.bar(figsize=(20,10))"
   ]
  },
  {
   "cell_type": "code",
   "execution_count": 214,
   "id": "451736df",
   "metadata": {},
   "outputs": [],
   "source": [
    "delay_reg=flight4[['DepartureDelayGroups','ArrDelayMinutes','DepDel15','ArrivalDelayGroups','ArrDel15',\n",
    "'Airline','DepTimeBlk','ArrTimeBlk','Distance','DayofMonth','Origin','Dest','CRSElapsedTime','DepDelayMinutes']]"
   ]
  },
  {
   "cell_type": "code",
   "execution_count": 246,
   "id": "c7a4afa8",
   "metadata": {},
   "outputs": [
    {
     "name": "stdout",
     "output_type": "stream",
     "text": [
      "<class 'pandas.core.frame.DataFrame'>\n",
      "RangeIndex: 1028538 entries, 0 to 1028537\n",
      "Data columns (total 14 columns):\n",
      " #   Column                Non-Null Count    Dtype  \n",
      "---  ------                --------------    -----  \n",
      " 0   DepartureDelayGroups  1028538 non-null  int32  \n",
      " 1   ArrDelayMinutes       1028538 non-null  float64\n",
      " 2   DepDel15              1028538 non-null  int32  \n",
      " 3   ArrivalDelayGroups    1028538 non-null  int32  \n",
      " 4   ArrDel15              1028538 non-null  int32  \n",
      " 5   Airline               1028538 non-null  int32  \n",
      " 6   DepTimeBlk            1028538 non-null  int32  \n",
      " 7   ArrTimeBlk            1028538 non-null  int32  \n",
      " 8   Distance              1028538 non-null  float64\n",
      " 9   DayofMonth            1028538 non-null  int64  \n",
      " 10  Origin                1028538 non-null  int32  \n",
      " 11  Dest                  1028538 non-null  int32  \n",
      " 12  CRSElapsedTime        1028538 non-null  float64\n",
      " 13  DepDelayMinutes       1028538 non-null  float64\n",
      "dtypes: float64(4), int32(9), int64(1)\n",
      "memory usage: 74.5 MB\n"
     ]
    }
   ],
   "source": [
    "delay_reg.info()"
   ]
  },
  {
   "cell_type": "code",
   "execution_count": 215,
   "id": "35bf92e7",
   "metadata": {},
   "outputs": [
    {
     "data": {
      "text/html": [
       "<div>\n",
       "<style scoped>\n",
       "    .dataframe tbody tr th:only-of-type {\n",
       "        vertical-align: middle;\n",
       "    }\n",
       "\n",
       "    .dataframe tbody tr th {\n",
       "        vertical-align: top;\n",
       "    }\n",
       "\n",
       "    .dataframe thead th {\n",
       "        text-align: right;\n",
       "    }\n",
       "</style>\n",
       "<table border=\"1\" class=\"dataframe\">\n",
       "  <thead>\n",
       "    <tr style=\"text-align: right;\">\n",
       "      <th></th>\n",
       "      <th>DepartureDelayGroups</th>\n",
       "      <th>ArrDelayMinutes</th>\n",
       "      <th>DepDel15</th>\n",
       "      <th>ArrivalDelayGroups</th>\n",
       "      <th>ArrDel15</th>\n",
       "      <th>Airline</th>\n",
       "      <th>DepTimeBlk</th>\n",
       "      <th>ArrTimeBlk</th>\n",
       "      <th>Distance</th>\n",
       "      <th>DayofMonth</th>\n",
       "      <th>Origin</th>\n",
       "      <th>Dest</th>\n",
       "      <th>CRSElapsedTime</th>\n",
       "      <th>DepDelayMinutes</th>\n",
       "    </tr>\n",
       "  </thead>\n",
       "  <tbody>\n",
       "    <tr>\n",
       "      <th>0</th>\n",
       "      <td>0</td>\n",
       "      <td>0.0</td>\n",
       "      <td>0</td>\n",
       "      <td>0</td>\n",
       "      <td>0</td>\n",
       "      <td>11</td>\n",
       "      <td>7</td>\n",
       "      <td>8</td>\n",
       "      <td>145.0</td>\n",
       "      <td>23</td>\n",
       "      <td>4</td>\n",
       "      <td>20</td>\n",
       "      <td>62.0</td>\n",
       "      <td>0.0</td>\n",
       "    </tr>\n",
       "    <tr>\n",
       "      <th>1</th>\n",
       "      <td>0</td>\n",
       "      <td>0.0</td>\n",
       "      <td>0</td>\n",
       "      <td>0</td>\n",
       "      <td>0</td>\n",
       "      <td>11</td>\n",
       "      <td>7</td>\n",
       "      <td>8</td>\n",
       "      <td>145.0</td>\n",
       "      <td>24</td>\n",
       "      <td>4</td>\n",
       "      <td>20</td>\n",
       "      <td>62.0</td>\n",
       "      <td>0.0</td>\n",
       "    </tr>\n",
       "    <tr>\n",
       "      <th>2</th>\n",
       "      <td>0</td>\n",
       "      <td>0.0</td>\n",
       "      <td>0</td>\n",
       "      <td>0</td>\n",
       "      <td>0</td>\n",
       "      <td>11</td>\n",
       "      <td>7</td>\n",
       "      <td>8</td>\n",
       "      <td>145.0</td>\n",
       "      <td>25</td>\n",
       "      <td>4</td>\n",
       "      <td>20</td>\n",
       "      <td>62.0</td>\n",
       "      <td>0.0</td>\n",
       "    </tr>\n",
       "    <tr>\n",
       "      <th>3</th>\n",
       "      <td>0</td>\n",
       "      <td>0.0</td>\n",
       "      <td>0</td>\n",
       "      <td>0</td>\n",
       "      <td>0</td>\n",
       "      <td>11</td>\n",
       "      <td>7</td>\n",
       "      <td>8</td>\n",
       "      <td>145.0</td>\n",
       "      <td>26</td>\n",
       "      <td>4</td>\n",
       "      <td>20</td>\n",
       "      <td>62.0</td>\n",
       "      <td>0.0</td>\n",
       "    </tr>\n",
       "    <tr>\n",
       "      <th>4</th>\n",
       "      <td>0</td>\n",
       "      <td>0.0</td>\n",
       "      <td>0</td>\n",
       "      <td>0</td>\n",
       "      <td>0</td>\n",
       "      <td>11</td>\n",
       "      <td>9</td>\n",
       "      <td>10</td>\n",
       "      <td>145.0</td>\n",
       "      <td>27</td>\n",
       "      <td>4</td>\n",
       "      <td>20</td>\n",
       "      <td>60.0</td>\n",
       "      <td>0.0</td>\n",
       "    </tr>\n",
       "  </tbody>\n",
       "</table>\n",
       "</div>"
      ],
      "text/plain": [
       "   DepartureDelayGroups  ArrDelayMinutes  DepDel15  ArrivalDelayGroups  \\\n",
       "0                     0              0.0         0                   0   \n",
       "1                     0              0.0         0                   0   \n",
       "2                     0              0.0         0                   0   \n",
       "3                     0              0.0         0                   0   \n",
       "4                     0              0.0         0                   0   \n",
       "\n",
       "   ArrDel15  Airline  DepTimeBlk  ArrTimeBlk  Distance  DayofMonth  Origin  \\\n",
       "0         0       11           7           8     145.0          23       4   \n",
       "1         0       11           7           8     145.0          24       4   \n",
       "2         0       11           7           8     145.0          25       4   \n",
       "3         0       11           7           8     145.0          26       4   \n",
       "4         0       11           9          10     145.0          27       4   \n",
       "\n",
       "   Dest  CRSElapsedTime  DepDelayMinutes  \n",
       "0    20            62.0              0.0  \n",
       "1    20            62.0              0.0  \n",
       "2    20            62.0              0.0  \n",
       "3    20            62.0              0.0  \n",
       "4    20            60.0              0.0  "
      ]
     },
     "execution_count": 215,
     "metadata": {},
     "output_type": "execute_result"
    }
   ],
   "source": [
    "delay_reg.head()"
   ]
  },
  {
   "cell_type": "code",
   "execution_count": 216,
   "id": "e367e3a4",
   "metadata": {},
   "outputs": [
    {
     "data": {
      "text/plain": [
       "array([[-0.31409659, -0.28114068, -0.44460482, ..., -1.57957233,\n",
       "        -1.04442399, -0.27600245],\n",
       "       [-0.31409659, -0.28114068, -0.44460482, ..., -1.57957233,\n",
       "        -1.04442399, -0.27600245],\n",
       "       [-0.31409659, -0.28114068, -0.44460482, ..., -1.57957233,\n",
       "        -1.04442399, -0.27600245],\n",
       "       ...,\n",
       "       [-0.31409659, -0.28114068, -0.44460482, ..., -0.87618231,\n",
       "        -0.71575874, -0.27600245],\n",
       "       [-0.31409659, -0.28114068, -0.44460482, ..., -0.64171898,\n",
       "         2.65305999, -0.27600245],\n",
       "       [ 2.43285109,  1.62297128,  2.2491884 , ...,  0.10244727,\n",
       "         2.47503298,  1.48122377]])"
      ]
     },
     "execution_count": 216,
     "metadata": {},
     "output_type": "execute_result"
    }
   ],
   "source": [
    "from sklearn.preprocessing import StandardScaler\n",
    "scaler = StandardScaler()\n",
    "scaler.fit_transform(delay_reg)"
   ]
  },
  {
   "cell_type": "markdown",
   "id": "165a9887",
   "metadata": {},
   "source": [
    "# DECISION TREE REGRESSION"
   ]
  },
  {
   "cell_type": "code",
   "execution_count": 217,
   "id": "80e1ad72",
   "metadata": {},
   "outputs": [],
   "source": [
    "X=delay_reg.drop([\"DepDelayMinutes\"],axis=1)\n",
    "y=delay_reg[\"DepDelayMinutes\"]\n",
    "from sklearn.model_selection import train_test_split\n",
    "X_train,X_test,y_train,y_test = train_test_split(X,y,test_size=0.30,random_state=None)"
   ]
  },
  {
   "cell_type": "code",
   "execution_count": 218,
   "id": "61f460f5",
   "metadata": {},
   "outputs": [
    {
     "data": {
      "text/html": [
       "<style>#sk-container-id-12 {color: black;background-color: white;}#sk-container-id-12 pre{padding: 0;}#sk-container-id-12 div.sk-toggleable {background-color: white;}#sk-container-id-12 label.sk-toggleable__label {cursor: pointer;display: block;width: 100%;margin-bottom: 0;padding: 0.3em;box-sizing: border-box;text-align: center;}#sk-container-id-12 label.sk-toggleable__label-arrow:before {content: \"▸\";float: left;margin-right: 0.25em;color: #696969;}#sk-container-id-12 label.sk-toggleable__label-arrow:hover:before {color: black;}#sk-container-id-12 div.sk-estimator:hover label.sk-toggleable__label-arrow:before {color: black;}#sk-container-id-12 div.sk-toggleable__content {max-height: 0;max-width: 0;overflow: hidden;text-align: left;background-color: #f0f8ff;}#sk-container-id-12 div.sk-toggleable__content pre {margin: 0.2em;color: black;border-radius: 0.25em;background-color: #f0f8ff;}#sk-container-id-12 input.sk-toggleable__control:checked~div.sk-toggleable__content {max-height: 200px;max-width: 100%;overflow: auto;}#sk-container-id-12 input.sk-toggleable__control:checked~label.sk-toggleable__label-arrow:before {content: \"▾\";}#sk-container-id-12 div.sk-estimator input.sk-toggleable__control:checked~label.sk-toggleable__label {background-color: #d4ebff;}#sk-container-id-12 div.sk-label input.sk-toggleable__control:checked~label.sk-toggleable__label {background-color: #d4ebff;}#sk-container-id-12 input.sk-hidden--visually {border: 0;clip: rect(1px 1px 1px 1px);clip: rect(1px, 1px, 1px, 1px);height: 1px;margin: -1px;overflow: hidden;padding: 0;position: absolute;width: 1px;}#sk-container-id-12 div.sk-estimator {font-family: monospace;background-color: #f0f8ff;border: 1px dotted black;border-radius: 0.25em;box-sizing: border-box;margin-bottom: 0.5em;}#sk-container-id-12 div.sk-estimator:hover {background-color: #d4ebff;}#sk-container-id-12 div.sk-parallel-item::after {content: \"\";width: 100%;border-bottom: 1px solid gray;flex-grow: 1;}#sk-container-id-12 div.sk-label:hover label.sk-toggleable__label {background-color: #d4ebff;}#sk-container-id-12 div.sk-serial::before {content: \"\";position: absolute;border-left: 1px solid gray;box-sizing: border-box;top: 0;bottom: 0;left: 50%;z-index: 0;}#sk-container-id-12 div.sk-serial {display: flex;flex-direction: column;align-items: center;background-color: white;padding-right: 0.2em;padding-left: 0.2em;position: relative;}#sk-container-id-12 div.sk-item {position: relative;z-index: 1;}#sk-container-id-12 div.sk-parallel {display: flex;align-items: stretch;justify-content: center;background-color: white;position: relative;}#sk-container-id-12 div.sk-item::before, #sk-container-id-12 div.sk-parallel-item::before {content: \"\";position: absolute;border-left: 1px solid gray;box-sizing: border-box;top: 0;bottom: 0;left: 50%;z-index: -1;}#sk-container-id-12 div.sk-parallel-item {display: flex;flex-direction: column;z-index: 1;position: relative;background-color: white;}#sk-container-id-12 div.sk-parallel-item:first-child::after {align-self: flex-end;width: 50%;}#sk-container-id-12 div.sk-parallel-item:last-child::after {align-self: flex-start;width: 50%;}#sk-container-id-12 div.sk-parallel-item:only-child::after {width: 0;}#sk-container-id-12 div.sk-dashed-wrapped {border: 1px dashed gray;margin: 0 0.4em 0.5em 0.4em;box-sizing: border-box;padding-bottom: 0.4em;background-color: white;}#sk-container-id-12 div.sk-label label {font-family: monospace;font-weight: bold;display: inline-block;line-height: 1.2em;}#sk-container-id-12 div.sk-label-container {text-align: center;}#sk-container-id-12 div.sk-container {/* jupyter's `normalize.less` sets `[hidden] { display: none; }` but bootstrap.min.css set `[hidden] { display: none !important; }` so we also need the `!important` here to be able to override the default hidden behavior on the sphinx rendered scikit-learn.org. See: https://github.com/scikit-learn/scikit-learn/issues/21755 */display: inline-block !important;position: relative;}#sk-container-id-12 div.sk-text-repr-fallback {display: none;}</style><div id=\"sk-container-id-12\" class=\"sk-top-container\"><div class=\"sk-text-repr-fallback\"><pre>DecisionTreeRegressor(random_state=0)</pre><b>In a Jupyter environment, please rerun this cell to show the HTML representation or trust the notebook. <br />On GitHub, the HTML representation is unable to render, please try loading this page with nbviewer.org.</b></div><div class=\"sk-container\" hidden><div class=\"sk-item\"><div class=\"sk-estimator sk-toggleable\"><input class=\"sk-toggleable__control sk-hidden--visually\" id=\"sk-estimator-id-12\" type=\"checkbox\" checked><label for=\"sk-estimator-id-12\" class=\"sk-toggleable__label sk-toggleable__label-arrow\">DecisionTreeRegressor</label><div class=\"sk-toggleable__content\"><pre>DecisionTreeRegressor(random_state=0)</pre></div></div></div></div></div>"
      ],
      "text/plain": [
       "DecisionTreeRegressor(random_state=0)"
      ]
     },
     "execution_count": 218,
     "metadata": {},
     "output_type": "execute_result"
    }
   ],
   "source": [
    "from sklearn.tree import DecisionTreeRegressor\n",
    "dtr = DecisionTreeRegressor(random_state=0)\n",
    "dtr.fit(X_train,y_train)"
   ]
  },
  {
   "cell_type": "code",
   "execution_count": 221,
   "id": "6e0b7fb2",
   "metadata": {},
   "outputs": [
    {
     "name": "stdout",
     "output_type": "stream",
     "text": [
      "Training R^2 Score in DecisionTreeRegressor:= 0.9999878538172359\n",
      "Test R^2 Score in DecisionTreeRegressor:= 0.9869682100749763\n"
     ]
    }
   ],
   "source": [
    "from sklearn.metrics import r2_score\n",
    "print(\"Training R^2 Score in DecisionTreeRegressor:=\",r2_score(y_train,dtr.predict(X_train)))\n",
    "print(\"Test R^2 Score in DecisionTreeRegressor:=\",r2_score(y_test,dtr.predict(X_test)))"
   ]
  },
  {
   "cell_type": "code",
   "execution_count": 222,
   "id": "1ee16726",
   "metadata": {},
   "outputs": [],
   "source": [
    "y_pred_dtr=dtr.predict(X_test)"
   ]
  },
  {
   "cell_type": "code",
   "execution_count": 224,
   "id": "874e391a",
   "metadata": {},
   "outputs": [
    {
     "name": "stdout",
     "output_type": "stream",
     "text": [
      "MAE of DTR= 2.3050926556089215\n"
     ]
    }
   ],
   "source": [
    "from sklearn.metrics import mean_absolute_error\n",
    "print(\"MAE of DTR=\",mean_absolute_error(y_test,y_pred_dtr))"
   ]
  },
  {
   "cell_type": "code",
   "execution_count": 225,
   "id": "6bb7c3f7",
   "metadata": {},
   "outputs": [
    {
     "name": "stdout",
     "output_type": "stream",
     "text": [
      "MSE of DTR 23.010877518582614\n"
     ]
    }
   ],
   "source": [
    "from sklearn.metrics import mean_squared_error\n",
    "print(\"MSE of DTR\",mean_squared_error(y_test,y_pred_dtr))"
   ]
  },
  {
   "cell_type": "code",
   "execution_count": 227,
   "id": "43db4347",
   "metadata": {},
   "outputs": [
    {
     "name": "stdout",
     "output_type": "stream",
     "text": [
      "RMSE of DTR 4.796965448966942\n"
     ]
    }
   ],
   "source": [
    "print(\"RMSE of DTR\",np.sqrt(mean_squared_error(y_test,y_pred_dtr)))"
   ]
  },
  {
   "cell_type": "markdown",
   "id": "7397773b",
   "metadata": {},
   "source": [
    "# RANDOM FOREST REGRESSION"
   ]
  },
  {
   "cell_type": "code",
   "execution_count": 228,
   "id": "97d23e26",
   "metadata": {},
   "outputs": [
    {
     "data": {
      "text/html": [
       "<style>#sk-container-id-13 {color: black;background-color: white;}#sk-container-id-13 pre{padding: 0;}#sk-container-id-13 div.sk-toggleable {background-color: white;}#sk-container-id-13 label.sk-toggleable__label {cursor: pointer;display: block;width: 100%;margin-bottom: 0;padding: 0.3em;box-sizing: border-box;text-align: center;}#sk-container-id-13 label.sk-toggleable__label-arrow:before {content: \"▸\";float: left;margin-right: 0.25em;color: #696969;}#sk-container-id-13 label.sk-toggleable__label-arrow:hover:before {color: black;}#sk-container-id-13 div.sk-estimator:hover label.sk-toggleable__label-arrow:before {color: black;}#sk-container-id-13 div.sk-toggleable__content {max-height: 0;max-width: 0;overflow: hidden;text-align: left;background-color: #f0f8ff;}#sk-container-id-13 div.sk-toggleable__content pre {margin: 0.2em;color: black;border-radius: 0.25em;background-color: #f0f8ff;}#sk-container-id-13 input.sk-toggleable__control:checked~div.sk-toggleable__content {max-height: 200px;max-width: 100%;overflow: auto;}#sk-container-id-13 input.sk-toggleable__control:checked~label.sk-toggleable__label-arrow:before {content: \"▾\";}#sk-container-id-13 div.sk-estimator input.sk-toggleable__control:checked~label.sk-toggleable__label {background-color: #d4ebff;}#sk-container-id-13 div.sk-label input.sk-toggleable__control:checked~label.sk-toggleable__label {background-color: #d4ebff;}#sk-container-id-13 input.sk-hidden--visually {border: 0;clip: rect(1px 1px 1px 1px);clip: rect(1px, 1px, 1px, 1px);height: 1px;margin: -1px;overflow: hidden;padding: 0;position: absolute;width: 1px;}#sk-container-id-13 div.sk-estimator {font-family: monospace;background-color: #f0f8ff;border: 1px dotted black;border-radius: 0.25em;box-sizing: border-box;margin-bottom: 0.5em;}#sk-container-id-13 div.sk-estimator:hover {background-color: #d4ebff;}#sk-container-id-13 div.sk-parallel-item::after {content: \"\";width: 100%;border-bottom: 1px solid gray;flex-grow: 1;}#sk-container-id-13 div.sk-label:hover label.sk-toggleable__label {background-color: #d4ebff;}#sk-container-id-13 div.sk-serial::before {content: \"\";position: absolute;border-left: 1px solid gray;box-sizing: border-box;top: 0;bottom: 0;left: 50%;z-index: 0;}#sk-container-id-13 div.sk-serial {display: flex;flex-direction: column;align-items: center;background-color: white;padding-right: 0.2em;padding-left: 0.2em;position: relative;}#sk-container-id-13 div.sk-item {position: relative;z-index: 1;}#sk-container-id-13 div.sk-parallel {display: flex;align-items: stretch;justify-content: center;background-color: white;position: relative;}#sk-container-id-13 div.sk-item::before, #sk-container-id-13 div.sk-parallel-item::before {content: \"\";position: absolute;border-left: 1px solid gray;box-sizing: border-box;top: 0;bottom: 0;left: 50%;z-index: -1;}#sk-container-id-13 div.sk-parallel-item {display: flex;flex-direction: column;z-index: 1;position: relative;background-color: white;}#sk-container-id-13 div.sk-parallel-item:first-child::after {align-self: flex-end;width: 50%;}#sk-container-id-13 div.sk-parallel-item:last-child::after {align-self: flex-start;width: 50%;}#sk-container-id-13 div.sk-parallel-item:only-child::after {width: 0;}#sk-container-id-13 div.sk-dashed-wrapped {border: 1px dashed gray;margin: 0 0.4em 0.5em 0.4em;box-sizing: border-box;padding-bottom: 0.4em;background-color: white;}#sk-container-id-13 div.sk-label label {font-family: monospace;font-weight: bold;display: inline-block;line-height: 1.2em;}#sk-container-id-13 div.sk-label-container {text-align: center;}#sk-container-id-13 div.sk-container {/* jupyter's `normalize.less` sets `[hidden] { display: none; }` but bootstrap.min.css set `[hidden] { display: none !important; }` so we also need the `!important` here to be able to override the default hidden behavior on the sphinx rendered scikit-learn.org. See: https://github.com/scikit-learn/scikit-learn/issues/21755 */display: inline-block !important;position: relative;}#sk-container-id-13 div.sk-text-repr-fallback {display: none;}</style><div id=\"sk-container-id-13\" class=\"sk-top-container\"><div class=\"sk-text-repr-fallback\"><pre>RandomForestRegressor(random_state=0)</pre><b>In a Jupyter environment, please rerun this cell to show the HTML representation or trust the notebook. <br />On GitHub, the HTML representation is unable to render, please try loading this page with nbviewer.org.</b></div><div class=\"sk-container\" hidden><div class=\"sk-item\"><div class=\"sk-estimator sk-toggleable\"><input class=\"sk-toggleable__control sk-hidden--visually\" id=\"sk-estimator-id-13\" type=\"checkbox\" checked><label for=\"sk-estimator-id-13\" class=\"sk-toggleable__label sk-toggleable__label-arrow\">RandomForestRegressor</label><div class=\"sk-toggleable__content\"><pre>RandomForestRegressor(random_state=0)</pre></div></div></div></div></div>"
      ],
      "text/plain": [
       "RandomForestRegressor(random_state=0)"
      ]
     },
     "execution_count": 228,
     "metadata": {},
     "output_type": "execute_result"
    }
   ],
   "source": [
    "from sklearn.ensemble import RandomForestRegressor\n",
    "rfr = RandomForestRegressor(n_estimators = 100, random_state = 0)\n",
    "rfr.fit(X_train, y_train)"
   ]
  },
  {
   "cell_type": "code",
   "execution_count": null,
   "id": "0a1e3ef1",
   "metadata": {},
   "outputs": [],
   "source": []
  },
  {
   "cell_type": "code",
   "execution_count": 244,
   "id": "09cb7786",
   "metadata": {},
   "outputs": [
    {
     "name": "stdout",
     "output_type": "stream",
     "text": [
      "Training R^2 Score in RANDOM FOREST Regressor:= 0.9990363231720915\n",
      "Test R^2 Score in RANDOM FOREST Regressor:= 0.9932416369458218\n"
     ]
    }
   ],
   "source": [
    "from sklearn.metrics import r2_score\n",
    "print(\"Training R^2 Score in RANDOM FOREST Regressor:=\",r2_score(y_train,rfr.predict(X_train)))\n",
    "print(\"Test R^2 Score in RANDOM FOREST Regressor:=\",r2_score(y_test,rfr.predict(X_test)))"
   ]
  },
  {
   "cell_type": "code",
   "execution_count": 229,
   "id": "ec5dc973",
   "metadata": {},
   "outputs": [],
   "source": [
    "y_pred_rfr=rfr.predict(X_test)"
   ]
  },
  {
   "cell_type": "code",
   "execution_count": 230,
   "id": "ea2bd543",
   "metadata": {},
   "outputs": [
    {
     "name": "stdout",
     "output_type": "stream",
     "text": [
      "MAE of RFR= 1.9482152242799546\n"
     ]
    }
   ],
   "source": [
    "from sklearn.metrics import mean_absolute_error\n",
    "print(\"MAE of RFR=\",mean_absolute_error(y_test,y_pred_rfr))"
   ]
  },
  {
   "cell_type": "code",
   "execution_count": 231,
   "id": "2271ac40",
   "metadata": {},
   "outputs": [
    {
     "name": "stdout",
     "output_type": "stream",
     "text": [
      "MSE of RFR 11.933576689046093\n"
     ]
    }
   ],
   "source": [
    "from sklearn.metrics import mean_squared_error\n",
    "print(\"MSE of RFR\",mean_squared_error(y_test,y_pred_rfr))"
   ]
  },
  {
   "cell_type": "code",
   "execution_count": 232,
   "id": "f87391e6",
   "metadata": {},
   "outputs": [
    {
     "name": "stdout",
     "output_type": "stream",
     "text": [
      "RMSE of DTR 3.454500931979335\n"
     ]
    }
   ],
   "source": [
    "print(\"RMSE of DTR\",np.sqrt(mean_squared_error(y_test,y_pred_rfr)))"
   ]
  },
  {
   "cell_type": "markdown",
   "id": "dd71000f",
   "metadata": {},
   "source": [
    "# XGBoost REGRESSION"
   ]
  },
  {
   "cell_type": "code",
   "execution_count": 235,
   "id": "1e8252ac",
   "metadata": {},
   "outputs": [
    {
     "data": {
      "text/html": [
       "<style>#sk-container-id-14 {color: black;background-color: white;}#sk-container-id-14 pre{padding: 0;}#sk-container-id-14 div.sk-toggleable {background-color: white;}#sk-container-id-14 label.sk-toggleable__label {cursor: pointer;display: block;width: 100%;margin-bottom: 0;padding: 0.3em;box-sizing: border-box;text-align: center;}#sk-container-id-14 label.sk-toggleable__label-arrow:before {content: \"▸\";float: left;margin-right: 0.25em;color: #696969;}#sk-container-id-14 label.sk-toggleable__label-arrow:hover:before {color: black;}#sk-container-id-14 div.sk-estimator:hover label.sk-toggleable__label-arrow:before {color: black;}#sk-container-id-14 div.sk-toggleable__content {max-height: 0;max-width: 0;overflow: hidden;text-align: left;background-color: #f0f8ff;}#sk-container-id-14 div.sk-toggleable__content pre {margin: 0.2em;color: black;border-radius: 0.25em;background-color: #f0f8ff;}#sk-container-id-14 input.sk-toggleable__control:checked~div.sk-toggleable__content {max-height: 200px;max-width: 100%;overflow: auto;}#sk-container-id-14 input.sk-toggleable__control:checked~label.sk-toggleable__label-arrow:before {content: \"▾\";}#sk-container-id-14 div.sk-estimator input.sk-toggleable__control:checked~label.sk-toggleable__label {background-color: #d4ebff;}#sk-container-id-14 div.sk-label input.sk-toggleable__control:checked~label.sk-toggleable__label {background-color: #d4ebff;}#sk-container-id-14 input.sk-hidden--visually {border: 0;clip: rect(1px 1px 1px 1px);clip: rect(1px, 1px, 1px, 1px);height: 1px;margin: -1px;overflow: hidden;padding: 0;position: absolute;width: 1px;}#sk-container-id-14 div.sk-estimator {font-family: monospace;background-color: #f0f8ff;border: 1px dotted black;border-radius: 0.25em;box-sizing: border-box;margin-bottom: 0.5em;}#sk-container-id-14 div.sk-estimator:hover {background-color: #d4ebff;}#sk-container-id-14 div.sk-parallel-item::after {content: \"\";width: 100%;border-bottom: 1px solid gray;flex-grow: 1;}#sk-container-id-14 div.sk-label:hover label.sk-toggleable__label {background-color: #d4ebff;}#sk-container-id-14 div.sk-serial::before {content: \"\";position: absolute;border-left: 1px solid gray;box-sizing: border-box;top: 0;bottom: 0;left: 50%;z-index: 0;}#sk-container-id-14 div.sk-serial {display: flex;flex-direction: column;align-items: center;background-color: white;padding-right: 0.2em;padding-left: 0.2em;position: relative;}#sk-container-id-14 div.sk-item {position: relative;z-index: 1;}#sk-container-id-14 div.sk-parallel {display: flex;align-items: stretch;justify-content: center;background-color: white;position: relative;}#sk-container-id-14 div.sk-item::before, #sk-container-id-14 div.sk-parallel-item::before {content: \"\";position: absolute;border-left: 1px solid gray;box-sizing: border-box;top: 0;bottom: 0;left: 50%;z-index: -1;}#sk-container-id-14 div.sk-parallel-item {display: flex;flex-direction: column;z-index: 1;position: relative;background-color: white;}#sk-container-id-14 div.sk-parallel-item:first-child::after {align-self: flex-end;width: 50%;}#sk-container-id-14 div.sk-parallel-item:last-child::after {align-self: flex-start;width: 50%;}#sk-container-id-14 div.sk-parallel-item:only-child::after {width: 0;}#sk-container-id-14 div.sk-dashed-wrapped {border: 1px dashed gray;margin: 0 0.4em 0.5em 0.4em;box-sizing: border-box;padding-bottom: 0.4em;background-color: white;}#sk-container-id-14 div.sk-label label {font-family: monospace;font-weight: bold;display: inline-block;line-height: 1.2em;}#sk-container-id-14 div.sk-label-container {text-align: center;}#sk-container-id-14 div.sk-container {/* jupyter's `normalize.less` sets `[hidden] { display: none; }` but bootstrap.min.css set `[hidden] { display: none !important; }` so we also need the `!important` here to be able to override the default hidden behavior on the sphinx rendered scikit-learn.org. See: https://github.com/scikit-learn/scikit-learn/issues/21755 */display: inline-block !important;position: relative;}#sk-container-id-14 div.sk-text-repr-fallback {display: none;}</style><div id=\"sk-container-id-14\" class=\"sk-top-container\"><div class=\"sk-text-repr-fallback\"><pre>XGBRegressor(base_score=0.5, booster=&#x27;gbtree&#x27;, callbacks=None,\n",
       "             colsample_bylevel=1, colsample_bynode=1, colsample_bytree=1,\n",
       "             early_stopping_rounds=None, enable_categorical=False,\n",
       "             eval_metric=None, gamma=0, gpu_id=-1, grow_policy=&#x27;depthwise&#x27;,\n",
       "             importance_type=None, interaction_constraints=&#x27;&#x27;,\n",
       "             learning_rate=0.300000012, max_bin=256, max_cat_to_onehot=4,\n",
       "             max_delta_step=0, max_depth=6, max_leaves=0, min_child_weight=1,\n",
       "             missing=nan, monotone_constraints=&#x27;()&#x27;, n_estimators=100, n_jobs=0,\n",
       "             num_parallel_tree=1, predictor=&#x27;auto&#x27;, random_state=0, reg_alpha=0,\n",
       "             reg_lambda=1, ...)</pre><b>In a Jupyter environment, please rerun this cell to show the HTML representation or trust the notebook. <br />On GitHub, the HTML representation is unable to render, please try loading this page with nbviewer.org.</b></div><div class=\"sk-container\" hidden><div class=\"sk-item\"><div class=\"sk-estimator sk-toggleable\"><input class=\"sk-toggleable__control sk-hidden--visually\" id=\"sk-estimator-id-14\" type=\"checkbox\" checked><label for=\"sk-estimator-id-14\" class=\"sk-toggleable__label sk-toggleable__label-arrow\">XGBRegressor</label><div class=\"sk-toggleable__content\"><pre>XGBRegressor(base_score=0.5, booster=&#x27;gbtree&#x27;, callbacks=None,\n",
       "             colsample_bylevel=1, colsample_bynode=1, colsample_bytree=1,\n",
       "             early_stopping_rounds=None, enable_categorical=False,\n",
       "             eval_metric=None, gamma=0, gpu_id=-1, grow_policy=&#x27;depthwise&#x27;,\n",
       "             importance_type=None, interaction_constraints=&#x27;&#x27;,\n",
       "             learning_rate=0.300000012, max_bin=256, max_cat_to_onehot=4,\n",
       "             max_delta_step=0, max_depth=6, max_leaves=0, min_child_weight=1,\n",
       "             missing=nan, monotone_constraints=&#x27;()&#x27;, n_estimators=100, n_jobs=0,\n",
       "             num_parallel_tree=1, predictor=&#x27;auto&#x27;, random_state=0, reg_alpha=0,\n",
       "             reg_lambda=1, ...)</pre></div></div></div></div></div>"
      ],
      "text/plain": [
       "XGBRegressor(base_score=0.5, booster='gbtree', callbacks=None,\n",
       "             colsample_bylevel=1, colsample_bynode=1, colsample_bytree=1,\n",
       "             early_stopping_rounds=None, enable_categorical=False,\n",
       "             eval_metric=None, gamma=0, gpu_id=-1, grow_policy='depthwise',\n",
       "             importance_type=None, interaction_constraints='',\n",
       "             learning_rate=0.300000012, max_bin=256, max_cat_to_onehot=4,\n",
       "             max_delta_step=0, max_depth=6, max_leaves=0, min_child_weight=1,\n",
       "             missing=nan, monotone_constraints='()', n_estimators=100, n_jobs=0,\n",
       "             num_parallel_tree=1, predictor='auto', random_state=0, reg_alpha=0,\n",
       "             reg_lambda=1, ...)"
      ]
     },
     "execution_count": 235,
     "metadata": {},
     "output_type": "execute_result"
    }
   ],
   "source": [
    "from xgboost import XGBRegressor\n",
    "xgb_rg = XGBRegressor()\n",
    "xgb_rg.fit(X_train,y_train)"
   ]
  },
  {
   "cell_type": "code",
   "execution_count": 236,
   "id": "67091c77",
   "metadata": {},
   "outputs": [
    {
     "name": "stdout",
     "output_type": "stream",
     "text": [
      "Training R^2 Score in XGBoost Regressor:= 0.9950168244588845\n",
      "Test R^2 Score in XGBoost Regressor:= 0.9935786515902241\n"
     ]
    }
   ],
   "source": [
    "from sklearn.metrics import r2_score\n",
    "print(\"Training R^2 Score in XGBoost Regressor:=\",r2_score(y_train,xgb_rg.predict(X_train)))\n",
    "print(\"Test R^2 Score in XGBoost Regressor:=\",r2_score(y_test,xgb_rg.predict(X_test)))"
   ]
  },
  {
   "cell_type": "code",
   "execution_count": 237,
   "id": "0779282c",
   "metadata": {},
   "outputs": [],
   "source": [
    "y_pred_xgbr=xgb_rg.predict(X_test)"
   ]
  },
  {
   "cell_type": "code",
   "execution_count": 241,
   "id": "fad2e86c",
   "metadata": {},
   "outputs": [
    {
     "name": "stdout",
     "output_type": "stream",
     "text": [
      "MAE of XGBRegressor= 1.8936343669497613\n"
     ]
    }
   ],
   "source": [
    "from sklearn.metrics import mean_absolute_error\n",
    "print(\"MAE of XGBRegressor=\",mean_absolute_error(y_test,y_pred_xgbr))"
   ]
  },
  {
   "cell_type": "code",
   "execution_count": 242,
   "id": "84c4b75c",
   "metadata": {},
   "outputs": [
    {
     "name": "stdout",
     "output_type": "stream",
     "text": [
      "MSE of XGBRegressor 11.338493224002075\n"
     ]
    }
   ],
   "source": [
    "from sklearn.metrics import mean_squared_error\n",
    "print(\"MSE of XGBRegressor\",mean_squared_error(y_test,y_pred_xgbr))"
   ]
  },
  {
   "cell_type": "code",
   "execution_count": 243,
   "id": "35ce3558",
   "metadata": {},
   "outputs": [
    {
     "name": "stdout",
     "output_type": "stream",
     "text": [
      "RMSE of XGBRegressor 3.3672679168729767\n"
     ]
    }
   ],
   "source": [
    "print(\"RMSE of XGBRegressor\",np.sqrt(mean_squared_error(y_test,y_pred_xgbr)))"
   ]
  },
  {
   "cell_type": "code",
   "execution_count": null,
   "id": "ae546d12",
   "metadata": {},
   "outputs": [],
   "source": []
  }
 ],
 "metadata": {
  "kernelspec": {
   "display_name": "Python 3 (ipykernel)",
   "language": "python",
   "name": "python3"
  },
  "language_info": {
   "codemirror_mode": {
    "name": "ipython",
    "version": 3
   },
   "file_extension": ".py",
   "mimetype": "text/x-python",
   "name": "python",
   "nbconvert_exporter": "python",
   "pygments_lexer": "ipython3",
   "version": "3.9.12"
  }
 },
 "nbformat": 4,
 "nbformat_minor": 5
}
